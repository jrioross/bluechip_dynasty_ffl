{
 "cells": [
  {
   "cell_type": "code",
   "execution_count": 52,
   "metadata": {},
   "outputs": [],
   "source": [
    "import requests\n",
    "from bs4 import BeautifulSoup as BS\n",
    "import pandas as pd\n",
    "import numpy as np\n",
    "import matplotlib.pyplot as plt\n",
    "import seaborn as sns\n",
    "import plotly.express as px"
   ]
  },
  {
   "cell_type": "code",
   "execution_count": 18,
   "metadata": {},
   "outputs": [],
   "source": [
    "request = requests.get('https://www58.myfantasyleague.com/2022/top?L=27743&SEARCHTYPE=BASIC&COUNT=2000&YEAR=2021&START_WEEK=1&END_WEEK=17&CATEGORY=overall&POSITION=*&DISPLAY=points&TEAM=*')\n",
    "soup = BS(request.content, 'lxml')"
   ]
  },
  {
   "cell_type": "code",
   "execution_count": 20,
   "metadata": {},
   "outputs": [],
   "source": [
    "bcPlayers2021 = pd.read_html(str(soup.find_all('table')[1]))[0]"
   ]
  },
  {
   "cell_type": "code",
   "execution_count": 25,
   "metadata": {},
   "outputs": [],
   "source": [
    "bcPlayers2021.columns = bcPlayers2021.columns.droplevel()"
   ]
  },
  {
   "cell_type": "code",
   "execution_count": 28,
   "metadata": {},
   "outputs": [],
   "source": [
    "bcPlayers2021[['Player', 'Team', 'Position']] = bcPlayers2021['Player'].str.rsplit(' ', n = 2, expand = True)"
   ]
  },
  {
   "cell_type": "code",
   "execution_count": 36,
   "metadata": {},
   "outputs": [],
   "source": [
    "bcPlayers2021 = bcPlayers2021.drop(columns = \"Week 1\")"
   ]
  },
  {
   "cell_type": "code",
   "execution_count": 40,
   "metadata": {},
   "outputs": [],
   "source": [
    "bcPlayers2021 = bcPlayers2021.rename(columns = dict(zip(bcPlayers2021.filter(regex = r'^\\d\\d?').columns, bcPlayers2021.filter(regex = r'^\\d\\d?').add_prefix(\"Week \").columns)))"
   ]
  },
  {
   "cell_type": "code",
   "execution_count": 50,
   "metadata": {},
   "outputs": [],
   "source": [
    "bcPlayers2021['Salary'] = bcPlayers2021['Salary'].str.replace('$', '', regex = False).astype('float')"
   ]
  },
  {
   "cell_type": "code",
   "execution_count": 59,
   "metadata": {},
   "outputs": [
    {
     "data": {
      "application/vnd.plotly.v1+json": {
       "config": {
        "plotlyServerURL": "https://plotly.com"
       },
       "data": [
        {
         "customdata": [
          [
           "Bills, Buffalo",
           "BUF"
          ],
          [
           "Buccaneers, Tampa Bay",
           "TBB"
          ],
          [
           "Ravens, Baltimore",
           "BAL"
          ],
          [
           "Cardinals, Arizona",
           "ARI"
          ],
          [
           "Chargers, Los Angeles",
           "LAC"
          ],
          [
           "Chiefs, Kansas City",
           "KCC"
          ],
          [
           "Cowboys, Dallas",
           "DAL"
          ],
          [
           "Packers, Green Bay",
           "GBP"
          ],
          [
           "Eagles, Philadelphia",
           "PHI"
          ],
          [
           "Bengals, Cincinnati",
           "CIN"
          ],
          [
           "Rams, Los Angeles",
           "LAR"
          ],
          [
           "Saints, New Orleans",
           "NOS"
          ],
          [
           "Vikings, Minnesota",
           "MIN"
          ],
          [
           "49ers, San Francisco",
           "SFO"
          ],
          [
           "Raiders, Las Vegas",
           "LVR"
          ],
          [
           "Seahawks, Seattle",
           "SEA"
          ],
          [
           "Dolphins, Miami",
           "MIA"
          ],
          [
           "Panthers, Carolina",
           "CAR"
          ],
          [
           "Broncos, Denver",
           "DEN"
          ],
          [
           "FootballTeam, Washington",
           "WAS"
          ],
          [
           "Titans, Tennessee",
           "TEN"
          ],
          [
           "Jets, New York",
           "NYJ"
          ],
          [
           "Steelers, Pittsburgh",
           "PIT"
          ],
          [
           "Colts, Indianapolis",
           "IND"
          ],
          [
           "Patriots, New England",
           "NEP"
          ],
          [
           "Bears, Chicago",
           "CHI"
          ],
          [
           "Texans, Houston",
           "HOU"
          ],
          [
           "Giants, New York",
           "NYG"
          ],
          [
           "Falcons, Atlanta",
           "ATL"
          ],
          [
           "Lions, Detroit",
           "DET"
          ],
          [
           "Browns, Cleveland",
           "CLE"
          ],
          [
           "Jaguars, Jacksonville",
           "JAC"
          ]
         ],
         "hovertemplate": "Position=TMQB<br>Salary=%{x}<br>Pts=%{y}<br>Player=%{customdata[0]}<br>Team=%{customdata[1]}<extra></extra>",
         "legendgroup": "TMQB",
         "marker": {
          "color": "#636efa",
          "symbol": "circle"
         },
         "mode": "markers",
         "name": "TMQB",
         "showlegend": true,
         "type": "scattergl",
         "x": [
          49.04,
          1,
          49.04,
          51.84,
          2.88,
          62.21,
          20.26,
          12.96,
          40.53,
          20.26,
          40.53,
          1,
          1.2,
          37.44,
          1.2,
          1,
          10,
          1,
          26.4,
          10,
          7.2,
          9.6,
          1,
          13.82,
          11.52,
          19.9,
          1.2,
          3.46,
          1,
          1.73,
          9.6,
          1.73
         ],
         "xaxis": "x",
         "y": [
          528.24,
          488.13,
          486.09,
          484.72,
          479.94,
          476.59,
          453.39,
          451.01,
          447.13,
          435.21,
          428.57,
          424.11,
          412.35,
          388.23,
          384.37,
          372.78,
          368.58,
          365.21,
          360.48,
          354.24,
          350.68,
          349.68,
          349.47,
          345.92,
          334.63,
          329.15,
          321.66,
          319.95,
          319.74,
          315.92,
          301.12,
          298.94
         ],
         "yaxis": "y"
        },
        {
         "customdata": [
          [
           "Kupp, Cooper",
           "LAR"
          ],
          [
           "Adams, Davante",
           "GBP"
          ],
          [
           "Samuel, Deebo",
           "SFO"
          ],
          [
           "Jefferson, Justin",
           "MIN"
          ],
          [
           "Chase, Ja'Marr",
           "CIN"
          ],
          [
           "Hill, Tyreek",
           "KCC"
          ],
          [
           "Renfrow, Hunter",
           "LVR"
          ],
          [
           "Patterson, Cordarrelle",
           "ATL"
          ],
          [
           "Diggs, Stefon",
           "BUF"
          ],
          [
           "Johnson, Diontae",
           "PIT"
          ],
          [
           "Waddle, Jaylen",
           "MIA"
          ],
          [
           "Allen, Keenan",
           "LAC"
          ],
          [
           "Godwin, Chris",
           "TBB"
          ],
          [
           "Lamb, CeeDee",
           "DAL"
          ],
          [
           "Evans, Mike",
           "TBB"
          ],
          [
           "Moore, D.J.",
           "CAR"
          ],
          [
           "Metcalf, DK",
           "SEA"
          ],
          [
           "Cooks, Brandin",
           "HOU"
          ],
          [
           "Higgins, Tee",
           "CIN"
          ],
          [
           "Brown, Marquise",
           "BAL"
          ],
          [
           "Pittman, Michael",
           "IND"
          ],
          [
           "Williams, Mike",
           "LAC"
          ],
          [
           "Lockett, Tyler",
           "SEA"
          ],
          [
           "McLaurin, Terry",
           "WAS"
          ],
          [
           "Mooney, Darnell",
           "CHI"
          ],
          [
           "St. Brown, Amon-Ra",
           "DET"
          ],
          [
           "Kirk, Christian",
           "ARI"
          ],
          [
           "Thielen, Adam",
           "MIN"
          ],
          [
           "Berrios, Braxton",
           "NYJ"
          ],
          [
           "Cooper, Amari",
           "DAL"
          ],
          [
           "Boyd, Tyler",
           "CIN"
          ],
          [
           "Smith, DeVonta",
           "PHI"
          ],
          [
           "Meyers, Jakobi",
           "NEP"
          ],
          [
           "Aiyuk, Brandon",
           "SFO"
          ],
          [
           "Harris, Deonte",
           "NOS"
          ],
          [
           "Bourne, Kendrick",
           "NEP"
          ],
          [
           "Brown, A.J.",
           "TEN"
          ],
          [
           "Jefferson, Van",
           "LAR"
          ],
          [
           "Carter, DeAndre",
           "WAS"
          ],
          [
           "Pringle, Byron",
           "KCC"
          ],
          [
           "Jones, Marvin",
           "JAC"
          ],
          [
           "Duvernay, Devin",
           "BAL"
          ],
          [
           "Osborn, K.J.",
           "MIN"
          ],
          [
           "Moore, Rondale",
           "ARI"
          ],
          [
           "Green, A.J.",
           "ARI"
          ],
          [
           "Callaway, Marquez",
           "NOS"
          ],
          [
           "Beasley, Cole",
           "BUF"
          ],
          [
           "McCloud, Ray-Ray",
           "PIT"
          ],
          [
           "Claypool, Chase",
           "PIT"
          ],
          [
           "Moore, Elijah",
           "NYJ"
          ],
          [
           "Sutton, Courtland",
           "DEN"
          ],
          [
           "Hopkins, DeAndre",
           "ARI"
          ],
          [
           "Hardman, Mecole",
           "KCC"
          ],
          [
           "Patrick, Tim",
           "DEN"
          ],
          [
           "Woods, Robert",
           "LAR"
          ],
          [
           "Gage, Russell",
           "ATL"
          ],
          [
           "Sanders, Emmanuel",
           "BUF"
          ],
          [
           "Agnew, Jamal",
           "JAC"
          ],
          [
           "Raymond, Kalif",
           "DET"
          ],
          [
           "Wilson, Cedrick",
           "DAL"
          ],
          [
           "Beckham, Odell",
           "LAR"
          ],
          [
           "Reagor, Jalen",
           "PHI"
          ],
          [
           "Shenault, Laviska",
           "JAC"
          ],
          [
           "Anderson, Robby",
           "CAR"
          ],
          [
           "Lazard, Allen",
           "GBP"
          ],
          [
           "Brown, Antonio",
           "FA"
          ],
          [
           "Davis, Gabriel",
           "BUF"
          ],
          [
           "Landry, Jarvis",
           "CLE"
          ],
          [
           "Peoples-Jones, Donovan",
           "CLE"
          ],
          [
           "Rogers, Chester",
           "TEN"
          ],
          [
           "Watkins, Quez",
           "PHI"
          ],
          [
           "McKenzie, Isaiah",
           "BUF"
          ],
          [
           "Grant, Jakeem",
           "CHI"
          ],
          [
           "Crowder, Jamison",
           "NYJ"
          ],
          [
           "Davis, Corey",
           "NYJ"
          ],
          [
           "Jones, Zay",
           "LVR"
          ],
          [
           "Parker, DeVante",
           "MIA"
          ],
          [
           "Agholor, Nelson",
           "NEP"
          ],
          [
           "Dulin, Ashton",
           "IND"
          ],
          [
           "Bateman, Rashod",
           "BAL"
          ],
          [
           "Swain, Freddie",
           "SEA"
          ],
          [
           "Edwards, Bryan",
           "LVR"
          ],
          [
           "Pascal, Zach",
           "IND"
          ],
          [
           "Zaccheaus, Olamide",
           "ATL"
          ],
          [
           "Cobb, Randall",
           "GBP"
          ],
          [
           "Westbrook-Ikhine, Nick",
           "TEN"
          ],
          [
           "Roberts, Andre",
           "LAC"
          ],
          [
           "Guyton, Jalen",
           "LAC"
          ],
          [
           "Gallup, Michael",
           "DAL"
          ],
          [
           "Ruggs, Henry",
           "FA"
          ],
          [
           "Golladay, Kenny",
           "NYG"
          ],
          [
           "Valdes-Scantling, Marquez",
           "GBP"
          ],
          [
           "Toney, Kadarius",
           "NYG"
          ],
          [
           "Robinson, Allen",
           "CHI"
          ],
          [
           "Shepard, Sterling",
           "NYG"
          ],
          [
           "Palmer, Josh",
           "LAC"
          ],
          [
           "Reynolds, Josh",
           "DET"
          ],
          [
           "Humphries, Adam",
           "WAS"
          ],
          [
           "Jeudy, Jerry",
           "DEN"
          ],
          [
           "Hollins, Mack",
           "MIA"
          ],
          [
           "Jackson, DeSean",
           "LVR"
          ],
          [
           "Cole, Keelan",
           "NYJ"
          ],
          [
           "Collins, Nico",
           "HOU"
          ],
          [
           "Smith, Tre'Quan",
           "NOS"
          ],
          [
           "Olszewski, Gunner",
           "NEP"
          ],
          [
           "Treadwell, Laquon",
           "JAC"
          ],
          [
           "Ridley, Calvin",
           "ATL"
          ],
          [
           "Watkins, Sammy",
           "BAL"
          ],
          [
           "Hilton, T.Y.",
           "IND"
          ],
          [
           "Johnson, Tyler",
           "TBB"
          ],
          [
           "Jones, Julio",
           "TEN"
          ],
          [
           "Washington, James",
           "PIT"
          ],
          [
           "Conley, Chris",
           "HOU"
          ],
          [
           "Robinson, Demarcus",
           "KCC"
          ],
          [
           "Slayton, Darius",
           "NYG"
          ],
          [
           "Jennings, Jauan",
           "SFO"
          ],
          [
           "Zylstra, Brandon",
           "CAR"
          ],
          [
           "Schwartz, Anthony",
           "CLE"
          ],
          [
           "Sims, Cam",
           "WAS"
          ],
          [
           "Higgins, Rashard",
           "CLE"
          ],
          [
           "Austin, Tavon",
           "JAC"
          ],
          [
           "Byrd, Damiere",
           "CHI"
          ],
          [
           "Goodwin, Marquise",
           "CHI"
          ],
          [
           "Wesley, Antoine",
           "ARI"
          ],
          [
           "Sharpe, Tajae",
           "ATL"
          ],
          [
           "Moore, Chris",
           "HOU"
          ],
          [
           "Wilson, Albert",
           "MIA"
          ],
          [
           "Cephus, Quintez",
           "DET"
          ],
          [
           "Darden, Jaelon",
           "TBB"
          ],
          [
           "Humphrey, Lil'Jordan",
           "NOS"
          ],
          [
           "Grayson, Cyril",
           "TBB"
          ],
          [
           "Turner, Malik",
           "DAL"
          ],
          [
           "Ross, John",
           "NYG"
          ],
          [
           "Spencer, Diontae",
           "DEN"
          ],
          [
           "Rodgers, Amari",
           "GBP"
          ],
          [
           "Ford, Isaiah",
           "MIA"
          ],
          [
           "Skowronek, Ben",
           "LAR"
          ],
          [
           "Westbrook, Dede",
           "MIN"
          ],
          [
           "Hodge, KhaDarel",
           "DET"
          ],
          [
           "Johnson, Marcus",
           "TEN"
          ],
          [
           "Mickens, Jaydon",
           "JAC"
          ],
          [
           "Amendola, Danny",
           "HOU"
          ],
          [
           "Proche, James",
           "BAL"
          ],
          [
           "Sanu, Mohamed",
           "SFO"
          ],
          [
           "Brown, Noah",
           "DAL"
          ],
          [
           "Cooper, Pharoh",
           "FA"
          ],
          [
           "Erickson, Alex",
           "CAR"
          ],
          [
           "Smith-Schuster, JuJu",
           "PIT"
          ],
          [
           "Ward, Greg",
           "PHI"
          ],
          [
           "Eskridge, D'Wayne",
           "SEA"
          ],
          [
           "Chark, D.J.",
           "JAC"
          ],
          [
           "Board, C.J.",
           "NYG"
          ],
          [
           "Marshall, Terrace",
           "CAR"
          ],
          [
           "Campbell, Parris",
           "IND"
          ],
          [
           "Brown, Dyami",
           "WAS"
          ],
          [
           "St. Brown, Equanimeous",
           "GBP"
          ],
          [
           "Hart, Penny",
           "SEA"
          ],
          [
           "Sherfield, Trent",
           "SFO"
          ],
          [
           "Harry, N'Keal",
           "NEP"
          ],
          [
           "Pettis, Dante",
           "NYG"
          ],
          [
           "Stevenson, Marquez",
           "BUF"
          ],
          [
           "Kemp, Marcus",
           "KCC"
          ],
          [
           "Powell, Brandon",
           "LAR"
          ],
          [
           "Perriman, Breshad",
           "TBB"
          ],
          [
           "Johnson, Collin",
           "NYG"
          ],
          [
           "Benson, Trinity",
           "DET"
          ],
          [
           "Arcega-Whiteside, JJ",
           "PHI"
          ],
          [
           "Mims, Denzel",
           "NYJ"
          ],
          [
           "Morgan, Stanley",
           "CIN"
          ],
          [
           "Wallace, Tylan",
           "BAL"
          ],
          [
           "Smith, Jeff",
           "NYJ"
          ],
          [
           "Wilkerson, Kristian",
           "NEP"
          ],
          [
           "Smith, Shi",
           "CAR"
          ],
          [
           "Dorsett, Phillip",
           "HOU"
          ],
          [
           "Stills, Kenny",
           "NOS"
          ],
          [
           "Batson, Cameron",
           "TEN"
          ],
          [
           "Fitzpatrick, Dez",
           "TEN"
          ],
          [
           "Hogan, Chris",
           "FA"
          ],
          [
           "Milne, Dax",
           "WAS"
          ],
          [
           "Smith-Marsette, Ihmir",
           "MIN"
          ],
          [
           "Hill, K.J.",
           "FA"
          ],
          [
           "Tate, Auden",
           "CIN"
          ],
          [
           "White, Kevin",
           "NOS"
          ],
          [
           "Atwell, Tutu",
           "LAR"
          ],
          [
           "Blake, Christian",
           "ATL"
          ],
          [
           "Miller, Anthony",
           "PIT"
          ],
          [
           "Johnson, Tyron",
           "LVR"
          ],
          [
           "Miller, Scott",
           "TBB"
          ],
          [
           "Kumerow, Jake",
           "BUF"
          ],
          [
           "White, Cody",
           "PIT"
          ],
          [
           "Kennedy, Tom",
           "DET"
          ],
          [
           "Gordon, Josh",
           "KCC"
          ],
          [
           "Dortch, Greg",
           "ARI"
          ],
          [
           "Williams, Preston",
           "MIA"
          ],
          [
           "Webster, Nsimba",
           "CHI"
          ],
          [
           "Bradley, Ja'Marcus",
           "CLE"
          ],
          [
           "Thomas, Mike",
           "CIN"
          ],
          [
           "Slater, Matt",
           "NEP"
          ],
          [
           "Samuel, Curtis",
           "WAS"
          ],
          [
           "Winston, Easop",
           "NOS"
          ],
          [
           "Hamler, KJ",
           "DEN"
          ],
          [
           "Taylor, Malik",
           "GBP"
          ],
          [
           "Taylor, Trent",
           "CIN"
          ],
          [
           "Natson, JoJo",
           "FA"
          ],
          [
           "Patmon, Dezmon",
           "IND"
          ],
          [
           "Winfree, Juwann",
           "GBP"
          ],
          [
           "Fuller, Will",
           "MIA"
          ],
          [
           "Moore, Jason",
           "LAC"
          ],
          [
           "Darby, Frank",
           "ATL"
          ],
          [
           "Snead, Willie",
           "FA"
          ],
          [
           "Montgomery, D.J.",
           "NYJ"
          ],
          [
           "Isabella, Andy",
           "ARI"
          ],
          [
           "Hollister, Cody",
           "TEN"
          ],
          [
           "Cleveland, Tyrie",
           "DEN"
          ],
          [
           "Cracraft, River",
           "FA"
          ],
          [
           "Irwin, Trenton",
           "CIN"
          ],
          [
           "Bandy, Michael",
           "LAC"
          ],
          [
           "McMath, Racey",
           "TEN"
          ],
          [
           "Newsome, Dazz",
           "CHI"
          ],
          [
           "Chisena, Dan",
           "MIN"
          ],
          [
           "Kirkwood, Keith",
           "FA"
          ],
          [
           "Strachan, Mike",
           "IND"
          ],
          [
           "Williams, Seth",
           "DEN"
          ],
          [
           "Sills, David",
           "NYG"
          ],
          [
           "Williams, Tyrell",
           "FA"
          ],
          [
           "Moore, David",
           "GBP"
          ],
          [
           "Benjamin, Travis",
           "SFO"
          ],
          [
           "Ffrench, Maurice",
           "LAC"
          ],
          [
           "Davis, Davion",
           "HOU"
          ],
          [
           "Merritt, Kirk",
           "NOS"
          ],
          [
           "Bachman, Alex",
           "NYG"
          ],
          [
           "Baker, Kawaan",
           "NOS"
          ],
          [
           "Fountain, Daurice",
           "KCC"
          ],
          [
           "Hall, Marvin",
           "FA"
          ],
          [
           "Stoner, Dillon",
           "LVR"
          ],
          [
           "Boykin, Miles",
           "BAL"
          ],
          [
           "Coutee, Keke",
           "IND"
          ],
          [
           "Akers, Landen",
           "LAR"
          ],
          [
           "Cole, Matt",
           "SEA"
          ],
          [
           "Thompson, Cody",
           "SEA"
          ],
          [
           "Hightower, John",
           "PHI"
          ],
          [
           "Adams, Rodney",
           "NYJ"
          ],
          [
           "Allison, Geronimo",
           "FA"
          ],
          [
           "Ateman, Marcell",
           "FA"
          ],
          [
           "Brown, John",
           "TBB"
          ],
          [
           "Cager, Lawrence",
           "NYJ"
          ],
          [
           "Camp, Jalen",
           "HOU"
          ],
          [
           "Coulter, Isaiah",
           "CHI"
          ],
          [
           "Fehoko, Simi",
           "DAL"
          ],
          [
           "Fulgham, Travis",
           "DEN"
          ],
          [
           "Gandy-Golden, Antonio",
           "WAS"
          ],
          [
           "Harris, De'Michael",
           "IND"
          ],
          [
           "Hodgins, Isaiah",
           "BUF"
          ],
          [
           "Hurns, Allen",
           "MIA"
          ],
          [
           "Kinsey, Mason",
           "TEN"
          ],
          [
           "Matthews, Jordan",
           "SFO"
          ],
          [
           "McElroy, Codey",
           "TBB"
          ],
          [
           "Parker, Aaron",
           "CAR"
          ],
          [
           "Sims, Steven",
           "PIT"
          ],
          [
           "Smith, Devin",
           "FA"
          ],
          [
           "Smith, Vyncint",
           "TBB"
          ],
          [
           "Watson, Justin",
           "KCC"
          ]
         ],
         "hovertemplate": "Position=WR<br>Salary=%{x}<br>Pts=%{y}<br>Player=%{customdata[0]}<br>Team=%{customdata[1]}<extra></extra>",
         "legendgroup": "WR",
         "marker": {
          "color": "#EF553B",
          "symbol": "circle"
         },
         "mode": "markers",
         "name": "WR",
         "showlegend": true,
         "type": "scattergl",
         "x": [
          251.92,
          1,
          51.84,
          63.94,
          60,
          251.92,
          24.89,
          140.39,
          295.44,
          39.4,
          52.8,
          295.44,
          125.96,
          63.36,
          295.44,
          87.1,
          91.24,
          251.92,
          43.2,
          76.73,
          63.94,
          177.78,
          295.44,
          39.4,
          17.28,
          22.8,
          74.65,
          295.44,
          64.8,
          295.44,
          177.78,
          52.8,
          177.78,
          36,
          1.73,
          66.36,
          103.68,
          32.83,
          2.88,
          14.4,
          1,
          32.83,
          1.44,
          44.4,
          1,
          5.76,
          1,
          34.8,
          43.2,
          44.4,
          74.65,
          353.62,
          76.68,
          12,
          295.44,
          14.4,
          1,
          14.4,
          1.73,
          14.4,
          251.92,
          63.94,
          36,
          147.72,
          14.4,
          220.16,
          10.37,
          353.62,
          20.74,
          1,
          10,
          17.28,
          1,
          177.78,
          134.36,
          177.78,
          1,
          1,
          1.2,
          44.4,
          1.44,
          43.2,
          45.88,
          53.92,
          1,
          4.32,
          1,
          1,
          74.65,
          53.28,
          29.87,
          14.4,
          44.4,
          380.16,
          1,
          22.8,
          29.93,
          1,
          76.03,
          17.28,
          1,
          101.95,
          22.8,
          24.89,
          1,
          1.2,
          74.65,
          1,
          1,
          17.28,
          1,
          49.76,
          31.2,
          1,
          12.44,
          10,
          13.82,
          14.4,
          12.1,
          1,
          1.44,
          14.4,
          1,
          12,
          1,
          1,
          1,
          8.64,
          14.4,
          1,
          1,
          1,
          43.2,
          28.8,
          30,
          1,
          2.4,
          29.87,
          12,
          4.8,
          1,
          1,
          10,
          1,
          1.2,
          15.55,
          20.74,
          147.72,
          1,
          22.8,
          37.32,
          1.44,
          44.4,
          91.24,
          22.8,
          14.4,
          12,
          1.2,
          103.68,
          1,
          4.8,
          8.64,
          1.2,
          1,
          10,
          1,
          51.84,
          53.28,
          5.76,
          14.4,
          1.73,
          1,
          7.2,
          1,
          1,
          1,
          14.4,
          1,
          1.2,
          14.4,
          8.64,
          14.4,
          1,
          14.4,
          1,
          74.65,
          85.2,
          12,
          1,
          1,
          1,
          1,
          1,
          24.89,
          14.4,
          1.44,
          8.64,
          1.2,
          59.71,
          1,
          27.36,
          1.2,
          1,
          1.44,
          7.2,
          1.2,
          177.78,
          1,
          7.2,
          26.4,
          1,
          51.84,
          1,
          1.44,
          1,
          1,
          1,
          7.2,
          7.2,
          1,
          1,
          4.8,
          14.4,
          12,
          154.8,
          17.28,
          1,
          1,
          1,
          1,
          1,
          7.2,
          1,
          1,
          1.2,
          39.4,
          1,
          1,
          1,
          1,
          17.28,
          1,
          28.66,
          1,
          1,
          1,
          7.2,
          5.76,
          7.2,
          12,
          17.28,
          1,
          5.76,
          1.2,
          1,
          1,
          1,
          1,
          12,
          1,
          14.4,
          1
         ],
         "xaxis": "x",
         "y": [
          418.45,
          334.8,
          329.5,
          309.9,
          306.4,
          303.1,
          280.85,
          274,
          268.4,
          265.3,
          257.15,
          250.65,
          245.2,
          245,
          239.8,
          237.05,
          235.7,
          228.6,
          225.1,
          222.8,
          222.2,
          219.7,
          217.25,
          208.4,
          207.3,
          204.4,
          204.02,
          202,
          196.65,
          191.3,
          189.04,
          187.5,
          182.85,
          182.8,
          180.25,
          176.75,
          174.6,
          165.5,
          165.3,
          163.75,
          160.4,
          158.45,
          156.75,
          154.8,
          152.5,
          152.4,
          152.25,
          151.3,
          150.8,
          149.2,
          147.3,
          147.2,
          145.35,
          143,
          140.8,
          137.4,
          136.1,
          135.3,
          133.9,
          131.37,
          129.7,
          128.2,
          124,
          123.1,
          122.6,
          121.3,
          121,
          116.4,
          114.65,
          114.4,
          111.7,
          110.3,
          109.4,
          109.1,
          107.2,
          105.6,
          104.3,
          102.7,
          101.4,
          101.3,
          100.45,
          100,
          98.4,
          97.65,
          94.3,
          93.8,
          92.4,
          92,
          91.5,
          90.6,
          87.9,
          87,
          85.41,
          84.8,
          83.9,
          82.6,
          82.5,
          81,
          80.4,
          80.3,
          79,
          78.05,
          75.9,
          75.1,
          74.75,
          74,
          73.1,
          70.4,
          68.2,
          67.8,
          67.6,
          66.2,
          65.8,
          65.15,
          63.9,
          60.8,
          60,
          59.4,
          59,
          57.5,
          57.15,
          55.7,
          55.3,
          54.1,
          50,
          49.9,
          49.45,
          49.4,
          49.2,
          48.3,
          45.65,
          44.9,
          44.3,
          43.05,
          43,
          42.1,
          41.8,
          40.95,
          40.7,
          40.65,
          40.4,
          39.8,
          38.3,
          36.9,
          36.4,
          36.15,
          36.05,
          35.4,
          35.1,
          34.8,
          34.4,
          33.7,
          32.8,
          32.2,
          31.3,
          29.95,
          29.9,
          29.4,
          28.9,
          28.59,
          27.35,
          24.4,
          24.25,
          24.2,
          22.5,
          22.3,
          21.6,
          21.3,
          20.4,
          20.25,
          20.2,
          20.2,
          20,
          19.2,
          19.1,
          17.9,
          17.9,
          16.1,
          15.6,
          15.45,
          15.05,
          14.9,
          14.8,
          14.55,
          14.5,
          14.5,
          14.4,
          14.35,
          14.3,
          14.3,
          14.25,
          14.2,
          14.05,
          14,
          13.65,
          13.4,
          13.2,
          13,
          12.6,
          12.45,
          12.4,
          12.25,
          10.45,
          10.1,
          10.1,
          9.2,
          8.6,
          8.6,
          8.4,
          7.8,
          7.6,
          7.35,
          7.3,
          7,
          7,
          6.55,
          6.4,
          5.8,
          5.4,
          5,
          4.7,
          4.6,
          4.4,
          3.7,
          3.4,
          3.15,
          2.85,
          2.85,
          2.7,
          2.3,
          2,
          2,
          2,
          2,
          2,
          1.6,
          1.5,
          1,
          1,
          1,
          0.5,
          0,
          0,
          0,
          0,
          0,
          0,
          0,
          0,
          0,
          0,
          0,
          0,
          0,
          0,
          0,
          0,
          0,
          0,
          0,
          0,
          0
         ],
         "yaxis": "y"
        },
        {
         "customdata": [
          [
           "Taylor, Jonathan",
           "IND"
          ],
          [
           "Mixon, Joe",
           "CIN"
          ],
          [
           "Harris, Najee",
           "PIT"
          ],
          [
           "Ekeler, Austin",
           "LAC"
          ],
          [
           "Elliott, Ezekiel",
           "DAL"
          ],
          [
           "Fournette, Leonard",
           "TBB"
          ],
          [
           "Conner, James",
           "ARI"
          ],
          [
           "Chubb, Nick",
           "CLE"
          ],
          [
           "Kamara, Alvin",
           "NOS"
          ],
          [
           "Jones, Aaron",
           "GBP"
          ],
          [
           "Gibson, Antonio",
           "WAS"
          ],
          [
           "Henry, Derrick",
           "TEN"
          ],
          [
           "Harris, Damien",
           "NEP"
          ],
          [
           "Cook, Dalvin",
           "MIN"
          ],
          [
           "Williams, Javonte",
           "DEN"
          ],
          [
           "Jacobs, Josh",
           "LVR"
          ],
          [
           "Pollard, Tony",
           "DAL"
          ],
          [
           "Montgomery, David",
           "CHI"
          ],
          [
           "Gordon, Melvin",
           "DEN"
          ],
          [
           "Dillon, AJ",
           "GBP"
          ],
          [
           "Williams, Darrel",
           "KCC"
          ],
          [
           "Robinson, James",
           "JAC"
          ],
          [
           "Swift, D'Andre",
           "DET"
          ],
          [
           "Singletary, Devin",
           "BUF"
          ],
          [
           "Gaskin, Myles",
           "MIA"
          ],
          [
           "Mitchell, Elijah",
           "SFO"
          ],
          [
           "Henderson, Darrell",
           "LAR"
          ],
          [
           "Michel, Sony",
           "LAR"
          ],
          [
           "Carter, Michael",
           "NYJ"
          ],
          [
           "Booker, Devontae",
           "NYG"
          ],
          [
           "Freeman, Devonta",
           "BAL"
          ],
          [
           "Barkley, Saquon",
           "NYG"
          ],
          [
           "Hubbard, Chuba",
           "CAR"
          ],
          [
           "Edmonds, Chase",
           "ARI"
          ],
          [
           "Davis, Mike",
           "ATL"
          ],
          [
           "Herbert, Khalil",
           "CHI"
          ],
          [
           "Mattison, Alexander",
           "MIN"
          ],
          [
           "Edwards-Helaire, Clyde",
           "KCC"
          ],
          [
           "Dallas, DeeJay",
           "SEA"
          ],
          [
           "McCaffrey, Christian",
           "CAR"
          ],
          [
           "Sanders, Miles",
           "PHI"
          ],
          [
           "Ingram, Mark",
           "NOS"
          ],
          [
           "Stevenson, Rhamondre",
           "NEP"
          ],
          [
           "Williams, Jamaal",
           "DET"
          ],
          [
           "Hines, Nyheim",
           "IND"
          ],
          [
           "Johnson, Ty",
           "NYJ"
          ],
          [
           "Bolden, Brandon",
           "NEP"
          ],
          [
           "McKissic, J.D.",
           "WAS"
          ],
          [
           "Drake, Kenyan",
           "LVR"
          ],
          [
           "Hunt, Kareem",
           "CLE"
          ],
          [
           "Scott, Boston",
           "PHI"
          ],
          [
           "Penny, Rashaad",
           "SEA"
          ],
          [
           "Gainwell, Kenneth",
           "PHI"
          ],
          [
           "Moss, Zack",
           "BUF"
          ],
          [
           "Burkhead, Rex",
           "HOU"
          ],
          [
           "Abdullah, Ameer",
           "CAR"
          ],
          [
           "Foreman, D'Onta",
           "TEN"
          ],
          [
           "Johnson, D'Ernest",
           "CLE"
          ],
          [
           "Murray, Latavius",
           "BAL"
          ],
          [
           "Jackson, Justin",
           "LAC"
          ],
          [
           "Jones, Ronald",
           "TBB"
          ],
          [
           "Felton, Demetric",
           "CLE"
          ],
          [
           "Perine, Samaje",
           "CIN"
          ],
          [
           "Collins, Alex",
           "SEA"
          ],
          [
           "Coleman, Tevin",
           "NYJ"
          ],
          [
           "Igwebuike, Godwin",
           "DET"
          ],
          [
           "Hilliard, Dontrell",
           "TEN"
          ],
          [
           "Howard, Jordan",
           "PHI"
          ],
          [
           "Johnson, David",
           "HOU"
          ],
          [
           "Homer, Travis",
           "SEA"
          ],
          [
           "McNichols, Jeremy",
           "FA"
          ],
          [
           "Wilson, Jeffery",
           "SFO"
          ],
          [
           "Juszczyk, Kyle",
           "SFO"
          ],
          [
           "Barber, Peyton",
           "LVR"
          ],
          [
           "Gore, Derrick",
           "KCC"
          ],
          [
           "Williams, Damien",
           "CHI"
          ],
          [
           "Patterson, Jaret",
           "WAS"
          ],
          [
           "Bernard, Giovani",
           "TBB"
          ],
          [
           "Hasty, JaMycal",
           "SFO"
          ],
          [
           "Nwangwu, Kene",
           "MIN"
          ],
          [
           "Lindsay, Phillip",
           "MIA"
          ],
          [
           "Ogunbowale, Dare",
           "JAC"
          ],
          [
           "Carson, Chris",
           "SEA"
          ],
          [
           "Hyde, Carlos",
           "JAC"
          ],
          [
           "Johnson, Duke",
           "MIA"
          ],
          [
           "Breida, Matt",
           "BUF"
          ],
          [
           "Penny, Elijhaa",
           "NYG"
          ],
          [
           "Ahmed, Salvon",
           "MIA"
          ],
          [
           "Williams, Ty'Son",
           "BAL"
          ],
          [
           "Montgomery, Ty",
           "NOS"
          ],
          [
           "Reynolds, Craig",
           "DET"
          ],
          [
           "Freeman, Royce",
           "HOU"
          ],
          [
           "Cannon, Trenton",
           "SFO"
          ],
          [
           "Clement, Corey",
           "DAL"
          ],
          [
           "Evans, Chris",
           "CIN"
          ],
          [
           "Sermon, Trey",
           "SFO"
          ],
          [
           "Benjamin, Eno",
           "ARI"
          ],
          [
           "Bell, Le'Veon",
           "FA"
          ],
          [
           "Peterson, Adrian",
           "FA"
          ],
          [
           "Rountree, Larry",
           "LAC"
          ],
          [
           "Richard, Jalen",
           "LVR"
          ],
          [
           "Vaughn, Ke'Shawn",
           "TBB"
          ],
          [
           "Bellore, Nick",
           "SEA"
          ],
          [
           "Smith, Keith",
           "ATL"
          ],
          [
           "Ingold, Alec",
           "LVR"
          ],
          [
           "Brown, Malcolm",
           "MIA"
          ],
          [
           "Watt, Derek",
           "PIT"
          ],
          [
           "White, James",
           "NEP"
          ],
          [
           "Jones, Tony",
           "NOS"
          ],
          [
           "Jefferson, Jermar",
           "DET"
          ],
          [
           "McKinnon, Jerick",
           "KCC"
          ],
          [
           "Ham, C.J.",
           "MIN"
          ],
          [
           "Snell, Benny",
           "PIT"
          ],
          [
           "Taylor, J.J.",
           "NEP"
          ],
          [
           "Burton, Michael",
           "KCC"
          ],
          [
           "Walter, Austin",
           "NYJ"
          ],
          [
           "Hill, Kylin",
           "GBP"
          ],
          [
           "Washington, Dwayne",
           "NOS"
          ],
          [
           "Ollison, Qadree",
           "ATL"
          ],
          [
           "Ward, Jonathan",
           "ARI"
          ],
          [
           "Kelley, Joshua",
           "LAC"
          ],
          [
           "Gallman, Wayne",
           "MIN"
          ],
          [
           "Williams, Jonathan",
           "WAS"
          ],
          [
           "Mack, Marlon",
           "IND"
          ],
          [
           "Armah, Alexander",
           "WAS"
          ],
          [
           "Ricard, Patrick",
           "BAL"
          ],
          [
           "Janovich, Andy",
           "CLE"
          ],
          [
           "Jones, Taiwan",
           "BUF"
          ],
          [
           "Brightwell, Gary",
           "NYG"
          ],
          [
           "Jackson, Deon",
           "IND"
          ],
          [
           "Boone, Mike",
           "DEN"
          ],
          [
           "Johnson, Jakob",
           "NEP"
          ],
          [
           "Funk, Jake",
           "LAR"
          ],
          [
           "Ballage, Kalen",
           "PIT"
          ],
          [
           "Howell, Buddy",
           "LAR"
          ],
          [
           "Stanton, Johnny",
           "CLE"
          ],
          [
           "Smith, Rodney",
           "FA"
          ],
          [
           "Smallwood, Wendell",
           "FA"
          ],
          [
           "McFarland, Anthony",
           "PIT"
          ],
          [
           "Nabers, Gabe",
           "LAC"
          ],
          [
           "Carter, Tory",
           "TEN"
          ],
          [
           "Taylor, Patrick",
           "GBP"
          ],
          [
           "Nall, Ryan",
           "CHI"
          ],
          [
           "Williams, Trayveon",
           "CIN"
          ],
          [
           "Barner, Kenjon",
           "TBB"
          ],
          [
           "Samuels, Jaylen",
           "ARI"
          ],
          [
           "Prentice, Adam",
           "NOS"
          ],
          [
           "Armstead, Ryquell",
           "JAC"
          ],
          [
           "Perine, Lamical",
           "NYJ"
          ],
          [
           "Evans, Darrynton",
           "TEN"
          ],
          [
           "Phillips, Scottie",
           "HOU"
          ],
          [
           "Williams, Pooka",
           "FA"
          ],
          [
           "Gillaspia, Cullen",
           "NYG"
          ],
          [
           "Laird, Patrick",
           "MIA"
          ],
          [
           "Blasingame, Khari",
           "TEN"
          ],
          [
           "Cottrell, Nathan",
           "JAC"
          ],
          [
           "Wilkins, Jordan",
           "FA"
          ],
          [
           "Bonnafon, Reggie",
           "WAS"
          ],
          [
           "Ragas, Trey",
           "LVR"
          ],
          [
           "Bawden, Nick",
           "NYJ"
          ],
          [
           "Mostert, Raheem",
           "SFO"
          ],
          [
           "Smith, Sutton",
           "LVR"
          ],
          [
           "Pierce, Artavis",
           "FA"
          ],
          [
           "Hardy, JaQuan",
           "DAL"
          ],
          [
           "Kelly, John",
           "CLE"
          ],
          [
           "Sargent, Mekhi",
           "JAC"
          ],
          [
           "Patrick, Jacques",
           "FA"
          ],
          [
           "Crockett, Damarea",
           "DEN"
          ],
          [
           "Ozigbo, Devine",
           "NEP"
          ],
          [
           "Hill, Brian",
           "FA"
          ],
          [
           "McCrary, Nate",
           "BAL"
          ],
          [
           "Adams, Josh",
           "NOS"
          ],
          [
           "Akers, Cam",
           "LAR"
          ],
          [
           "Bradwell, Darius",
           "CAR"
          ],
          [
           "Brown, Spencer",
           "CAR"
          ],
          [
           "Cohen, Tarik",
           "CHI"
          ],
          [
           "Doaks, Gerrid",
           "MIA"
          ],
          [
           "Edmunds, Trey",
           "PIT"
          ],
          [
           "Johnson, Josh",
           "SEA"
          ],
          [
           "Johnson, Kerryon",
           "FA"
          ],
          [
           "McGuire, Elijah",
           "FA"
          ],
          [
           "Olonilua, Sewo",
           "DAL"
          ],
          [
           "Scarlett, Jordan",
           "FA"
          ],
          [
           "Thompson, Darwin",
           "KCC"
          ]
         ],
         "hovertemplate": "Position=RB<br>Salary=%{x}<br>Pts=%{y}<br>Player=%{customdata[0]}<br>Team=%{customdata[1]}<extra></extra>",
         "legendgroup": "RB",
         "marker": {
          "color": "#00cc96",
          "symbol": "circle"
         },
         "mode": "markers",
         "name": "RB",
         "showlegend": true,
         "type": "scattergl",
         "x": [
          107.13,
          119.44,
          74.4,
          403.2,
          1,
          149.3,
          93.7,
          99.53,
          187.4,
          187.4,
          43.2,
          243.5,
          51.84,
          187.4,
          67.2,
          128.57,
          91.24,
          116.12,
          360,
          63.36,
          14.4,
          10,
          86.4,
          76.73,
          12,
          22.8,
          103.68,
          99.53,
          60,
          60.48,
          1,
          124.42,
          22.8,
          24.89,
          1,
          14.4,
          39.4,
          96.77,
          17.28,
          134.36,
          116.12,
          1,
          30,
          210,
          49.76,
          12.44,
          1,
          1,
          140.39,
          121.75,
          14.4,
          99.53,
          44.4,
          53.28,
          1,
          1,
          2.88,
          1,
          1,
          24.89,
          111.97,
          7.2,
          1,
          4.32,
          252,
          1,
          14.4,
          1,
          1,
          12,
          1,
          243.5,
          1,
          1,
          1,
          1,
          14.4,
          1,
          10,
          14.4,
          14.4,
          18,
          65.69,
          175.74,
          45.6,
          17.28,
          1,
          1.44,
          10,
          1,
          1,
          39.6,
          19.2,
          25.2,
          14.4,
          60,
          27.36,
          1,
          1,
          14.4,
          39.6,
          72,
          1.73,
          1,
          1,
          115.2,
          1.44,
          170.4,
          1.44,
          14.4,
          64.8,
          1,
          24.89,
          1.44,
          1,
          1,
          7.2,
          1,
          6.91,
          10,
          36,
          1,
          3.6,
          59.71,
          1,
          2.08,
          1,
          1,
          4.8,
          2.4,
          14.4,
          1,
          7.2,
          1,
          1.2,
          1,
          1.2,
          1,
          36,
          1.2,
          1,
          1.44,
          1,
          12,
          1,
          1,
          1,
          20.74,
          27.36,
          27.36,
          1.44,
          4.8,
          1,
          25.92,
          1,
          1,
          1,
          6,
          1.2,
          1,
          1,
          1,
          1.44,
          8.4,
          1.2,
          1.2,
          1,
          1,
          1,
          1,
          1,
          14.4,
          86.4,
          1.2,
          30,
          17.28,
          7.2,
          1,
          2.4,
          87.1,
          17.28,
          1,
          1.2,
          32.83
         ],
         "xaxis": "x",
         "y": [
          409.5,
          330.3,
          323.3,
          320.4,
          269.11,
          258.15,
          256.3,
          246.6,
          240.95,
          239.15,
          235.9,
          230.35,
          228,
          227.6,
          218.2,
          217.8,
          213.05,
          209.15,
          203.2,
          200,
          199.7,
          196.2,
          194.15,
          193.4,
          185.45,
          184.2,
          178.7,
          176.3,
          163.1,
          153.9,
          153.5,
          151.9,
          150.65,
          150.4,
          144.3,
          142.3,
          136.5,
          133.9,
          133.6,
          132.8,
          131.6,
          131.1,
          129.6,
          129.1,
          127.55,
          121.45,
          118,
          118,
          116.7,
          114.6,
          113.65,
          112.9,
          112.25,
          111.5,
          109.75,
          105.6,
          102.9,
          102.75,
          99.2,
          95.2,
          94.4,
          92.75,
          92.7,
          85.9,
          85.55,
          85,
          82.85,
          82.7,
          74.6,
          74.3,
          70.35,
          67.8,
          64.4,
          61.35,
          58.9,
          58.9,
          58.8,
          58.7,
          58.2,
          58.05,
          57.5,
          56,
          55.9,
          54.2,
          49.6,
          49.25,
          47.2,
          45.4,
          43.8,
          43.25,
          41.9,
          40.8,
          40.4,
          39.7,
          38.4,
          38,
          37.4,
          34.8,
          34.2,
          33.65,
          31.75,
          29.95,
          29.9,
          29.5,
          28.05,
          27.6,
          27.3,
          27.2,
          26.8,
          26.7,
          26.3,
          25.6,
          24.7,
          24.05,
          23.85,
          23.2,
          22.35,
          21.9,
          21.8,
          21.6,
          21.1,
          19.45,
          19.2,
          17.5,
          17.1,
          17.1,
          16.75,
          12.2,
          11.7,
          11.7,
          10.5,
          10.5,
          10.3,
          9.6,
          8.8,
          8.8,
          8.3,
          7.7,
          7.65,
          7.6,
          6,
          6,
          5.5,
          5.5,
          5.35,
          5.3,
          5.2,
          5.1,
          4.7,
          4.55,
          4.4,
          4.1,
          4,
          3.8,
          3.6,
          3.5,
          3.35,
          2.8,
          2.7,
          2.5,
          2.4,
          2,
          1.85,
          1.75,
          1.7,
          1.7,
          1.6,
          1.3,
          1.1,
          1,
          0.1,
          0,
          0,
          0,
          0,
          0,
          0,
          0,
          0,
          0,
          0,
          0,
          0,
          0
         ],
         "yaxis": "y"
        },
        {
         "customdata": [
          [
           "Andrews, Mark",
           "BAL"
          ],
          [
           "Kelce, Travis",
           "KCC"
          ],
          [
           "Kittle, George",
           "SFO"
          ],
          [
           "Schultz, Dalton",
           "DAL"
          ],
          [
           "Pitts, Kyle",
           "ATL"
          ],
          [
           "Goedert, Dallas",
           "PHI"
          ],
          [
           "Ertz, Zach",
           "ARI"
          ],
          [
           "Gesicki, Mike",
           "MIA"
          ],
          [
           "Knox, Dawson",
           "BUF"
          ],
          [
           "Fant, Noah",
           "DEN"
          ],
          [
           "Henry, Hunter",
           "NEP"
          ],
          [
           "Gronkowski, Rob",
           "TBB"
          ],
          [
           "Hockenson, T.J.",
           "DET"
          ],
          [
           "Freiermuth, Pat",
           "PIT"
          ],
          [
           "Conklin, Tyler",
           "MIN"
          ],
          [
           "Waller, Darren",
           "LVR"
          ],
          [
           "Uzomah, C.J.",
           "CIN"
          ],
          [
           "Higbee, Tyler",
           "LAR"
          ],
          [
           "Cook, Jared",
           "LAC"
          ],
          [
           "Kmet, Cole",
           "CHI"
          ],
          [
           "Everett, Gerald",
           "SEA"
          ],
          [
           "Njoku, David",
           "CLE"
          ],
          [
           "Engram, Evan",
           "NYG"
          ],
          [
           "Hooper, Austin",
           "CLE"
          ],
          [
           "Moreau, Foster",
           "LVR"
          ],
          [
           "Doyle, Jack",
           "IND"
          ],
          [
           "Okwuegbunam, Albert",
           "DEN"
          ],
          [
           "Alie-Cox, Mo",
           "IND"
          ],
          [
           "Brate, Cameron",
           "TBB"
          ],
          [
           "Arnold, Dan",
           "JAC"
          ],
          [
           "Griffin, Ryan",
           "NYJ"
          ],
          [
           "Swaim, Geoff",
           "TEN"
          ],
          [
           "Smith, Jonnu",
           "NEP"
          ],
          [
           "Firkser, Anthony",
           "TEN"
          ],
          [
           "Seals-Jones, Ricky",
           "WAS"
          ],
          [
           "Smythe, Durham",
           "MIA"
          ],
          [
           "Bryant, Harrison",
           "CLE"
          ],
          [
           "Hurst, Hayden",
           "ATL"
          ],
          [
           "Parham, Donald",
           "LAC"
          ],
          [
           "Jordan, Brevin",
           "HOU"
          ],
          [
           "Trautman, Adam",
           "NOS"
          ],
          [
           "Dissly, Will",
           "SEA"
          ],
          [
           "Rudolph, Kyle",
           "NYG"
          ],
          [
           "Thomas, Logan",
           "WAS"
          ],
          [
           "Bates, John",
           "WAS"
          ],
          [
           "Tremble, Tommy",
           "CAR"
          ],
          [
           "O'Shaughnessy, James",
           "JAC"
          ],
          [
           "Pruitt, MyCole",
           "TEN"
          ],
          [
           "Tonyan, Robert",
           "GBP"
          ],
          [
           "Anderson, Stephen",
           "LAC"
          ],
          [
           "Graham, Jimmy",
           "CHI"
          ],
          [
           "Johnson, Juwan",
           "NOS"
          ],
          [
           "Deguara, Josiah",
           "GBP"
          ],
          [
           "Lewis, Marcedes",
           "GBP"
          ],
          [
           "Akins, Jordan",
           "HOU"
          ],
          [
           "Williams, Maxx",
           "ARI"
          ],
          [
           "Kroft, Tyler",
           "NYJ"
          ],
          [
           "Thomas, Ian",
           "CAR"
          ],
          [
           "Brown, Pharaoh",
           "HOU"
          ],
          [
           "Howard, O.J.",
           "TBB"
          ],
          [
           "Jarwin, Blake",
           "DAL"
          ],
          [
           "Ebron, Eric",
           "PIT"
          ],
          [
           "Gentry, Zach",
           "PIT"
          ],
          [
           "Wright, Brock",
           "DET"
          ],
          [
           "Vannett, Nick",
           "NOS"
          ],
          [
           "James, Jesse",
           "CHI"
          ],
          [
           "Smith, Lee",
           "ATL"
          ],
          [
           "Woerner, Charlie",
           "SFO"
          ],
          [
           "Shaheen, Adam",
           "MIA"
          ],
          [
           "Saubert, Eric",
           "DEN"
          ],
          [
           "Harris, Demetrius",
           "ARI"
          ],
          [
           "Fortson, Jody",
           "KCC"
          ],
          [
           "Granson, Kylen",
           "IND"
          ],
          [
           "Oliver, Josh",
           "BAL"
          ],
          [
           "Manhertz, Chris",
           "JAC"
          ],
          [
           "Sample, Drew",
           "CIN"
          ],
          [
           "Bell, Blake",
           "KCC"
          ],
          [
           "Sweeney, Tommy",
           "BUF"
          ],
          [
           "Hollister, Jacob",
           "JAC"
          ],
          [
           "Horsted, Jesper",
           "CHI"
          ],
          [
           "Gray, Noah",
           "KCC"
          ],
          [
           "Dwelley, Ross",
           "SFO"
          ],
          [
           "Auclair, Antony",
           "HOU"
          ],
          [
           "Wesco, Trevon",
           "NYJ"
          ],
          [
           "Davis, Tyler",
           "GBP"
          ],
          [
           "Herndon, Chris",
           "MIN"
          ],
          [
           "McKeon, Sean",
           "DAL"
          ],
          [
           "Carter, Cethan",
           "MIA"
          ],
          [
           "Farrell, Luke",
           "JAC"
          ],
          [
           "Dafney, Dominique",
           "GBP"
          ],
          [
           "Stoll, Jack",
           "PHI"
          ],
          [
           "Griffin, Garrett",
           "NOS"
          ],
          [
           "Myarick, Chris",
           "FA"
          ],
          [
           "McKitty, Tre'",
           "LAC"
          ],
          [
           "Smith, Kaden",
           "NYG"
          ],
          [
           "Ricci, Giovanni",
           "CAR"
          ],
          [
           "Blanton, Kendall",
           "LAR"
          ],
          [
           "Tomlinson, Eric",
           "BAL"
          ],
          [
           "Hesse, Parker",
           "ATL"
          ],
          [
           "Fells, Darren",
           "TBB"
          ],
          [
           "Gilliam, Reggie",
           "BUF"
          ],
          [
           "Sprinkle, Jeremy",
           "DAL"
          ],
          [
           "Daniels, Darrell",
           "ARI"
          ],
          [
           "Brown, Daniel",
           "NYJ"
          ],
          [
           "Rader, Kevin",
           "PIT"
          ],
          [
           "Yeboah, Kenny",
           "NYJ"
          ],
          [
           "Carrier, Derek",
           "LVR"
          ],
          [
           "Zylstra, Shane",
           "DET"
          ],
          [
           "Hudson, Tommy",
           "TEN"
          ],
          [
           "Parkinson, Colby",
           "SEA"
          ],
          [
           "Holtz, J.P.",
           "CHI"
          ],
          [
           "Stocker, Luke",
           "MIN"
          ],
          [
           "Wilcox, Mitchell",
           "CIN"
          ],
          [
           "Mundt, Johnny",
           "LAR"
          ],
          [
           "Helm, Daniel",
           "ATL"
          ],
          [
           "Wolf, Ethan",
           "NOS"
          ],
          [
           "Beck, Andrew",
           "DEN"
          ],
          [
           "Reyes, Sammis",
           "WAS"
          ],
          [
           "Thompson, Colin",
           "CAR"
          ],
          [
           "Hopkins, Brycen",
           "LAR"
          ],
          [
           "Long, Hunter",
           "MIA"
          ],
          [
           "Boyle, Nick",
           "BAL"
          ],
          [
           "Forristall, Miller",
           "CLE"
          ],
          [
           "Ralston, Nick",
           "DAL"
          ],
          [
           "Yelder, Deon",
           "ARI"
          ],
          [
           "Asiasi, Devin",
           "NEP"
          ],
          [
           "Bowers, Nick",
           "LVR"
          ],
          [
           "Bushman, Matt",
           "KCC"
          ],
          [
           "Dillon, Brandon",
           "NYJ"
          ],
          [
           "Ellefson, Ben",
           "MIN"
          ],
          [
           "Harris, Jacob",
           "LAR"
          ],
          [
           "Hemingway, Temarrick",
           "FA"
          ],
          [
           "Hudson, Tanner",
           "SFO"
          ],
          [
           "Jackson, Tyree",
           "PHI"
          ],
          [
           "LaCosse, Matt",
           "FA"
          ],
          [
           "Pinkney, Jared",
           "DET"
          ],
          [
           "Poljan, Tony",
           "BAL"
          ],
          [
           "Quessenberry, Paul",
           "HOU"
          ],
          [
           "Rodgers, Richard",
           "PHI"
          ],
          [
           "Schreck, Mason",
           "CIN"
          ],
          [
           "Sullivan, Stephen",
           "CAR"
          ],
          [
           "Travis, Ross",
           "FA"
          ],
          [
           "Warring, Kahale",
           "JAC"
          ],
          [
           "Winchester, James",
           "KCC"
          ]
         ],
         "hovertemplate": "Position=TE<br>Salary=%{x}<br>Pts=%{y}<br>Player=%{customdata[0]}<br>Team=%{customdata[1]}<extra></extra>",
         "legendgroup": "TE",
         "marker": {
          "color": "#ab63fa",
          "symbol": "circle"
         },
         "mode": "markers",
         "name": "TE",
         "showlegend": true,
         "type": "scattergl",
         "x": [
          14.4,
          199.82,
          50.95,
          58.95,
          52.8,
          37.32,
          1,
          37.32,
          12.44,
          51.84,
          126.34,
          22.81,
          76.73,
          22.8,
          14.4,
          129.6,
          1,
          119.9,
          1,
          17.28,
          1,
          89.58,
          89.58,
          1,
          12.44,
          120,
          5.76,
          17.28,
          1,
          74.3,
          4.8,
          12,
          17.28,
          180,
          23.88,
          18.72,
          8.64,
          37.32,
          31.1,
          14.4,
          17.28,
          14.4,
          1,
          126.3,
          2.4,
          7.2,
          7.2,
          1.2,
          60.13,
          1,
          1,
          1.44,
          5.76,
          1,
          14.4,
          33.18,
          2.4,
          14.4,
          1,
          104.52,
          1,
          1,
          1,
          1,
          1,
          1,
          1.2,
          1.44,
          17.28,
          1,
          5.76,
          1,
          7.2,
          12.44,
          1,
          12,
          1,
          1,
          1,
          1,
          7.2,
          29.03,
          1,
          1,
          1,
          14.4,
          1.44,
          1.44,
          7.2,
          1,
          13.2,
          1,
          1,
          7.2,
          1,
          1,
          1,
          1,
          1,
          1,
          1,
          1,
          1,
          1,
          1,
          4.8,
          1,
          1,
          1,
          5.76,
          1,
          1,
          1,
          1.73,
          1,
          1,
          1,
          4.8,
          1,
          5.76,
          14.4,
          44.78,
          1,
          1,
          1,
          17.28,
          1,
          1.2,
          1,
          1,
          7.2,
          1,
          15.55,
          1,
          1,
          43.2,
          1.2,
          1,
          1,
          1.73,
          1.44,
          1,
          1,
          1
         ],
         "xaxis": "x",
         "y": [
          297.6,
          251.8,
          194.9,
          193.7,
          179.8,
          167,
          165.5,
          164.85,
          164.8,
          160.4,
          150.7,
          150.5,
          149.3,
          142.4,
          137.7,
          131.3,
          128.3,
          123.5,
          122.4,
          117.1,
          115.4,
          108.7,
          103.3,
          96.5,
          92.3,
          79.1,
          78.1,
          77.9,
          77.3,
          76.95,
          75,
          73.8,
          72.5,
          71.15,
          71.1,
          68.2,
          64.4,
          61.8,
          59,
          56.8,
          56.5,
          56.1,
          56,
          55.6,
          55.4,
          54.95,
          52.4,
          50.5,
          50.4,
          49.5,
          49.1,
          46.4,
          45.9,
          44.4,
          43.9,
          42.3,
          41.8,
          41.25,
          40.1,
          33.5,
          33,
          32.7,
          29.8,
          27.6,
          26.3,
          26.2,
          23.5,
          23.2,
          23,
          22.7,
          22.3,
          21.7,
          21.6,
          21.5,
          21.1,
          20.3,
          19.5,
          19.4,
          19.1,
          19.1,
          18.6,
          17.1,
          17.05,
          15.5,
          14.5,
          14,
          13.7,
          13.6,
          12.6,
          11.8,
          11.1,
          10.9,
          10.7,
          10.5,
          10.3,
          10,
          9.7,
          9.7,
          9.3,
          8.3,
          8.2,
          8.1,
          8,
          7.9,
          7.8,
          7.6,
          7.3,
          6.4,
          6.1,
          6.05,
          6,
          5.2,
          4,
          3.9,
          2.9,
          2.8,
          2,
          2,
          2,
          1.9,
          1.8,
          1.2,
          1,
          1,
          1,
          0,
          0,
          0,
          0,
          0,
          0,
          0,
          0,
          0,
          0,
          0,
          0,
          0,
          0,
          0,
          0,
          0,
          0,
          0
         ],
         "yaxis": "y"
        },
        {
         "customdata": [
          [
           "Oluokun, Foyesade",
           "ATL"
          ],
          [
           "Campbell, De'Vondre",
           "GBP"
          ],
          [
           "Smith, Roquan",
           "CHI"
          ],
          [
           "Leonard, Darius",
           "IND"
          ],
          [
           "Wagner, Bobby",
           "SEA"
          ],
          [
           "Watt, T.J.",
           "PIT"
          ],
          [
           "Kendricks, Eric",
           "MIN"
          ],
          [
           "Mosley, C.J.",
           "NYJ"
          ],
          [
           "Brooks, Jordyn",
           "SEA"
          ],
          [
           "Parsons, Micah",
           "DAL"
          ],
          [
           "Holcomb, Cole",
           "WAS"
          ],
          [
           "White, Kyzir",
           "LAC"
          ],
          [
           "Perryman, Denzel",
           "LVR"
          ],
          [
           "Singleton, Alex",
           "PHI"
          ],
          [
           "Jones, Deion",
           "ATL"
          ],
          [
           "Okereke, Bobby",
           "IND"
          ],
          [
           "Quinn, Robert",
           "CHI"
          ],
          [
           "Hicks, Jordan",
           "ARI"
          ],
          [
           "White, Devin",
           "TBB"
          ],
          [
           "Warner, Fred",
           "SFO"
          ],
          [
           "Edwards, T.J.",
           "PHI"
          ],
          [
           "Simmons, Isaiah",
           "ARI"
          ],
          [
           "Grugier-Hill, Kamu",
           "HOU"
          ],
          [
           "Williams, Quincy",
           "NYJ"
          ],
          [
           "Landry, Harold",
           "TEN"
          ],
          [
           "Crowder, Tae",
           "NYG"
          ],
          [
           "Baker, Jerome",
           "MIA"
          ],
          [
           "Wilson, Logan",
           "CIN"
          ],
          [
           "Al-Shaair, Azeez",
           "SFO"
          ],
          [
           "Thompson, Shaq",
           "CAR"
          ],
          [
           "Schobert, Joe",
           "PIT"
          ],
          [
           "Barrett, Shaq",
           "TBB"
          ],
          [
           "Floyd, Leonard",
           "LAR"
          ],
          [
           "Davis, Demario",
           "NOS"
          ],
          [
           "David, Lavonte",
           "TBB"
          ],
          [
           "Queen, Patrick",
           "BAL"
          ],
          [
           "Judon, Matt",
           "NEP"
          ],
          [
           "Golden, Markus",
           "ARI"
          ],
          [
           "Walker, Anthony",
           "CLE"
          ],
          [
           "Pratt, Germaine",
           "CIN"
          ],
          [
           "Edmunds, Tremaine",
           "BUF"
          ],
          [
           "Jones, Chandler",
           "ARI"
          ],
          [
           "Bentley, Ja'Whaun",
           "NEP"
          ],
          [
           "Wilson, Damien",
           "JAC"
          ],
          [
           "Bolton, Nick",
           "KCC"
          ],
          [
           "Van Noy, Kyle",
           "NEP"
          ],
          [
           "Milano, Matt",
           "BUF"
          ],
          [
           "Roberts, Elandon",
           "MIA"
          ],
          [
           "Jack, Myles",
           "JAC"
          ],
          [
           "Highsmith, Alex",
           "PIT"
          ],
          [
           "Littleton, Cory",
           "LVR"
          ],
          [
           "Kirksey, Christian",
           "HOU"
          ],
          [
           "Gary, Rashan",
           "GBP"
          ],
          [
           "Reeder, Troy",
           "LAR"
          ],
          [
           "Bowser, Tyus",
           "BAL"
          ],
          [
           "Owusu-Koramoah, Jeremiah",
           "CLE"
          ],
          [
           "Anzalone, Alex",
           "DET"
          ],
          [
           "Smith, Preston",
           "GBP"
          ],
          [
           "Ogletree, Alec",
           "CHI"
          ],
          [
           "Van Ginkel, Andrew",
           "MIA"
          ],
          [
           "Young, Kenny",
           "DEN"
          ],
          [
           "Reeves-Maybin, Jalen",
           "DET"
          ],
          [
           "Barnes, Krys",
           "GBP"
          ],
          [
           "Vigil, Nick",
           "MIN"
          ],
          [
           "Ojulari, Azeez",
           "NYG"
          ],
          [
           "Cunningham, Zach",
           "TEN"
          ],
          [
           "Long, David",
           "TEN"
          ],
          [
           "Bush, Devin",
           "PIT"
          ],
          [
           "Barr, Anthony",
           "MIN"
          ],
          [
           "Tranquill, Drue",
           "LAC"
          ],
          [
           "Bynes, Josh",
           "BAL"
          ],
          [
           "Jones, Ernest",
           "LAR"
          ],
          [
           "Vander Esch, Leighton",
           "DAL"
          ],
          [
           "Hitchens, Anthony",
           "KCC"
          ],
          [
           "Miller, Von",
           "LAR"
          ],
          [
           "Carter, Jermaine",
           "CAR"
          ],
          [
           "Davis, Jamin",
           "WAS"
          ],
          [
           "Reed, Malik",
           "DEN"
          ],
          [
           "Alexander, Kwon",
           "NOS"
          ],
          [
           "Oweh, Jayson",
           "BAL"
          ],
          [
           "Hightower, Dont'a",
           "NEP"
          ],
          [
           "Evans, Rashaan",
           "TEN"
          ],
          [
           "Carter, Lorenzo",
           "NYG"
          ],
          [
           "Neal, Keanu",
           "DAL"
          ],
          [
           "Ragland, Reggie",
           "NYG"
          ],
          [
           "Niemann, Ben",
           "KCC"
          ],
          [
           "Barnes, Derrick",
           "DET"
          ],
          [
           "Nwosu, Uchenna",
           "LAC"
          ],
          [
           "Smith, Malcolm",
           "CLE"
          ],
          [
           "Ebukam, Samson",
           "SFO"
          ],
          [
           "Brown, Jayon",
           "TEN"
          ],
          [
           "Luvu, Frankie",
           "CAR"
          ],
          [
           "Werner, Pete",
           "NOS"
          ],
          [
           "Gay, Willie",
           "KCC"
          ],
          [
           "Houston, Justin",
           "BAL"
          ],
          [
           "Hewitt, Neville",
           "HOU"
          ],
          [
           "Roche, Quincy",
           "NYG"
          ],
          [
           "Lynch, Blake",
           "MIN"
          ],
          [
           "Browning, Baron",
           "DEN"
          ],
          [
           "Martin, Jake",
           "HOU"
          ],
          [
           "Mack, Khalil",
           "CHI"
          ],
          [
           "Klein, A.J.",
           "BUF"
          ],
          [
           "Speed, E.J.",
           "IND"
          ],
          [
           "Taylor, Davion",
           "PHI"
          ],
          [
           "Johnson, Alexander",
           "DEN"
          ],
          [
           "Cooper, Jonathon",
           "DEN"
          ],
          [
           "Spillane, Robert",
           "PIT"
          ],
          [
           "Wilson, Eric",
           "HOU"
          ],
          [
           "Takitaki, Sione",
           "CLE"
          ],
          [
           "Franklin, Zaire",
           "IND"
          ],
          [
           "Avery, Genard",
           "PHI"
          ],
          [
           "Walker, Mykal",
           "ATL"
          ],
          [
           "Tryon, Joe",
           "TBB"
          ],
          [
           "Lewis, Terrell",
           "LAR"
          ],
          [
           "Wright, K.J.",
           "LVR"
          ],
          [
           "Wilson, Mack",
           "CLE"
          ],
          [
           "Griffith, Jonas",
           "DEN"
          ],
          [
           "Smith, Jaylon",
           "NYG"
          ],
          [
           "Nelson, Anthony",
           "TBB"
          ],
          [
           "Minter, Kevin",
           "TBB"
          ],
          [
           "Collins, Jamie",
           "NEP"
          ],
          [
           "Davis-Gaither, Akeem",
           "CIN"
          ],
          [
           "Strnad, Justin",
           "DEN"
          ],
          [
           "Hollins, Justin",
           "LAR"
          ],
          [
           "Burks, Oren",
           "GBP"
          ],
          [
           "Fackrell, Kyler",
           "LAC"
          ],
          [
           "Dupree, Bud",
           "TEN"
          ],
          [
           "Copeland, Brandon",
           "ATL"
          ],
          [
           "Rice, Monty",
           "TEN"
          ],
          [
           "Adeniyi, Ola",
           "TEN"
          ],
          [
           "Board, Chris",
           "BAL"
          ],
          [
           "Okoronkwo, Ogbonnia",
           "LAR"
          ],
          [
           "Phillips, Del'Shawn",
           "NYJ"
          ],
          [
           "Baun, Zack",
           "NOS"
          ],
          [
           "Ogbongbemiga, Amen",
           "LAC"
          ],
          [
           "Bachie, Joe",
           "CIN"
          ],
          [
           "Woods, Josh",
           "DET"
          ],
          [
           "Mayo, David",
           "WAS"
          ],
          [
           "Toohill, Casey",
           "WAS"
          ],
          [
           "Bailey, Markus",
           "CIN"
          ],
          [
           "Ingram, Melvin",
           "KCC"
          ],
          [
           "McKinney, Benardrick",
           "NYG"
          ],
          [
           "Quarterman, Shaquille",
           "JAC"
          ],
          [
           "Wallow, Garret",
           "HOU"
          ],
          [
           "Barton, Cody",
           "SEA"
          ],
          [
           "Davis, Jarrad",
           "NYJ"
          ],
          [
           "Uche, Josh",
           "NEP"
          ],
          [
           "Niemann, Nick",
           "LAC"
          ],
          [
           "Kwiatkoski, Nick",
           "LVR"
          ],
          [
           "Collins, Zaven",
           "ARI"
          ],
          [
           "Murray, Kenneth",
           "LAC"
          ],
          [
           "Riley, Duke",
           "MIA"
          ],
          [
           "Matakevich, Tyler",
           "BUF"
          ],
          [
           "Gardeck, Dennis",
           "ARI"
          ],
          [
           "Kennard, Devon",
           "ARI"
          ],
          [
           "Harrison, Malik",
           "BAL"
          ],
          [
           "Flannigan-Fowles, Demetrius",
           "SFO"
          ],
          [
           "Jones, Christian",
           "CHI"
          ],
          [
           "Garvin, Jonathan",
           "GBP"
          ],
          [
           "Bostic, Jon",
           "WAS"
          ],
          [
           "Martinez, Blake",
           "NYG"
          ],
          [
           "Chubb, Bradley",
           "DEN"
          ],
          [
           "McPhee, Pernell",
           "BAL"
          ],
          [
           "Greenlaw, Dre",
           "SFO"
          ],
          [
           "Howard, Travin",
           "LAR"
          ],
          [
           "Cabinda, Jason",
           "DET"
          ],
          [
           "Cole, Dylan",
           "TEN"
          ],
          [
           "Elliss, Kaden",
           "NOS"
          ],
          [
           "Roberson, Derick",
           "TEN"
          ],
          [
           "Gilbert, Ulysees",
           "PIT"
          ],
          [
           "Gill, Cam",
           "TBB"
          ],
          [
           "Bradley, Shaun",
           "PHI"
          ],
          [
           "Eguavoen, Sam",
           "MIA"
          ],
          [
           "Dowell, Andrew",
           "NOS"
          ],
          [
           "Johnston, Clay",
           "CIN"
          ],
          [
           "Stanford, Julian",
           "CAR"
          ],
          [
           "Stuard, Grant",
           "TBB"
          ],
          [
           "Kiser, Micah",
           "DEN"
          ],
          [
           "Russell, Chapelle",
           "JAC"
          ],
          [
           "Vaughters, James",
           "ATL"
          ],
          [
           "Pittman, Anthony",
           "DET"
          ],
          [
           "Trevathan, Danny",
           "CHI"
          ],
          [
           "Dodson, Tyrel",
           "BUF"
          ],
          [
           "Lee, Elijah",
           "CLE"
          ],
          [
           "Adams, Matthew",
           "IND"
          ],
          [
           "Dye, Troy",
           "MIN"
          ],
          [
           "Smith, Chris",
           "HOU"
          ],
          [
           "Scarlett, Brennan",
           "MIA"
          ],
          [
           "Jewell, Josey",
           "DEN"
          ],
          [
           "Sherwood, Jamien",
           "NYJ"
          ],
          [
           "Rhattigan, Jon",
           "SEA"
          ],
          [
           "Tavai, Jahlani",
           "NEP"
          ],
          [
           "Galeai, Tipa",
           "GBP"
          ],
          [
           "Thomas, Joe",
           "FA"
          ],
          [
           "Vallejo, Tanner",
           "ARI"
          ],
          [
           "Pierre-Louis, Kevin",
           "HOU"
          ],
          [
           "Allen, Dakota",
           "JAC"
          ],
          [
           "Summers, Ty",
           "GBP"
          ],
          [
           "Dzubnar, Nick",
           "TEN"
          ],
          [
           "Odenigbo, Ifeadi",
           "CLE"
          ],
          [
           "Munson, Calvin",
           "MIA"
          ],
          [
           "Gifford, Luke",
           "DAL"
          ],
          [
           "Gustin, Porter",
           "CLE"
          ],
          [
           "Marsh, Cassius",
           "CHI"
          ],
          [
           "Jones, Jamir",
           "JAC"
          ],
          [
           "Lee, Marquel",
           "LVR"
          ],
          [
           "Walker, Joe",
           "ARI"
          ],
          [
           "Winovich, Chase",
           "NEP"
          ],
          [
           "Welch, Kristian",
           "BAL"
          ],
          [
           "Smith, Andre",
           "BUF"
          ],
          [
           "Phillips, Jacob",
           "CLE"
          ],
          [
           "Brown, Cam",
           "NYG"
          ],
          [
           "Kamara, Sam",
           "CHI"
          ],
          [
           "Iyiegbuniwe, Joel",
           "CHI"
          ],
          [
           "Johnson, Caleb",
           "CHI"
          ],
          [
           "King, Brandon",
           "NEP"
          ],
          [
           "Ray, Wyatt",
           "CIN"
          ],
          [
           "Britt, K.J.",
           "TBB"
          ],
          [
           "Hudson, Khaleke",
           "WAS"
          ],
          [
           "Bower, Tashawn",
           "MIN"
          ],
          [
           "Nasirildeen, Hamsah",
           "NYJ"
          ],
          [
           "O'Daniel, Dorian",
           "KCC"
          ],
          [
           "Adams, Tyrell",
           "JAC"
          ],
          [
           "Bates, Daren",
           "ATL"
          ],
          [
           "Glasgow, Jordan",
           "IND"
          ],
          [
           "Ferguson, Jaylon",
           "BAL"
          ],
          [
           "Coughlin, Carter",
           "NYG"
          ],
          [
           "Evans, Jordan",
           "CIN"
          ],
          [
           "Jones, Joseph",
           "TEN"
          ],
          [
           "Kunaszyk, Jordan",
           "WAS"
          ],
          [
           "Turner, Zeke",
           "ARI"
          ],
          [
           "Cashman, Blake",
           "NYJ"
          ],
          [
           "Fields, Tony",
           "CLE"
          ],
          [
           "Muse, Tanner",
           "SEA"
          ],
          [
           "Rozeboom, Christian",
           "LAR"
          ],
          [
           "Bernard, Francis",
           "DAL"
          ],
          [
           "Connelly, Ryan",
           "MIN"
          ],
          [
           "Hamilton, La'Darius",
           "GBP"
          ],
          [
           "Kamara, Azur",
           "CAR"
          ],
          [
           "Cox, Jabril",
           "DAL"
          ],
          [
           "Fitts, Kylie",
           "ARI"
          ],
          [
           "Johnson, Buddy",
           "PIT"
          ],
          [
           "Langi, Harvey",
           "NEP"
          ],
          [
           "Martin, Kamal",
           "CAR"
          ],
          [
           "Nickerson, Hardy",
           "HOU"
          ],
          [
           "Attaochu, Jeremiah",
           "CHI"
          ],
          [
           "Biegel, Vince",
           "MIA"
          ],
          [
           "Dimukeje, Victor",
           "ARI"
          ],
          [
           "Egbule, Emeke",
           "LAC"
          ],
          [
           "Giles-Harris, Joe",
           "BUF"
          ],
          [
           "Nzeocha, Mark",
           "SFO"
          ],
          [
           "Christiansen, Cole",
           "LAC"
          ],
          [
           "Harris, Darius",
           "KCC"
          ],
          [
           "McDuffie, Isaiah",
           "GBP"
          ],
          [
           "Smith, Jordan",
           "JAC"
          ],
          [
           "Smith, Za'Darius",
           "GBP"
          ],
          [
           "Etheridge, Dorian",
           "ATL"
          ],
          [
           "Lawler, Justin",
           "FA"
          ],
          [
           "Bell, Quinton",
           "ATL"
          ],
          [
           "Compton, Will",
           "FA"
          ],
          [
           "Davis, Tae",
           "HOU"
          ],
          [
           "Garrett, Chris",
           "LAR"
          ],
          [
           "Hayes, Daelin",
           "BAL"
          ],
          [
           "Hilliard, Justin",
           "NYG"
          ],
          [
           "Jefferson, Malik",
           "IND"
          ],
          [
           "March, Justin",
           "LVR"
          ],
          [
           "McGrone, Cameron",
           "NEP"
          ],
          [
           "Moses, Dylan",
           "JAC"
          ],
          [
           "Onwuasor, Patrick",
           "LVR"
          ],
          [
           "Snowden, Charles",
           "CHI"
          ],
          [
           "Surratt, Chazz",
           "MIN"
          ],
          [
           "White, Javin",
           "NYJ"
          ],
          [
           "Whitehead, Tahir",
           "FA"
          ],
          [
           "Williamson, Avery",
           "FA"
          ]
         ],
         "hovertemplate": "Position=LB<br>Salary=%{x}<br>Pts=%{y}<br>Player=%{customdata[0]}<br>Team=%{customdata[1]}<extra></extra>",
         "legendgroup": "LB",
         "marker": {
          "color": "#FFA15A",
          "symbol": "circle"
         },
         "mode": "markers",
         "name": "LB",
         "showlegend": true,
         "type": "scattergl",
         "x": [
          110.29,
          113.55,
          74.65,
          37.32,
          113.55,
          55.15,
          110.29,
          205.2,
          20.74,
          30,
          12,
          56.78,
          99.6,
          102,
          113.55,
          12.46,
          86.41,
          66,
          76.73,
          24.89,
          12,
          32.82,
          11.52,
          12,
          14.4,
          1.44,
          24.89,
          20.74,
          86.41,
          110.29,
          1,
          44.78,
          86.41,
          113.55,
          113.55,
          27.36,
          60,
          22.8,
          17.28,
          24.89,
          74.65,
          96,
          54.74,
          86.41,
          14.4,
          1,
          65.69,
          31.1,
          86.41,
          1.44,
          86.4,
          1,
          12,
          12,
          17.28,
          30,
          17.28,
          36,
          1,
          12,
          14.4,
          24.48,
          84,
          20.74,
          14.4,
          55.15,
          12,
          76.73,
          1,
          12,
          1,
          14.4,
          37.32,
          1,
          109.44,
          21.6,
          30,
          12,
          36,
          14.4,
          156,
          37.32,
          24.89,
          1,
          1,
          10.08,
          14.4,
          14.4,
          1,
          65.69,
          17.28,
          3.46,
          14.4,
          17.28,
          1,
          55.15,
          2.4,
          1,
          14.4,
          4.8,
          1,
          1,
          12,
          10.37,
          14.4,
          2.4,
          21.6,
          55.15,
          12,
          1,
          7.2,
          12,
          14.4,
          8.64,
          147.11,
          12,
          12.96,
          110.29,
          1,
          1,
          1,
          8.64,
          10,
          1.44,
          14.4,
          20.74,
          1,
          1,
          7.2,
          1.73,
          15.55,
          14.4,
          1,
          20.74,
          1,
          1.44,
          1,
          7.2,
          53.28,
          10,
          152.77,
          110.29,
          1.44,
          4.8,
          1,
          1,
          8.64,
          4.8,
          16.58,
          30,
          32.83,
          17.28,
          1,
          3.6,
          1,
          8.64,
          1,
          1,
          1.44,
          91.2,
          110.29,
          49.76,
          1,
          12,
          33.6,
          1,
          1,
          15.84,
          1,
          1.73,
          1,
          5.76,
          27.65,
          1.2,
          1,
          1,
          13.2,
          1,
          1.2,
          1.73,
          1,
          1,
          1,
          1.2,
          1,
          5.76,
          1,
          24.48,
          14.4,
          7.2,
          1,
          12.44,
          1,
          1,
          1.73,
          26.4,
          34.56,
          12,
          1,
          129.6,
          1,
          1,
          1,
          1,
          1.2,
          1,
          1,
          24.89,
          1,
          1,
          8.64,
          1,
          1,
          4.8,
          1,
          1,
          1,
          2.4,
          1.44,
          1.44,
          7.2,
          1,
          1,
          1,
          1.2,
          12,
          1,
          8.4,
          1.73,
          1,
          1,
          12,
          4.8,
          5.76,
          1,
          1,
          1,
          1,
          1,
          14.4,
          1,
          7.2,
          1.44,
          1,
          1,
          1.44,
          1,
          1.2,
          31.1,
          1,
          1.73,
          1,
          1,
          2.4,
          2.4,
          86.41,
          1,
          1,
          1,
          1,
          1,
          1.2,
          2.4,
          1.2,
          1.2,
          1.73,
          4.8,
          2.4,
          1,
          1,
          7.2,
          1.44,
          1,
          30
         ],
         "xaxis": "x",
         "y": [
          246.3,
          223.5,
          221.15,
          217.8,
          217.8,
          217.7,
          212.4,
          212.05,
          206.15,
          204.9,
          197.7,
          197.05,
          191.35,
          186.95,
          182.9,
          182.8,
          182.5,
          181.1,
          180.5,
          167.25,
          167.15,
          163.7,
          163.35,
          161.3,
          157.5,
          155.05,
          154.15,
          152.7,
          150.4,
          148.55,
          147.65,
          146.05,
          146,
          145.95,
          143.8,
          139.8,
          138.7,
          136,
          136,
          135.6,
          134.95,
          134.9,
          134.25,
          133.1,
          132,
          131.2,
          123.55,
          123.15,
          122.25,
          120.85,
          119.85,
          118,
          115.95,
          115.55,
          113.95,
          113,
          111.85,
          111.8,
          111.75,
          110.65,
          110.2,
          109,
          108.9,
          108.8,
          105.1,
          103.25,
          101.8,
          101.35,
          96.7,
          96.55,
          96.2,
          94.05,
          93.4,
          93.25,
          93.25,
          90.75,
          90.15,
          89.2,
          87.9,
          87,
          86.95,
          86.55,
          86.1,
          84.45,
          82,
          81.3,
          81,
          79.95,
          77.3,
          75.05,
          74.6,
          74,
          73.5,
          68.15,
          67.25,
          64.5,
          62.9,
          62.7,
          62.5,
          62,
          61.9,
          60.6,
          59.1,
          58.75,
          57.7,
          57.65,
          57,
          55.85,
          55.75,
          55.15,
          54.6,
          54.25,
          54.15,
          50.55,
          50.25,
          48,
          47.75,
          47.05,
          46.25,
          45.9,
          44.9,
          44.75,
          44.25,
          43.8,
          43.4,
          41.4,
          41.35,
          41,
          40.75,
          40.35,
          39.75,
          39.6,
          39.3,
          39,
          38.05,
          37,
          36.75,
          36.5,
          36.25,
          35.55,
          34.5,
          34.5,
          34.5,
          32.7,
          32.5,
          32.25,
          32.1,
          31.5,
          31.3,
          30.75,
          30.75,
          30.5,
          30,
          29.75,
          29.5,
          29.25,
          28.5,
          27.75,
          26,
          25.5,
          25.5,
          25.3,
          24.95,
          24.45,
          24.45,
          24.25,
          24,
          23.85,
          23.75,
          23.7,
          23,
          22.75,
          21.65,
          21.5,
          21.5,
          21.5,
          21.5,
          21,
          21,
          21,
          20.5,
          20.25,
          18.75,
          18.75,
          18.5,
          18,
          17.6,
          17.5,
          17.25,
          17.25,
          17,
          17,
          16.6,
          16.5,
          16.5,
          15.5,
          14.75,
          14.75,
          14.25,
          14,
          13.5,
          13.25,
          13.25,
          12.9,
          12.75,
          12.75,
          12.75,
          12.75,
          12,
          11.75,
          11.5,
          11.25,
          11.25,
          11,
          11,
          10.5,
          10.5,
          9.75,
          9.75,
          9.7,
          9,
          8.25,
          8,
          7.5,
          7.5,
          6.75,
          6,
          6,
          6,
          5.25,
          5.25,
          4.5,
          4.5,
          4.5,
          4.5,
          3.75,
          3.75,
          3.75,
          3.75,
          3,
          3,
          3,
          3,
          3,
          3,
          2.25,
          2.25,
          2.25,
          2.25,
          2.25,
          2.25,
          1.5,
          1.5,
          1.5,
          1.5,
          1.5,
          0.75,
          0.75,
          0,
          0,
          0,
          0,
          0,
          0,
          0,
          0,
          0,
          0,
          0,
          0,
          0,
          0,
          0,
          0
         ],
         "yaxis": "y"
        },
        {
         "customdata": [
          [
           "Raiders, Las Vegas",
           "LVR"
          ],
          [
           "Seahawks, Seattle",
           "SEA"
          ],
          [
           "Texans, Houston",
           "HOU"
          ],
          [
           "Saints, New Orleans",
           "NOS"
          ],
          [
           "Cowboys, Dallas",
           "DAL"
          ],
          [
           "Lions, Detroit",
           "DET"
          ],
          [
           "Jaguars, Jacksonville",
           "JAC"
          ],
          [
           "FootballTeam, Washington",
           "WAS"
          ],
          [
           "Vikings, Minnesota",
           "MIN"
          ],
          [
           "Broncos, Denver",
           "DEN"
          ],
          [
           "Dolphins, Miami",
           "MIA"
          ],
          [
           "Cardinals, Arizona",
           "ARI"
          ],
          [
           "Jets, New York",
           "NYJ"
          ],
          [
           "Ravens, Baltimore",
           "BAL"
          ],
          [
           "Bears, Chicago",
           "CHI"
          ],
          [
           "Packers, Green Bay",
           "GBP"
          ],
          [
           "Giants, New York",
           "NYG"
          ],
          [
           "Colts, Indianapolis",
           "IND"
          ],
          [
           "Patriots, New England",
           "NEP"
          ],
          [
           "Bengals, Cincinnati",
           "CIN"
          ],
          [
           "Falcons, Atlanta",
           "ATL"
          ],
          [
           "Titans, Tennessee",
           "TEN"
          ],
          [
           "Steelers, Pittsburgh",
           "PIT"
          ],
          [
           "Chiefs, Kansas City",
           "KCC"
          ],
          [
           "Rams, Los Angeles",
           "LAR"
          ],
          [
           "Browns, Cleveland",
           "CLE"
          ],
          [
           "49ers, San Francisco",
           "SFO"
          ],
          [
           "Buccaneers, Tampa Bay",
           "TBB"
          ],
          [
           "Panthers, Carolina",
           "CAR"
          ],
          [
           "Eagles, Philadelphia",
           "PHI"
          ],
          [
           "Bills, Buffalo",
           "BUF"
          ],
          [
           "Chargers, Los Angeles",
           "LAC"
          ]
         ],
         "hovertemplate": "Position=TMPN<br>Salary=%{x}<br>Pts=%{y}<br>Player=%{customdata[0]}<br>Team=%{customdata[1]}<extra></extra>",
         "legendgroup": "TMPN",
         "marker": {
          "color": "#19d3f3",
          "symbol": "circle"
         },
         "mode": "markers",
         "name": "TMPN",
         "showlegend": true,
         "type": "scattergl",
         "x": [
          7.69,
          8.64,
          1,
          1.2,
          1,
          1,
          4.36,
          1,
          1.44,
          1,
          4.36,
          1.44,
          1,
          1,
          1.73,
          1.73,
          3.6,
          1.73,
          3.6,
          1,
          1,
          1.2,
          3.46,
          1.44,
          3.46,
          14.4,
          1,
          1.73,
          1.73,
          18,
          4.62,
          1.73
         ],
         "xaxis": "x",
         "y": [
          235,
          228.2,
          214.6,
          214.25,
          202.8,
          202.62,
          187.6,
          186.2,
          185.4,
          182.8,
          178.8,
          177.8,
          176.6,
          174.8,
          174.2,
          172.4,
          171.65,
          168.4,
          168.2,
          167.8,
          167.6,
          162.8,
          161.8,
          160.49,
          159.88,
          159.4,
          159,
          153.8,
          152.2,
          142.4,
          132,
          109.85
         ],
         "yaxis": "y"
        },
        {
         "customdata": [
          [
           "Donald, Aaron",
           "LAR"
          ],
          [
           "Wilkins, Christian",
           "MIA"
          ],
          [
           "Buckner, DeForest",
           "IND"
          ],
          [
           "Simmons, Jeffery",
           "TEN"
          ],
          [
           "Hargrave, Javon",
           "PHI"
          ],
          [
           "Allen, Jonathan",
           "WAS"
          ],
          [
           "Williams, Quinnen",
           "NYJ"
          ],
          [
           "Ogunjobi, Larry",
           "CIN"
          ],
          [
           "Johnson, Austin",
           "NYG"
          ],
          [
           "Jones, Chris",
           "KCC"
          ],
          [
           "Hill, B.J.",
           "CIN"
          ],
          [
           "Payne, Da'Ron",
           "WAS"
          ],
          [
           "Jones, D.J.",
           "SFO"
          ],
          [
           "Clark, Kenny",
           "GBP"
          ],
          [
           "Watts, Armon",
           "MIN"
          ],
          [
           "Tillery, Jerry",
           "LAC"
          ],
          [
           "Jarrett, Grady",
           "ATL"
          ],
          [
           "Robinson, A'Shawn",
           "LAR"
          ],
          [
           "Cox, Fletcher",
           "PHI"
          ],
          [
           "Jefferson, Quinton",
           "LVR"
          ],
          [
           "Godchaux, Davon",
           "NEP"
          ],
          [
           "Lawrence, Dexter",
           "NYG"
          ],
          [
           "Brown, Derrick",
           "CAR"
          ],
          [
           "Nichols, Bilal",
           "CHI"
          ],
          [
           "Reed, Jarran",
           "KCC"
          ],
          [
           "Covington, Christian",
           "LAC"
          ],
          [
           "Brown, Malcom",
           "JAC"
          ],
          [
           "Joseph, Linval",
           "LAC"
          ],
          [
           "Woods, Al",
           "SEA"
          ],
          [
           "Richardson, Sheldon",
           "MIN"
          ],
          [
           "Oliver, Ed",
           "BUF"
          ],
          [
           "Thomas, Solomon",
           "LVR"
          ],
          [
           "Vea, Vita",
           "TBB"
          ],
          [
           "Suh, Ndamukong",
           "TBB"
          ],
          [
           "Phillips, Harrison",
           "BUF"
          ],
          [
           "Joseph-Day, Sebastian",
           "LAR"
          ],
          [
           "Robertson-Harris, Roy",
           "JAC"
          ],
          [
           "Brockers, Michael",
           "DET"
          ],
          [
           "Stewart, Grover",
           "IND"
          ],
          [
           "Reader, D.J.",
           "CIN"
          ],
          [
           "Hamilton, Davon",
           "JAC"
          ],
          [
           "McDowell, Malik",
           "CLE"
          ],
          [
           "Ford, Poona",
           "SEA"
          ],
          [
           "Barmore, Christian",
           "NEP"
          ],
          [
           "Watkins, Carlos",
           "DAL"
          ],
          [
           "Madubuike, Justin",
           "BAL"
          ],
          [
           "Wharton, Tershawn",
           "KCC"
          ],
          [
           "Nnadi, Derrick",
           "KCC"
          ],
          [
           "Tuttle, Shy",
           "NOS"
          ],
          [
           "Ioannidis, Matt",
           "WAS"
          ],
          [
           "Odighizuwa, Osa",
           "DAL"
          ],
          [
           "Rankins, Sheldon",
           "NYJ"
          ],
          [
           "Jones, Justin",
           "LAC"
          ],
          [
           "Fatukasi, Foley",
           "NYJ"
          ],
          [
           "Jones, Naquan",
           "TEN"
          ],
          [
           "Mone, Bryan",
           "SEA"
          ],
          [
           "Williams, DeShawn",
           "DEN"
          ],
          [
           "Tomlinson, Dalvin",
           "MIN"
          ],
          [
           "Gotsis, Adam",
           "JAC"
          ],
          [
           "McNeill, Alim",
           "DET"
          ],
          [
           "Jones, DaQuan",
           "CAR"
          ],
          [
           "Onwuzurike, Levi",
           "DET"
          ],
          [
           "Collins, Maliek",
           "HOU"
          ],
          [
           "Pierce, Michael",
           "MIN"
          ],
          [
           "Williams, Milton",
           "PHI"
          ],
          [
           "Onyemata, David",
           "NOS"
          ],
          [
           "Lynch, James",
           "MIN"
          ],
          [
           "Blacklock, Ross",
           "HOU"
          ],
          [
           "Hankins, Johnathan",
           "LVR"
          ],
          [
           "Lopez, Roy",
           "HOU"
          ],
          [
           "Davidson, Marlon",
           "ATL"
          ],
          [
           "Purcell, Mike",
           "DEN"
          ],
          [
           "Lotulelei, Star",
           "BUF"
          ],
          [
           "Williams, Brandon",
           "BAL"
          ],
          [
           "Ridgeway, Hassan",
           "PHI"
          ],
          [
           "Stallworth, Taylor",
           "IND"
          ],
          [
           "Roy, Bravvion",
           "CAR"
          ],
          [
           "Slaton, Tedarrell",
           "GBP"
          ],
          [
           "Shelton, Danny",
           "NYG"
          ],
          [
           "Butler, Adam",
           "MIA"
          ],
          [
           "Williams, Nick",
           "DET"
          ],
          [
           "Davis, Raekwon",
           "MIA"
          ],
          [
           "Bryan, Taven",
           "JAC"
          ],
          [
           "Davison, Tyeler",
           "ATL"
          ],
          [
           "Goldman, Eddie",
           "CHI"
          ],
          [
           "Jackson, Malik",
           "CLE"
          ],
          [
           "Davis, Carl",
           "NEP"
          ],
          [
           "Shepherd, Nathan",
           "NYJ"
          ],
          [
           "Day, Sheldon",
           "CLE"
          ],
          [
           "Elliott, Jordan",
           "CLE"
          ],
          [
           "Johnson, Jaleel",
           "HOU"
          ],
          [
           "Fotu, Leki",
           "ARI"
          ],
          [
           "Tonga, Khyiris",
           "CHI"
          ],
          [
           "Rush, Anthony",
           "ATL"
          ],
          [
           "Washington, Broderick",
           "BAL"
          ],
          [
           "Peters, Corey",
           "ARI"
          ],
          [
           "Pennel, Mike",
           "ATL"
          ],
          [
           "Givens, Kevin",
           "SFO"
          ],
          [
           "Jenkins, John",
           "MIA"
          ],
          [
           "Tart, Teair",
           "TEN"
          ],
          [
           "Mclendon, Steve",
           "TBB"
          ],
          [
           "Ellis, Justin",
           "BAL"
          ],
          [
           "Ekuale, Daniel",
           "FA"
          ],
          [
           "Ankou, Eli",
           "BUF"
          ],
          [
           "Buggs, Isaiah",
           "FA"
          ],
          [
           "Settle, Tim",
           "WAS"
          ],
          [
           "Togiai, Tommy",
           "CLE"
          ],
          [
           "Gallimore, Neville",
           "DAL"
          ],
          [
           "Nkemdiche, Robert",
           "SEA"
          ],
          [
           "Bronson, Josiah",
           "DAL"
          ],
          [
           "Huggins, Albert",
           "NOS"
          ],
          [
           "Nunez-Roches, Rakeem",
           "TBB"
          ],
          [
           "Penisini, John",
           "DET"
          ],
          [
           "Zimmer, Justin",
           "BUF"
          ],
          [
           "Agim, McTelvin",
           "DEN"
          ],
          [
           "Butler, Vernon",
           "BUF"
          ],
          [
           "Lawrence, Rashard",
           "ARI"
          ],
          [
           "Roach, Malcolm",
           "NOS"
          ],
          [
           "Graham, Ta'Quon",
           "ATL"
          ],
          [
           "Hamilton, Justin",
           "DEN"
          ],
          [
           "Square, Damion",
           "CIN"
          ],
          [
           "Hill, Trysten",
           "DAL"
          ],
          [
           "Tupou, Josh",
           "CIN"
          ],
          [
           "Hoskins, Phil",
           "CAR"
          ],
          [
           "Copeland, Marquise",
           "LAR"
          ],
          [
           "Kinlaw, Javon",
           "SFO"
          ],
          [
           "Nixon, Daviyon",
           "CAR"
          ],
          [
           "Bohanna, Quinton",
           "DAL"
          ],
          [
           "Hoecht, Michael",
           "LAR"
          ],
          [
           "Saunders, Khalen",
           "KCC"
          ],
          [
           "Strong, Kevin",
           "TEN"
          ],
          [
           "Kerr, Zach",
           "CIN"
          ],
          [
           "Alualu, Tyson",
           "PIT"
          ],
          [
           "Woods, Antwaun",
           "IND"
          ],
          [
           "Adams, Myles",
           "SEA"
          ],
          [
           "Akinmoladun, Freedom",
           "FA"
          ],
          [
           "Hand, Da'Shawn",
           "TEN"
          ],
          [
           "Hurst, Maurice",
           "SFO"
          ],
          [
           "Tuipulotu, Marlon",
           "PHI"
          ],
          [
           "Urban, Brent",
           "DAL"
          ],
          [
           "Marshall, Jonathan",
           "NYJ"
          ],
          [
           "Taylor, Vincent",
           "HOU"
          ],
          [
           "Brown, Andrew",
           "LAC"
          ],
          [
           "Costin, Doug",
           "FA"
          ],
          [
           "Billings, Andrew",
           "FA"
          ],
          [
           "Brown, Bobby",
           "LAR"
          ],
          [
           "Tufele, Jay",
           "JAC"
          ],
          [
           "Williams, Xavier",
           "FA"
          ],
          [
           "Daniels, Mike",
           "CIN"
          ],
          [
           "Davis, Khalil",
           "PIT"
          ],
          [
           "McCoy, Gerald",
           "LVR"
          ],
          [
           "McGill, T.Y.",
           "FA"
          ],
          [
           "Shelvin, Tyler",
           "CIN"
          ],
          [
           "Vickers, Kendal",
           "LVR"
          ]
         ],
         "hovertemplate": "Position=DT<br>Salary=%{x}<br>Pts=%{y}<br>Player=%{customdata[0]}<br>Team=%{customdata[1]}<extra></extra>",
         "legendgroup": "DT",
         "marker": {
          "color": "#FF6692",
          "symbol": "circle"
         },
         "mode": "markers",
         "name": "DT",
         "showlegend": true,
         "type": "scattergl",
         "x": [
          99.3,
          12.44,
          62.88,
          12,
          1,
          55.43,
          24.89,
          27.72,
          1.44,
          55.43,
          14.4,
          24.89,
          3.46,
          1,
          12,
          12,
          55.43,
          30.24,
          1,
          1,
          8.4,
          12,
          8.64,
          27.6,
          59.04,
          1,
          1.2,
          53.92,
          1,
          1,
          39.4,
          29.93,
          1,
          1,
          1,
          51.6,
          13.82,
          1,
          5.76,
          1,
          33.12,
          1,
          11.52,
          14.4,
          1,
          1.44,
          1,
          14.4,
          10.08,
          1,
          2.4,
          9.6,
          1,
          12,
          1,
          1.44,
          1,
          17.28,
          1,
          2.4,
          5.76,
          4.8,
          1.2,
          14.4,
          4.8,
          1,
          1,
          5.76,
          9.6,
          4.8,
          1.44,
          1,
          1.73,
          1,
          1,
          1,
          15.84,
          1.2,
          14.4,
          8.64,
          1.73,
          1.44,
          1,
          1,
          1,
          1,
          1.2,
          14.4,
          1.44,
          1,
          14.4,
          31.68,
          1,
          1,
          8.64,
          1,
          1,
          1,
          1.44,
          1.44,
          1,
          1,
          1,
          1,
          12,
          14.4,
          1.2,
          10,
          1,
          1,
          1,
          1,
          1.44,
          1,
          1.2,
          15.84,
          2.4,
          1.2,
          1.2,
          1,
          1,
          7.2,
          1,
          1,
          1,
          8.64,
          4.8,
          1.2,
          1.2,
          20.74,
          1,
          1,
          12,
          12,
          1.2,
          1,
          1,
          14.4,
          1.2,
          1,
          1.2,
          1,
          6.22,
          1,
          1,
          2.4,
          1.2,
          1,
          1,
          1,
          1,
          1,
          2.4,
          1
         ],
         "xaxis": "x",
         "y": [
          232.2,
          168.15,
          158.1,
          155.1,
          151.9,
          150.6,
          131,
          130.3,
          126.7,
          124,
          120.6,
          119.8,
          111.8,
          109.2,
          108.8,
          106.6,
          106.2,
          105.2,
          104.3,
          101.3,
          99.4,
          97.8,
          93.6,
          93.35,
          92.7,
          92.2,
          91.6,
          91,
          90.5,
          89.9,
          89.8,
          87.9,
          87.4,
          86.6,
          86,
          82.6,
          82.6,
          82,
          79.4,
          79,
          78.4,
          75.4,
          74.3,
          74,
          71.05,
          71,
          70.6,
          70,
          70,
          69.1,
          69,
          69,
          68.8,
          68,
          67.4,
          64.7,
          64.6,
          64.4,
          64,
          63.6,
          63.4,
          63.4,
          63.2,
          59,
          55.8,
          55.7,
          55.6,
          55.2,
          53,
          52.4,
          51.75,
          48,
          47.6,
          46,
          45.8,
          45.6,
          45,
          44.9,
          44.1,
          43.6,
          42.8,
          41.1,
          40.2,
          40,
          39.8,
          39.8,
          37.8,
          37,
          36.7,
          36.4,
          36,
          34,
          33,
          32,
          32,
          31.2,
          29,
          26,
          26,
          26,
          24.3,
          24,
          23.6,
          23.4,
          23,
          23,
          23,
          21.3,
          21,
          20,
          19,
          19,
          19,
          18,
          17.4,
          17,
          17,
          16.25,
          16,
          16,
          15.3,
          15,
          15,
          14.6,
          14,
          14,
          14,
          13,
          13,
          10,
          9,
          8,
          7,
          7,
          5,
          4,
          4,
          4,
          4,
          4,
          3,
          3,
          2,
          2,
          1,
          1,
          1,
          1,
          0,
          0,
          0,
          0,
          0,
          0
         ],
         "yaxis": "y"
        },
        {
         "customdata": [
          [
           "Bosa, Nick",
           "SFO"
          ],
          [
           "Heyward, Cameron",
           "PIT"
          ],
          [
           "Garrett, Myles",
           "CLE"
          ],
          [
           "Reddick, Haason",
           "CAR"
          ],
          [
           "Jordan, Cameron",
           "NOS"
          ],
          [
           "Bosa, Joey",
           "LAC"
          ],
          [
           "Hendrickson, Trey",
           "CIN"
          ],
          [
           "Allen, Josh",
           "JAC"
          ],
          [
           "Burns, Brian",
           "CAR"
          ],
          [
           "Harris, Charles",
           "DET"
          ],
          [
           "Williams, Leonard",
           "NYG"
          ],
          [
           "Hubbard, Sam",
           "CIN"
          ],
          [
           "Ogbah, Emmanuel",
           "MIA"
          ],
          [
           "Gipson, Trevis",
           "CHI"
          ],
          [
           "Sweat, Josh",
           "PHI"
          ],
          [
           "Phillips, Jaelan",
           "MIA"
          ],
          [
           "Greenard, Jonathan",
           "HOU"
          ],
          [
           "Ngakoue, Yannick",
           "LVR"
          ],
          [
           "Green, Rasheem",
           "SEA"
          ],
          [
           "Davenport, Marcus",
           "NOS"
          ],
          [
           "Crosby, Maxx",
           "LVR"
          ],
          [
           "Wormley, Chris",
           "PIT"
          ],
          [
           "Harris, Shelby",
           "DEN"
          ],
          [
           "Rousseau, Gregory",
           "BUF"
          ],
          [
           "Autry, Denico",
           "TEN"
          ],
          [
           "Wonnum, D.J.",
           "MIN"
          ],
          [
           "Clowney, Jadeveon",
           "CLE"
          ],
          [
           "Muhammad, Al-Quadin",
           "IND"
          ],
          [
           "Sieler, Zach",
           "MIA"
          ],
          [
           "Dunlap, Carlos",
           "SEA"
          ],
          [
           "Taylor, Darrell",
           "SEA"
          ],
          [
           "Gaines, Greg",
           "LAR"
          ],
          [
           "Franklin-Myers, John",
           "NYJ"
          ],
          [
           "Armstead, Arik",
           "SFO"
          ],
          [
           "Allen, Zach",
           "ARI"
          ],
          [
           "Armstrong, Dorance",
           "DAL"
          ],
          [
           "Hunter, Danielle",
           "MIN"
          ],
          [
           "Fowler, Dante",
           "ATL"
          ],
          [
           "Guy, Lawrence",
           "NEP"
          ],
          [
           "Smoot, Dawuane",
           "JAC"
          ],
          [
           "Jones, Dre'Mont",
           "DEN"
          ],
          [
           "Gregory, Randy",
           "DAL"
          ],
          [
           "Lowry, Dean",
           "GBP"
          ],
          [
           "Wise, Deatrich",
           "NEP"
          ],
          [
           "Blackson, Angelo",
           "CHI"
          ],
          [
           "Sweat, Montez",
           "WAS"
          ],
          [
           "Gholston, William",
           "TBB"
          ],
          [
           "Bryant, Austin",
           "DET"
          ],
          [
           "Campbell, Calais",
           "BAL"
          ],
          [
           "Barnett, Derek",
           "PHI"
          ],
          [
           "Addison, Mario",
           "BUF"
          ],
          [
           "Paye, Kwity",
           "IND"
          ],
          [
           "Key, Arden",
           "SFO"
          ],
          [
           "Basham, Tarell",
           "DAL"
          ],
          [
           "Gross-Matos, Yetur",
           "CAR"
          ],
          [
           "Clark, Frank",
           "KCC"
          ],
          [
           "Pierre-Paul, Jason",
           "TBB"
          ],
          [
           "Lawrence, Demarcus",
           "DAL"
          ],
          [
           "Okwara, Julian",
           "DET"
          ],
          [
           "Kpassagnon, Tanoh",
           "NOS"
          ],
          [
           "Hicks, Akiem",
           "CHI"
          ],
          [
           "Griffen, Everson",
           "MIN"
          ],
          [
           "Danna, Michael",
           "KCC"
          ],
          [
           "Fox, Morgan",
           "CAR"
          ],
          [
           "Street, Kentavius",
           "SFO"
          ],
          [
           "Golston, Chauncey",
           "DAL"
          ],
          [
           "Means, Steven",
           "ATL"
          ],
          [
           "Walker, DeMarcus",
           "HOU"
          ],
          [
           "Granderson, Carl",
           "NOS"
          ],
          [
           "Young, Chase",
           "WAS"
          ],
          [
           "Keke, Kingsley",
           "FA"
          ],
          [
           "Phillips, Jordan",
           "ARI"
          ],
          [
           "Philon, Darius",
           "LVR"
          ],
          [
           "Ogundeji, Adetokunbo",
           "ATL"
          ],
          [
           "Hyder, Kerry",
           "SEA"
          ],
          [
           "Chaisson, K'Lavon",
           "JAC"
          ],
          [
           "Flowers, Trey",
           "DET"
          ],
          [
           "Weatherly, Stephen",
           "DEN"
          ],
          [
           "Mercilus, Whitney",
           "GBP"
          ],
          [
           "Turay, Kemoko",
           "IND"
          ],
          [
           "Ward, Jihad",
           "JAC"
          ],
          [
           "Lawson, Shaq",
           "FA"
          ],
          [
           "Nassib, Carl",
           "LVR"
          ],
          [
           "Mayowa, Benson",
           "SEA"
          ],
          [
           "McKinley, Takkarist",
           "CLE"
          ],
          [
           "Okafor, Alex",
           "KCC"
          ],
          [
           "Robinson, Alton",
           "SEA"
          ],
          [
           "Smith-Williams, James",
           "WAS"
          ],
          [
           "Haynes, Marquis",
           "CAR"
          ],
          [
           "Willis, Jordan",
           "SFO"
          ],
          [
           "Hughes, Jerry",
           "BUF"
          ],
          [
           "Jenkins, Jordan",
           "HOU"
          ],
          [
           "Dogbe, Michael",
           "ARI"
          ],
          [
           "Tuszka, Derrek",
           "PIT"
          ],
          [
           "Obada, Efe",
           "BUF"
          ],
          [
           "Loudermilk, Isaiahh",
           "PIT"
          ],
          [
           "Lewis, Tyquan",
           "IND"
          ],
          [
           "Ringo, Christian",
           "NOS"
          ],
          [
           "Blair, Ronald",
           "FA"
          ],
          [
           "Stephen, Shamar",
           "DEN"
          ],
          [
           "Lancaster, Tyler",
           "GBP"
          ],
          [
           "Watt, J.J.",
           "ARI"
          ],
          [
           "Basham, Carlos",
           "BUF"
          ],
          [
           "Jackson, Tarron",
           "PHI"
          ],
          [
           "Jackson, Joe",
           "KCC"
          ],
          [
           "Mondeaux, Henry",
           "PIT"
          ],
          [
           "Ford, Dee",
           "SFO"
          ],
          [
           "Sample, Cameron",
           "CIN"
          ],
          [
           "Huff, Bryce",
           "NYJ"
          ],
          [
           "Rumph, Chris",
           "LAC"
          ],
          [
           "Tuioti-Mariner, Jacob",
           "CAR"
          ],
          [
           "Bullard, Jonathan",
           "ATL"
          ],
          [
           "Omenihu, Charles",
           "SFO"
          ],
          [
           "Charlton, Taco",
           "PIT"
          ],
          [
           "Epenesa, A.J.",
           "BUF"
          ],
          [
           "Ferrell, Clelin",
           "LVR"
          ],
          [
           "Turner, Payton",
           "NOS"
          ],
          [
           "Willekes, Kenny",
           "MIN"
          ],
          [
           "Lemonier, Jessie",
           "DET"
          ],
          [
           "Phillips, Kyle",
           "NYJ"
          ],
          [
           "Rivers, Derek",
           "HOU"
          ],
          [
           "Rochell, Isaac",
           "IND"
          ],
          [
           "Gaziano, Joe",
           "LAC"
          ],
          [
           "Holmes, Jalyn",
           "NOS"
          ],
          [
           "Edwards, Mario",
           "CHI"
          ],
          [
           "Johnson, Patrick",
           "PHI"
          ],
          [
           "Adams, Montravius",
           "PIT"
          ],
          [
           "Koonce, Malcolm",
           "LVR"
          ],
          [
           "Odeyingbo, Dayo",
           "IND"
          ],
          [
           "Ward, Tim",
           "NYJ"
          ],
          [
           "Ximines, Oshane",
           "NYG"
          ],
          [
           "McCray, Lerentee",
           "JAC"
          ],
          [
           "Hunt, Margus",
           "CHI"
          ],
          [
           "Zuniga, Jabari",
           "NYJ"
          ],
          [
           "Okwara, Romeo",
           "DET"
          ],
          [
           "Toney, Shaka",
           "WAS"
          ],
          [
           "Harris, Jonathan",
           "DEN"
          ],
          [
           "Johnson, Raymond",
           "NYG"
          ],
          [
           "Smith, Elerson",
           "NYG"
          ],
          [
           "Kareem, Khalid",
           "CIN"
          ],
          [
           "Patrick, Aaron",
           "DEN"
          ],
          [
           "Mack, Isaiah",
           "BAL"
          ],
          [
           "Collier, L.J.",
           "SEA"
          ],
          [
           "Jones, Patrick",
           "MIN"
          ],
          [
           "Murchison, Larrell",
           "TEN"
          ],
          [
           "Harris, Trent",
           "NYG"
          ],
          [
           "Simon, John",
           "PIT"
          ],
          [
           "Irvin, Bruce",
           "CHI"
          ],
          [
           "Davis, Carlos",
           "PIT"
          ],
          [
           "Anderson, Henry",
           "NEP"
          ],
          [
           "Kerrigan, Ryan",
           "PHI"
          ],
          [
           "O'Connor, Pat",
           "TBB"
          ],
          [
           "Anae, Bradlee",
           "NYJ"
          ],
          [
           "Cominsky, John",
           "ATL"
          ],
          [
           "Graham, Brandon",
           "PHI"
          ],
          [
           "Banogu, Ben",
           "IND"
          ],
          [
           "Bledsoe, Amani",
           "FA"
          ],
          [
           "Spence, Noah",
           "CIN"
          ],
          [
           "Thurman, Nick",
           "ATL"
          ],
          [
           "Weaver, Rashad",
           "TEN"
          ],
          [
           "Bradley-King, William",
           "WAS"
          ],
          [
           "Sheard, Jabaal",
           "FA"
          ],
          [
           "Spencer, Marquiss",
           "DEN"
          ],
          [
           "Carter, Ron'Dell",
           "HOU"
          ],
          [
           "Cornell, Jashon",
           "DET"
          ],
          [
           "Cox, Bryan",
           "BUF"
          ],
          [
           "Curry, Vinny",
           "FA"
          ],
          [
           "Harris, Demone",
           "HOU"
          ],
          [
           "Hodge, Darius",
           "MIA"
          ],
          [
           "Hubert, Wyatt",
           "CIN"
          ],
          [
           "Johnson, Darryl",
           "CAR"
          ],
          [
           "Kaindoh, Joshua",
           "KCC"
          ],
          [
           "Lawson, Carl",
           "NYJ"
          ],
          [
           "Ledbetter, Jeremiah",
           "JAC"
          ],
          [
           "Orchard, Nate",
           "WAS"
          ],
          [
           "Weaver, Curtis",
           "CLE"
          ]
         ],
         "hovertemplate": "Position=DE<br>Salary=%{x}<br>Pts=%{y}<br>Player=%{customdata[0]}<br>Team=%{customdata[1]}<extra></extra>",
         "legendgroup": "DE",
         "marker": {
          "color": "#B6E880",
          "symbol": "circle"
         },
         "mode": "markers",
         "name": "DE",
         "showlegend": true,
         "type": "scattergl",
         "x": [
          51.84,
          166.51,
          108.27,
          108.27,
          1,
          126.34,
          108.27,
          24.89,
          24.89,
          54.14,
          108.27,
          14.4,
          108.27,
          1.44,
          14.4,
          30,
          10,
          83.21,
          24.89,
          37.32,
          12,
          17.28,
          1,
          14.4,
          83.21,
          1.44,
          139.56,
          83.21,
          43.2,
          1,
          8.64,
          12,
          32.4,
          126.34,
          12.44,
          14.4,
          139.56,
          103.68,
          115.2,
          34.56,
          12,
          126.34,
          66.24,
          17.28,
          1.2,
          24.89,
          1,
          5.76,
          1,
          29.93,
          1,
          30,
          4.8,
          1,
          8.64,
          1,
          1,
          126.34,
          10,
          1,
          1,
          1,
          48.96,
          12,
          1,
          7.2,
          1,
          26.4,
          12.96,
          53.28,
          12,
          55.2,
          1,
          2.4,
          1,
          20.74,
          1,
          1,
          139.2,
          14.4,
          22.8,
          1,
          20.4,
          13.82,
          17.28,
          3.6,
          1.44,
          4.8,
          1,
          17.28,
          1,
          8.4,
          1,
          1.44,
          1.73,
          2.4,
          14.4,
          1,
          1,
          1,
          18.72,
          1,
          14.4,
          4.8,
          1,
          1,
          94.55,
          4.8,
          1.44,
          2.4,
          1.44,
          5.18,
          12,
          1,
          10.37,
          39.4,
          14.4,
          1.44,
          1,
          1,
          1,
          17.42,
          1,
          27.37,
          31.2,
          1.2,
          2.88,
          7.2,
          7.2,
          1.2,
          1,
          1.44,
          1,
          5.76,
          126.34,
          1.2,
          1,
          1,
          4.8,
          1.44,
          1,
          1,
          12.44,
          7.2,
          13.2,
          1,
          1,
          4.8,
          10.08,
          30,
          20.4,
          1.2,
          5.76,
          1,
          1,
          12,
          1.2,
          1,
          1,
          2.4,
          1.2,
          1,
          15.6,
          1,
          21.6,
          1,
          1,
          1,
          1,
          1.2,
          1,
          4.8,
          17.28,
          1,
          1,
          5.76
         ],
         "xaxis": "x",
         "y": [
          219.6,
          216.7,
          205.65,
          195.6,
          190.5,
          182,
          173.3,
          169.95,
          164.6,
          164,
          162.7,
          160.55,
          148.8,
          129.7,
          128.5,
          128.3,
          128,
          128,
          127.3,
          126.55,
          125.9,
          123.3,
          121.8,
          121.55,
          121.1,
          120.4,
          118.7,
          118,
          117.6,
          115.5,
          110.2,
          109.3,
          107.4,
          107.2,
          106.95,
          106.35,
          105,
          102.8,
          102.8,
          101.1,
          100.5,
          97.6,
          96.8,
          93.5,
          89,
          88.4,
          87.7,
          85.1,
          84.7,
          83.4,
          81.2,
          80.6,
          78.3,
          78.2,
          77.1,
          76.7,
          76.2,
          71.2,
          70.75,
          70.6,
          70.3,
          68.4,
          67.8,
          67.75,
          66.4,
          65.7,
          65.6,
          64.4,
          63.8,
          62.7,
          60.6,
          60,
          59.1,
          58.8,
          58.5,
          57.4,
          56.8,
          56.5,
          56.4,
          55.5,
          55,
          54.45,
          53.5,
          53,
          50.8,
          50.3,
          49.4,
          48.9,
          48.8,
          48.6,
          48.2,
          47.8,
          47,
          46.6,
          46.4,
          46,
          45.1,
          44,
          43.5,
          43,
          42,
          39.2,
          38,
          36.2,
          34.8,
          34.8,
          34.6,
          34.2,
          34,
          34,
          31,
          30,
          30,
          29.4,
          28.6,
          28.6,
          27.8,
          27.3,
          24.8,
          24.8,
          24.2,
          23,
          22,
          22,
          21.2,
          21,
          20,
          19,
          19,
          19,
          19,
          18,
          17,
          16.6,
          16.2,
          15.8,
          15,
          15,
          15,
          13.2,
          12,
          11.6,
          11,
          11,
          11,
          10,
          10,
          9,
          8,
          6,
          6,
          5,
          4,
          4,
          4,
          3,
          3,
          2,
          2,
          2,
          1,
          1,
          1,
          0,
          0,
          0,
          0,
          0,
          0,
          0,
          0,
          0,
          0,
          0,
          0,
          0
         ],
         "yaxis": "y"
        },
        {
         "customdata": [
          [
           "James, Derwin",
           "LAC"
          ],
          [
           "Byard, Kevin",
           "TEN"
          ],
          [
           "Smith, Harrison",
           "MIN"
          ],
          [
           "Fitzpatrick, Minkah",
           "PIT"
          ],
          [
           "Woods, Xavier",
           "MIN"
          ],
          [
           "Chinn, Jeremy",
           "CAR"
          ],
          [
           "Poyer, Jordan",
           "BUF"
          ],
          [
           "Thompson, Jalen",
           "ARI"
          ],
          [
           "Ryan, Logan",
           "NYG"
          ],
          [
           "Baker, Budda",
           "ARI"
          ],
          [
           "Bell, Vonn",
           "CIN"
          ],
          [
           "Kearse, Jayron",
           "DAL"
          ],
          [
           "Hyde, Micah",
           "BUF"
          ],
          [
           "Dugger, Kyle",
           "NEP"
          ],
          [
           "Diggs, Quandre",
           "SEA"
          ],
          [
           "Simmons, Justin",
           "DEN"
          ],
          [
           "McKinney, Xavier",
           "NYG"
          ],
          [
           "Abram, Johnathan",
           "LVR"
          ],
          [
           "Mathieu, Tyrann",
           "KCC"
          ],
          [
           "Winfield, Antoine",
           "TBB"
          ],
          [
           "Rapp, Taylor",
           "LAR"
          ],
          [
           "Amos, Adrian",
           "GBP"
          ],
          [
           "Fuller, Jordan",
           "LAR"
          ],
          [
           "Phillips, Adrian",
           "NEP"
          ],
          [
           "Collins, Landon",
           "WAS"
          ],
          [
           "Bates, Jessie",
           "CIN"
          ],
          [
           "Holland, Jevon",
           "MIA"
          ],
          [
           "Jones, Brandon",
           "MIA"
          ],
          [
           "Walker, Tracy",
           "DET"
          ],
          [
           "Curl, Kamren",
           "WAS"
          ],
          [
           "Adderley, Nasir",
           "LAC"
          ],
          [
           "Edmunds, Terrell",
           "PIT"
          ],
          [
           "Jackson, Kareem",
           "DEN"
          ],
          [
           "Adams, Jamal",
           "SEA"
          ],
          [
           "Clark, Chuck",
           "BAL"
          ],
          [
           "Wingard, Andrew",
           "JAC"
          ],
          [
           "Jenkins, Malcolm",
           "NOS"
          ],
          [
           "Williams, Marcus",
           "NOS"
          ],
          [
           "Harris, Will",
           "DET"
          ],
          [
           "Whitehead, Jordan",
           "TBB"
          ],
          [
           "Ward, Jimmie",
           "SFO"
          ],
          [
           "Davis, Ashtyn",
           "NYJ"
          ],
          [
           "Rowe, Eric",
           "MIA"
          ],
          [
           "McCourty, Devin",
           "NEP"
          ],
          [
           "Reid, Justin",
           "HOU"
          ],
          [
           "Johnson, John",
           "CLE"
          ],
          [
           "Sorensen, Daniel",
           "KCC"
          ],
          [
           "Jenkins, Rayshawn",
           "JAC"
          ],
          [
           "McCain, Bobby",
           "WAS"
          ],
          [
           "Edwards, Mike",
           "TBB"
          ],
          [
           "Jackson, Eddie",
           "CHI"
          ],
          [
           "Delpit, Grant",
           "CLE"
          ],
          [
           "Carter, Michael",
           "NYJ"
          ],
          [
           "Savage, Darnell",
           "GBP"
          ],
          [
           "Willis, Khari",
           "IND"
          ],
          [
           "Harmon, Duron",
           "ATL"
          ],
          [
           "Murray, Eric",
           "HOU"
          ],
          [
           "Harris, Erik",
           "ATL"
          ],
          [
           "Thornhill, Juan",
           "KCC"
          ],
          [
           "Love, Julian",
           "NYG"
          ],
          [
           "Harris, Anthony",
           "PHI"
          ],
          [
           "Hooker, Amani",
           "TEN"
          ],
          [
           "Odum, George",
           "IND"
          ],
          [
           "Johnson, Lonnie",
           "HOU"
          ],
          [
           "Gardner-Johnson, Chauncey",
           "NOS"
          ],
          [
           "Harrison, Ronnie",
           "CLE"
          ],
          [
           "Epps, Marcus",
           "PHI"
          ],
          [
           "Houston-Carson, DeAndre",
           "CHI"
          ],
          [
           "McLeod, Rodney",
           "PHI"
          ],
          [
           "Kazee, Damontae",
           "DAL"
          ],
          [
           "Ford, Johnathan",
           "JAC"
          ],
          [
           "Tartt, Jaquiski",
           "SFO"
          ],
          [
           "Marlowe, Dean",
           "DET"
          ],
          [
           "Gipson, Tashaun",
           "CHI"
          ],
          [
           "Moehrig, Trevon",
           "LVR"
          ],
          [
           "Neal, Ryan",
           "SEA"
          ],
          [
           "Bush, Deon",
           "CHI"
          ],
          [
           "Maye, Marcus",
           "NYJ"
          ],
          [
           "Chandler, Sean",
           "CAR"
          ],
          [
           "Scott, Nick",
           "LAR"
          ],
          [
           "Harris, Marcell",
           "SFO"
          ],
          [
           "Sendejo, Andrew",
           "IND"
          ],
          [
           "Cruikshank, Dane",
           "TEN"
          ],
          [
           "Norwood, Tre",
           "PIT"
          ],
          [
           "Hooker, Malik",
           "DAL"
          ],
          [
           "Black, Henry",
           "GBP"
          ],
          [
           "Grant, Richie",
           "ATL"
          ],
          [
           "Sterns, Caden",
           "DEN"
          ],
          [
           "Gilman, Alohi",
           "LAC"
          ],
          [
           "Blackmon, Julian",
           "IND"
          ],
          [
           "Riley, Elijah",
           "NYJ"
          ],
          [
           "Peppers, Jabrill",
           "NYG"
          ],
          [
           "Deablo, Divine",
           "LVR"
          ],
          [
           "Hartsfield, Myles",
           "CAR"
          ],
          [
           "Leavitt, Dallin",
           "LVR"
          ],
          [
           "Elliott, DeShon",
           "BAL"
          ],
          [
           "Hufanga, Talanoa",
           "SFO"
          ],
          [
           "Hawkins, Jaylinn",
           "ATL"
          ],
          [
           "Burris, Juston",
           "CAR"
          ],
          [
           "Cisco, Andre",
           "JAC"
          ],
          [
           "Reaves, Jeremy",
           "WAS"
          ],
          [
           "Adams, Andrew",
           "TBB"
          ],
          [
           "Wilson, Donovan",
           "DAL"
          ],
          [
           "Owens, Jonathan",
           "HOU"
          ],
          [
           "Gray, J.T.",
           "NOS"
          ],
          [
           "Price, Bobby",
           "DET"
          ],
          [
           "Neasman, Sharrod",
           "FA"
          ],
          [
           "Wilson, Brandon",
           "CIN"
          ],
          [
           "Moore, C.J.",
           "DET"
          ],
          [
           "Thomas, Daniel",
           "JAC"
          ],
          [
           "Wilson, Jarrod",
           "FA"
          ],
          [
           "Farley, Matthias",
           "TEN"
          ],
          [
           "Watts, Armani",
           "KCC"
          ],
          [
           "Franklin, Sam",
           "CAR"
          ],
          [
           "Killebrew, Miles",
           "PIT"
          ],
          [
           "Stone, Geno",
           "BAL"
          ],
          [
           "Jefferson, Tony",
           "BAL"
          ],
          [
           "Johnson, Jaquan",
           "BUF"
          ],
          [
           "Teamer, Roderic",
           "LVR"
          ],
          [
           "Robinson, Kenny",
           "CAR"
          ],
          [
           "Colbert, Adrian",
           "FA"
          ],
          [
           "Heath, Jeff",
           "NOS"
          ],
          [
           "Marshall, Trey",
           "LAC"
          ],
          [
           "Addae, Jahleel",
           "IND"
          ],
          [
           "Brooks, Terrence",
           "HOU"
          ],
          [
           "Green, T.J.",
           "HOU"
          ],
          [
           "Allen, Ricardo",
           "CIN"
          ],
          [
           "Davis, Cody",
           "NEP"
          ],
          [
           "Levine, Anthony",
           "FA"
          ],
          [
           "Moore, A.J.",
           "HOU"
          ],
          [
           "Christian, Marqui",
           "CHI"
          ],
          [
           "Williams, Shawn",
           "ATL"
          ],
          [
           "Elliott, Jalen",
           "DET"
          ],
          [
           "Reed, J.R.",
           "NYG"
          ],
          [
           "Wallace, K'Von",
           "PHI"
          ],
          [
           "Wilson, Tavon",
           "SFO"
          ],
          [
           "Blair, Marquise",
           "SEA"
          ],
          [
           "Thomas, Michael",
           "CIN"
          ],
          [
           "Everett, Deshazor",
           "WAS"
          ],
          [
           "Allen, Marcus",
           "PIT"
          ],
          [
           "Redwine, Sheldrick",
           "MIA"
          ],
          [
           "Thompson, Deionte",
           "ARI"
          ],
          [
           "Banjo, Chris",
           "ARI"
          ],
          [
           "Parks, Will",
           "NYJ"
          ],
          [
           "Apke, Troy",
           "WAS"
          ],
          [
           "Metellus, Josh",
           "MIN"
          ],
          [
           "Breeze, Brady",
           "DET"
          ],
          [
           "Locke, P.J.",
           "DEN"
          ],
          [
           "Parker, Steven",
           "NYG"
          ],
          [
           "Jones, Josh",
           "FA"
          ],
          [
           "Fejedelem, Clayton",
           "MIA"
          ],
          [
           "Gillespie, Tyree",
           "LVR"
          ],
          [
           "Hughes, Juju",
           "DET"
          ],
          [
           "McDougald, Bradley",
           "FA"
          ],
          [
           "Burgess, Terrell",
           "LAR"
          ],
          [
           "Hamlin, Damar",
           "BUF"
          ],
          [
           "Forrest, Darrick",
           "WAS"
          ],
          [
           "Thompson, Darian",
           "FA"
          ],
          [
           "Washington, Charles",
           "ARI"
          ],
          [
           "Webb, Mark",
           "LAC"
          ],
          [
           "LeCounte, Richard",
           "CLE"
          ],
          [
           "Joseph, Karl",
           "FA"
          ],
          [
           "Ebner, Nate",
           "NYG"
          ],
          [
           "Joyner, Lamarcus",
           "NYJ"
          ],
          [
           "Scott, Vernon",
           "GBP"
          ],
          [
           "Stevens, JaCoby",
           "PHI"
          ],
          [
           "Davis, Shawn",
           "GBP"
          ],
          [
           "Washington, Ar'Darius",
           "BAL"
          ],
          [
           "Campbell, Ibraheim",
           "IND"
          ],
          [
           "Clinton-Dix, Ha Ha",
           "FA"
          ],
          [
           "Davis, Sean",
           "FA"
          ],
          [
           "Frazier, Kavon",
           "LVR"
          ],
          [
           "Johnson, Jamar",
           "DEN"
          ],
          [
           "Lucas, Jordan",
           "IND"
          ],
          [
           "Redmond, Will",
           "IND"
          ],
          [
           "Tell, Marvell",
           "FA"
          ],
          [
           "Thompson, Tedric",
           "FA"
          ],
          [
           "Wiggins, James",
           "ARI"
          ]
         ],
         "hovertemplate": "Position=S<br>Salary=%{x}<br>Pts=%{y}<br>Player=%{customdata[0]}<br>Team=%{customdata[1]}<extra></extra>",
         "legendgroup": "S",
         "marker": {
          "color": "#FF97FF",
          "symbol": "circle"
         },
         "mode": "markers",
         "name": "S",
         "showlegend": true,
         "type": "scattergl",
         "x": [
          49.76,
          55.69,
          1,
          37.32,
          55.69,
          8.64,
          83.33,
          24.89,
          73.17,
          88.44,
          1,
          36.58,
          67.2,
          10.37,
          55.69,
          83.33,
          32.83,
          51.84,
          73.17,
          8.64,
          12,
          1,
          1.44,
          1,
          83.33,
          14.4,
          14.4,
          5.76,
          88.44,
          19.01,
          12,
          14.4,
          1,
          83.33,
          73.17,
          14.52,
          1,
          50.4,
          12,
          14.4,
          48.55,
          5.76,
          13.82,
          1,
          14.4,
          17.28,
          1,
          1,
          14.4,
          1,
          17.28,
          10.37,
          1.2,
          24.89,
          22.9,
          50.4,
          1.73,
          1,
          12.44,
          37.32,
          1,
          12,
          1,
          12,
          12,
          14.4,
          26.95,
          1,
          1,
          1,
          1,
          42,
          1.2,
          1,
          14.4,
          8.4,
          1,
          17.28,
          1,
          22.81,
          14.4,
          15.55,
          1.73,
          1.2,
          20.74,
          1,
          14.4,
          2.4,
          12,
          10,
          1,
          41.66,
          7.2,
          1.2,
          1,
          62.22,
          2.4,
          1.44,
          24.19,
          7.2,
          1,
          4.32,
          20.74,
          1,
          1,
          1,
          1,
          4.8,
          1.2,
          1.44,
          1,
          1.2,
          14.4,
          1.2,
          1,
          1.44,
          1,
          1.2,
          41.76,
          1,
          17.92,
          1,
          1,
          1,
          1.44,
          1.2,
          1,
          1,
          1,
          1.44,
          1,
          1,
          1,
          1.44,
          5.76,
          1,
          12,
          1,
          1,
          1.2,
          10.37,
          12,
          1,
          1,
          1,
          1,
          15.6,
          1,
          1,
          17.28,
          1,
          2.4,
          1,
          1,
          1.44,
          18,
          1.2,
          1,
          1,
          1.2,
          9.6,
          14.4,
          1,
          27.36,
          1,
          4.8,
          2.4,
          1.2,
          1,
          1.2,
          1,
          1,
          1.2,
          1,
          14.4,
          6.91,
          1,
          2.4
         ],
         "xaxis": "x",
         "y": [
          176.5,
          175.75,
          175.65,
          171.6,
          169.8,
          159.8,
          158.35,
          158.3,
          156.5,
          155.3,
          154.7,
          154.15,
          153.6,
          153.5,
          150.9,
          149.9,
          147.7,
          146.3,
          140.2,
          138.7,
          137.95,
          137.25,
          136.95,
          136.2,
          134.7,
          132.8,
          132.05,
          129.6,
          129.1,
          128.75,
          126.85,
          124.85,
          123.85,
          122.25,
          121.25,
          120.7,
          119.3,
          118.05,
          115.6,
          114.7,
          113.35,
          107.25,
          104.5,
          103.45,
          101.5,
          100.55,
          100.3,
          99.75,
          99.7,
          96.8,
          96.75,
          96.65,
          96.25,
          95.5,
          94.75,
          94.5,
          93.75,
          93.7,
          89.9,
          89.25,
          89.1,
          88.65,
          88.55,
          87.85,
          87.3,
          87.1,
          83.5,
          83.25,
          82.7,
          80.65,
          79.9,
          79,
          77.25,
          77.1,
          75.75,
          69.95,
          65.1,
          65,
          63.85,
          63.4,
          61.3,
          60.75,
          60,
          60,
          58.75,
          58.5,
          56.35,
          54,
          52.5,
          51.75,
          50.75,
          49.2,
          49,
          45.25,
          44.5,
          43.7,
          42.5,
          41.3,
          36.85,
          35.5,
          34,
          33,
          32.5,
          29.65,
          28.5,
          28.2,
          28.15,
          27.8,
          27.75,
          27,
          25.85,
          25.54,
          24.5,
          24.25,
          24.25,
          24,
          23.3,
          23,
          22.5,
          20.45,
          19.5,
          19.2,
          18.75,
          17.25,
          17.25,
          16.75,
          16.5,
          16.5,
          16,
          15.5,
          15.25,
          14.25,
          13.5,
          13.5,
          13.25,
          13,
          12.5,
          12.25,
          11.25,
          10.5,
          9.75,
          9.75,
          9.42,
          9.25,
          8.75,
          8.75,
          8.25,
          8.25,
          8,
          7.5,
          7.05,
          6.75,
          6.75,
          6,
          5.25,
          5,
          4.5,
          4.5,
          4.5,
          4.5,
          3.75,
          3.25,
          3,
          1.5,
          1.5,
          1.5,
          0.75,
          0.75,
          0,
          0,
          0,
          0,
          0,
          0,
          0,
          0,
          0,
          0
         ],
         "yaxis": "y"
        },
        {
         "customdata": [
          [
           "Moore, Kenny",
           "IND"
          ],
          [
           "Diggs, Trevon",
           "DAL"
          ],
          [
           "King, Desmond",
           "HOU"
          ],
          [
           "Jackson, J.C.",
           "NEP"
          ],
          [
           "Brown, Anthony",
           "DAL"
          ],
          [
           "Douglas, Rasul",
           "GBP"
          ],
          [
           "Ramsey, Jalen",
           "LAR"
          ],
          [
           "Terrell, A.J.",
           "ATL"
          ],
          [
           "Murphy, Byron",
           "ARI"
          ],
          [
           "Fuller, Kendall",
           "WAS"
          ],
          [
           "Johnson, Taron",
           "BUF"
          ],
          [
           "Lattimore, Marshon",
           "NOS"
          ],
          [
           "Sneed, L'Jarius",
           "KCC"
          ],
          [
           "Slay, Darius",
           "PHI"
          ],
          [
           "Howard, Xavien",
           "MIA"
          ],
          [
           "Lewis, Jourdan",
           "DAL"
          ],
          [
           "Oruwariye, Amani",
           "DET"
          ],
          [
           "Hall, Bryce",
           "NYJ"
          ],
          [
           "Reed, D.J.",
           "SEA"
          ],
          [
           "Maddox, Avonte",
           "PHI"
          ],
          [
           "Surtain II, Patrick",
           "DEN"
          ],
          [
           "Thomas, Tavierre",
           "HOU"
          ],
          [
           "Awuzie, Chidobe",
           "CIN"
          ],
          [
           "Rodgers, Isaiah",
           "IND"
          ],
          [
           "Mitchell, Terrance",
           "HOU"
          ],
          [
           "Jackson, Donte",
           "CAR"
          ],
          [
           "Breeland, Bashaud",
           "FA"
          ],
          [
           "Needham, Nik",
           "MIA"
          ],
          [
           "Hughes, Mike",
           "KCC"
          ],
          [
           "Norman, Josh",
           "SFO"
          ],
          [
           "Bradberry, James",
           "NYG"
          ],
          [
           "Williams, P.J.",
           "NOS"
          ],
          [
           "Echols, Brandin",
           "NYJ"
          ],
          [
           "Hilton, Mike",
           "CIN"
          ],
          [
           "Adebo, Paulson",
           "NOS"
          ],
          [
           "Hobbs, Nate",
           "LVR"
          ],
          [
           "Averett, Anthony",
           "BAL"
          ],
          [
           "Ward, Charvarius",
           "KCC"
          ],
          [
           "Williams, Darious",
           "LAR"
          ],
          [
           "Campbell, Tyson",
           "JAC"
          ],
          [
           "Humphrey, Marlon",
           "BAL"
          ],
          [
           "Wallace, Levi",
           "BUF"
          ],
          [
           "Ward, Denzel",
           "CLE"
          ],
          [
           "Jackson, Adoree",
           "NYG"
          ],
          [
           "Molden, Elijah",
           "TEN"
          ],
          [
           "Stephens, Brandon",
           "BAL"
          ],
          [
           "Jones, Byron",
           "MIA"
          ],
          [
           "Williams, K'Waun",
           "SFO"
          ],
          [
           "Apple, Eli",
           "CIN"
          ],
          [
           "Stokes, Eric",
           "GBP"
          ],
          [
           "Pierre, James",
           "PIT"
          ],
          [
           "Davis, Michael",
           "LAC"
          ],
          [
           "Moreau, Fabian",
           "ATL"
          ],
          [
           "Amadi, Ugo",
           "SEA"
          ],
          [
           "Jones, Sidney",
           "SEA"
          ],
          [
           "Dean, Jamel",
           "TBB"
          ],
          [
           "Williams, Greedy",
           "CLE"
          ],
          [
           "Jenkins, Janoris",
           "TEN"
          ],
          [
           "Sutton, Cameron",
           "PIT"
          ],
          [
           "Williams, Avery",
           "ATL"
          ],
          [
           "Wilson, Marco",
           "ARI"
          ],
          [
           "Johnson, Jaylon",
           "CHI"
          ],
          [
           "Campbell, Tevaughn",
           "LAC"
          ],
          [
           "Facyson, Brandon",
           "LVR"
          ],
          [
           "Darby, Ronald",
           "DEN"
          ],
          [
           "Dantzler, Cameron",
           "MIN"
          ],
          [
           "Nelson, Steven",
           "PHI"
          ],
          [
           "Jackson, William",
           "WAS"
          ],
          [
           "Fenton, Rashad",
           "KCC"
          ],
          [
           "Hill, Troy",
           "CLE"
          ],
          [
           "Fulton, Kristian",
           "TEN"
          ],
          [
           "Parker, AJ",
           "DET"
          ],
          [
           "Samuel, Asante",
           "LAC"
          ],
          [
           "Bryant, Myles",
           "NEP"
          ],
          [
           "Griffin, Shaq",
           "JAC"
          ],
          [
           "White, Tre'Davious",
           "BUF"
          ],
          [
           "Hayward, Casey",
           "LVR"
          ],
          [
           "Davis, Carlton",
           "TBB"
          ],
          [
           "Smith, Tremon",
           "HOU"
          ],
          [
           "Alexander, Mackensie",
           "MIN"
          ],
          [
           "Rhodes, Xavier",
           "IND"
          ],
          [
           "Young, Tavon",
           "BAL"
          ],
          [
           "Vildor, Kindle",
           "CHI"
          ],
          [
           "Mills, Jalen",
           "NEP"
          ],
          [
           "Stewart, M.J.",
           "CLE"
          ],
          [
           "Guidry, Javelin",
           "NYJ"
          ],
          [
           "Maulet, Art",
           "PIT"
          ],
          [
           "Jacobs, Jerry",
           "DET"
          ],
          [
           "Cockrell, Ross",
           "TBB"
          ],
          [
           "Fuller, Kyle",
           "DEN"
          ],
          [
           "Jackson, Dane",
           "BUF"
          ],
          [
           "Long, David",
           "LAR"
          ],
          [
           "Alford, Robert",
           "ARI"
          ],
          [
           "Sullivan, Chandon",
           "GBP"
          ],
          [
           "Moseley, Emmanuel",
           "SFO"
          ],
          [
           "Harris, Chris",
           "LAC"
          ],
          [
           "Desir, Pierre",
           "TBB"
          ],
          [
           "Ya-Sin, Rock",
           "IND"
          ],
          [
           "Murphy-Bunting, Sean",
           "TBB"
          ],
          [
           "Newsome, Greg",
           "CLE"
          ],
          [
           "Haden, Joe",
           "PIT"
          ],
          [
           "Taylor, Keith",
           "CAR"
          ],
          [
           "Coleman, Justin",
           "MIA"
          ],
          [
           "Peterson, Patrick",
           "MIN"
          ],
          [
           "Shelley, Duke",
           "CHI"
          ],
          [
           "Holmes, Darnay",
           "NYG"
          ],
          [
           "Bynum, Camryn",
           "MIN"
          ],
          [
           "Hamilton, Antonio",
           "ARI"
          ],
          [
           "Henderson, CJ",
           "CAR"
          ],
          [
           "Jackson, Chris",
           "TEN"
          ],
          [
           "Witherspoon, Ahkello",
           "PIT"
          ],
          [
           "Roby, Bradley",
           "NOS"
          ],
          [
           "Bouye, A.J.",
           "CAR"
          ],
          [
           "Hargreaves, Vernon",
           "CIN"
          ],
          [
           "Flowers, Tre",
           "CIN"
          ],
          [
           "Claybrooks, Chris",
           "JAC"
          ],
          [
           "Callahan, Bryce",
           "DEN"
          ],
          [
           "Lawson, Nevin",
           "JAC"
          ],
          [
           "Phillips, Darius",
           "CIN"
          ],
          [
           "King, Kevin",
           "GBP"
          ],
          [
           "Hall, Darren",
           "ATL"
          ],
          [
           "Deayon, Donte",
           "LAR"
          ],
          [
           "Thomas, Ambry",
           "SFO"
          ],
          [
           "Boyd, Kris",
           "MIN"
          ],
          [
           "Mullen, Trayvon",
           "LVR"
          ],
          [
           "St-Juste, Benjamin",
           "WAS"
          ],
          [
           "Carrie, T.J.",
           "IND"
          ],
          [
           "Gilmore, Stephon",
           "CAR"
          ],
          [
           "Johnson, Dontae",
           "SFO"
          ],
          [
           "Neal, Siran",
           "BUF"
          ],
          [
           "Green, A.J.",
           "CLE"
          ],
          [
           "Jones, Jonathan",
           "NEP"
          ],
          [
           "Robinson, Aaron",
           "NYG"
          ],
          [
           "Burns, Artie",
           "CHI"
          ],
          [
           "Johnson, Danny",
           "WAS"
          ],
          [
           "Williams, Joejuan",
           "NEP"
          ],
          [
           "Skrine, Buster",
           "TEN"
          ],
          [
           "Rochell, Robert",
           "LAR"
          ],
          [
           "Delaney, Dee",
           "TBB"
          ],
          [
           "Seymour, Kevon",
           "BAL"
          ],
          [
           "Crossen, Keion",
           "NYG"
          ],
          [
           "Alexander, Jaire",
           "GBP"
          ],
          [
           "McCourty, Jason",
           "MIA"
          ],
          [
           "Williams, Jarren",
           "NYG"
          ],
          [
           "Robertson, Amik",
           "LVR"
          ],
          [
           "Sherman, Richard",
           "TBB"
          ],
          [
           "Lenoir, Deommodore",
           "SFO"
          ],
          [
           "Oliver, Isaiah",
           "ATL"
          ],
          [
           "Layne, Justin",
           "PIT"
          ],
          [
           "Baker, Deandre",
           "KCC"
          ],
          [
           "Westry, Chris",
           "BAL"
          ],
          [
           "Bethel, Justin",
           "NEP"
          ],
          [
           "Melvin, Rashaan",
           "CAR"
          ],
          [
           "Smith, Jimmy",
           "BAL"
          ],
          [
           "Crawford, Xavier",
           "CHI"
          ],
          [
           "Trufant, Desmond",
           "LVR"
          ],
          [
           "Herndon, Tre",
           "JAC"
          ],
          [
           "Pinnock, Jason",
           "NYJ"
          ],
          [
           "Graham, Thomas",
           "CHI"
          ],
          [
           "Melifonwu, Ifeatu",
           "DET"
          ],
          [
           "Reid, John",
           "SEA"
          ],
          [
           "McPhearson, Zech",
           "PHI"
          ],
          [
           "Brown, Tre",
           "SEA"
          ],
          [
           "Hairston, Nate",
           "DEN"
          ],
          [
           "Mabin, Greg",
           "TEN"
          ],
          [
           "Nixon, Keisean",
           "LVR"
          ],
          [
           "Yiadom, Isaac",
           "FA"
          ],
          [
           "Joseph, Kelvin",
           "DAL"
          ],
          [
           "Austin, Blessuan",
           "SEA"
          ],
          [
           "Chachere, Andre",
           "PHI"
          ],
          [
           "Lewis, Cam",
           "BUF"
          ],
          [
           "Dunn, Isaiah",
           "NYJ"
          ],
          [
           "Davis, Jalen",
           "CIN"
          ],
          [
           "Horn, Jaycee",
           "CAR"
          ],
          [
           "Waynes, Trae",
           "CIN"
          ],
          [
           "Wright, Nahshon",
           "DAL"
          ],
          [
           "Harris, Davontae",
           "LAC"
          ],
          [
           "Bootle, DiCaprio",
           "KCC"
          ],
          [
           "Goodwin, C.J.",
           "DAL"
          ],
          [
           "Hardee, Justin",
           "NYJ"
          ],
          [
           "Tabor, Teez",
           "CHI"
          ],
          [
           "Hall, Kemon",
           "LAC"
          ],
          [
           "Jones, Chris",
           "TEN"
          ],
          [
           "Jean-Charles, Shemar",
           "GBP"
          ],
          [
           "Kirkpatrick, Dre",
           "FA"
          ],
          [
           "Ford, Mike",
           "DEN"
          ],
          [
           "Igbinoghene, Noah",
           "MIA"
          ],
          [
           "Peterson, Kevin",
           "FA"
          ],
          [
           "Worley, Daryl",
           "FA"
          ],
          [
           "Borders, Breon",
           "ARI"
          ],
          [
           "Lammons, Chris",
           "KCC"
          ],
          [
           "Scott, Josiah",
           "PHI"
          ],
          [
           "Hand, Harrison",
           "MIN"
          ],
          [
           "Roberts, Darryl",
           "WAS"
          ],
          [
           "Thomas-Oliver, Stantley",
           "CAR"
          ],
          [
           "Elder, Corn",
           "WAS"
          ],
          [
           "Farley, Caleb",
           "TEN"
          ],
          [
           "Canady, Maurice",
           "DAL"
          ],
          [
           "Miller, Herb",
           "CLE"
          ],
          [
           "Smith, Ryan",
           "LAC"
          ],
          [
           "Smith, Tye",
           "FA"
          ],
          [
           "Ballentine, Corey",
           "ATL"
          ],
          [
           "Okudah, Jeff",
           "DET"
          ],
          [
           "Verrett, Jason",
           "SFO"
          ],
          [
           "Arnette, Damon",
           "KCC"
          ],
          [
           "Orr, Kareem",
           "LAR"
          ],
          [
           "Robey, Nickell",
           "FA"
          ],
          [
           "Robinson, Rashard",
           "TBB"
          ],
          [
           "Sheffield, Kendall",
           "ATL"
          ],
          [
           "Brooks, Antoine",
           "FA"
          ],
          [
           "Jackson, Josh",
           "FA"
          ],
          [
           "Campbell, Elijah",
           "MIA"
          ],
          [
           "Perry, Jamal",
           "MIA"
          ],
          [
           "Jackson, Michael",
           "SEA"
          ],
          [
           "Dennard, Darqueze",
           "SFO"
          ],
          [
           "Bassey, Essang",
           "FA"
          ],
          [
           "Beal, Sam",
           "FA"
          ],
          [
           "Crawley, Ken",
           "NOS"
          ],
          [
           "Gowan, Tay",
           "PHI"
          ],
          [
           "Keyes, Thakarius",
           "CHI"
          ],
          [
           "Williams, Rodarius",
           "NYG"
          ],
          [
           "Moreland, Jimmy",
           "HOU"
          ],
          [
           "Wade, Shaun",
           "NEP"
          ],
          [
           "Wildgoose, Rachad",
           "NYJ"
          ],
          [
           "Brown, Tony",
           "FA"
          ],
          [
           "Dawson, Duke",
           "FA"
          ],
          [
           "Haley, Grant",
           "LAR"
          ],
          [
           "Harper, Madre",
           "CAR"
          ],
          [
           "Hayden, D.J.",
           "WAS"
          ],
          [
           "Hill, Holton",
           "FA"
          ],
          [
           "Jackson, Lamar",
           "CHI"
          ],
          [
           "Miller, Jordan",
           "NOS"
          ],
          [
           "Motley, Parnell",
           "DET"
          ],
          [
           "Mukuamu, Israel",
           "DAL"
          ],
          [
           "Ojemudia, Michael",
           "DEN"
          ],
          [
           "Poole, Brian",
           "FA"
          ],
          [
           "Pride, Troy",
           "CAR"
          ],
          [
           "Vincent, Kary",
           "PHI"
          ],
          [
           "Wreh-Wilson, Blidi",
           "FA"
          ]
         ],
         "hovertemplate": "Position=CB<br>Salary=%{x}<br>Pts=%{y}<br>Player=%{customdata[0]}<br>Team=%{customdata[1]}<extra></extra>",
         "legendgroup": "CB",
         "marker": {
          "color": "#FECB52",
          "symbol": "circle"
         },
         "mode": "markers",
         "name": "CB",
         "showlegend": true,
         "type": "scattergl",
         "x": [
          43.25,
          10,
          17.41,
          34.82,
          17.41,
          17.41,
          1,
          1.44,
          12,
          1,
          34.82,
          17.41,
          1.44,
          1,
          43.25,
          10,
          19.01,
          26.66,
          1,
          49.76,
          4.8,
          1.44,
          17.28,
          3.6,
          1,
          14.4,
          1,
          12,
          14.4,
          1,
          42,
          1.2,
          1.2,
          25.2,
          2.4,
          1.2,
          1,
          31.1,
          10.8,
          4.8,
          21.62,
          14.4,
          14.4,
          14.4,
          2.4,
          1.2,
          1,
          1,
          1,
          4.8,
          1.2,
          1,
          1,
          29.38,
          1,
          37.32,
          12,
          1,
          18,
          1.2,
          1.2,
          1.44,
          1.2,
          1,
          15.6,
          1.44,
          1,
          1,
          17.28,
          1,
          1.44,
          1,
          4.8,
          8.4,
          17.28,
          21.62,
          9.6,
          14.4,
          1,
          19.01,
          1,
          5.76,
          1.2,
          10.8,
          1,
          2.88,
          1,
          1,
          1.44,
          21.6,
          1,
          22.46,
          1,
          2.88,
          14.4,
          13.2,
          1,
          12,
          12,
          4.8,
          1,
          1.2,
          1,
          48.55,
          12.1,
          1.44,
          1.2,
          1,
          5.76,
          1,
          1,
          1,
          1,
          10.8,
          1,
          1.2,
          17.28,
          1,
          14.4,
          1,
          2.4,
          1,
          1.2,
          1,
          12,
          1.2,
          1.2,
          49.76,
          1,
          1.73,
          1.44,
          30.24,
          1.2,
          1,
          1,
          1,
          1,
          1.2,
          1,
          1.2,
          1,
          14.4,
          1,
          1,
          1.2,
          1,
          1.2,
          14.4,
          2.4,
          12.44,
          1,
          1,
          1,
          1,
          1,
          35.84,
          1.73,
          1.2,
          1,
          1.2,
          30.24,
          1.2,
          1.2,
          1,
          1,
          1,
          1,
          4.8,
          1,
          1,
          3.6,
          1,
          1,
          7.2,
          1,
          1.2,
          1,
          1,
          1,
          1,
          1,
          1,
          1,
          1.2,
          1,
          1,
          5.76,
          1,
          8.64,
          1,
          1,
          1,
          1.2,
          4.32,
          1,
          1,
          4.8,
          1,
          1,
          1,
          1,
          1.2,
          5.76,
          12.44,
          1,
          1,
          13.82,
          1,
          12,
          1.44,
          14.4,
          1,
          1,
          1,
          1,
          1,
          1,
          1,
          1.2,
          1,
          1.2,
          19.01,
          1.2,
          2.4,
          1,
          1,
          1,
          1,
          1,
          1,
          1,
          6.91,
          1,
          1.2,
          1.44,
          1,
          1,
          1.2,
          1
         ],
         "xaxis": "x",
         "y": [
          170.6,
          167.85,
          156.6,
          149.6,
          142.75,
          140.5,
          138.7,
          133.75,
          133.45,
          127.95,
          127.25,
          127.05,
          126.3,
          124.6,
          124.55,
          124.05,
          122.4,
          121.55,
          121.4,
          121.15,
          120.75,
          120.4,
          113.85,
          111.3,
          109.85,
          109.3,
          108.8,
          107.65,
          107.05,
          105.75,
          105.6,
          105,
          104.5,
          103.7,
          102.4,
          102.4,
          102.05,
          101.75,
          101.75,
          100.15,
          99.5,
          98.45,
          96.3,
          92,
          91.85,
          91.5,
          90,
          90,
          89.75,
          89.5,
          86.25,
          85.95,
          85,
          84.85,
          84.5,
          83.8,
          81.35,
          81.25,
          80.85,
          80.05,
          80,
          79.15,
          78.3,
          78.25,
          77.25,
          77,
          75.2,
          74.25,
          74,
          73.85,
          73.4,
          73.25,
          72.3,
          72,
          71,
          70.6,
          70.25,
          69.25,
          68.45,
          68,
          67.45,
          67.25,
          67.15,
          66.75,
          66.5,
          63.75,
          63.75,
          62.5,
          62.25,
          61.75,
          61.5,
          61.5,
          60.4,
          60.2,
          60,
          59.75,
          58.75,
          58.4,
          58.25,
          57.75,
          55.75,
          55.25,
          54.35,
          53.5,
          53.25,
          52.6,
          51.15,
          49.25,
          49.25,
          49,
          47.25,
          47,
          46.25,
          45.65,
          44.25,
          43.9,
          43.45,
          43.05,
          42.3,
          41,
          40.4,
          40.25,
          39.5,
          39.25,
          37.65,
          37.5,
          36.7,
          35.9,
          35.75,
          34.75,
          34.6,
          34.25,
          33.75,
          33,
          31,
          30.5,
          29.85,
          29.8,
          29.3,
          28,
          26.1,
          26,
          25.25,
          25,
          24.75,
          24.7,
          23.75,
          23.6,
          23,
          22.75,
          22.5,
          21.75,
          21,
          21,
          19.5,
          19.25,
          18,
          18,
          17.5,
          17.5,
          16.25,
          16,
          15.25,
          15.25,
          15.25,
          14.25,
          14.25,
          14.1,
          13.5,
          13.5,
          13.5,
          13.25,
          12.75,
          12.65,
          12,
          12,
          11.25,
          10.5,
          10.5,
          10.5,
          10.5,
          10.25,
          10,
          9.75,
          9.75,
          9,
          9,
          9,
          9,
          8.75,
          8.75,
          8.25,
          7.5,
          7.5,
          7.5,
          7,
          7,
          6.75,
          6.75,
          6.75,
          6.75,
          6.7,
          6.25,
          6,
          5.5,
          5.25,
          5.25,
          5.25,
          4.5,
          3.75,
          3.75,
          3,
          3,
          2.75,
          2.25,
          1.5,
          1.5,
          1.5,
          1.5,
          1.5,
          1.5,
          0.75,
          0.75,
          0.75,
          0,
          0,
          0,
          0,
          0,
          0,
          0,
          0,
          0,
          0,
          0,
          0,
          0,
          0,
          0
         ],
         "yaxis": "y"
        },
        {
         "customdata": [
          [
           "Ravens, Baltimore",
           "BAL"
          ],
          [
           "Patriots, New England",
           "NEP"
          ],
          [
           "Rams, Los Angeles",
           "LAR"
          ],
          [
           "Steelers, Pittsburgh",
           "PIT"
          ],
          [
           "Bengals, Cincinnati",
           "CIN"
          ],
          [
           "Raiders, Las Vegas",
           "LVR"
          ],
          [
           "Vikings, Minnesota",
           "MIN"
          ],
          [
           "Colts, Indianapolis",
           "IND"
          ],
          [
           "Chiefs, Kansas City",
           "KCC"
          ],
          [
           "Eagles, Philadelphia",
           "PHI"
          ],
          [
           "Cardinals, Arizona",
           "ARI"
          ],
          [
           "Bills, Buffalo",
           "BUF"
          ],
          [
           "Packers, Green Bay",
           "GBP"
          ],
          [
           "Cowboys, Dallas",
           "DAL"
          ],
          [
           "Giants, New York",
           "NYG"
          ],
          [
           "49ers, San Francisco",
           "SFO"
          ],
          [
           "Broncos, Denver",
           "DEN"
          ],
          [
           "Falcons, Atlanta",
           "ATL"
          ],
          [
           "Titans, Tennessee",
           "TEN"
          ],
          [
           "Panthers, Carolina",
           "CAR"
          ],
          [
           "Buccaneers, Tampa Bay",
           "TBB"
          ],
          [
           "FootballTeam, Washington",
           "WAS"
          ],
          [
           "Lions, Detroit",
           "DET"
          ],
          [
           "Chargers, Los Angeles",
           "LAC"
          ],
          [
           "Dolphins, Miami",
           "MIA"
          ],
          [
           "Bears, Chicago",
           "CHI"
          ],
          [
           "Seahawks, Seattle",
           "SEA"
          ],
          [
           "Jets, New York",
           "NYJ"
          ],
          [
           "Texans, Houston",
           "HOU"
          ],
          [
           "Browns, Cleveland",
           "CLE"
          ],
          [
           "Saints, New Orleans",
           "NOS"
          ],
          [
           "Jaguars, Jacksonville",
           "JAC"
          ]
         ],
         "hovertemplate": "Position=TMPK<br>Salary=%{x}<br>Pts=%{y}<br>Player=%{customdata[0]}<br>Team=%{customdata[1]}<extra></extra>",
         "legendgroup": "TMPK",
         "marker": {
          "color": "#636efa",
          "symbol": "circle"
         },
         "mode": "markers",
         "name": "TMPK",
         "showlegend": true,
         "type": "scattergl",
         "x": [
          1,
          1.2,
          1,
          2.4,
          4.8,
          1.44,
          1.44,
          3.46,
          1,
          1.44,
          14.98,
          1,
          1,
          1,
          1.44,
          1.2,
          1.2,
          3.46,
          1.2,
          4.32,
          1.73,
          1.44,
          4.32,
          1.44,
          1.44,
          3.6,
          1.73,
          1.2,
          1.2,
          1.44,
          1,
          1.73
         ],
         "xaxis": "x",
         "y": [
          167.6,
          164.6,
          163.2,
          158.65,
          158.3,
          157.3,
          150,
          149.4,
          148.2,
          147.9,
          144.5,
          140.2,
          138.6,
          136.8,
          133.5,
          132,
          131.6,
          129.1,
          128.1,
          126.7,
          124.8,
          117,
          113.5,
          113.4,
          110.5,
          107.4,
          102,
          99.2,
          94.6,
          94.5,
          92.8,
          74.9
         ],
         "yaxis": "y"
        }
       ],
       "layout": {
        "legend": {
         "title": {
          "text": "Position"
         },
         "tracegroupgap": 0
        },
        "margin": {
         "t": 60
        },
        "template": {
         "data": {
          "bar": [
           {
            "error_x": {
             "color": "#2a3f5f"
            },
            "error_y": {
             "color": "#2a3f5f"
            },
            "marker": {
             "line": {
              "color": "#E5ECF6",
              "width": 0.5
             },
             "pattern": {
              "fillmode": "overlay",
              "size": 10,
              "solidity": 0.2
             }
            },
            "type": "bar"
           }
          ],
          "barpolar": [
           {
            "marker": {
             "line": {
              "color": "#E5ECF6",
              "width": 0.5
             },
             "pattern": {
              "fillmode": "overlay",
              "size": 10,
              "solidity": 0.2
             }
            },
            "type": "barpolar"
           }
          ],
          "carpet": [
           {
            "aaxis": {
             "endlinecolor": "#2a3f5f",
             "gridcolor": "white",
             "linecolor": "white",
             "minorgridcolor": "white",
             "startlinecolor": "#2a3f5f"
            },
            "baxis": {
             "endlinecolor": "#2a3f5f",
             "gridcolor": "white",
             "linecolor": "white",
             "minorgridcolor": "white",
             "startlinecolor": "#2a3f5f"
            },
            "type": "carpet"
           }
          ],
          "choropleth": [
           {
            "colorbar": {
             "outlinewidth": 0,
             "ticks": ""
            },
            "type": "choropleth"
           }
          ],
          "contour": [
           {
            "colorbar": {
             "outlinewidth": 0,
             "ticks": ""
            },
            "colorscale": [
             [
              0,
              "#0d0887"
             ],
             [
              0.1111111111111111,
              "#46039f"
             ],
             [
              0.2222222222222222,
              "#7201a8"
             ],
             [
              0.3333333333333333,
              "#9c179e"
             ],
             [
              0.4444444444444444,
              "#bd3786"
             ],
             [
              0.5555555555555556,
              "#d8576b"
             ],
             [
              0.6666666666666666,
              "#ed7953"
             ],
             [
              0.7777777777777778,
              "#fb9f3a"
             ],
             [
              0.8888888888888888,
              "#fdca26"
             ],
             [
              1,
              "#f0f921"
             ]
            ],
            "type": "contour"
           }
          ],
          "contourcarpet": [
           {
            "colorbar": {
             "outlinewidth": 0,
             "ticks": ""
            },
            "type": "contourcarpet"
           }
          ],
          "heatmap": [
           {
            "colorbar": {
             "outlinewidth": 0,
             "ticks": ""
            },
            "colorscale": [
             [
              0,
              "#0d0887"
             ],
             [
              0.1111111111111111,
              "#46039f"
             ],
             [
              0.2222222222222222,
              "#7201a8"
             ],
             [
              0.3333333333333333,
              "#9c179e"
             ],
             [
              0.4444444444444444,
              "#bd3786"
             ],
             [
              0.5555555555555556,
              "#d8576b"
             ],
             [
              0.6666666666666666,
              "#ed7953"
             ],
             [
              0.7777777777777778,
              "#fb9f3a"
             ],
             [
              0.8888888888888888,
              "#fdca26"
             ],
             [
              1,
              "#f0f921"
             ]
            ],
            "type": "heatmap"
           }
          ],
          "heatmapgl": [
           {
            "colorbar": {
             "outlinewidth": 0,
             "ticks": ""
            },
            "colorscale": [
             [
              0,
              "#0d0887"
             ],
             [
              0.1111111111111111,
              "#46039f"
             ],
             [
              0.2222222222222222,
              "#7201a8"
             ],
             [
              0.3333333333333333,
              "#9c179e"
             ],
             [
              0.4444444444444444,
              "#bd3786"
             ],
             [
              0.5555555555555556,
              "#d8576b"
             ],
             [
              0.6666666666666666,
              "#ed7953"
             ],
             [
              0.7777777777777778,
              "#fb9f3a"
             ],
             [
              0.8888888888888888,
              "#fdca26"
             ],
             [
              1,
              "#f0f921"
             ]
            ],
            "type": "heatmapgl"
           }
          ],
          "histogram": [
           {
            "marker": {
             "pattern": {
              "fillmode": "overlay",
              "size": 10,
              "solidity": 0.2
             }
            },
            "type": "histogram"
           }
          ],
          "histogram2d": [
           {
            "colorbar": {
             "outlinewidth": 0,
             "ticks": ""
            },
            "colorscale": [
             [
              0,
              "#0d0887"
             ],
             [
              0.1111111111111111,
              "#46039f"
             ],
             [
              0.2222222222222222,
              "#7201a8"
             ],
             [
              0.3333333333333333,
              "#9c179e"
             ],
             [
              0.4444444444444444,
              "#bd3786"
             ],
             [
              0.5555555555555556,
              "#d8576b"
             ],
             [
              0.6666666666666666,
              "#ed7953"
             ],
             [
              0.7777777777777778,
              "#fb9f3a"
             ],
             [
              0.8888888888888888,
              "#fdca26"
             ],
             [
              1,
              "#f0f921"
             ]
            ],
            "type": "histogram2d"
           }
          ],
          "histogram2dcontour": [
           {
            "colorbar": {
             "outlinewidth": 0,
             "ticks": ""
            },
            "colorscale": [
             [
              0,
              "#0d0887"
             ],
             [
              0.1111111111111111,
              "#46039f"
             ],
             [
              0.2222222222222222,
              "#7201a8"
             ],
             [
              0.3333333333333333,
              "#9c179e"
             ],
             [
              0.4444444444444444,
              "#bd3786"
             ],
             [
              0.5555555555555556,
              "#d8576b"
             ],
             [
              0.6666666666666666,
              "#ed7953"
             ],
             [
              0.7777777777777778,
              "#fb9f3a"
             ],
             [
              0.8888888888888888,
              "#fdca26"
             ],
             [
              1,
              "#f0f921"
             ]
            ],
            "type": "histogram2dcontour"
           }
          ],
          "mesh3d": [
           {
            "colorbar": {
             "outlinewidth": 0,
             "ticks": ""
            },
            "type": "mesh3d"
           }
          ],
          "parcoords": [
           {
            "line": {
             "colorbar": {
              "outlinewidth": 0,
              "ticks": ""
             }
            },
            "type": "parcoords"
           }
          ],
          "pie": [
           {
            "automargin": true,
            "type": "pie"
           }
          ],
          "scatter": [
           {
            "marker": {
             "colorbar": {
              "outlinewidth": 0,
              "ticks": ""
             }
            },
            "type": "scatter"
           }
          ],
          "scatter3d": [
           {
            "line": {
             "colorbar": {
              "outlinewidth": 0,
              "ticks": ""
             }
            },
            "marker": {
             "colorbar": {
              "outlinewidth": 0,
              "ticks": ""
             }
            },
            "type": "scatter3d"
           }
          ],
          "scattercarpet": [
           {
            "marker": {
             "colorbar": {
              "outlinewidth": 0,
              "ticks": ""
             }
            },
            "type": "scattercarpet"
           }
          ],
          "scattergeo": [
           {
            "marker": {
             "colorbar": {
              "outlinewidth": 0,
              "ticks": ""
             }
            },
            "type": "scattergeo"
           }
          ],
          "scattergl": [
           {
            "marker": {
             "colorbar": {
              "outlinewidth": 0,
              "ticks": ""
             }
            },
            "type": "scattergl"
           }
          ],
          "scattermapbox": [
           {
            "marker": {
             "colorbar": {
              "outlinewidth": 0,
              "ticks": ""
             }
            },
            "type": "scattermapbox"
           }
          ],
          "scatterpolar": [
           {
            "marker": {
             "colorbar": {
              "outlinewidth": 0,
              "ticks": ""
             }
            },
            "type": "scatterpolar"
           }
          ],
          "scatterpolargl": [
           {
            "marker": {
             "colorbar": {
              "outlinewidth": 0,
              "ticks": ""
             }
            },
            "type": "scatterpolargl"
           }
          ],
          "scatterternary": [
           {
            "marker": {
             "colorbar": {
              "outlinewidth": 0,
              "ticks": ""
             }
            },
            "type": "scatterternary"
           }
          ],
          "surface": [
           {
            "colorbar": {
             "outlinewidth": 0,
             "ticks": ""
            },
            "colorscale": [
             [
              0,
              "#0d0887"
             ],
             [
              0.1111111111111111,
              "#46039f"
             ],
             [
              0.2222222222222222,
              "#7201a8"
             ],
             [
              0.3333333333333333,
              "#9c179e"
             ],
             [
              0.4444444444444444,
              "#bd3786"
             ],
             [
              0.5555555555555556,
              "#d8576b"
             ],
             [
              0.6666666666666666,
              "#ed7953"
             ],
             [
              0.7777777777777778,
              "#fb9f3a"
             ],
             [
              0.8888888888888888,
              "#fdca26"
             ],
             [
              1,
              "#f0f921"
             ]
            ],
            "type": "surface"
           }
          ],
          "table": [
           {
            "cells": {
             "fill": {
              "color": "#EBF0F8"
             },
             "line": {
              "color": "white"
             }
            },
            "header": {
             "fill": {
              "color": "#C8D4E3"
             },
             "line": {
              "color": "white"
             }
            },
            "type": "table"
           }
          ]
         },
         "layout": {
          "annotationdefaults": {
           "arrowcolor": "#2a3f5f",
           "arrowhead": 0,
           "arrowwidth": 1
          },
          "autotypenumbers": "strict",
          "coloraxis": {
           "colorbar": {
            "outlinewidth": 0,
            "ticks": ""
           }
          },
          "colorscale": {
           "diverging": [
            [
             0,
             "#8e0152"
            ],
            [
             0.1,
             "#c51b7d"
            ],
            [
             0.2,
             "#de77ae"
            ],
            [
             0.3,
             "#f1b6da"
            ],
            [
             0.4,
             "#fde0ef"
            ],
            [
             0.5,
             "#f7f7f7"
            ],
            [
             0.6,
             "#e6f5d0"
            ],
            [
             0.7,
             "#b8e186"
            ],
            [
             0.8,
             "#7fbc41"
            ],
            [
             0.9,
             "#4d9221"
            ],
            [
             1,
             "#276419"
            ]
           ],
           "sequential": [
            [
             0,
             "#0d0887"
            ],
            [
             0.1111111111111111,
             "#46039f"
            ],
            [
             0.2222222222222222,
             "#7201a8"
            ],
            [
             0.3333333333333333,
             "#9c179e"
            ],
            [
             0.4444444444444444,
             "#bd3786"
            ],
            [
             0.5555555555555556,
             "#d8576b"
            ],
            [
             0.6666666666666666,
             "#ed7953"
            ],
            [
             0.7777777777777778,
             "#fb9f3a"
            ],
            [
             0.8888888888888888,
             "#fdca26"
            ],
            [
             1,
             "#f0f921"
            ]
           ],
           "sequentialminus": [
            [
             0,
             "#0d0887"
            ],
            [
             0.1111111111111111,
             "#46039f"
            ],
            [
             0.2222222222222222,
             "#7201a8"
            ],
            [
             0.3333333333333333,
             "#9c179e"
            ],
            [
             0.4444444444444444,
             "#bd3786"
            ],
            [
             0.5555555555555556,
             "#d8576b"
            ],
            [
             0.6666666666666666,
             "#ed7953"
            ],
            [
             0.7777777777777778,
             "#fb9f3a"
            ],
            [
             0.8888888888888888,
             "#fdca26"
            ],
            [
             1,
             "#f0f921"
            ]
           ]
          },
          "colorway": [
           "#636efa",
           "#EF553B",
           "#00cc96",
           "#ab63fa",
           "#FFA15A",
           "#19d3f3",
           "#FF6692",
           "#B6E880",
           "#FF97FF",
           "#FECB52"
          ],
          "font": {
           "color": "#2a3f5f"
          },
          "geo": {
           "bgcolor": "white",
           "lakecolor": "white",
           "landcolor": "#E5ECF6",
           "showlakes": true,
           "showland": true,
           "subunitcolor": "white"
          },
          "hoverlabel": {
           "align": "left"
          },
          "hovermode": "closest",
          "mapbox": {
           "style": "light"
          },
          "paper_bgcolor": "white",
          "plot_bgcolor": "#E5ECF6",
          "polar": {
           "angularaxis": {
            "gridcolor": "white",
            "linecolor": "white",
            "ticks": ""
           },
           "bgcolor": "#E5ECF6",
           "radialaxis": {
            "gridcolor": "white",
            "linecolor": "white",
            "ticks": ""
           }
          },
          "scene": {
           "xaxis": {
            "backgroundcolor": "#E5ECF6",
            "gridcolor": "white",
            "gridwidth": 2,
            "linecolor": "white",
            "showbackground": true,
            "ticks": "",
            "zerolinecolor": "white"
           },
           "yaxis": {
            "backgroundcolor": "#E5ECF6",
            "gridcolor": "white",
            "gridwidth": 2,
            "linecolor": "white",
            "showbackground": true,
            "ticks": "",
            "zerolinecolor": "white"
           },
           "zaxis": {
            "backgroundcolor": "#E5ECF6",
            "gridcolor": "white",
            "gridwidth": 2,
            "linecolor": "white",
            "showbackground": true,
            "ticks": "",
            "zerolinecolor": "white"
           }
          },
          "shapedefaults": {
           "line": {
            "color": "#2a3f5f"
           }
          },
          "ternary": {
           "aaxis": {
            "gridcolor": "white",
            "linecolor": "white",
            "ticks": ""
           },
           "baxis": {
            "gridcolor": "white",
            "linecolor": "white",
            "ticks": ""
           },
           "bgcolor": "#E5ECF6",
           "caxis": {
            "gridcolor": "white",
            "linecolor": "white",
            "ticks": ""
           }
          },
          "title": {
           "x": 0.05
          },
          "xaxis": {
           "automargin": true,
           "gridcolor": "white",
           "linecolor": "white",
           "ticks": "",
           "title": {
            "standoff": 15
           },
           "zerolinecolor": "white",
           "zerolinewidth": 2
          },
          "yaxis": {
           "automargin": true,
           "gridcolor": "white",
           "linecolor": "white",
           "ticks": "",
           "title": {
            "standoff": 15
           },
           "zerolinecolor": "white",
           "zerolinewidth": 2
          }
         }
        },
        "xaxis": {
         "anchor": "y",
         "domain": [
          0,
          1
         ],
         "title": {
          "text": "Salary"
         },
         "type": "log"
        },
        "yaxis": {
         "anchor": "x",
         "domain": [
          0,
          1
         ],
         "title": {
          "text": "Pts"
         }
        }
       }
      }
     },
     "metadata": {},
     "output_type": "display_data"
    }
   ],
   "source": [
    "px.scatter(bcPlayers2021,\n",
    "           x = 'Salary', \n",
    "           y = 'Pts',\n",
    "           color = 'Position',\n",
    "           hover_data=[bcPlayers2021['Player'], bcPlayers2021['Team']],\n",
    "           log_x=True\n",
    "           )"
   ]
  },
  {
   "cell_type": "code",
   "execution_count": 65,
   "metadata": {},
   "outputs": [
    {
     "data": {
      "application/vnd.plotly.v1+json": {
       "config": {
        "plotlyServerURL": "https://plotly.com"
       },
       "data": [
        {
         "alignmentgroup": "True",
         "boxpoints": "all",
         "customdata": [
          [
           "Bills, Buffalo",
           "BUF"
          ],
          [
           "Buccaneers, Tampa Bay",
           "TBB"
          ],
          [
           "Ravens, Baltimore",
           "BAL"
          ],
          [
           "Cardinals, Arizona",
           "ARI"
          ],
          [
           "Chargers, Los Angeles",
           "LAC"
          ],
          [
           "Chiefs, Kansas City",
           "KCC"
          ],
          [
           "Cowboys, Dallas",
           "DAL"
          ],
          [
           "Packers, Green Bay",
           "GBP"
          ],
          [
           "Eagles, Philadelphia",
           "PHI"
          ],
          [
           "Bengals, Cincinnati",
           "CIN"
          ],
          [
           "Rams, Los Angeles",
           "LAR"
          ],
          [
           "Saints, New Orleans",
           "NOS"
          ],
          [
           "Kupp, Cooper",
           "LAR"
          ],
          [
           "Vikings, Minnesota",
           "MIN"
          ],
          [
           "Taylor, Jonathan",
           "IND"
          ],
          [
           "49ers, San Francisco",
           "SFO"
          ],
          [
           "Raiders, Las Vegas",
           "LVR"
          ],
          [
           "Seahawks, Seattle",
           "SEA"
          ],
          [
           "Dolphins, Miami",
           "MIA"
          ],
          [
           "Panthers, Carolina",
           "CAR"
          ],
          [
           "Broncos, Denver",
           "DEN"
          ],
          [
           "FootballTeam, Washington",
           "WAS"
          ],
          [
           "Titans, Tennessee",
           "TEN"
          ],
          [
           "Jets, New York",
           "NYJ"
          ],
          [
           "Steelers, Pittsburgh",
           "PIT"
          ],
          [
           "Colts, Indianapolis",
           "IND"
          ],
          [
           "Adams, Davante",
           "GBP"
          ],
          [
           "Patriots, New England",
           "NEP"
          ],
          [
           "Mixon, Joe",
           "CIN"
          ],
          [
           "Samuel, Deebo",
           "SFO"
          ],
          [
           "Bears, Chicago",
           "CHI"
          ],
          [
           "Harris, Najee",
           "PIT"
          ],
          [
           "Texans, Houston",
           "HOU"
          ],
          [
           "Ekeler, Austin",
           "LAC"
          ],
          [
           "Giants, New York",
           "NYG"
          ],
          [
           "Falcons, Atlanta",
           "ATL"
          ],
          [
           "Lions, Detroit",
           "DET"
          ],
          [
           "Jefferson, Justin",
           "MIN"
          ],
          [
           "Chase, Ja'Marr",
           "CIN"
          ],
          [
           "Hill, Tyreek",
           "KCC"
          ],
          [
           "Browns, Cleveland",
           "CLE"
          ],
          [
           "Jaguars, Jacksonville",
           "JAC"
          ],
          [
           "Andrews, Mark",
           "BAL"
          ],
          [
           "Renfrow, Hunter",
           "LVR"
          ],
          [
           "Patterson, Cordarrelle",
           "ATL"
          ],
          [
           "Elliott, Ezekiel",
           "DAL"
          ],
          [
           "Diggs, Stefon",
           "BUF"
          ],
          [
           "Johnson, Diontae",
           "PIT"
          ],
          [
           "Fournette, Leonard",
           "TBB"
          ],
          [
           "Waddle, Jaylen",
           "MIA"
          ],
          [
           "Conner, James",
           "ARI"
          ],
          [
           "Kelce, Travis",
           "KCC"
          ],
          [
           "Allen, Keenan",
           "LAC"
          ],
          [
           "Chubb, Nick",
           "CLE"
          ],
          [
           "Oluokun, Foyesade",
           "ATL"
          ],
          [
           "Godwin, Chris",
           "TBB"
          ],
          [
           "Lamb, CeeDee",
           "DAL"
          ],
          [
           "Kamara, Alvin",
           "NOS"
          ],
          [
           "Evans, Mike",
           "TBB"
          ],
          [
           "Jones, Aaron",
           "GBP"
          ],
          [
           "Moore, D.J.",
           "CAR"
          ],
          [
           "Gibson, Antonio",
           "WAS"
          ],
          [
           "Metcalf, DK",
           "SEA"
          ],
          [
           "Raiders, Las Vegas",
           "LVR"
          ],
          [
           "Donald, Aaron",
           "LAR"
          ],
          [
           "Henry, Derrick",
           "TEN"
          ],
          [
           "Cooks, Brandin",
           "HOU"
          ],
          [
           "Seahawks, Seattle",
           "SEA"
          ],
          [
           "Harris, Damien",
           "NEP"
          ],
          [
           "Cook, Dalvin",
           "MIN"
          ],
          [
           "Higgins, Tee",
           "CIN"
          ],
          [
           "Campbell, De'Vondre",
           "GBP"
          ],
          [
           "Brown, Marquise",
           "BAL"
          ],
          [
           "Pittman, Michael",
           "IND"
          ],
          [
           "Smith, Roquan",
           "CHI"
          ],
          [
           "Williams, Mike",
           "LAC"
          ],
          [
           "Bosa, Nick",
           "SFO"
          ],
          [
           "Williams, Javonte",
           "DEN"
          ],
          [
           "Jacobs, Josh",
           "LVR"
          ],
          [
           "Leonard, Darius",
           "IND"
          ],
          [
           "Wagner, Bobby",
           "SEA"
          ],
          [
           "Watt, T.J.",
           "PIT"
          ],
          [
           "Lockett, Tyler",
           "SEA"
          ],
          [
           "Heyward, Cameron",
           "PIT"
          ],
          [
           "Texans, Houston",
           "HOU"
          ],
          [
           "Saints, New Orleans",
           "NOS"
          ],
          [
           "Pollard, Tony",
           "DAL"
          ],
          [
           "Kendricks, Eric",
           "MIN"
          ],
          [
           "Mosley, C.J.",
           "NYJ"
          ],
          [
           "Montgomery, David",
           "CHI"
          ],
          [
           "McLaurin, Terry",
           "WAS"
          ],
          [
           "Mooney, Darnell",
           "CHI"
          ],
          [
           "Brooks, Jordyn",
           "SEA"
          ],
          [
           "Garrett, Myles",
           "CLE"
          ],
          [
           "Parsons, Micah",
           "DAL"
          ],
          [
           "St. Brown, Amon-Ra",
           "DET"
          ],
          [
           "Kirk, Christian",
           "ARI"
          ],
          [
           "Gordon, Melvin",
           "DEN"
          ],
          [
           "Cowboys, Dallas",
           "DAL"
          ],
          [
           "Lions, Detroit",
           "DET"
          ],
          [
           "Thielen, Adam",
           "MIN"
          ],
          [
           "Dillon, AJ",
           "GBP"
          ],
          [
           "Williams, Darrel",
           "KCC"
          ],
          [
           "Holcomb, Cole",
           "WAS"
          ],
          [
           "White, Kyzir",
           "LAC"
          ],
          [
           "Berrios, Braxton",
           "NYJ"
          ],
          [
           "Robinson, James",
           "JAC"
          ],
          [
           "Reddick, Haason",
           "CAR"
          ],
          [
           "Kittle, George",
           "SFO"
          ],
          [
           "Swift, D'Andre",
           "DET"
          ],
          [
           "Schultz, Dalton",
           "DAL"
          ],
          [
           "Singletary, Devin",
           "BUF"
          ],
          [
           "Perryman, Denzel",
           "LVR"
          ],
          [
           "Cooper, Amari",
           "DAL"
          ],
          [
           "Jordan, Cameron",
           "NOS"
          ],
          [
           "Boyd, Tyler",
           "CIN"
          ],
          [
           "Jaguars, Jacksonville",
           "JAC"
          ],
          [
           "Smith, DeVonta",
           "PHI"
          ],
          [
           "Singleton, Alex",
           "PHI"
          ],
          [
           "FootballTeam, Washington",
           "WAS"
          ],
          [
           "Gaskin, Myles",
           "MIA"
          ],
          [
           "Vikings, Minnesota",
           "MIN"
          ],
          [
           "Mitchell, Elijah",
           "SFO"
          ],
          [
           "Jones, Deion",
           "ATL"
          ],
          [
           "Meyers, Jakobi",
           "NEP"
          ],
          [
           "Aiyuk, Brandon",
           "SFO"
          ],
          [
           "Broncos, Denver",
           "DEN"
          ],
          [
           "Okereke, Bobby",
           "IND"
          ],
          [
           "Quinn, Robert",
           "CHI"
          ],
          [
           "Bosa, Joey",
           "LAC"
          ],
          [
           "Hicks, Jordan",
           "ARI"
          ],
          [
           "White, Devin",
           "TBB"
          ],
          [
           "Harris, Deonte",
           "NOS"
          ],
          [
           "Pitts, Kyle",
           "ATL"
          ],
          [
           "Dolphins, Miami",
           "MIA"
          ],
          [
           "Henderson, Darrell",
           "LAR"
          ],
          [
           "Cardinals, Arizona",
           "ARI"
          ],
          [
           "Bourne, Kendrick",
           "NEP"
          ],
          [
           "Jets, New York",
           "NYJ"
          ],
          [
           "James, Derwin",
           "LAC"
          ],
          [
           "Michel, Sony",
           "LAR"
          ],
          [
           "Byard, Kevin",
           "TEN"
          ],
          [
           "Smith, Harrison",
           "MIN"
          ],
          [
           "Ravens, Baltimore",
           "BAL"
          ],
          [
           "Brown, A.J.",
           "TEN"
          ],
          [
           "Bears, Chicago",
           "CHI"
          ],
          [
           "Hendrickson, Trey",
           "CIN"
          ],
          [
           "Packers, Green Bay",
           "GBP"
          ],
          [
           "Giants, New York",
           "NYG"
          ],
          [
           "Fitzpatrick, Minkah",
           "PIT"
          ],
          [
           "Moore, Kenny",
           "IND"
          ],
          [
           "Allen, Josh",
           "JAC"
          ],
          [
           "Woods, Xavier",
           "MIN"
          ],
          [
           "Colts, Indianapolis",
           "IND"
          ],
          [
           "Patriots, New England",
           "NEP"
          ],
          [
           "Wilkins, Christian",
           "MIA"
          ],
          [
           "Diggs, Trevon",
           "DAL"
          ],
          [
           "Bengals, Cincinnati",
           "CIN"
          ],
          [
           "Falcons, Atlanta",
           "ATL"
          ],
          [
           "Ravens, Baltimore",
           "BAL"
          ],
          [
           "Warner, Fred",
           "SFO"
          ],
          [
           "Edwards, T.J.",
           "PHI"
          ],
          [
           "Goedert, Dallas",
           "PHI"
          ],
          [
           "Ertz, Zach",
           "ARI"
          ],
          [
           "Jefferson, Van",
           "LAR"
          ],
          [
           "Carter, DeAndre",
           "WAS"
          ],
          [
           "Gesicki, Mike",
           "MIA"
          ],
          [
           "Knox, Dawson",
           "BUF"
          ],
          [
           "Burns, Brian",
           "CAR"
          ],
          [
           "Patriots, New England",
           "NEP"
          ],
          [
           "Harris, Charles",
           "DET"
          ],
          [
           "Pringle, Byron",
           "KCC"
          ],
          [
           "Simmons, Isaiah",
           "ARI"
          ],
          [
           "Grugier-Hill, Kamu",
           "HOU"
          ],
          [
           "Rams, Los Angeles",
           "LAR"
          ],
          [
           "Carter, Michael",
           "NYJ"
          ],
          [
           "Titans, Tennessee",
           "TEN"
          ],
          [
           "Williams, Leonard",
           "NYG"
          ],
          [
           "Steelers, Pittsburgh",
           "PIT"
          ],
          [
           "Williams, Quincy",
           "NYJ"
          ],
          [
           "Hubbard, Sam",
           "CIN"
          ],
          [
           "Chiefs, Kansas City",
           "KCC"
          ],
          [
           "Fant, Noah",
           "DEN"
          ],
          [
           "Jones, Marvin",
           "JAC"
          ],
          [
           "Rams, Los Angeles",
           "LAR"
          ],
          [
           "Chinn, Jeremy",
           "CAR"
          ],
          [
           "Browns, Cleveland",
           "CLE"
          ],
          [
           "49ers, San Francisco",
           "SFO"
          ],
          [
           "Steelers, Pittsburgh",
           "PIT"
          ],
          [
           "Duvernay, Devin",
           "BAL"
          ],
          [
           "Poyer, Jordan",
           "BUF"
          ],
          [
           "Bengals, Cincinnati",
           "CIN"
          ],
          [
           "Thompson, Jalen",
           "ARI"
          ],
          [
           "Buckner, DeForest",
           "IND"
          ],
          [
           "Landry, Harold",
           "TEN"
          ],
          [
           "Raiders, Las Vegas",
           "LVR"
          ],
          [
           "Osborn, K.J.",
           "MIN"
          ],
          [
           "King, Desmond",
           "HOU"
          ],
          [
           "Ryan, Logan",
           "NYG"
          ],
          [
           "Baker, Budda",
           "ARI"
          ],
          [
           "Simmons, Jeffery",
           "TEN"
          ],
          [
           "Crowder, Tae",
           "NYG"
          ],
          [
           "Moore, Rondale",
           "ARI"
          ],
          [
           "Bell, Vonn",
           "CIN"
          ],
          [
           "Baker, Jerome",
           "MIA"
          ],
          [
           "Kearse, Jayron",
           "DAL"
          ],
          [
           "Booker, Devontae",
           "NYG"
          ],
          [
           "Buccaneers, Tampa Bay",
           "TBB"
          ],
          [
           "Hyde, Micah",
           "BUF"
          ],
          [
           "Dugger, Kyle",
           "NEP"
          ],
          [
           "Freeman, Devonta",
           "BAL"
          ],
          [
           "Wilson, Logan",
           "CIN"
          ],
          [
           "Green, A.J.",
           "ARI"
          ],
          [
           "Callaway, Marquez",
           "NOS"
          ],
          [
           "Beasley, Cole",
           "BUF"
          ],
          [
           "Panthers, Carolina",
           "CAR"
          ],
          [
           "Barkley, Saquon",
           "NYG"
          ],
          [
           "Hargrave, Javon",
           "PHI"
          ],
          [
           "McCloud, Ray-Ray",
           "PIT"
          ],
          [
           "Diggs, Quandre",
           "SEA"
          ],
          [
           "Claypool, Chase",
           "PIT"
          ],
          [
           "Henry, Hunter",
           "NEP"
          ],
          [
           "Hubbard, Chuba",
           "CAR"
          ],
          [
           "Allen, Jonathan",
           "WAS"
          ],
          [
           "Gronkowski, Rob",
           "TBB"
          ],
          [
           "Al-Shaair, Azeez",
           "SFO"
          ],
          [
           "Edmonds, Chase",
           "ARI"
          ],
          [
           "Vikings, Minnesota",
           "MIN"
          ],
          [
           "Simmons, Justin",
           "DEN"
          ],
          [
           "Jackson, J.C.",
           "NEP"
          ],
          [
           "Colts, Indianapolis",
           "IND"
          ],
          [
           "Hockenson, T.J.",
           "DET"
          ],
          [
           "Moore, Elijah",
           "NYJ"
          ],
          [
           "Ogbah, Emmanuel",
           "MIA"
          ],
          [
           "Thompson, Shaq",
           "CAR"
          ],
          [
           "Chiefs, Kansas City",
           "KCC"
          ],
          [
           "Eagles, Philadelphia",
           "PHI"
          ],
          [
           "McKinney, Xavier",
           "NYG"
          ],
          [
           "Schobert, Joe",
           "PIT"
          ],
          [
           "Sutton, Courtland",
           "DEN"
          ],
          [
           "Hopkins, DeAndre",
           "ARI"
          ],
          [
           "Abram, Johnathan",
           "LVR"
          ],
          [
           "Barrett, Shaq",
           "TBB"
          ],
          [
           "Floyd, Leonard",
           "LAR"
          ],
          [
           "Davis, Demario",
           "NOS"
          ],
          [
           "Hardman, Mecole",
           "KCC"
          ],
          [
           "Cardinals, Arizona",
           "ARI"
          ],
          [
           "Davis, Mike",
           "ATL"
          ],
          [
           "David, Lavonte",
           "TBB"
          ],
          [
           "Patrick, Tim",
           "DEN"
          ],
          [
           "Brown, Anthony",
           "DAL"
          ],
          [
           "Eagles, Philadelphia",
           "PHI"
          ],
          [
           "Freiermuth, Pat",
           "PIT"
          ],
          [
           "Herbert, Khalil",
           "CHI"
          ],
          [
           "Woods, Robert",
           "LAR"
          ],
          [
           "Douglas, Rasul",
           "GBP"
          ],
          [
           "Bills, Buffalo",
           "BUF"
          ],
          [
           "Mathieu, Tyrann",
           "KCC"
          ],
          [
           "Queen, Patrick",
           "BAL"
          ],
          [
           "Judon, Matt",
           "NEP"
          ],
          [
           "Ramsey, Jalen",
           "LAR"
          ],
          [
           "Winfield, Antoine",
           "TBB"
          ],
          [
           "Packers, Green Bay",
           "GBP"
          ],
          [
           "Rapp, Taylor",
           "LAR"
          ],
          [
           "Conklin, Tyler",
           "MIN"
          ],
          [
           "Gage, Russell",
           "ATL"
          ],
          [
           "Amos, Adrian",
           "GBP"
          ],
          [
           "Fuller, Jordan",
           "LAR"
          ],
          [
           "Cowboys, Dallas",
           "DAL"
          ],
          [
           "Mattison, Alexander",
           "MIN"
          ],
          [
           "Phillips, Adrian",
           "NEP"
          ],
          [
           "Sanders, Emmanuel",
           "BUF"
          ],
          [
           "Golden, Markus",
           "ARI"
          ],
          [
           "Walker, Anthony",
           "CLE"
          ],
          [
           "Pratt, Germaine",
           "CIN"
          ],
          [
           "Agnew, Jamal",
           "JAC"
          ],
          [
           "Edmunds, Tremaine",
           "BUF"
          ],
          [
           "Jones, Chandler",
           "ARI"
          ],
          [
           "Collins, Landon",
           "WAS"
          ],
          [
           "Bentley, Ja'Whaun",
           "NEP"
          ],
          [
           "Edwards-Helaire, Clyde",
           "KCC"
          ],
          [
           "Raymond, Kalif",
           "DET"
          ],
          [
           "Terrell, A.J.",
           "ATL"
          ],
          [
           "Dallas, DeeJay",
           "SEA"
          ],
          [
           "Giants, New York",
           "NYG"
          ],
          [
           "Murphy, Byron",
           "ARI"
          ],
          [
           "Wilson, Damien",
           "JAC"
          ],
          [
           "Bates, Jessie",
           "CIN"
          ],
          [
           "McCaffrey, Christian",
           "CAR"
          ],
          [
           "Holland, Jevon",
           "MIA"
          ],
          [
           "49ers, San Francisco",
           "SFO"
          ],
          [
           "Bills, Buffalo",
           "BUF"
          ],
          [
           "Bolton, Nick",
           "KCC"
          ],
          [
           "Broncos, Denver",
           "DEN"
          ],
          [
           "Sanders, Miles",
           "PHI"
          ],
          [
           "Wilson, Cedrick",
           "DAL"
          ],
          [
           "Waller, Darren",
           "LVR"
          ],
          [
           "Van Noy, Kyle",
           "NEP"
          ],
          [
           "Ingram, Mark",
           "NOS"
          ],
          [
           "Williams, Quinnen",
           "NYJ"
          ],
          [
           "Ogunjobi, Larry",
           "CIN"
          ],
          [
           "Beckham, Odell",
           "LAR"
          ],
          [
           "Gipson, Trevis",
           "CHI"
          ],
          [
           "Jones, Brandon",
           "MIA"
          ],
          [
           "Stevenson, Rhamondre",
           "NEP"
          ],
          [
           "Falcons, Atlanta",
           "ATL"
          ],
          [
           "Walker, Tracy",
           "DET"
          ],
          [
           "Williams, Jamaal",
           "DET"
          ],
          [
           "Curl, Kamren",
           "WAS"
          ],
          [
           "Sweat, Josh",
           "PHI"
          ],
          [
           "Phillips, Jaelan",
           "MIA"
          ],
          [
           "Uzomah, C.J.",
           "CIN"
          ],
          [
           "Reagor, Jalen",
           "PHI"
          ],
          [
           "Titans, Tennessee",
           "TEN"
          ],
          [
           "Greenard, Jonathan",
           "HOU"
          ],
          [
           "Ngakoue, Yannick",
           "LVR"
          ],
          [
           "Fuller, Kendall",
           "WAS"
          ],
          [
           "Hines, Nyheim",
           "IND"
          ],
          [
           "Green, Rasheem",
           "SEA"
          ],
          [
           "Johnson, Taron",
           "BUF"
          ],
          [
           "Lattimore, Marshon",
           "NOS"
          ],
          [
           "Adderley, Nasir",
           "LAC"
          ],
          [
           "Johnson, Austin",
           "NYG"
          ],
          [
           "Panthers, Carolina",
           "CAR"
          ],
          [
           "Davenport, Marcus",
           "NOS"
          ],
          [
           "Sneed, L'Jarius",
           "KCC"
          ],
          [
           "Crosby, Maxx",
           "LVR"
          ],
          [
           "Edmunds, Terrell",
           "PIT"
          ],
          [
           "Buccaneers, Tampa Bay",
           "TBB"
          ],
          [
           "Slay, Darius",
           "PHI"
          ],
          [
           "Howard, Xavien",
           "MIA"
          ],
          [
           "Lewis, Jourdan",
           "DAL"
          ],
          [
           "Jones, Chris",
           "KCC"
          ],
          [
           "Shenault, Laviska",
           "JAC"
          ],
          [
           "Jackson, Kareem",
           "DEN"
          ],
          [
           "Milano, Matt",
           "BUF"
          ],
          [
           "Higbee, Tyler",
           "LAR"
          ],
          [
           "Wormley, Chris",
           "PIT"
          ],
          [
           "Roberts, Elandon",
           "MIA"
          ],
          [
           "Anderson, Robby",
           "CAR"
          ],
          [
           "Lazard, Allen",
           "GBP"
          ],
          [
           "Cook, Jared",
           "LAC"
          ],
          [
           "Oruwariye, Amani",
           "DET"
          ],
          [
           "Adams, Jamal",
           "SEA"
          ],
          [
           "Jack, Myles",
           "JAC"
          ],
          [
           "Harris, Shelby",
           "DEN"
          ],
          [
           "Hall, Bryce",
           "NYJ"
          ],
          [
           "Rousseau, Gregory",
           "BUF"
          ],
          [
           "Johnson, Ty",
           "NYJ"
          ],
          [
           "Reed, D.J.",
           "SEA"
          ],
          [
           "Brown, Antonio",
           "FA"
          ],
          [
           "Clark, Chuck",
           "BAL"
          ],
          [
           "Maddox, Avonte",
           "PHI"
          ],
          [
           "Autry, Denico",
           "TEN"
          ],
          [
           "Davis, Gabriel",
           "BUF"
          ],
          [
           "Highsmith, Alex",
           "PIT"
          ],
          [
           "Surtain II, Patrick",
           "DEN"
          ],
          [
           "Wingard, Andrew",
           "JAC"
          ],
          [
           "Hill, B.J.",
           "CIN"
          ],
          [
           "Thomas, Tavierre",
           "HOU"
          ],
          [
           "Wonnum, D.J.",
           "MIN"
          ],
          [
           "Littleton, Cory",
           "LVR"
          ],
          [
           "Payne, Da'Ron",
           "WAS"
          ],
          [
           "Jenkins, Malcolm",
           "NOS"
          ],
          [
           "Clowney, Jadeveon",
           "CLE"
          ],
          [
           "Williams, Marcus",
           "NOS"
          ],
          [
           "Bolden, Brandon",
           "NEP"
          ],
          [
           "Kirksey, Christian",
           "HOU"
          ],
          [
           "McKissic, J.D.",
           "WAS"
          ],
          [
           "Muhammad, Al-Quadin",
           "IND"
          ],
          [
           "Sieler, Zach",
           "MIA"
          ],
          [
           "Kmet, Cole",
           "CHI"
          ],
          [
           "FootballTeam, Washington",
           "WAS"
          ],
          [
           "Drake, Kenyan",
           "LVR"
          ],
          [
           "Landry, Jarvis",
           "CLE"
          ],
          [
           "Gary, Rashan",
           "GBP"
          ],
          [
           "Harris, Will",
           "DET"
          ],
          [
           "Reeder, Troy",
           "LAR"
          ],
          [
           "Dunlap, Carlos",
           "SEA"
          ],
          [
           "Everett, Gerald",
           "SEA"
          ],
          [
           "Whitehead, Jordan",
           "TBB"
          ],
          [
           "Peoples-Jones, Donovan",
           "CLE"
          ],
          [
           "Hunt, Kareem",
           "CLE"
          ],
          [
           "Rogers, Chester",
           "TEN"
          ],
          [
           "Bowser, Tyus",
           "BAL"
          ],
          [
           "Awuzie, Chidobe",
           "CIN"
          ],
          [
           "Scott, Boston",
           "PHI"
          ],
          [
           "Lions, Detroit",
           "DET"
          ],
          [
           "Chargers, Los Angeles",
           "LAC"
          ],
          [
           "Ward, Jimmie",
           "SFO"
          ],
          [
           "Owusu-Koramoah, Jeremiah",
           "CLE"
          ],
          [
           "Penny, Rashaad",
           "SEA"
          ],
          [
           "Gainwell, Kenneth",
           "PHI"
          ],
          [
           "Anzalone, Alex",
           "DET"
          ],
          [
           "Jones, D.J.",
           "SFO"
          ],
          [
           "Smith, Preston",
           "GBP"
          ],
          [
           "Ogletree, Alec",
           "CHI"
          ],
          [
           "Watkins, Quez",
           "PHI"
          ],
          [
           "Moss, Zack",
           "BUF"
          ],
          [
           "Rodgers, Isaiah",
           "IND"
          ],
          [
           "Van Ginkel, Andrew",
           "MIA"
          ],
          [
           "Dolphins, Miami",
           "MIA"
          ],
          [
           "McKenzie, Isaiah",
           "BUF"
          ],
          [
           "Taylor, Darrell",
           "SEA"
          ],
          [
           "Young, Kenny",
           "DEN"
          ],
          [
           "Chargers, Los Angeles",
           "LAC"
          ],
          [
           "Mitchell, Terrance",
           "HOU"
          ],
          [
           "Burkhead, Rex",
           "HOU"
          ],
          [
           "Grant, Jakeem",
           "CHI"
          ],
          [
           "Gaines, Greg",
           "LAR"
          ],
          [
           "Jackson, Donte",
           "CAR"
          ],
          [
           "Clark, Kenny",
           "GBP"
          ],
          [
           "Crowder, Jamison",
           "NYJ"
          ],
          [
           "Reeves-Maybin, Jalen",
           "DET"
          ],
          [
           "Barnes, Krys",
           "GBP"
          ],
          [
           "Breeland, Bashaud",
           "FA"
          ],
          [
           "Vigil, Nick",
           "MIN"
          ],
          [
           "Watts, Armon",
           "MIN"
          ],
          [
           "Njoku, David",
           "CLE"
          ],
          [
           "Needham, Nik",
           "MIA"
          ],
          [
           "Bears, Chicago",
           "CHI"
          ],
          [
           "Franklin-Myers, John",
           "NYJ"
          ],
          [
           "Davis, Ashtyn",
           "NYJ"
          ],
          [
           "Armstead, Arik",
           "SFO"
          ],
          [
           "Davis, Corey",
           "NYJ"
          ],
          [
           "Hughes, Mike",
           "KCC"
          ],
          [
           "Allen, Zach",
           "ARI"
          ],
          [
           "Tillery, Jerry",
           "LAC"
          ],
          [
           "Armstrong, Dorance",
           "DAL"
          ],
          [
           "Jarrett, Grady",
           "ATL"
          ],
          [
           "Norman, Josh",
           "SFO"
          ],
          [
           "Abdullah, Ameer",
           "CAR"
          ],
          [
           "Bradberry, James",
           "NYG"
          ],
          [
           "Jones, Zay",
           "LVR"
          ],
          [
           "Robinson, A'Shawn",
           "LAR"
          ],
          [
           "Ojulari, Azeez",
           "NYG"
          ],
          [
           "Hunter, Danielle",
           "MIN"
          ],
          [
           "Williams, P.J.",
           "NOS"
          ],
          [
           "Echols, Brandin",
           "NYJ"
          ],
          [
           "Rowe, Eric",
           "MIA"
          ],
          [
           "Cox, Fletcher",
           "PHI"
          ],
          [
           "Parker, DeVante",
           "MIA"
          ],
          [
           "Hilton, Mike",
           "CIN"
          ],
          [
           "McCourty, Devin",
           "NEP"
          ],
          [
           "Engram, Evan",
           "NYG"
          ],
          [
           "Cunningham, Zach",
           "TEN"
          ],
          [
           "Foreman, D'Onta",
           "TEN"
          ],
          [
           "Fowler, Dante",
           "ATL"
          ],
          [
           "Guy, Lawrence",
           "NEP"
          ],
          [
           "Johnson, D'Ernest",
           "CLE"
          ],
          [
           "Agholor, Nelson",
           "NEP"
          ],
          [
           "Adebo, Paulson",
           "NOS"
          ],
          [
           "Hobbs, Nate",
           "LVR"
          ],
          [
           "Averett, Anthony",
           "BAL"
          ],
          [
           "Seahawks, Seattle",
           "SEA"
          ],
          [
           "Long, David",
           "TEN"
          ],
          [
           "Ward, Charvarius",
           "KCC"
          ],
          [
           "Williams, Darious",
           "LAR"
          ],
          [
           "Reid, Justin",
           "HOU"
          ],
          [
           "Dulin, Ashton",
           "IND"
          ],
          [
           "Bush, Devin",
           "PIT"
          ],
          [
           "Bateman, Rashod",
           "BAL"
          ],
          [
           "Jefferson, Quinton",
           "LVR"
          ],
          [
           "Smoot, Dawuane",
           "JAC"
          ],
          [
           "Johnson, John",
           "CLE"
          ],
          [
           "Jones, Dre'Mont",
           "DEN"
          ],
          [
           "Swain, Freddie",
           "SEA"
          ],
          [
           "Sorensen, Daniel",
           "KCC"
          ],
          [
           "Campbell, Tyson",
           "JAC"
          ],
          [
           "Edwards, Bryan",
           "LVR"
          ],
          [
           "Jenkins, Rayshawn",
           "JAC"
          ],
          [
           "McCain, Bobby",
           "WAS"
          ],
          [
           "Humphrey, Marlon",
           "BAL"
          ],
          [
           "Godchaux, Davon",
           "NEP"
          ],
          [
           "Jets, New York",
           "NYJ"
          ],
          [
           "Murray, Latavius",
           "BAL"
          ],
          [
           "Wallace, Levi",
           "BUF"
          ],
          [
           "Pascal, Zach",
           "IND"
          ],
          [
           "Lawrence, Dexter",
           "NYG"
          ],
          [
           "Zaccheaus, Olamide",
           "ATL"
          ],
          [
           "Gregory, Randy",
           "DAL"
          ],
          [
           "Edwards, Mike",
           "TBB"
          ],
          [
           "Lowry, Dean",
           "GBP"
          ],
          [
           "Jackson, Eddie",
           "CHI"
          ],
          [
           "Barr, Anthony",
           "MIN"
          ],
          [
           "Delpit, Grant",
           "CLE"
          ],
          [
           "Tranquill, Drue",
           "LAC"
          ],
          [
           "Hooper, Austin",
           "CLE"
          ],
          [
           "Ward, Denzel",
           "CLE"
          ],
          [
           "Carter, Michael",
           "NYJ"
          ],
          [
           "Bynes, Josh",
           "BAL"
          ],
          [
           "Savage, Darnell",
           "GBP"
          ],
          [
           "Jackson, Justin",
           "LAC"
          ],
          [
           "Willis, Khari",
           "IND"
          ],
          [
           "Texans, Houston",
           "HOU"
          ],
          [
           "Browns, Cleveland",
           "CLE"
          ],
          [
           "Harmon, Duron",
           "ATL"
          ],
          [
           "Jones, Ronald",
           "TBB"
          ],
          [
           "Cobb, Randall",
           "GBP"
          ],
          [
           "Jones, Ernest",
           "LAR"
          ],
          [
           "Westbrook-Ikhine, Nick",
           "TEN"
          ],
          [
           "Murray, Eric",
           "HOU"
          ],
          [
           "Harris, Erik",
           "ATL"
          ],
          [
           "Brown, Derrick",
           "CAR"
          ],
          [
           "Wise, Deatrich",
           "NEP"
          ],
          [
           "Vander Esch, Leighton",
           "DAL"
          ],
          [
           "Nichols, Bilal",
           "CHI"
          ],
          [
           "Hitchens, Anthony",
           "KCC"
          ],
          [
           "Miller, Von",
           "LAR"
          ],
          [
           "Saints, New Orleans",
           "NOS"
          ],
          [
           "Felton, Demetric",
           "CLE"
          ],
          [
           "Perine, Samaje",
           "CIN"
          ],
          [
           "Reed, Jarran",
           "KCC"
          ],
          [
           "Roberts, Andre",
           "LAC"
          ],
          [
           "Moreau, Foster",
           "LVR"
          ],
          [
           "Covington, Christian",
           "LAC"
          ],
          [
           "Guyton, Jalen",
           "LAC"
          ],
          [
           "Jackson, Adoree",
           "NYG"
          ],
          [
           "Molden, Elijah",
           "TEN"
          ],
          [
           "Brown, Malcom",
           "JAC"
          ],
          [
           "Gallup, Michael",
           "DAL"
          ],
          [
           "Stephens, Brandon",
           "BAL"
          ],
          [
           "Joseph, Linval",
           "LAC"
          ],
          [
           "Carter, Jermaine",
           "CAR"
          ],
          [
           "Ruggs, Henry",
           "FA"
          ],
          [
           "Woods, Al",
           "SEA"
          ],
          [
           "Davis, Jamin",
           "WAS"
          ],
          [
           "Jones, Byron",
           "MIA"
          ],
          [
           "Williams, K'Waun",
           "SFO"
          ],
          [
           "Richardson, Sheldon",
           "MIN"
          ],
          [
           "Thornhill, Juan",
           "KCC"
          ],
          [
           "Oliver, Ed",
           "BUF"
          ],
          [
           "Apple, Eli",
           "CIN"
          ],
          [
           "Stokes, Eric",
           "GBP"
          ],
          [
           "Love, Julian",
           "NYG"
          ],
          [
           "Reed, Malik",
           "DEN"
          ],
          [
           "Harris, Anthony",
           "PHI"
          ],
          [
           "Blackson, Angelo",
           "CHI"
          ],
          [
           "Hooker, Amani",
           "TEN"
          ],
          [
           "Odum, George",
           "IND"
          ],
          [
           "Sweat, Montez",
           "WAS"
          ],
          [
           "Alexander, Kwon",
           "NOS"
          ],
          [
           "Golladay, Kenny",
           "NYG"
          ],
          [
           "Thomas, Solomon",
           "LVR"
          ],
          [
           "Johnson, Lonnie",
           "HOU"
          ],
          [
           "Gholston, William",
           "TBB"
          ],
          [
           "Vea, Vita",
           "TBB"
          ],
          [
           "Gardner-Johnson, Chauncey",
           "NOS"
          ],
          [
           "Harrison, Ronnie",
           "CLE"
          ],
          [
           "Oweh, Jayson",
           "BAL"
          ],
          [
           "Valdes-Scantling, Marquez",
           "GBP"
          ],
          [
           "Hightower, Dont'a",
           "NEP"
          ],
          [
           "Suh, Ndamukong",
           "TBB"
          ],
          [
           "Evans, Rashaan",
           "TEN"
          ],
          [
           "Pierre, James",
           "PIT"
          ],
          [
           "Carter, Lorenzo",
           "NYG"
          ],
          [
           "Phillips, Harrison",
           "BUF"
          ],
          [
           "Davis, Michael",
           "LAC"
          ],
          [
           "Collins, Alex",
           "SEA"
          ],
          [
           "Coleman, Tevin",
           "NYJ"
          ],
          [
           "Toney, Kadarius",
           "NYG"
          ],
          [
           "Bryant, Austin",
           "DET"
          ],
          [
           "Igwebuike, Godwin",
           "DET"
          ],
          [
           "Moreau, Fabian",
           "ATL"
          ],
          [
           "Amadi, Ugo",
           "SEA"
          ],
          [
           "Robinson, Allen",
           "CHI"
          ],
          [
           "Campbell, Calais",
           "BAL"
          ],
          [
           "Jones, Sidney",
           "SEA"
          ],
          [
           "Neal, Keanu",
           "DAL"
          ],
          [
           "Shepard, Sterling",
           "NYG"
          ],
          [
           "Dean, Jamel",
           "TBB"
          ],
          [
           "Epps, Marcus",
           "PHI"
          ],
          [
           "Barnett, Derek",
           "PHI"
          ],
          [
           "Houston-Carson, DeAndre",
           "CHI"
          ],
          [
           "Hilliard, Dontrell",
           "TEN"
          ],
          [
           "Howard, Jordan",
           "PHI"
          ],
          [
           "McLeod, Rodney",
           "PHI"
          ],
          [
           "Joseph-Day, Sebastian",
           "LAR"
          ],
          [
           "Palmer, Josh",
           "LAC"
          ],
          [
           "Robertson-Harris, Roy",
           "JAC"
          ],
          [
           "Reynolds, Josh",
           "DET"
          ],
          [
           "Brockers, Michael",
           "DET"
          ],
          [
           "Ragland, Reggie",
           "NYG"
          ],
          [
           "Williams, Greedy",
           "CLE"
          ],
          [
           "Niemann, Ben",
           "KCC"
          ],
          [
           "Jenkins, Janoris",
           "TEN"
          ],
          [
           "Addison, Mario",
           "BUF"
          ],
          [
           "Barnes, Derrick",
           "DET"
          ],
          [
           "Humphries, Adam",
           "WAS"
          ],
          [
           "Sutton, Cameron",
           "PIT"
          ],
          [
           "Kazee, Damontae",
           "DAL"
          ],
          [
           "Paye, Kwity",
           "IND"
          ],
          [
           "Jeudy, Jerry",
           "DEN"
          ],
          [
           "Hollins, Mack",
           "MIA"
          ],
          [
           "Williams, Avery",
           "ATL"
          ],
          [
           "Wilson, Marco",
           "ARI"
          ],
          [
           "Nwosu, Uchenna",
           "LAC"
          ],
          [
           "Ford, Johnathan",
           "JAC"
          ],
          [
           "Stewart, Grover",
           "IND"
          ],
          [
           "Johnson, Jaylon",
           "CHI"
          ],
          [
           "Doyle, Jack",
           "IND"
          ],
          [
           "Jackson, DeSean",
           "LVR"
          ],
          [
           "Reader, D.J.",
           "CIN"
          ],
          [
           "Tartt, Jaquiski",
           "SFO"
          ],
          [
           "Hamilton, Davon",
           "JAC"
          ],
          [
           "Campbell, Tevaughn",
           "LAC"
          ],
          [
           "Key, Arden",
           "SFO"
          ],
          [
           "Facyson, Brandon",
           "LVR"
          ],
          [
           "Basham, Tarell",
           "DAL"
          ],
          [
           "Okwuegbunam, Albert",
           "DEN"
          ],
          [
           "Cole, Keelan",
           "NYJ"
          ],
          [
           "Alie-Cox, Mo",
           "IND"
          ],
          [
           "Brate, Cameron",
           "TBB"
          ],
          [
           "Smith, Malcolm",
           "CLE"
          ],
          [
           "Darby, Ronald",
           "DEN"
          ],
          [
           "Marlowe, Dean",
           "DET"
          ],
          [
           "Gipson, Tashaun",
           "CHI"
          ],
          [
           "Gross-Matos, Yetur",
           "CAR"
          ],
          [
           "Dantzler, Cameron",
           "MIN"
          ],
          [
           "Arnold, Dan",
           "JAC"
          ],
          [
           "Clark, Frank",
           "KCC"
          ],
          [
           "Pierre-Paul, Jason",
           "TBB"
          ],
          [
           "Collins, Nico",
           "HOU"
          ],
          [
           "Moehrig, Trevon",
           "LVR"
          ],
          [
           "McDowell, Malik",
           "CLE"
          ],
          [
           "Nelson, Steven",
           "PHI"
          ],
          [
           "Smith, Tre'Quan",
           "NOS"
          ],
          [
           "Ebukam, Samson",
           "SFO"
          ],
          [
           "Griffin, Ryan",
           "NYJ"
          ],
          [
           "Jaguars, Jacksonville",
           "JAC"
          ],
          [
           "Olszewski, Gunner",
           "NEP"
          ],
          [
           "Brown, Jayon",
           "TEN"
          ],
          [
           "Johnson, David",
           "HOU"
          ],
          [
           "Ford, Poona",
           "SEA"
          ],
          [
           "Homer, Travis",
           "SEA"
          ],
          [
           "Jackson, William",
           "WAS"
          ],
          [
           "Barmore, Christian",
           "NEP"
          ],
          [
           "Fenton, Rashad",
           "KCC"
          ],
          [
           "Luvu, Frankie",
           "CAR"
          ],
          [
           "Treadwell, Laquon",
           "JAC"
          ],
          [
           "Hill, Troy",
           "CLE"
          ],
          [
           "Swaim, Geoff",
           "TEN"
          ],
          [
           "Werner, Pete",
           "NOS"
          ],
          [
           "Fulton, Kristian",
           "TEN"
          ],
          [
           "Parker, AJ",
           "DET"
          ],
          [
           "Ridley, Calvin",
           "ATL"
          ],
          [
           "Smith, Jonnu",
           "NEP"
          ],
          [
           "Samuel, Asante",
           "LAC"
          ],
          [
           "Bryant, Myles",
           "NEP"
          ],
          [
           "Lawrence, Demarcus",
           "DAL"
          ],
          [
           "Firkser, Anthony",
           "TEN"
          ],
          [
           "Seals-Jones, Ricky",
           "WAS"
          ],
          [
           "Watkins, Carlos",
           "DAL"
          ],
          [
           "Griffin, Shaq",
           "JAC"
          ],
          [
           "Madubuike, Justin",
           "BAL"
          ],
          [
           "Okwara, Julian",
           "DET"
          ],
          [
           "Kpassagnon, Tanoh",
           "NOS"
          ],
          [
           "Wharton, Tershawn",
           "KCC"
          ],
          [
           "White, Tre'Davious",
           "BUF"
          ],
          [
           "Watkins, Sammy",
           "BAL"
          ],
          [
           "McNichols, Jeremy",
           "FA"
          ],
          [
           "Hicks, Akiem",
           "CHI"
          ],
          [
           "Hayward, Casey",
           "LVR"
          ],
          [
           "Nnadi, Derrick",
           "KCC"
          ],
          [
           "Tuttle, Shy",
           "NOS"
          ],
          [
           "Neal, Ryan",
           "SEA"
          ],
          [
           "Davis, Carlton",
           "TBB"
          ],
          [
           "Ioannidis, Matt",
           "WAS"
          ],
          [
           "Odighizuwa, Osa",
           "DAL"
          ],
          [
           "Rankins, Sheldon",
           "NYJ"
          ],
          [
           "Jones, Justin",
           "LAC"
          ],
          [
           "Smith, Tremon",
           "HOU"
          ],
          [
           "Griffen, Everson",
           "MIN"
          ],
          [
           "Hilton, T.Y.",
           "IND"
          ],
          [
           "Smythe, Durham",
           "MIA"
          ],
          [
           "Gay, Willie",
           "KCC"
          ],
          [
           "Alexander, Mackensie",
           "MIN"
          ],
          [
           "Fatukasi, Foley",
           "NYJ"
          ],
          [
           "Danna, Michael",
           "KCC"
          ],
          [
           "Johnson, Tyler",
           "TBB"
          ],
          [
           "Wilson, Jeffery",
           "SFO"
          ],
          [
           "Fox, Morgan",
           "CAR"
          ],
          [
           "Jones, Julio",
           "TEN"
          ],
          [
           "Rhodes, Xavier",
           "IND"
          ],
          [
           "Jones, Naquan",
           "TEN"
          ],
          [
           "Houston, Justin",
           "BAL"
          ],
          [
           "Young, Tavon",
           "BAL"
          ],
          [
           "Vildor, Kindle",
           "CHI"
          ],
          [
           "Mills, Jalen",
           "NEP"
          ],
          [
           "Stewart, M.J.",
           "CLE"
          ],
          [
           "Street, Kentavius",
           "SFO"
          ],
          [
           "Washington, James",
           "PIT"
          ],
          [
           "Conley, Chris",
           "HOU"
          ],
          [
           "Golston, Chauncey",
           "DAL"
          ],
          [
           "Means, Steven",
           "ATL"
          ],
          [
           "Robinson, Demarcus",
           "KCC"
          ],
          [
           "Bush, Deon",
           "CHI"
          ],
          [
           "Maye, Marcus",
           "NYJ"
          ],
          [
           "Mone, Bryan",
           "SEA"
          ],
          [
           "Williams, DeShawn",
           "DEN"
          ],
          [
           "Hewitt, Neville",
           "HOU"
          ],
          [
           "Bryant, Harrison",
           "CLE"
          ],
          [
           "Juszczyk, Kyle",
           "SFO"
          ],
          [
           "Tomlinson, Dalvin",
           "MIN"
          ],
          [
           "Walker, DeMarcus",
           "HOU"
          ],
          [
           "Gotsis, Adam",
           "JAC"
          ],
          [
           "Slayton, Darius",
           "NYG"
          ],
          [
           "Chandler, Sean",
           "CAR"
          ],
          [
           "Granderson, Carl",
           "NOS"
          ],
          [
           "Guidry, Javelin",
           "NYJ"
          ],
          [
           "Maulet, Art",
           "PIT"
          ],
          [
           "McNeill, Alim",
           "DET"
          ],
          [
           "Jones, DaQuan",
           "CAR"
          ],
          [
           "Onwuzurike, Levi",
           "DET"
          ],
          [
           "Scott, Nick",
           "LAR"
          ],
          [
           "Collins, Maliek",
           "HOU"
          ],
          [
           "Roche, Quincy",
           "NYG"
          ],
          [
           "Lynch, Blake",
           "MIN"
          ],
          [
           "Young, Chase",
           "WAS"
          ],
          [
           "Browning, Baron",
           "DEN"
          ],
          [
           "Jacobs, Jerry",
           "DET"
          ],
          [
           "Cockrell, Ross",
           "TBB"
          ],
          [
           "Martin, Jake",
           "HOU"
          ],
          [
           "Mack, Khalil",
           "CHI"
          ],
          [
           "Hurst, Hayden",
           "ATL"
          ],
          [
           "Fuller, Kyle",
           "DEN"
          ],
          [
           "Jackson, Dane",
           "BUF"
          ],
          [
           "Long, David",
           "LAR"
          ],
          [
           "Barber, Peyton",
           "LVR"
          ],
          [
           "Harris, Marcell",
           "SFO"
          ],
          [
           "Jennings, Jauan",
           "SFO"
          ],
          [
           "Sendejo, Andrew",
           "IND"
          ],
          [
           "Keke, Kingsley",
           "FA"
          ],
          [
           "Klein, A.J.",
           "BUF"
          ],
          [
           "Alford, Robert",
           "ARI"
          ],
          [
           "Sullivan, Chandon",
           "GBP"
          ],
          [
           "Cruikshank, Dane",
           "TEN"
          ],
          [
           "Moseley, Emmanuel",
           "SFO"
          ],
          [
           "Norwood, Tre",
           "PIT"
          ],
          [
           "Phillips, Jordan",
           "ARI"
          ],
          [
           "Zylstra, Brandon",
           "CAR"
          ],
          [
           "Harris, Chris",
           "LAC"
          ],
          [
           "Schwartz, Anthony",
           "CLE"
          ],
          [
           "Philon, Darius",
           "LVR"
          ],
          [
           "Speed, E.J.",
           "IND"
          ],
          [
           "Parham, Donald",
           "LAC"
          ],
          [
           "Pierce, Michael",
           "MIN"
          ],
          [
           "Sims, Cam",
           "WAS"
          ],
          [
           "Gore, Derrick",
           "KCC"
          ],
          [
           "Williams, Damien",
           "CHI"
          ],
          [
           "Ogundeji, Adetokunbo",
           "ATL"
          ],
          [
           "Patterson, Jaret",
           "WAS"
          ],
          [
           "Desir, Pierre",
           "TBB"
          ],
          [
           "Hooker, Malik",
           "DAL"
          ],
          [
           "Taylor, Davion",
           "PHI"
          ],
          [
           "Bernard, Giovani",
           "TBB"
          ],
          [
           "Black, Henry",
           "GBP"
          ],
          [
           "Hyder, Kerry",
           "SEA"
          ],
          [
           "Ya-Sin, Rock",
           "IND"
          ],
          [
           "Murphy-Bunting, Sean",
           "TBB"
          ],
          [
           "Hasty, JaMycal",
           "SFO"
          ],
          [
           "Nwangwu, Kene",
           "MIN"
          ],
          [
           "Newsome, Greg",
           "CLE"
          ],
          [
           "Johnson, Alexander",
           "DEN"
          ],
          [
           "Cooper, Jonathon",
           "DEN"
          ],
          [
           "Higgins, Rashard",
           "CLE"
          ],
          [
           "Lindsay, Phillip",
           "MIA"
          ],
          [
           "Chaisson, K'Lavon",
           "JAC"
          ],
          [
           "Austin, Tavon",
           "JAC"
          ],
          [
           "Spillane, Robert",
           "PIT"
          ],
          [
           "Flowers, Trey",
           "DET"
          ],
          [
           "Jordan, Brevin",
           "HOU"
          ],
          [
           "Trautman, Adam",
           "NOS"
          ],
          [
           "Weatherly, Stephen",
           "DEN"
          ],
          [
           "Mercilus, Whitney",
           "GBP"
          ],
          [
           "Grant, Richie",
           "ATL"
          ],
          [
           "Dissly, Will",
           "SEA"
          ],
          [
           "Ogunbowale, Dare",
           "JAC"
          ],
          [
           "Rudolph, Kyle",
           "NYG"
          ],
          [
           "Carson, Chris",
           "SEA"
          ],
          [
           "Wilson, Eric",
           "HOU"
          ],
          [
           "Williams, Milton",
           "PHI"
          ],
          [
           "Haden, Joe",
           "PIT"
          ],
          [
           "Takitaki, Sione",
           "CLE"
          ],
          [
           "Byrd, Damiere",
           "CHI"
          ],
          [
           "Onyemata, David",
           "NOS"
          ],
          [
           "Lynch, James",
           "MIN"
          ],
          [
           "Thomas, Logan",
           "WAS"
          ],
          [
           "Turay, Kemoko",
           "IND"
          ],
          [
           "Bates, John",
           "WAS"
          ],
          [
           "Goodwin, Marquise",
           "CHI"
          ],
          [
           "Taylor, Keith",
           "CAR"
          ],
          [
           "Blacklock, Ross",
           "HOU"
          ],
          [
           "Franklin, Zaire",
           "IND"
          ],
          [
           "Ward, Jihad",
           "JAC"
          ],
          [
           "Tremble, Tommy",
           "CAR"
          ],
          [
           "Avery, Genard",
           "PHI"
          ],
          [
           "Lawson, Shaq",
           "FA"
          ],
          [
           "Coleman, Justin",
           "MIA"
          ],
          [
           "Walker, Mykal",
           "ATL"
          ],
          [
           "Hyde, Carlos",
           "JAC"
          ],
          [
           "Tryon, Joe",
           "TBB"
          ],
          [
           "Wesley, Antoine",
           "ARI"
          ],
          [
           "Sterns, Caden",
           "DEN"
          ],
          [
           "Nassib, Carl",
           "LVR"
          ],
          [
           "Peterson, Patrick",
           "MIN"
          ],
          [
           "Shelley, Duke",
           "CHI"
          ],
          [
           "Hankins, Johnathan",
           "LVR"
          ],
          [
           "Mayowa, Benson",
           "SEA"
          ],
          [
           "Holmes, Darnay",
           "NYG"
          ],
          [
           "Gilman, Alohi",
           "LAC"
          ],
          [
           "Lopez, Roy",
           "HOU"
          ],
          [
           "O'Shaughnessy, James",
           "JAC"
          ],
          [
           "Blackmon, Julian",
           "IND"
          ],
          [
           "Davidson, Marlon",
           "ATL"
          ],
          [
           "Bynum, Camryn",
           "MIN"
          ],
          [
           "McKinley, Takkarist",
           "CLE"
          ],
          [
           "Riley, Elijah",
           "NYJ"
          ],
          [
           "Lewis, Terrell",
           "LAR"
          ],
          [
           "Pruitt, MyCole",
           "TEN"
          ],
          [
           "Tonyan, Robert",
           "GBP"
          ],
          [
           "Okafor, Alex",
           "KCC"
          ],
          [
           "Wright, K.J.",
           "LVR"
          ],
          [
           "Sharpe, Tajae",
           "ATL"
          ],
          [
           "Moore, Chris",
           "HOU"
          ],
          [
           "Johnson, Duke",
           "MIA"
          ],
          [
           "Anderson, Stephen",
           "LAC"
          ],
          [
           "Wilson, Albert",
           "MIA"
          ],
          [
           "Cephus, Quintez",
           "DET"
          ],
          [
           "Robinson, Alton",
           "SEA"
          ],
          [
           "Breida, Matt",
           "BUF"
          ],
          [
           "Hamilton, Antonio",
           "ARI"
          ],
          [
           "Henderson, CJ",
           "CAR"
          ],
          [
           "Darden, Jaelon",
           "TBB"
          ],
          [
           "Peppers, Jabrill",
           "NYG"
          ],
          [
           "Graham, Jimmy",
           "CHI"
          ],
          [
           "Deablo, Divine",
           "LVR"
          ],
          [
           "Jackson, Chris",
           "TEN"
          ],
          [
           "Smith-Williams, James",
           "WAS"
          ],
          [
           "Haynes, Marquis",
           "CAR"
          ],
          [
           "Willis, Jordan",
           "SFO"
          ],
          [
           "Humphrey, Lil'Jordan",
           "NOS"
          ],
          [
           "Hughes, Jerry",
           "BUF"
          ],
          [
           "Purcell, Mike",
           "DEN"
          ],
          [
           "Wilson, Mack",
           "CLE"
          ],
          [
           "Jenkins, Jordan",
           "HOU"
          ],
          [
           "Griffith, Jonas",
           "DEN"
          ],
          [
           "Lotulelei, Star",
           "BUF"
          ],
          [
           "Witherspoon, Ahkello",
           "PIT"
          ],
          [
           "Penny, Elijhaa",
           "NYG"
          ],
          [
           "Smith, Jaylon",
           "NYG"
          ],
          [
           "Dogbe, Michael",
           "ARI"
          ],
          [
           "Roby, Bradley",
           "NOS"
          ],
          [
           "Tuszka, Derrek",
           "PIT"
          ],
          [
           "Johnson, Juwan",
           "NOS"
          ],
          [
           "Obada, Efe",
           "BUF"
          ],
          [
           "Bouye, A.J.",
           "CAR"
          ],
          [
           "Nelson, Anthony",
           "TBB"
          ],
          [
           "Loudermilk, Isaiahh",
           "PIT"
          ],
          [
           "Williams, Brandon",
           "BAL"
          ],
          [
           "Deguara, Josiah",
           "GBP"
          ],
          [
           "Minter, Kevin",
           "TBB"
          ],
          [
           "Ridgeway, Hassan",
           "PHI"
          ],
          [
           "Grayson, Cyril",
           "TBB"
          ],
          [
           "Hargreaves, Vernon",
           "CIN"
          ],
          [
           "Stallworth, Taylor",
           "IND"
          ],
          [
           "Ahmed, Salvon",
           "MIA"
          ],
          [
           "Hartsfield, Myles",
           "CAR"
          ],
          [
           "Lewis, Tyquan",
           "IND"
          ],
          [
           "Roy, Bravvion",
           "CAR"
          ],
          [
           "Collins, Jamie",
           "NEP"
          ],
          [
           "Slaton, Tedarrell",
           "GBP"
          ],
          [
           "Turner, Malik",
           "DAL"
          ],
          [
           "Davis-Gaither, Akeem",
           "CIN"
          ],
          [
           "Leavitt, Dallin",
           "LVR"
          ],
          [
           "Lewis, Marcedes",
           "GBP"
          ],
          [
           "Ross, John",
           "NYG"
          ],
          [
           "Flowers, Tre",
           "CIN"
          ],
          [
           "Strnad, Justin",
           "DEN"
          ],
          [
           "Shelton, Danny",
           "NYG"
          ],
          [
           "Ringo, Christian",
           "NOS"
          ],
          [
           "Akins, Jordan",
           "HOU"
          ],
          [
           "Claybrooks, Chris",
           "JAC"
          ],
          [
           "Hollins, Justin",
           "LAR"
          ],
          [
           "Williams, Ty'Son",
           "BAL"
          ],
          [
           "Elliott, DeShon",
           "BAL"
          ],
          [
           "Butler, Adam",
           "MIA"
          ],
          [
           "Blair, Ronald",
           "FA"
          ],
          [
           "Callahan, Bryce",
           "DEN"
          ],
          [
           "Burks, Oren",
           "GBP"
          ],
          [
           "Montgomery, Ty",
           "NOS"
          ],
          [
           "Lawson, Nevin",
           "JAC"
          ],
          [
           "Spencer, Diontae",
           "DEN"
          ],
          [
           "Rodgers, Amari",
           "GBP"
          ],
          [
           "Stephen, Shamar",
           "DEN"
          ],
          [
           "Williams, Nick",
           "DET"
          ],
          [
           "Hufanga, Talanoa",
           "SFO"
          ],
          [
           "Phillips, Darius",
           "CIN"
          ],
          [
           "Williams, Maxx",
           "ARI"
          ],
          [
           "Ford, Isaiah",
           "MIA"
          ],
          [
           "Lancaster, Tyler",
           "GBP"
          ],
          [
           "Reynolds, Craig",
           "DET"
          ],
          [
           "Kroft, Tyler",
           "NYJ"
          ],
          [
           "Skowronek, Ben",
           "LAR"
          ],
          [
           "Fackrell, Kyler",
           "LAC"
          ],
          [
           "Dupree, Bud",
           "TEN"
          ],
          [
           "Hawkins, Jaylinn",
           "ATL"
          ],
          [
           "Thomas, Ian",
           "CAR"
          ],
          [
           "Davis, Raekwon",
           "MIA"
          ],
          [
           "Copeland, Brandon",
           "ATL"
          ],
          [
           "King, Kevin",
           "GBP"
          ],
          [
           "Westbrook, Dede",
           "MIN"
          ],
          [
           "Freeman, Royce",
           "HOU"
          ],
          [
           "Rice, Monty",
           "TEN"
          ],
          [
           "Hodge, KhaDarel",
           "DET"
          ],
          [
           "Johnson, Marcus",
           "TEN"
          ],
          [
           "Cannon, Trenton",
           "SFO"
          ],
          [
           "Hall, Darren",
           "ATL"
          ],
          [
           "Mickens, Jaydon",
           "JAC"
          ],
          [
           "Adeniyi, Ola",
           "TEN"
          ],
          [
           "Deayon, Donte",
           "LAR"
          ],
          [
           "Bryan, Taven",
           "JAC"
          ],
          [
           "Brown, Pharaoh",
           "HOU"
          ],
          [
           "Davison, Tyeler",
           "ATL"
          ],
          [
           "Amendola, Danny",
           "HOU"
          ],
          [
           "Goldman, Eddie",
           "CHI"
          ],
          [
           "Jackson, Malik",
           "CLE"
          ],
          [
           "Board, Chris",
           "BAL"
          ],
          [
           "Clement, Corey",
           "DAL"
          ],
          [
           "Okoronkwo, Ogbonnia",
           "LAR"
          ],
          [
           "Thomas, Ambry",
           "SFO"
          ],
          [
           "Phillips, Del'Shawn",
           "NYJ"
          ],
          [
           "Boyd, Kris",
           "MIN"
          ],
          [
           "Watt, J.J.",
           "ARI"
          ],
          [
           "Baun, Zack",
           "NOS"
          ],
          [
           "Evans, Chris",
           "CIN"
          ],
          [
           "Proche, James",
           "BAL"
          ],
          [
           "Ogbongbemiga, Amen",
           "LAC"
          ],
          [
           "Basham, Carlos",
           "BUF"
          ],
          [
           "Sermon, Trey",
           "SFO"
          ],
          [
           "Davis, Carl",
           "NEP"
          ],
          [
           "Mullen, Trayvon",
           "LVR"
          ],
          [
           "St-Juste, Benjamin",
           "WAS"
          ],
          [
           "Benjamin, Eno",
           "ARI"
          ],
          [
           "Bachie, Joe",
           "CIN"
          ],
          [
           "Shepherd, Nathan",
           "NYJ"
          ],
          [
           "Sanu, Mohamed",
           "SFO"
          ],
          [
           "Burris, Juston",
           "CAR"
          ],
          [
           "Woods, Josh",
           "DET"
          ],
          [
           "Carrie, T.J.",
           "IND"
          ],
          [
           "Day, Sheldon",
           "CLE"
          ],
          [
           "Mayo, David",
           "WAS"
          ],
          [
           "Brown, Noah",
           "DAL"
          ],
          [
           "Elliott, Jordan",
           "CLE"
          ],
          [
           "Toohill, Casey",
           "WAS"
          ],
          [
           "Jackson, Tarron",
           "PHI"
          ],
          [
           "Cooper, Pharoh",
           "FA"
          ],
          [
           "Erickson, Alex",
           "CAR"
          ],
          [
           "Johnson, Jaleel",
           "HOU"
          ],
          [
           "Gilmore, Stephon",
           "CAR"
          ],
          [
           "Johnson, Dontae",
           "SFO"
          ],
          [
           "Bailey, Markus",
           "CIN"
          ],
          [
           "Cisco, Andre",
           "JAC"
          ],
          [
           "Smith-Schuster, JuJu",
           "PIT"
          ],
          [
           "Ward, Greg",
           "PHI"
          ],
          [
           "Bell, Le'Veon",
           "FA"
          ],
          [
           "Eskridge, D'Wayne",
           "SEA"
          ],
          [
           "Jackson, Joe",
           "KCC"
          ],
          [
           "Mondeaux, Henry",
           "PIT"
          ],
          [
           "Neal, Siran",
           "BUF"
          ],
          [
           "Ford, Dee",
           "SFO"
          ],
          [
           "Green, A.J.",
           "CLE"
          ],
          [
           "Ingram, Melvin",
           "KCC"
          ],
          [
           "McKinney, Benardrick",
           "NYG"
          ],
          [
           "Quarterman, Shaquille",
           "JAC"
          ],
          [
           "Chark, D.J.",
           "JAC"
          ],
          [
           "Jones, Jonathan",
           "NEP"
          ],
          [
           "Peterson, Adrian",
           "FA"
          ],
          [
           "Sample, Cameron",
           "CIN"
          ],
          [
           "Fotu, Leki",
           "ARI"
          ],
          [
           "Huff, Bryce",
           "NYJ"
          ],
          [
           "Reaves, Jeremy",
           "WAS"
          ],
          [
           "Rumph, Chris",
           "LAC"
          ],
          [
           "Robinson, Aaron",
           "NYG"
          ],
          [
           "Board, C.J.",
           "NYG"
          ],
          [
           "Rountree, Larry",
           "LAC"
          ],
          [
           "Howard, O.J.",
           "TBB"
          ],
          [
           "Adams, Andrew",
           "TBB"
          ],
          [
           "Burns, Artie",
           "CHI"
          ],
          [
           "Jarwin, Blake",
           "DAL"
          ],
          [
           "Tonga, Khyiris",
           "CHI"
          ],
          [
           "Marshall, Terrace",
           "CAR"
          ],
          [
           "Ebron, Eric",
           "PIT"
          ],
          [
           "Wallow, Garret",
           "HOU"
          ],
          [
           "Barton, Cody",
           "SEA"
          ],
          [
           "Wilson, Donovan",
           "DAL"
          ],
          [
           "Davis, Jarrad",
           "NYJ"
          ],
          [
           "Campbell, Parris",
           "IND"
          ],
          [
           "Uche, Josh",
           "NEP"
          ],
          [
           "Rush, Anthony",
           "ATL"
          ],
          [
           "Washington, Broderick",
           "BAL"
          ],
          [
           "Richard, Jalen",
           "LVR"
          ],
          [
           "Niemann, Nick",
           "LAC"
          ],
          [
           "Brown, Dyami",
           "WAS"
          ],
          [
           "Kwiatkoski, Nick",
           "LVR"
          ],
          [
           "Peters, Corey",
           "ARI"
          ],
          [
           "Johnson, Danny",
           "WAS"
          ],
          [
           "Tuioti-Mariner, Jacob",
           "CAR"
          ],
          [
           "Collins, Zaven",
           "ARI"
          ],
          [
           "Murray, Kenneth",
           "LAC"
          ],
          [
           "Riley, Duke",
           "MIA"
          ],
          [
           "Williams, Joejuan",
           "NEP"
          ],
          [
           "Bullard, Jonathan",
           "ATL"
          ],
          [
           "Matakevich, Tyler",
           "BUF"
          ],
          [
           "Omenihu, Charles",
           "SFO"
          ],
          [
           "St. Brown, Equanimeous",
           "GBP"
          ],
          [
           "Vaughn, Ke'Shawn",
           "TBB"
          ],
          [
           "Bellore, Nick",
           "SEA"
          ],
          [
           "Hart, Penny",
           "SEA"
          ],
          [
           "Skrine, Buster",
           "TEN"
          ],
          [
           "Gentry, Zach",
           "PIT"
          ],
          [
           "Rochell, Robert",
           "LAR"
          ],
          [
           "Gardeck, Dennis",
           "ARI"
          ],
          [
           "Owens, Jonathan",
           "HOU"
          ],
          [
           "Kennard, Devon",
           "ARI"
          ],
          [
           "Smith, Keith",
           "ATL"
          ],
          [
           "Charlton, Taco",
           "PIT"
          ],
          [
           "Sherfield, Trent",
           "SFO"
          ],
          [
           "Delaney, Dee",
           "TBB"
          ],
          [
           "Harrison, Malik",
           "BAL"
          ],
          [
           "Pennel, Mike",
           "ATL"
          ],
          [
           "Harry, N'Keal",
           "NEP"
          ],
          [
           "Epenesa, A.J.",
           "BUF"
          ],
          [
           "Ferrell, Clelin",
           "LVR"
          ],
          [
           "Pettis, Dante",
           "NYG"
          ],
          [
           "Flannigan-Fowles, Demetrius",
           "SFO"
          ],
          [
           "Gray, J.T.",
           "NOS"
          ],
          [
           "Price, Bobby",
           "DET"
          ],
          [
           "Neasman, Sharrod",
           "FA"
          ],
          [
           "Ingold, Alec",
           "LVR"
          ],
          [
           "Seymour, Kevon",
           "BAL"
          ],
          [
           "Turner, Payton",
           "NOS"
          ],
          [
           "Wilson, Brandon",
           "CIN"
          ],
          [
           "Jones, Christian",
           "CHI"
          ],
          [
           "Moore, C.J.",
           "DET"
          ],
          [
           "Brown, Malcolm",
           "MIA"
          ],
          [
           "Wright, Brock",
           "DET"
          ],
          [
           "Stevenson, Marquez",
           "BUF"
          ],
          [
           "Watt, Derek",
           "PIT"
          ],
          [
           "Willekes, Kenny",
           "MIN"
          ],
          [
           "White, James",
           "NEP"
          ],
          [
           "Thomas, Daniel",
           "JAC"
          ],
          [
           "Jones, Tony",
           "NOS"
          ],
          [
           "Jefferson, Jermar",
           "DET"
          ],
          [
           "McKinnon, Jerick",
           "KCC"
          ],
          [
           "Vannett, Nick",
           "NOS"
          ],
          [
           "James, Jesse",
           "CHI"
          ],
          [
           "Crossen, Keion",
           "NYG"
          ],
          [
           "Alexander, Jaire",
           "GBP"
          ],
          [
           "Garvin, Jonathan",
           "GBP"
          ],
          [
           "Givens, Kevin",
           "SFO"
          ],
          [
           "Jenkins, John",
           "MIA"
          ],
          [
           "Tart, Teair",
           "TEN"
          ],
          [
           "Wilson, Jarrod",
           "FA"
          ],
          [
           "Ham, C.J.",
           "MIN"
          ],
          [
           "Farley, Matthias",
           "TEN"
          ],
          [
           "Bostic, Jon",
           "WAS"
          ],
          [
           "Martinez, Blake",
           "NYG"
          ],
          [
           "Chubb, Bradley",
           "DEN"
          ],
          [
           "McCourty, Jason",
           "MIA"
          ],
          [
           "Williams, Jarren",
           "NYG"
          ],
          [
           "McPhee, Pernell",
           "BAL"
          ],
          [
           "Lemonier, Jessie",
           "DET"
          ],
          [
           "Phillips, Kyle",
           "NYJ"
          ],
          [
           "Robertson, Amik",
           "LVR"
          ],
          [
           "Sherman, Richard",
           "TBB"
          ],
          [
           "Snell, Benny",
           "PIT"
          ],
          [
           "Watts, Armani",
           "KCC"
          ],
          [
           "Greenlaw, Dre",
           "SFO"
          ],
          [
           "Howard, Travin",
           "LAR"
          ],
          [
           "Kemp, Marcus",
           "KCC"
          ],
          [
           "Mclendon, Steve",
           "TBB"
          ],
          [
           "Cabinda, Jason",
           "DET"
          ],
          [
           "Franklin, Sam",
           "CAR"
          ],
          [
           "Killebrew, Miles",
           "PIT"
          ],
          [
           "Powell, Brandon",
           "LAR"
          ],
          [
           "Perriman, Breshad",
           "TBB"
          ],
          [
           "Rivers, Derek",
           "HOU"
          ],
          [
           "Taylor, J.J.",
           "NEP"
          ],
          [
           "Cole, Dylan",
           "TEN"
          ],
          [
           "Ellis, Justin",
           "BAL"
          ],
          [
           "Stone, Geno",
           "BAL"
          ],
          [
           "Burton, Michael",
           "KCC"
          ],
          [
           "Elliss, Kaden",
           "NOS"
          ],
          [
           "Lenoir, Deommodore",
           "SFO"
          ],
          [
           "Roberson, Derick",
           "TEN"
          ],
          [
           "Gilbert, Ulysees",
           "PIT"
          ],
          [
           "Ekuale, Daniel",
           "FA"
          ],
          [
           "Oliver, Isaiah",
           "ATL"
          ],
          [
           "Smith, Lee",
           "ATL"
          ],
          [
           "Ankou, Eli",
           "BUF"
          ],
          [
           "Jefferson, Tony",
           "BAL"
          ],
          [
           "Walter, Austin",
           "NYJ"
          ],
          [
           "Woerner, Charlie",
           "SFO"
          ],
          [
           "Buggs, Isaiah",
           "FA"
          ],
          [
           "Gill, Cam",
           "TBB"
          ],
          [
           "Johnson, Jaquan",
           "BUF"
          ],
          [
           "Layne, Justin",
           "PIT"
          ],
          [
           "Rochell, Isaac",
           "IND"
          ],
          [
           "Settle, Tim",
           "WAS"
          ],
          [
           "Shaheen, Adam",
           "MIA"
          ],
          [
           "Togiai, Tommy",
           "CLE"
          ],
          [
           "Baker, Deandre",
           "KCC"
          ],
          [
           "Bradley, Shaun",
           "PHI"
          ],
          [
           "Saubert, Eric",
           "DEN"
          ],
          [
           "Johnson, Collin",
           "NYG"
          ],
          [
           "Teamer, Roderic",
           "LVR"
          ],
          [
           "Westry, Chris",
           "BAL"
          ],
          [
           "Hill, Kylin",
           "GBP"
          ],
          [
           "Benson, Trinity",
           "DET"
          ],
          [
           "Harris, Demetrius",
           "ARI"
          ],
          [
           "Gaziano, Joe",
           "LAC"
          ],
          [
           "Holmes, Jalyn",
           "NOS"
          ],
          [
           "Washington, Dwayne",
           "NOS"
          ],
          [
           "Ollison, Qadree",
           "ATL"
          ],
          [
           "Bethel, Justin",
           "NEP"
          ],
          [
           "Fortson, Jody",
           "KCC"
          ],
          [
           "Eguavoen, Sam",
           "MIA"
          ],
          [
           "Arcega-Whiteside, JJ",
           "PHI"
          ],
          [
           "Granson, Kylen",
           "IND"
          ],
          [
           "Ward, Jonathan",
           "ARI"
          ],
          [
           "Dowell, Andrew",
           "NOS"
          ],
          [
           "Johnston, Clay",
           "CIN"
          ],
          [
           "Oliver, Josh",
           "BAL"
          ],
          [
           "Stanford, Julian",
           "CAR"
          ],
          [
           "Stuard, Grant",
           "TBB"
          ],
          [
           "Gallimore, Neville",
           "DAL"
          ],
          [
           "Mims, Denzel",
           "NYJ"
          ],
          [
           "Edwards, Mario",
           "CHI"
          ],
          [
           "Kelley, Joshua",
           "LAC"
          ],
          [
           "Manhertz, Chris",
           "JAC"
          ],
          [
           "Johnson, Patrick",
           "PHI"
          ],
          [
           "Kiser, Micah",
           "DEN"
          ],
          [
           "Melvin, Rashaan",
           "CAR"
          ],
          [
           "Nkemdiche, Robert",
           "SEA"
          ],
          [
           "Russell, Chapelle",
           "JAC"
          ],
          [
           "Smith, Jimmy",
           "BAL"
          ],
          [
           "Vaughters, James",
           "ATL"
          ],
          [
           "Pittman, Anthony",
           "DET"
          ],
          [
           "Robinson, Kenny",
           "CAR"
          ],
          [
           "Morgan, Stanley",
           "CIN"
          ],
          [
           "Sample, Drew",
           "CIN"
          ],
          [
           "Trevathan, Danny",
           "CHI"
          ],
          [
           "Wallace, Tylan",
           "BAL"
          ],
          [
           "Smith, Jeff",
           "NYJ"
          ],
          [
           "Wilkerson, Kristian",
           "NEP"
          ],
          [
           "Adams, Montravius",
           "PIT"
          ],
          [
           "Bronson, Josiah",
           "DAL"
          ],
          [
           "Smith, Shi",
           "CAR"
          ],
          [
           "Bell, Blake",
           "KCC"
          ],
          [
           "Colbert, Adrian",
           "FA"
          ],
          [
           "Crawford, Xavier",
           "CHI"
          ],
          [
           "Gallman, Wayne",
           "MIN"
          ],
          [
           "Sweeney, Tommy",
           "BUF"
          ],
          [
           "Trufant, Desmond",
           "LVR"
          ],
          [
           "Dorsett, Phillip",
           "HOU"
          ],
          [
           "Heath, Jeff",
           "NOS"
          ],
          [
           "Williams, Jonathan",
           "WAS"
          ],
          [
           "Hollister, Jacob",
           "JAC"
          ],
          [
           "Horsted, Jesper",
           "CHI"
          ],
          [
           "Stills, Kenny",
           "NOS"
          ],
          [
           "Huggins, Albert",
           "NOS"
          ],
          [
           "Koonce, Malcolm",
           "LVR"
          ],
          [
           "Nunez-Roches, Rakeem",
           "TBB"
          ],
          [
           "Odeyingbo, Dayo",
           "IND"
          ],
          [
           "Penisini, John",
           "DET"
          ],
          [
           "Ward, Tim",
           "NYJ"
          ],
          [
           "Ximines, Oshane",
           "NYG"
          ],
          [
           "Dodson, Tyrel",
           "BUF"
          ],
          [
           "Lee, Elijah",
           "CLE"
          ],
          [
           "Marshall, Trey",
           "LAC"
          ],
          [
           "Gray, Noah",
           "KCC"
          ],
          [
           "Adams, Matthew",
           "IND"
          ],
          [
           "Dye, Troy",
           "MIN"
          ],
          [
           "Herndon, Tre",
           "JAC"
          ],
          [
           "McCray, Lerentee",
           "JAC"
          ],
          [
           "Pinnock, Jason",
           "NYJ"
          ],
          [
           "Zimmer, Justin",
           "BUF"
          ],
          [
           "Batson, Cameron",
           "TEN"
          ],
          [
           "Fitzpatrick, Dez",
           "TEN"
          ],
          [
           "Smith, Chris",
           "HOU"
          ],
          [
           "Graham, Thomas",
           "CHI"
          ],
          [
           "Mack, Marlon",
           "IND"
          ],
          [
           "Melifonwu, Ifeatu",
           "DET"
          ],
          [
           "Scarlett, Brennan",
           "MIA"
          ],
          [
           "Agim, McTelvin",
           "DEN"
          ],
          [
           "Addae, Jahleel",
           "IND"
          ],
          [
           "Brooks, Terrence",
           "HOU"
          ],
          [
           "Jewell, Josey",
           "DEN"
          ],
          [
           "Sherwood, Jamien",
           "NYJ"
          ],
          [
           "Armah, Alexander",
           "WAS"
          ],
          [
           "Dwelley, Ross",
           "SFO"
          ],
          [
           "Ricard, Patrick",
           "BAL"
          ],
          [
           "Auclair, Antony",
           "HOU"
          ],
          [
           "Butler, Vernon",
           "BUF"
          ],
          [
           "Hunt, Margus",
           "CHI"
          ],
          [
           "Lawrence, Rashard",
           "ARI"
          ],
          [
           "Rhattigan, Jon",
           "SEA"
          ],
          [
           "Tavai, Jahlani",
           "NEP"
          ],
          [
           "Green, T.J.",
           "HOU"
          ],
          [
           "Janovich, Andy",
           "CLE"
          ],
          [
           "Galeai, Tipa",
           "GBP"
          ],
          [
           "Zuniga, Jabari",
           "NYJ"
          ],
          [
           "Allen, Ricardo",
           "CIN"
          ],
          [
           "Davis, Cody",
           "NEP"
          ],
          [
           "Thomas, Joe",
           "FA"
          ],
          [
           "Vallejo, Tanner",
           "ARI"
          ],
          [
           "Reid, John",
           "SEA"
          ],
          [
           "Roach, Malcolm",
           "NOS"
          ],
          [
           "Okwara, Romeo",
           "DET"
          ],
          [
           "Hogan, Chris",
           "FA"
          ],
          [
           "Graham, Ta'Quon",
           "ATL"
          ],
          [
           "Hamilton, Justin",
           "DEN"
          ],
          [
           "Levine, Anthony",
           "FA"
          ],
          [
           "McPhearson, Zech",
           "PHI"
          ],
          [
           "Toney, Shaka",
           "WAS"
          ],
          [
           "Milne, Dax",
           "WAS"
          ],
          [
           "Moore, A.J.",
           "HOU"
          ],
          [
           "Pierre-Louis, Kevin",
           "HOU"
          ],
          [
           "Wesco, Trevon",
           "NYJ"
          ],
          [
           "Smith-Marsette, Ihmir",
           "MIN"
          ],
          [
           "Square, Damion",
           "CIN"
          ],
          [
           "Brown, Tre",
           "SEA"
          ],
          [
           "Christian, Marqui",
           "CHI"
          ],
          [
           "Hairston, Nate",
           "DEN"
          ],
          [
           "Mabin, Greg",
           "TEN"
          ],
          [
           "Hill, K.J.",
           "FA"
          ],
          [
           "Harris, Jonathan",
           "DEN"
          ],
          [
           "Hill, Trysten",
           "DAL"
          ],
          [
           "Johnson, Raymond",
           "NYG"
          ],
          [
           "Smith, Elerson",
           "NYG"
          ],
          [
           "Tupou, Josh",
           "CIN"
          ],
          [
           "Tate, Auden",
           "CIN"
          ],
          [
           "White, Kevin",
           "NOS"
          ],
          [
           "Allen, Dakota",
           "JAC"
          ],
          [
           "Summers, Ty",
           "GBP"
          ],
          [
           "Hoskins, Phil",
           "CAR"
          ],
          [
           "Atwell, Tutu",
           "LAR"
          ],
          [
           "Blake, Christian",
           "ATL"
          ],
          [
           "Davis, Tyler",
           "GBP"
          ],
          [
           "Miller, Anthony",
           "PIT"
          ],
          [
           "Johnson, Tyron",
           "LVR"
          ],
          [
           "Miller, Scott",
           "TBB"
          ],
          [
           "Kumerow, Jake",
           "BUF"
          ],
          [
           "White, Cody",
           "PIT"
          ],
          [
           "Dzubnar, Nick",
           "TEN"
          ],
          [
           "Kennedy, Tom",
           "DET"
          ],
          [
           "Nixon, Keisean",
           "LVR"
          ],
          [
           "Williams, Shawn",
           "ATL"
          ],
          [
           "Yiadom, Isaac",
           "FA"
          ],
          [
           "Gordon, Josh",
           "KCC"
          ],
          [
           "Joseph, Kelvin",
           "DAL"
          ],
          [
           "Dortch, Greg",
           "ARI"
          ],
          [
           "Copeland, Marquise",
           "LAR"
          ],
          [
           "Herndon, Chris",
           "MIN"
          ],
          [
           "Kinlaw, Javon",
           "SFO"
          ],
          [
           "Nixon, Daviyon",
           "CAR"
          ],
          [
           "Odenigbo, Ifeadi",
           "CLE"
          ],
          [
           "Williams, Preston",
           "MIA"
          ],
          [
           "McKeon, Sean",
           "DAL"
          ],
          [
           "Webster, Nsimba",
           "CHI"
          ],
          [
           "Carter, Cethan",
           "MIA"
          ],
          [
           "Austin, Blessuan",
           "SEA"
          ],
          [
           "Chachere, Andre",
           "PHI"
          ],
          [
           "Elliott, Jalen",
           "DET"
          ],
          [
           "Lewis, Cam",
           "BUF"
          ],
          [
           "Munson, Calvin",
           "MIA"
          ],
          [
           "Reed, J.R.",
           "NYG"
          ],
          [
           "Bradley, Ja'Marcus",
           "CLE"
          ],
          [
           "Dunn, Isaiah",
           "NYJ"
          ],
          [
           "Gifford, Luke",
           "DAL"
          ],
          [
           "Gustin, Porter",
           "CLE"
          ],
          [
           "Wallace, K'Von",
           "PHI"
          ],
          [
           "Kareem, Khalid",
           "CIN"
          ],
          [
           "Thomas, Mike",
           "CIN"
          ],
          [
           "Bohanna, Quinton",
           "DAL"
          ],
          [
           "Hoecht, Michael",
           "LAR"
          ],
          [
           "Slater, Matt",
           "NEP"
          ],
          [
           "Wilson, Tavon",
           "SFO"
          ],
          [
           "Marsh, Cassius",
           "CHI"
          ],
          [
           "Davis, Jalen",
           "CIN"
          ],
          [
           "Jones, Jamir",
           "JAC"
          ],
          [
           "Lee, Marquel",
           "LVR"
          ],
          [
           "Walker, Joe",
           "ARI"
          ],
          [
           "Winovich, Chase",
           "NEP"
          ],
          [
           "Horn, Jaycee",
           "CAR"
          ],
          [
           "Farrell, Luke",
           "JAC"
          ],
          [
           "Samuel, Curtis",
           "WAS"
          ],
          [
           "Blair, Marquise",
           "SEA"
          ],
          [
           "Winston, Easop",
           "NOS"
          ],
          [
           "Hamler, KJ",
           "DEN"
          ],
          [
           "Taylor, Malik",
           "GBP"
          ],
          [
           "Thomas, Michael",
           "CIN"
          ],
          [
           "Jones, Taiwan",
           "BUF"
          ],
          [
           "Patrick, Aaron",
           "DEN"
          ],
          [
           "Waynes, Trae",
           "CIN"
          ],
          [
           "Welch, Kristian",
           "BAL"
          ],
          [
           "Wright, Nahshon",
           "DAL"
          ],
          [
           "Dafney, Dominique",
           "GBP"
          ],
          [
           "Smith, Andre",
           "BUF"
          ],
          [
           "Brightwell, Gary",
           "NYG"
          ],
          [
           "Jackson, Deon",
           "IND"
          ],
          [
           "Mack, Isaiah",
           "BAL"
          ],
          [
           "Phillips, Jacob",
           "CLE"
          ],
          [
           "Brown, Cam",
           "NYG"
          ],
          [
           "Everett, Deshazor",
           "WAS"
          ],
          [
           "Harris, Davontae",
           "LAC"
          ],
          [
           "Kamara, Sam",
           "CHI"
          ],
          [
           "Stoll, Jack",
           "PHI"
          ],
          [
           "Collier, L.J.",
           "SEA"
          ],
          [
           "Iyiegbuniwe, Joel",
           "CHI"
          ],
          [
           "Johnson, Caleb",
           "CHI"
          ],
          [
           "Jones, Patrick",
           "MIN"
          ],
          [
           "Murchison, Larrell",
           "TEN"
          ],
          [
           "Griffin, Garrett",
           "NOS"
          ],
          [
           "Myarick, Chris",
           "FA"
          ],
          [
           "Allen, Marcus",
           "PIT"
          ],
          [
           "Boone, Mike",
           "DEN"
          ],
          [
           "Bootle, DiCaprio",
           "KCC"
          ],
          [
           "Goodwin, C.J.",
           "DAL"
          ],
          [
           "Hardee, Justin",
           "NYJ"
          ],
          [
           "Johnson, Jakob",
           "NEP"
          ],
          [
           "King, Brandon",
           "NEP"
          ],
          [
           "McKitty, Tre'",
           "LAC"
          ],
          [
           "Ray, Wyatt",
           "CIN"
          ],
          [
           "Tabor, Teez",
           "CHI"
          ],
          [
           "Taylor, Trent",
           "CIN"
          ],
          [
           "Funk, Jake",
           "LAR"
          ],
          [
           "Smith, Kaden",
           "NYG"
          ],
          [
           "Hall, Kemon",
           "LAC"
          ],
          [
           "Natson, JoJo",
           "FA"
          ],
          [
           "Patmon, Dezmon",
           "IND"
          ],
          [
           "Harris, Trent",
           "NYG"
          ],
          [
           "Jones, Chris",
           "TEN"
          ],
          [
           "Ricci, Giovanni",
           "CAR"
          ],
          [
           "Saunders, Khalen",
           "KCC"
          ],
          [
           "Simon, John",
           "PIT"
          ],
          [
           "Britt, K.J.",
           "TBB"
          ],
          [
           "Hudson, Khaleke",
           "WAS"
          ],
          [
           "Jean-Charles, Shemar",
           "GBP"
          ],
          [
           "Kirkpatrick, Dre",
           "FA"
          ],
          [
           "Redwine, Sheldrick",
           "MIA"
          ],
          [
           "Thompson, Deionte",
           "ARI"
          ],
          [
           "Blanton, Kendall",
           "LAR"
          ],
          [
           "Bower, Tashawn",
           "MIN"
          ],
          [
           "Tomlinson, Eric",
           "BAL"
          ],
          [
           "Ballage, Kalen",
           "PIT"
          ],
          [
           "Banjo, Chris",
           "ARI"
          ],
          [
           "Hesse, Parker",
           "ATL"
          ],
          [
           "Parks, Will",
           "NYJ"
          ],
          [
           "Winfree, Juwann",
           "GBP"
          ],
          [
           "Ford, Mike",
           "DEN"
          ],
          [
           "Igbinoghene, Noah",
           "MIA"
          ],
          [
           "Irvin, Bruce",
           "CHI"
          ],
          [
           "Nasirildeen, Hamsah",
           "NYJ"
          ],
          [
           "Peterson, Kevin",
           "FA"
          ],
          [
           "Strong, Kevin",
           "TEN"
          ],
          [
           "Worley, Daryl",
           "FA"
          ],
          [
           "Howell, Buddy",
           "LAR"
          ],
          [
           "Stanton, Johnny",
           "CLE"
          ],
          [
           "Apke, Troy",
           "WAS"
          ],
          [
           "Borders, Breon",
           "ARI"
          ],
          [
           "Lammons, Chris",
           "KCC"
          ],
          [
           "Metellus, Josh",
           "MIN"
          ],
          [
           "Fuller, Will",
           "MIA"
          ],
          [
           "Moore, Jason",
           "LAC"
          ],
          [
           "Darby, Frank",
           "ATL"
          ],
          [
           "Fells, Darren",
           "TBB"
          ],
          [
           "Smith, Rodney",
           "FA"
          ],
          [
           "Breeze, Brady",
           "DET"
          ],
          [
           "Locke, P.J.",
           "DEN"
          ],
          [
           "O'Daniel, Dorian",
           "KCC"
          ],
          [
           "Scott, Josiah",
           "PHI"
          ],
          [
           "Gilliam, Reggie",
           "BUF"
          ],
          [
           "Sprinkle, Jeremy",
           "DAL"
          ],
          [
           "Adams, Tyrell",
           "JAC"
          ],
          [
           "Daniels, Darrell",
           "ARI"
          ],
          [
           "Davis, Carlos",
           "PIT"
          ],
          [
           "Kerr, Zach",
           "CIN"
          ],
          [
           "Parker, Steven",
           "NYG"
          ],
          [
           "Brown, Daniel",
           "NYJ"
          ],
          [
           "Rader, Kevin",
           "PIT"
          ],
          [
           "Snead, Willie",
           "FA"
          ],
          [
           "Smallwood, Wendell",
           "FA"
          ],
          [
           "McFarland, Anthony",
           "PIT"
          ],
          [
           "Montgomery, D.J.",
           "NYJ"
          ],
          [
           "Nabers, Gabe",
           "LAC"
          ],
          [
           "Yeboah, Kenny",
           "NYJ"
          ],
          [
           "Bates, Daren",
           "ATL"
          ],
          [
           "Glasgow, Jordan",
           "IND"
          ],
          [
           "Hand, Harrison",
           "MIN"
          ],
          [
           "Jones, Josh",
           "FA"
          ],
          [
           "Roberts, Darryl",
           "WAS"
          ],
          [
           "Thomas-Oliver, Stantley",
           "CAR"
          ],
          [
           "Isabella, Andy",
           "ARI"
          ],
          [
           "Carrier, Derek",
           "LVR"
          ],
          [
           "Hollister, Cody",
           "TEN"
          ],
          [
           "Fejedelem, Clayton",
           "MIA"
          ],
          [
           "Alualu, Tyson",
           "PIT"
          ],
          [
           "Cleveland, Tyrie",
           "DEN"
          ],
          [
           "Cracraft, River",
           "FA"
          ],
          [
           "Elder, Corn",
           "WAS"
          ],
          [
           "Farley, Caleb",
           "TEN"
          ],
          [
           "Woods, Antwaun",
           "IND"
          ],
          [
           "Canady, Maurice",
           "DAL"
          ],
          [
           "Ferguson, Jaylon",
           "BAL"
          ],
          [
           "Gillespie, Tyree",
           "LVR"
          ],
          [
           "Hughes, Juju",
           "DET"
          ],
          [
           "Miller, Herb",
           "CLE"
          ],
          [
           "Smith, Ryan",
           "LAC"
          ],
          [
           "Smith, Tye",
           "FA"
          ],
          [
           "Ballentine, Corey",
           "ATL"
          ],
          [
           "Irwin, Trenton",
           "CIN"
          ],
          [
           "Bandy, Michael",
           "LAC"
          ],
          [
           "Zylstra, Shane",
           "DET"
          ],
          [
           "Okudah, Jeff",
           "DET"
          ],
          [
           "Hudson, Tommy",
           "TEN"
          ],
          [
           "Parkinson, Colby",
           "SEA"
          ],
          [
           "Anderson, Henry",
           "NEP"
          ],
          [
           "Carter, Tory",
           "TEN"
          ],
          [
           "Coughlin, Carter",
           "NYG"
          ],
          [
           "Evans, Jordan",
           "CIN"
          ],
          [
           "Holtz, J.P.",
           "CHI"
          ],
          [
           "Jones, Joseph",
           "TEN"
          ],
          [
           "Kerrigan, Ryan",
           "PHI"
          ],
          [
           "McDougald, Bradley",
           "FA"
          ],
          [
           "Taylor, Patrick",
           "GBP"
          ],
          [
           "Verrett, Jason",
           "SFO"
          ],
          [
           "McMath, Racey",
           "TEN"
          ],
          [
           "Arnette, Damon",
           "KCC"
          ],
          [
           "Nall, Ryan",
           "CHI"
          ],
          [
           "Williams, Trayveon",
           "CIN"
          ],
          [
           "Newsome, Dazz",
           "CHI"
          ],
          [
           "Barner, Kenjon",
           "TBB"
          ],
          [
           "Samuels, Jaylen",
           "ARI"
          ],
          [
           "Burgess, Terrell",
           "LAR"
          ],
          [
           "Kunaszyk, Jordan",
           "WAS"
          ],
          [
           "Orr, Kareem",
           "LAR"
          ],
          [
           "Robey, Nickell",
           "FA"
          ],
          [
           "Robinson, Rashard",
           "TBB"
          ],
          [
           "Turner, Zeke",
           "ARI"
          ],
          [
           "Prentice, Adam",
           "NOS"
          ],
          [
           "Stocker, Luke",
           "MIN"
          ],
          [
           "Armstead, Ryquell",
           "JAC"
          ],
          [
           "Adams, Myles",
           "SEA"
          ],
          [
           "Chisena, Dan",
           "MIN"
          ],
          [
           "Hamlin, Damar",
           "BUF"
          ],
          [
           "O'Connor, Pat",
           "TBB"
          ],
          [
           "Kirkwood, Keith",
           "FA"
          ],
          [
           "Perine, Lamical",
           "NYJ"
          ],
          [
           "Strachan, Mike",
           "IND"
          ],
          [
           "Evans, Darrynton",
           "TEN"
          ],
          [
           "Cashman, Blake",
           "NYJ"
          ],
          [
           "Fields, Tony",
           "CLE"
          ],
          [
           "Forrest, Darrick",
           "WAS"
          ],
          [
           "Muse, Tanner",
           "SEA"
          ],
          [
           "Rozeboom, Christian",
           "LAR"
          ],
          [
           "Sheffield, Kendall",
           "ATL"
          ],
          [
           "Thompson, Darian",
           "FA"
          ],
          [
           "Washington, Charles",
           "ARI"
          ],
          [
           "Webb, Mark",
           "LAC"
          ],
          [
           "Phillips, Scottie",
           "HOU"
          ],
          [
           "Williams, Seth",
           "DEN"
          ],
          [
           "Williams, Pooka",
           "FA"
          ],
          [
           "Akinmoladun, Freedom",
           "FA"
          ],
          [
           "Anae, Bradlee",
           "NYJ"
          ],
          [
           "Cominsky, John",
           "ATL"
          ],
          [
           "Gillaspia, Cullen",
           "NYG"
          ],
          [
           "Graham, Brandon",
           "PHI"
          ],
          [
           "Hand, Da'Shawn",
           "TEN"
          ],
          [
           "Hurst, Maurice",
           "SFO"
          ],
          [
           "Tuipulotu, Marlon",
           "PHI"
          ],
          [
           "Urban, Brent",
           "DAL"
          ],
          [
           "Wilcox, Mitchell",
           "CIN"
          ],
          [
           "Mundt, Johnny",
           "LAR"
          ],
          [
           "Laird, Patrick",
           "MIA"
          ],
          [
           "Bernard, Francis",
           "DAL"
          ],
          [
           "Brooks, Antoine",
           "FA"
          ],
          [
           "Connelly, Ryan",
           "MIN"
          ],
          [
           "Hamilton, La'Darius",
           "GBP"
          ],
          [
           "Jackson, Josh",
           "FA"
          ],
          [
           "Kamara, Azur",
           "CAR"
          ],
          [
           "LeCounte, Richard",
           "CLE"
          ],
          [
           "Sills, David",
           "NYG"
          ],
          [
           "Blasingame, Khari",
           "TEN"
          ],
          [
           "Cottrell, Nathan",
           "JAC"
          ],
          [
           "Williams, Tyrell",
           "FA"
          ],
          [
           "Wilkins, Jordan",
           "FA"
          ],
          [
           "Joseph, Karl",
           "FA"
          ],
          [
           "Moore, David",
           "GBP"
          ],
          [
           "Banogu, Ben",
           "IND"
          ],
          [
           "Bledsoe, Amani",
           "FA"
          ],
          [
           "Campbell, Elijah",
           "MIA"
          ],
          [
           "Cox, Jabril",
           "DAL"
          ],
          [
           "Ebner, Nate",
           "NYG"
          ],
          [
           "Fitts, Kylie",
           "ARI"
          ],
          [
           "Johnson, Buddy",
           "PIT"
          ],
          [
           "Langi, Harvey",
           "NEP"
          ],
          [
           "Marshall, Jonathan",
           "NYJ"
          ],
          [
           "Martin, Kamal",
           "CAR"
          ],
          [
           "Nickerson, Hardy",
           "HOU"
          ],
          [
           "Perry, Jamal",
           "MIA"
          ],
          [
           "Taylor, Vincent",
           "HOU"
          ],
          [
           "Helm, Daniel",
           "ATL"
          ],
          [
           "Benjamin, Travis",
           "SFO"
          ],
          [
           "Ffrench, Maurice",
           "LAC"
          ],
          [
           "Bonnafon, Reggie",
           "WAS"
          ],
          [
           "Wolf, Ethan",
           "NOS"
          ],
          [
           "Jackson, Michael",
           "SEA"
          ],
          [
           "Davis, Davion",
           "HOU"
          ],
          [
           "Ragas, Trey",
           "LVR"
          ],
          [
           "Bawden, Nick",
           "NYJ"
          ],
          [
           "Mostert, Raheem",
           "SFO"
          ],
          [
           "Merritt, Kirk",
           "NOS"
          ],
          [
           "Attaochu, Jeremiah",
           "CHI"
          ],
          [
           "Biegel, Vince",
           "MIA"
          ],
          [
           "Dennard, Darqueze",
           "SFO"
          ],
          [
           "Dimukeje, Victor",
           "ARI"
          ],
          [
           "Egbule, Emeke",
           "LAC"
          ],
          [
           "Giles-Harris, Joe",
           "BUF"
          ],
          [
           "Nzeocha, Mark",
           "SFO"
          ],
          [
           "Bachman, Alex",
           "NYG"
          ],
          [
           "Baker, Kawaan",
           "NOS"
          ],
          [
           "Beck, Andrew",
           "DEN"
          ],
          [
           "Brown, Andrew",
           "LAC"
          ],
          [
           "Costin, Doug",
           "FA"
          ],
          [
           "Fountain, Daurice",
           "KCC"
          ],
          [
           "Hall, Marvin",
           "FA"
          ],
          [
           "Reyes, Sammis",
           "WAS"
          ],
          [
           "Smith, Sutton",
           "LVR"
          ],
          [
           "Spence, Noah",
           "CIN"
          ],
          [
           "Stoner, Dillon",
           "LVR"
          ],
          [
           "Thompson, Colin",
           "CAR"
          ],
          [
           "Thurman, Nick",
           "ATL"
          ],
          [
           "Weaver, Rashad",
           "TEN"
          ],
          [
           "Hopkins, Brycen",
           "LAR"
          ],
          [
           "Pierce, Artavis",
           "FA"
          ],
          [
           "Long, Hunter",
           "MIA"
          ],
          [
           "Hardy, JaQuan",
           "DAL"
          ],
          [
           "Kelly, John",
           "CLE"
          ],
          [
           "Sargent, Mekhi",
           "JAC"
          ],
          [
           "Boykin, Miles",
           "BAL"
          ],
          [
           "Patrick, Jacques",
           "FA"
          ],
          [
           "Bassey, Essang",
           "FA"
          ],
          [
           "Beal, Sam",
           "FA"
          ],
          [
           "Christiansen, Cole",
           "LAC"
          ],
          [
           "Coutee, Keke",
           "IND"
          ],
          [
           "Crawley, Ken",
           "NOS"
          ],
          [
           "Gowan, Tay",
           "PHI"
          ],
          [
           "Harris, Darius",
           "KCC"
          ],
          [
           "Joyner, Lamarcus",
           "NYJ"
          ],
          [
           "Keyes, Thakarius",
           "CHI"
          ],
          [
           "McDuffie, Isaiah",
           "GBP"
          ],
          [
           "Scott, Vernon",
           "GBP"
          ],
          [
           "Smith, Jordan",
           "JAC"
          ],
          [
           "Smith, Za'Darius",
           "GBP"
          ],
          [
           "Stevens, JaCoby",
           "PHI"
          ],
          [
           "Williams, Rodarius",
           "NYG"
          ],
          [
           "Crockett, Damarea",
           "DEN"
          ],
          [
           "Boyle, Nick",
           "BAL"
          ],
          [
           "Ozigbo, Devine",
           "NEP"
          ],
          [
           "Akers, Landen",
           "LAR"
          ],
          [
           "Billings, Andrew",
           "FA"
          ],
          [
           "Bradley-King, William",
           "WAS"
          ],
          [
           "Brown, Bobby",
           "LAR"
          ],
          [
           "Cole, Matt",
           "SEA"
          ],
          [
           "Forristall, Miller",
           "CLE"
          ],
          [
           "Hill, Brian",
           "FA"
          ],
          [
           "Ralston, Nick",
           "DAL"
          ],
          [
           "Sheard, Jabaal",
           "FA"
          ],
          [
           "Spencer, Marquiss",
           "DEN"
          ],
          [
           "Thompson, Cody",
           "SEA"
          ],
          [
           "Tufele, Jay",
           "JAC"
          ],
          [
           "Williams, Xavier",
           "FA"
          ],
          [
           "Yelder, Deon",
           "ARI"
          ],
          [
           "Davis, Shawn",
           "GBP"
          ],
          [
           "Etheridge, Dorian",
           "ATL"
          ],
          [
           "Lawler, Justin",
           "FA"
          ],
          [
           "Moreland, Jimmy",
           "HOU"
          ],
          [
           "Wade, Shaun",
           "NEP"
          ],
          [
           "Washington, Ar'Darius",
           "BAL"
          ],
          [
           "Wildgoose, Rachad",
           "NYJ"
          ],
          [
           "Hightower, John",
           "PHI"
          ],
          [
           "McCrary, Nate",
           "BAL"
          ],
          [
           "Adams, Josh",
           "NOS"
          ],
          [
           "Adams, Rodney",
           "NYJ"
          ],
          [
           "Akers, Cam",
           "LAR"
          ],
          [
           "Allison, Geronimo",
           "FA"
          ],
          [
           "Asiasi, Devin",
           "NEP"
          ],
          [
           "Ateman, Marcell",
           "FA"
          ],
          [
           "Bell, Quinton",
           "ATL"
          ],
          [
           "Bowers, Nick",
           "LVR"
          ],
          [
           "Bradwell, Darius",
           "CAR"
          ],
          [
           "Brown, John",
           "TBB"
          ],
          [
           "Brown, Spencer",
           "CAR"
          ],
          [
           "Brown, Tony",
           "FA"
          ],
          [
           "Bushman, Matt",
           "KCC"
          ],
          [
           "Cager, Lawrence",
           "NYJ"
          ],
          [
           "Camp, Jalen",
           "HOU"
          ],
          [
           "Campbell, Ibraheim",
           "IND"
          ],
          [
           "Carter, Ron'Dell",
           "HOU"
          ],
          [
           "Clinton-Dix, Ha Ha",
           "FA"
          ],
          [
           "Cohen, Tarik",
           "CHI"
          ],
          [
           "Compton, Will",
           "FA"
          ],
          [
           "Cornell, Jashon",
           "DET"
          ],
          [
           "Coulter, Isaiah",
           "CHI"
          ],
          [
           "Cox, Bryan",
           "BUF"
          ],
          [
           "Curry, Vinny",
           "FA"
          ],
          [
           "Daniels, Mike",
           "CIN"
          ],
          [
           "Davis, Khalil",
           "PIT"
          ],
          [
           "Davis, Sean",
           "FA"
          ],
          [
           "Davis, Tae",
           "HOU"
          ],
          [
           "Dawson, Duke",
           "FA"
          ],
          [
           "Dillon, Brandon",
           "NYJ"
          ],
          [
           "Doaks, Gerrid",
           "MIA"
          ],
          [
           "Edmunds, Trey",
           "PIT"
          ],
          [
           "Ellefson, Ben",
           "MIN"
          ],
          [
           "Fehoko, Simi",
           "DAL"
          ],
          [
           "Frazier, Kavon",
           "LVR"
          ],
          [
           "Fulgham, Travis",
           "DEN"
          ],
          [
           "Gandy-Golden, Antonio",
           "WAS"
          ],
          [
           "Garrett, Chris",
           "LAR"
          ],
          [
           "Haley, Grant",
           "LAR"
          ],
          [
           "Harper, Madre",
           "CAR"
          ],
          [
           "Harris, De'Michael",
           "IND"
          ],
          [
           "Harris, Demone",
           "HOU"
          ],
          [
           "Harris, Jacob",
           "LAR"
          ],
          [
           "Hayden, D.J.",
           "WAS"
          ],
          [
           "Hayes, Daelin",
           "BAL"
          ],
          [
           "Hemingway, Temarrick",
           "FA"
          ],
          [
           "Hill, Holton",
           "FA"
          ],
          [
           "Hilliard, Justin",
           "NYG"
          ],
          [
           "Hodge, Darius",
           "MIA"
          ],
          [
           "Hodgins, Isaiah",
           "BUF"
          ],
          [
           "Hubert, Wyatt",
           "CIN"
          ],
          [
           "Hudson, Tanner",
           "SFO"
          ],
          [
           "Hurns, Allen",
           "MIA"
          ],
          [
           "Jackson, Lamar",
           "CHI"
          ],
          [
           "Jackson, Tyree",
           "PHI"
          ],
          [
           "Jefferson, Malik",
           "IND"
          ],
          [
           "Johnson, Darryl",
           "CAR"
          ],
          [
           "Johnson, Jamar",
           "DEN"
          ],
          [
           "Johnson, Josh",
           "SEA"
          ],
          [
           "Johnson, Kerryon",
           "FA"
          ],
          [
           "Kaindoh, Joshua",
           "KCC"
          ],
          [
           "Kinsey, Mason",
           "TEN"
          ],
          [
           "LaCosse, Matt",
           "FA"
          ],
          [
           "Lawson, Carl",
           "NYJ"
          ],
          [
           "Ledbetter, Jeremiah",
           "JAC"
          ],
          [
           "Lucas, Jordan",
           "IND"
          ],
          [
           "March, Justin",
           "LVR"
          ],
          [
           "Matthews, Jordan",
           "SFO"
          ],
          [
           "McCoy, Gerald",
           "LVR"
          ],
          [
           "McElroy, Codey",
           "TBB"
          ],
          [
           "McGill, T.Y.",
           "FA"
          ],
          [
           "McGrone, Cameron",
           "NEP"
          ],
          [
           "McGuire, Elijah",
           "FA"
          ],
          [
           "Miller, Jordan",
           "NOS"
          ],
          [
           "Moses, Dylan",
           "JAC"
          ],
          [
           "Motley, Parnell",
           "DET"
          ],
          [
           "Mukuamu, Israel",
           "DAL"
          ],
          [
           "Ojemudia, Michael",
           "DEN"
          ],
          [
           "Olonilua, Sewo",
           "DAL"
          ],
          [
           "Onwuasor, Patrick",
           "LVR"
          ],
          [
           "Orchard, Nate",
           "WAS"
          ],
          [
           "Parker, Aaron",
           "CAR"
          ],
          [
           "Pinkney, Jared",
           "DET"
          ],
          [
           "Poljan, Tony",
           "BAL"
          ],
          [
           "Poole, Brian",
           "FA"
          ],
          [
           "Pride, Troy",
           "CAR"
          ],
          [
           "Quessenberry, Paul",
           "HOU"
          ],
          [
           "Redmond, Will",
           "IND"
          ],
          [
           "Rodgers, Richard",
           "PHI"
          ],
          [
           "Scarlett, Jordan",
           "FA"
          ],
          [
           "Schreck, Mason",
           "CIN"
          ],
          [
           "Shelvin, Tyler",
           "CIN"
          ],
          [
           "Sims, Steven",
           "PIT"
          ],
          [
           "Smith, Devin",
           "FA"
          ],
          [
           "Smith, Vyncint",
           "TBB"
          ],
          [
           "Snowden, Charles",
           "CHI"
          ],
          [
           "Sullivan, Stephen",
           "CAR"
          ],
          [
           "Surratt, Chazz",
           "MIN"
          ],
          [
           "Tell, Marvell",
           "FA"
          ],
          [
           "Thompson, Darwin",
           "KCC"
          ],
          [
           "Thompson, Tedric",
           "FA"
          ],
          [
           "Travis, Ross",
           "FA"
          ],
          [
           "Vickers, Kendal",
           "LVR"
          ],
          [
           "Vincent, Kary",
           "PHI"
          ],
          [
           "Warring, Kahale",
           "JAC"
          ],
          [
           "Watson, Justin",
           "KCC"
          ],
          [
           "Weaver, Curtis",
           "CLE"
          ],
          [
           "White, Javin",
           "NYJ"
          ],
          [
           "Whitehead, Tahir",
           "FA"
          ],
          [
           "Wiggins, James",
           "ARI"
          ],
          [
           "Williamson, Avery",
           "FA"
          ],
          [
           "Winchester, James",
           "KCC"
          ],
          [
           "Wreh-Wilson, Blidi",
           "FA"
          ]
         ],
         "hovertemplate": "Position=%{x}<br>Pts=%{y}<br>Player=%{customdata[0]}<br>Team=%{customdata[1]}<extra></extra>",
         "legendgroup": "",
         "marker": {
          "color": "#636efa"
         },
         "name": "",
         "notched": false,
         "offsetgroup": "",
         "orientation": "v",
         "showlegend": false,
         "type": "box",
         "x": [
          "TMQB",
          "TMQB",
          "TMQB",
          "TMQB",
          "TMQB",
          "TMQB",
          "TMQB",
          "TMQB",
          "TMQB",
          "TMQB",
          "TMQB",
          "TMQB",
          "WR",
          "TMQB",
          "RB",
          "TMQB",
          "TMQB",
          "TMQB",
          "TMQB",
          "TMQB",
          "TMQB",
          "TMQB",
          "TMQB",
          "TMQB",
          "TMQB",
          "TMQB",
          "WR",
          "TMQB",
          "RB",
          "WR",
          "TMQB",
          "RB",
          "TMQB",
          "RB",
          "TMQB",
          "TMQB",
          "TMQB",
          "WR",
          "WR",
          "WR",
          "TMQB",
          "TMQB",
          "TE",
          "WR",
          "WR",
          "RB",
          "WR",
          "WR",
          "RB",
          "WR",
          "RB",
          "TE",
          "WR",
          "RB",
          "LB",
          "WR",
          "WR",
          "RB",
          "WR",
          "RB",
          "WR",
          "RB",
          "WR",
          "TMPN",
          "DT",
          "RB",
          "WR",
          "TMPN",
          "RB",
          "RB",
          "WR",
          "LB",
          "WR",
          "WR",
          "LB",
          "WR",
          "DE",
          "RB",
          "RB",
          "LB",
          "LB",
          "LB",
          "WR",
          "DE",
          "TMPN",
          "TMPN",
          "RB",
          "LB",
          "LB",
          "RB",
          "WR",
          "WR",
          "LB",
          "DE",
          "LB",
          "WR",
          "WR",
          "RB",
          "TMPN",
          "TMPN",
          "WR",
          "RB",
          "RB",
          "LB",
          "LB",
          "WR",
          "RB",
          "DE",
          "TE",
          "RB",
          "TE",
          "RB",
          "LB",
          "WR",
          "DE",
          "WR",
          "TMPN",
          "WR",
          "LB",
          "TMPN",
          "RB",
          "TMPN",
          "RB",
          "LB",
          "WR",
          "WR",
          "TMPN",
          "LB",
          "LB",
          "DE",
          "LB",
          "LB",
          "WR",
          "TE",
          "TMPN",
          "RB",
          "TMPN",
          "WR",
          "TMPN",
          "S",
          "RB",
          "S",
          "S",
          "TMPN",
          "WR",
          "TMPN",
          "DE",
          "TMPN",
          "TMPN",
          "S",
          "CB",
          "DE",
          "S",
          "TMPN",
          "TMPN",
          "DT",
          "CB",
          "TMPN",
          "TMPN",
          "TMPK",
          "LB",
          "LB",
          "TE",
          "TE",
          "WR",
          "WR",
          "TE",
          "TE",
          "DE",
          "TMPK",
          "DE",
          "WR",
          "LB",
          "LB",
          "TMPK",
          "RB",
          "TMPN",
          "DE",
          "TMPN",
          "LB",
          "DE",
          "TMPN",
          "TE",
          "WR",
          "TMPN",
          "S",
          "TMPN",
          "TMPN",
          "TMPK",
          "WR",
          "S",
          "TMPK",
          "S",
          "DT",
          "LB",
          "TMPK",
          "WR",
          "CB",
          "S",
          "S",
          "DT",
          "LB",
          "WR",
          "S",
          "LB",
          "S",
          "RB",
          "TMPN",
          "S",
          "S",
          "RB",
          "LB",
          "WR",
          "WR",
          "WR",
          "TMPN",
          "RB",
          "DT",
          "WR",
          "S",
          "WR",
          "TE",
          "RB",
          "DT",
          "TE",
          "LB",
          "RB",
          "TMPK",
          "S",
          "CB",
          "TMPK",
          "TE",
          "WR",
          "DE",
          "LB",
          "TMPK",
          "TMPK",
          "S",
          "LB",
          "WR",
          "WR",
          "S",
          "LB",
          "LB",
          "LB",
          "WR",
          "TMPK",
          "RB",
          "LB",
          "WR",
          "CB",
          "TMPN",
          "TE",
          "RB",
          "WR",
          "CB",
          "TMPK",
          "S",
          "LB",
          "LB",
          "CB",
          "S",
          "TMPK",
          "S",
          "TE",
          "WR",
          "S",
          "S",
          "TMPK",
          "RB",
          "S",
          "WR",
          "LB",
          "LB",
          "LB",
          "WR",
          "LB",
          "LB",
          "S",
          "LB",
          "RB",
          "WR",
          "CB",
          "RB",
          "TMPK",
          "CB",
          "LB",
          "S",
          "RB",
          "S",
          "TMPK",
          "TMPN",
          "LB",
          "TMPK",
          "RB",
          "WR",
          "TE",
          "LB",
          "RB",
          "DT",
          "DT",
          "WR",
          "DE",
          "S",
          "RB",
          "TMPK",
          "S",
          "RB",
          "S",
          "DE",
          "DE",
          "TE",
          "WR",
          "TMPK",
          "DE",
          "DE",
          "CB",
          "RB",
          "DE",
          "CB",
          "CB",
          "S",
          "DT",
          "TMPK",
          "DE",
          "CB",
          "DE",
          "S",
          "TMPK",
          "CB",
          "CB",
          "CB",
          "DT",
          "WR",
          "S",
          "LB",
          "TE",
          "DE",
          "LB",
          "WR",
          "WR",
          "TE",
          "CB",
          "S",
          "LB",
          "DE",
          "CB",
          "DE",
          "RB",
          "CB",
          "WR",
          "S",
          "CB",
          "DE",
          "WR",
          "LB",
          "CB",
          "S",
          "DT",
          "CB",
          "DE",
          "LB",
          "DT",
          "S",
          "DE",
          "S",
          "RB",
          "LB",
          "RB",
          "DE",
          "DE",
          "TE",
          "TMPK",
          "RB",
          "WR",
          "LB",
          "S",
          "LB",
          "DE",
          "TE",
          "S",
          "WR",
          "RB",
          "WR",
          "LB",
          "CB",
          "RB",
          "TMPK",
          "TMPK",
          "S",
          "LB",
          "RB",
          "RB",
          "LB",
          "DT",
          "LB",
          "LB",
          "WR",
          "RB",
          "CB",
          "LB",
          "TMPK",
          "WR",
          "DE",
          "LB",
          "TMPN",
          "CB",
          "RB",
          "WR",
          "DE",
          "CB",
          "DT",
          "WR",
          "LB",
          "LB",
          "CB",
          "LB",
          "DT",
          "TE",
          "CB",
          "TMPK",
          "DE",
          "S",
          "DE",
          "WR",
          "CB",
          "DE",
          "DT",
          "DE",
          "DT",
          "CB",
          "RB",
          "CB",
          "WR",
          "DT",
          "LB",
          "DE",
          "CB",
          "CB",
          "S",
          "DT",
          "WR",
          "CB",
          "S",
          "TE",
          "LB",
          "RB",
          "DE",
          "DE",
          "RB",
          "WR",
          "CB",
          "CB",
          "CB",
          "TMPK",
          "LB",
          "CB",
          "CB",
          "S",
          "WR",
          "LB",
          "WR",
          "DT",
          "DE",
          "S",
          "DE",
          "WR",
          "S",
          "CB",
          "WR",
          "S",
          "S",
          "CB",
          "DT",
          "TMPK",
          "RB",
          "CB",
          "WR",
          "DT",
          "WR",
          "DE",
          "S",
          "DE",
          "S",
          "LB",
          "S",
          "LB",
          "TE",
          "CB",
          "S",
          "LB",
          "S",
          "RB",
          "S",
          "TMPK",
          "TMPK",
          "S",
          "RB",
          "WR",
          "LB",
          "WR",
          "S",
          "S",
          "DT",
          "DE",
          "LB",
          "DT",
          "LB",
          "LB",
          "TMPK",
          "RB",
          "RB",
          "DT",
          "WR",
          "TE",
          "DT",
          "WR",
          "CB",
          "CB",
          "DT",
          "WR",
          "CB",
          "DT",
          "LB",
          "WR",
          "DT",
          "LB",
          "CB",
          "CB",
          "DT",
          "S",
          "DT",
          "CB",
          "CB",
          "S",
          "LB",
          "S",
          "DE",
          "S",
          "S",
          "DE",
          "LB",
          "WR",
          "DT",
          "S",
          "DE",
          "DT",
          "S",
          "S",
          "LB",
          "WR",
          "LB",
          "DT",
          "LB",
          "CB",
          "LB",
          "DT",
          "CB",
          "RB",
          "RB",
          "WR",
          "DE",
          "RB",
          "CB",
          "CB",
          "WR",
          "DE",
          "CB",
          "LB",
          "WR",
          "CB",
          "S",
          "DE",
          "S",
          "RB",
          "RB",
          "S",
          "DT",
          "WR",
          "DT",
          "WR",
          "DT",
          "LB",
          "CB",
          "LB",
          "CB",
          "DE",
          "LB",
          "WR",
          "CB",
          "S",
          "DE",
          "WR",
          "WR",
          "CB",
          "CB",
          "LB",
          "S",
          "DT",
          "CB",
          "TE",
          "WR",
          "DT",
          "S",
          "DT",
          "CB",
          "DE",
          "CB",
          "DE",
          "TE",
          "WR",
          "TE",
          "TE",
          "LB",
          "CB",
          "S",
          "S",
          "DE",
          "CB",
          "TE",
          "DE",
          "DE",
          "WR",
          "S",
          "DT",
          "CB",
          "WR",
          "LB",
          "TE",
          "TMPK",
          "WR",
          "LB",
          "RB",
          "DT",
          "RB",
          "CB",
          "DT",
          "CB",
          "LB",
          "WR",
          "CB",
          "TE",
          "LB",
          "CB",
          "CB",
          "WR",
          "TE",
          "CB",
          "CB",
          "DE",
          "TE",
          "TE",
          "DT",
          "CB",
          "DT",
          "DE",
          "DE",
          "DT",
          "CB",
          "WR",
          "RB",
          "DE",
          "CB",
          "DT",
          "DT",
          "S",
          "CB",
          "DT",
          "DT",
          "DT",
          "DT",
          "CB",
          "DE",
          "WR",
          "TE",
          "LB",
          "CB",
          "DT",
          "DE",
          "WR",
          "RB",
          "DE",
          "WR",
          "CB",
          "DT",
          "LB",
          "CB",
          "CB",
          "CB",
          "CB",
          "DE",
          "WR",
          "WR",
          "DE",
          "DE",
          "WR",
          "S",
          "S",
          "DT",
          "DT",
          "LB",
          "TE",
          "RB",
          "DT",
          "DE",
          "DT",
          "WR",
          "S",
          "DE",
          "CB",
          "CB",
          "DT",
          "DT",
          "DT",
          "S",
          "DT",
          "LB",
          "LB",
          "DE",
          "LB",
          "CB",
          "CB",
          "LB",
          "LB",
          "TE",
          "CB",
          "CB",
          "CB",
          "RB",
          "S",
          "WR",
          "S",
          "DE",
          "LB",
          "CB",
          "CB",
          "S",
          "CB",
          "S",
          "DE",
          "WR",
          "CB",
          "WR",
          "DE",
          "LB",
          "TE",
          "DT",
          "WR",
          "RB",
          "RB",
          "DE",
          "RB",
          "CB",
          "S",
          "LB",
          "RB",
          "S",
          "DE",
          "CB",
          "CB",
          "RB",
          "RB",
          "CB",
          "LB",
          "LB",
          "WR",
          "RB",
          "DE",
          "WR",
          "LB",
          "DE",
          "TE",
          "TE",
          "DE",
          "DE",
          "S",
          "TE",
          "RB",
          "TE",
          "RB",
          "LB",
          "DT",
          "CB",
          "LB",
          "WR",
          "DT",
          "DT",
          "TE",
          "DE",
          "TE",
          "WR",
          "CB",
          "DT",
          "LB",
          "DE",
          "TE",
          "LB",
          "DE",
          "CB",
          "LB",
          "RB",
          "LB",
          "WR",
          "S",
          "DE",
          "CB",
          "CB",
          "DT",
          "DE",
          "CB",
          "S",
          "DT",
          "TE",
          "S",
          "DT",
          "CB",
          "DE",
          "S",
          "LB",
          "TE",
          "TE",
          "DE",
          "LB",
          "WR",
          "WR",
          "RB",
          "TE",
          "WR",
          "WR",
          "DE",
          "RB",
          "CB",
          "CB",
          "WR",
          "S",
          "TE",
          "S",
          "CB",
          "DE",
          "DE",
          "DE",
          "WR",
          "DE",
          "DT",
          "LB",
          "DE",
          "LB",
          "DT",
          "CB",
          "RB",
          "LB",
          "DE",
          "CB",
          "DE",
          "TE",
          "DE",
          "CB",
          "LB",
          "DE",
          "DT",
          "TE",
          "LB",
          "DT",
          "WR",
          "CB",
          "DT",
          "RB",
          "S",
          "DE",
          "DT",
          "LB",
          "DT",
          "WR",
          "LB",
          "S",
          "TE",
          "WR",
          "CB",
          "LB",
          "DT",
          "DE",
          "TE",
          "CB",
          "LB",
          "RB",
          "S",
          "DT",
          "DE",
          "CB",
          "LB",
          "RB",
          "CB",
          "WR",
          "WR",
          "DE",
          "DT",
          "S",
          "CB",
          "TE",
          "WR",
          "DE",
          "RB",
          "TE",
          "WR",
          "LB",
          "LB",
          "S",
          "TE",
          "DT",
          "LB",
          "CB",
          "WR",
          "RB",
          "LB",
          "WR",
          "WR",
          "RB",
          "CB",
          "WR",
          "LB",
          "CB",
          "DT",
          "TE",
          "DT",
          "WR",
          "DT",
          "DT",
          "LB",
          "RB",
          "LB",
          "CB",
          "LB",
          "CB",
          "DE",
          "LB",
          "RB",
          "WR",
          "LB",
          "DE",
          "RB",
          "DT",
          "CB",
          "CB",
          "RB",
          "LB",
          "DT",
          "WR",
          "S",
          "LB",
          "CB",
          "DT",
          "LB",
          "WR",
          "DT",
          "LB",
          "DE",
          "WR",
          "WR",
          "DT",
          "CB",
          "CB",
          "LB",
          "S",
          "WR",
          "WR",
          "RB",
          "WR",
          "DE",
          "DE",
          "CB",
          "DE",
          "CB",
          "LB",
          "LB",
          "LB",
          "WR",
          "CB",
          "RB",
          "DE",
          "DT",
          "DE",
          "S",
          "DE",
          "CB",
          "WR",
          "RB",
          "TE",
          "S",
          "CB",
          "TE",
          "DT",
          "WR",
          "TE",
          "LB",
          "LB",
          "S",
          "LB",
          "WR",
          "LB",
          "DT",
          "DT",
          "RB",
          "LB",
          "WR",
          "LB",
          "DT",
          "CB",
          "DE",
          "LB",
          "LB",
          "LB",
          "CB",
          "DE",
          "LB",
          "DE",
          "WR",
          "RB",
          "RB",
          "WR",
          "CB",
          "TE",
          "CB",
          "LB",
          "S",
          "LB",
          "RB",
          "DE",
          "WR",
          "CB",
          "LB",
          "DT",
          "WR",
          "DE",
          "DE",
          "WR",
          "LB",
          "S",
          "S",
          "S",
          "RB",
          "CB",
          "DE",
          "S",
          "LB",
          "S",
          "RB",
          "TE",
          "WR",
          "RB",
          "DE",
          "RB",
          "S",
          "RB",
          "RB",
          "RB",
          "TE",
          "TE",
          "CB",
          "CB",
          "LB",
          "DT",
          "DT",
          "DT",
          "S",
          "RB",
          "S",
          "LB",
          "LB",
          "LB",
          "CB",
          "CB",
          "LB",
          "DE",
          "DE",
          "CB",
          "CB",
          "RB",
          "S",
          "LB",
          "LB",
          "WR",
          "DT",
          "LB",
          "S",
          "S",
          "WR",
          "WR",
          "DE",
          "RB",
          "LB",
          "DT",
          "S",
          "RB",
          "LB",
          "CB",
          "LB",
          "LB",
          "DT",
          "CB",
          "TE",
          "DT",
          "S",
          "RB",
          "TE",
          "DT",
          "LB",
          "S",
          "CB",
          "DE",
          "DT",
          "TE",
          "DT",
          "CB",
          "LB",
          "TE",
          "WR",
          "S",
          "CB",
          "RB",
          "WR",
          "TE",
          "DE",
          "DE",
          "RB",
          "RB",
          "CB",
          "TE",
          "LB",
          "WR",
          "TE",
          "RB",
          "LB",
          "LB",
          "TE",
          "LB",
          "LB",
          "DT",
          "WR",
          "DE",
          "RB",
          "TE",
          "DE",
          "LB",
          "CB",
          "DT",
          "LB",
          "CB",
          "LB",
          "LB",
          "S",
          "WR",
          "TE",
          "LB",
          "WR",
          "WR",
          "WR",
          "DE",
          "DT",
          "WR",
          "TE",
          "S",
          "CB",
          "RB",
          "TE",
          "CB",
          "WR",
          "S",
          "RB",
          "TE",
          "TE",
          "WR",
          "DT",
          "DE",
          "DT",
          "DE",
          "DT",
          "DE",
          "DE",
          "LB",
          "LB",
          "S",
          "TE",
          "LB",
          "LB",
          "CB",
          "DE",
          "CB",
          "DT",
          "WR",
          "WR",
          "LB",
          "CB",
          "RB",
          "CB",
          "LB",
          "DT",
          "S",
          "S",
          "LB",
          "LB",
          "RB",
          "TE",
          "RB",
          "TE",
          "DT",
          "DE",
          "DT",
          "LB",
          "LB",
          "S",
          "RB",
          "LB",
          "DE",
          "S",
          "S",
          "LB",
          "LB",
          "CB",
          "DT",
          "DE",
          "WR",
          "DT",
          "DT",
          "S",
          "CB",
          "DE",
          "WR",
          "S",
          "LB",
          "TE",
          "WR",
          "DT",
          "CB",
          "S",
          "CB",
          "CB",
          "WR",
          "DE",
          "DT",
          "DE",
          "DE",
          "DT",
          "WR",
          "WR",
          "LB",
          "LB",
          "DT",
          "WR",
          "WR",
          "TE",
          "WR",
          "WR",
          "WR",
          "WR",
          "WR",
          "LB",
          "WR",
          "CB",
          "S",
          "CB",
          "WR",
          "CB",
          "WR",
          "DT",
          "TE",
          "DT",
          "DT",
          "LB",
          "WR",
          "TE",
          "WR",
          "TE",
          "CB",
          "CB",
          "S",
          "CB",
          "LB",
          "S",
          "WR",
          "CB",
          "LB",
          "LB",
          "S",
          "DE",
          "WR",
          "DT",
          "DT",
          "WR",
          "S",
          "LB",
          "CB",
          "LB",
          "LB",
          "LB",
          "LB",
          "CB",
          "TE",
          "WR",
          "S",
          "WR",
          "WR",
          "WR",
          "S",
          "RB",
          "DE",
          "CB",
          "LB",
          "CB",
          "TE",
          "LB",
          "RB",
          "RB",
          "DE",
          "LB",
          "LB",
          "S",
          "CB",
          "LB",
          "TE",
          "DE",
          "LB",
          "LB",
          "DE",
          "DE",
          "TE",
          "TE",
          "S",
          "RB",
          "CB",
          "CB",
          "CB",
          "RB",
          "LB",
          "TE",
          "LB",
          "CB",
          "WR",
          "RB",
          "TE",
          "CB",
          "WR",
          "WR",
          "DE",
          "CB",
          "TE",
          "DT",
          "DE",
          "LB",
          "LB",
          "CB",
          "CB",
          "S",
          "S",
          "TE",
          "LB",
          "TE",
          "RB",
          "S",
          "TE",
          "S",
          "WR",
          "CB",
          "CB",
          "DE",
          "LB",
          "CB",
          "DT",
          "CB",
          "RB",
          "RB",
          "S",
          "CB",
          "CB",
          "S",
          "WR",
          "WR",
          "WR",
          "TE",
          "RB",
          "S",
          "S",
          "LB",
          "CB",
          "TE",
          "TE",
          "LB",
          "TE",
          "DE",
          "DT",
          "S",
          "TE",
          "TE",
          "WR",
          "RB",
          "RB",
          "WR",
          "RB",
          "TE",
          "LB",
          "LB",
          "CB",
          "S",
          "CB",
          "CB",
          "WR",
          "TE",
          "WR",
          "S",
          "DT",
          "WR",
          "WR",
          "CB",
          "CB",
          "DT",
          "CB",
          "LB",
          "S",
          "S",
          "CB",
          "CB",
          "CB",
          "CB",
          "WR",
          "WR",
          "TE",
          "CB",
          "TE",
          "TE",
          "DE",
          "RB",
          "LB",
          "LB",
          "TE",
          "LB",
          "DE",
          "S",
          "RB",
          "CB",
          "WR",
          "CB",
          "RB",
          "RB",
          "WR",
          "RB",
          "RB",
          "S",
          "LB",
          "CB",
          "CB",
          "CB",
          "LB",
          "RB",
          "TE",
          "RB",
          "DT",
          "WR",
          "S",
          "DE",
          "WR",
          "RB",
          "WR",
          "RB",
          "LB",
          "LB",
          "S",
          "LB",
          "LB",
          "CB",
          "S",
          "S",
          "S",
          "RB",
          "WR",
          "RB",
          "DT",
          "DE",
          "DE",
          "RB",
          "DE",
          "DT",
          "DT",
          "DT",
          "DT",
          "TE",
          "TE",
          "RB",
          "LB",
          "CB",
          "LB",
          "LB",
          "CB",
          "LB",
          "S",
          "WR",
          "RB",
          "RB",
          "WR",
          "RB",
          "S",
          "WR",
          "DE",
          "DE",
          "CB",
          "LB",
          "S",
          "LB",
          "LB",
          "LB",
          "DT",
          "LB",
          "LB",
          "CB",
          "DT",
          "TE",
          "WR",
          "WR",
          "RB",
          "TE",
          "CB",
          "WR",
          "RB",
          "RB",
          "RB",
          "WR",
          "LB",
          "LB",
          "CB",
          "LB",
          "LB",
          "LB",
          "LB",
          "WR",
          "WR",
          "TE",
          "DT",
          "DT",
          "WR",
          "WR",
          "TE",
          "RB",
          "DE",
          "WR",
          "TE",
          "DE",
          "DE",
          "TE",
          "RB",
          "TE",
          "RB",
          "RB",
          "RB",
          "WR",
          "RB",
          "CB",
          "CB",
          "LB",
          "WR",
          "CB",
          "CB",
          "LB",
          "S",
          "CB",
          "LB",
          "S",
          "LB",
          "LB",
          "S",
          "CB",
          "RB",
          "TE",
          "RB",
          "WR",
          "DT",
          "DE",
          "DT",
          "WR",
          "TE",
          "RB",
          "TE",
          "DE",
          "DE",
          "WR",
          "DT",
          "DT",
          "TE",
          "S",
          "LB",
          "LB",
          "CB",
          "CB",
          "S",
          "CB",
          "WR",
          "RB",
          "RB",
          "WR",
          "RB",
          "WR",
          "TE",
          "WR",
          "LB",
          "TE",
          "RB",
          "WR",
          "RB",
          "CB",
          "TE",
          "WR",
          "WR",
          "S",
          "DE",
          "S",
          "RB",
          "LB",
          "DE",
          "WR",
          "DE",
          "DE",
          "DT",
          "DT",
          "S",
          "LB",
          "CB",
          "TE",
          "RB",
          "RB",
          "TE",
          "WR",
          "S",
          "WR",
          "WR",
          "LB",
          "CB",
          "CB",
          "WR",
          "DE",
          "TE",
          "CB",
          "LB",
          "TE",
          "CB",
          "LB",
          "DE",
          "WR",
          "DE",
          "TE",
          "WR",
          "CB",
          "TE",
          "LB",
          "DE",
          "S",
          "RB",
          "RB",
          "DE",
          "WR",
          "TE",
          "DE",
          "DE",
          "S",
          "LB",
          "WR",
          "DT",
          "WR",
          "DT",
          "LB",
          "RB",
          "CB",
          "LB",
          "CB",
          "CB",
          "CB",
          "RB",
          "LB",
          "DE",
          "WR",
          "TE",
          "TE",
          "CB",
          "CB",
          "TE",
          "S",
          "TE",
          "RB",
          "TE",
          "DT",
          "WR",
          "WR",
          "WR",
          "LB",
          "TE",
          "LB",
          "S",
          "RB",
          "S",
          "TE",
          "DT",
          "CB",
          "TE",
          "WR",
          "DE",
          "LB",
          "LB",
          "S",
          "LB",
          "TE",
          "CB"
         ],
         "x0": " ",
         "xaxis": "x",
         "y": [
          528.24,
          488.13,
          486.09,
          484.72,
          479.94,
          476.59,
          453.39,
          451.01,
          447.13,
          435.21,
          428.57,
          424.11,
          418.45,
          412.35,
          409.5,
          388.23,
          384.37,
          372.78,
          368.58,
          365.21,
          360.48,
          354.24,
          350.68,
          349.68,
          349.47,
          345.92,
          334.8,
          334.63,
          330.3,
          329.5,
          329.15,
          323.3,
          321.66,
          320.4,
          319.95,
          319.74,
          315.92,
          309.9,
          306.4,
          303.1,
          301.12,
          298.94,
          297.6,
          280.85,
          274,
          269.11,
          268.4,
          265.3,
          258.15,
          257.15,
          256.3,
          251.8,
          250.65,
          246.6,
          246.3,
          245.2,
          245,
          240.95,
          239.8,
          239.15,
          237.05,
          235.9,
          235.7,
          235,
          232.2,
          230.35,
          228.6,
          228.2,
          228,
          227.6,
          225.1,
          223.5,
          222.8,
          222.2,
          221.15,
          219.7,
          219.6,
          218.2,
          217.8,
          217.8,
          217.8,
          217.7,
          217.25,
          216.7,
          214.6,
          214.25,
          213.05,
          212.4,
          212.05,
          209.15,
          208.4,
          207.3,
          206.15,
          205.65,
          204.9,
          204.4,
          204.02,
          203.2,
          202.8,
          202.62,
          202,
          200,
          199.7,
          197.7,
          197.05,
          196.65,
          196.2,
          195.6,
          194.9,
          194.15,
          193.7,
          193.4,
          191.35,
          191.3,
          190.5,
          189.04,
          187.6,
          187.5,
          186.95,
          186.2,
          185.45,
          185.4,
          184.2,
          182.9,
          182.85,
          182.8,
          182.8,
          182.8,
          182.5,
          182,
          181.1,
          180.5,
          180.25,
          179.8,
          178.8,
          178.7,
          177.8,
          176.75,
          176.6,
          176.5,
          176.3,
          175.75,
          175.65,
          174.8,
          174.6,
          174.2,
          173.3,
          172.4,
          171.65,
          171.6,
          170.6,
          169.95,
          169.8,
          168.4,
          168.2,
          168.15,
          167.85,
          167.8,
          167.6,
          167.6,
          167.25,
          167.15,
          167,
          165.5,
          165.5,
          165.3,
          164.85,
          164.8,
          164.6,
          164.6,
          164,
          163.75,
          163.7,
          163.35,
          163.2,
          163.1,
          162.8,
          162.7,
          161.8,
          161.3,
          160.55,
          160.49,
          160.4,
          160.4,
          159.88,
          159.8,
          159.4,
          159,
          158.65,
          158.45,
          158.35,
          158.3,
          158.3,
          158.1,
          157.5,
          157.3,
          156.75,
          156.6,
          156.5,
          155.3,
          155.1,
          155.05,
          154.8,
          154.7,
          154.15,
          154.15,
          153.9,
          153.8,
          153.6,
          153.5,
          153.5,
          152.7,
          152.5,
          152.4,
          152.25,
          152.2,
          151.9,
          151.9,
          151.3,
          150.9,
          150.8,
          150.7,
          150.65,
          150.6,
          150.5,
          150.4,
          150.4,
          150,
          149.9,
          149.6,
          149.4,
          149.3,
          149.2,
          148.8,
          148.55,
          148.2,
          147.9,
          147.7,
          147.65,
          147.3,
          147.2,
          146.3,
          146.05,
          146,
          145.95,
          145.35,
          144.5,
          144.3,
          143.8,
          143,
          142.75,
          142.4,
          142.4,
          142.3,
          140.8,
          140.5,
          140.2,
          140.2,
          139.8,
          138.7,
          138.7,
          138.7,
          138.6,
          137.95,
          137.7,
          137.4,
          137.25,
          136.95,
          136.8,
          136.5,
          136.2,
          136.1,
          136,
          136,
          135.6,
          135.3,
          134.95,
          134.9,
          134.7,
          134.25,
          133.9,
          133.9,
          133.75,
          133.6,
          133.5,
          133.45,
          133.1,
          132.8,
          132.8,
          132.05,
          132,
          132,
          132,
          131.6,
          131.6,
          131.37,
          131.3,
          131.2,
          131.1,
          131,
          130.3,
          129.7,
          129.7,
          129.6,
          129.6,
          129.1,
          129.1,
          129.1,
          128.75,
          128.5,
          128.3,
          128.3,
          128.2,
          128.1,
          128,
          128,
          127.95,
          127.55,
          127.3,
          127.25,
          127.05,
          126.85,
          126.7,
          126.7,
          126.55,
          126.3,
          125.9,
          124.85,
          124.8,
          124.6,
          124.55,
          124.05,
          124,
          124,
          123.85,
          123.55,
          123.5,
          123.3,
          123.15,
          123.1,
          122.6,
          122.4,
          122.4,
          122.25,
          122.25,
          121.8,
          121.55,
          121.55,
          121.45,
          121.4,
          121.3,
          121.25,
          121.15,
          121.1,
          121,
          120.85,
          120.75,
          120.7,
          120.6,
          120.4,
          120.4,
          119.85,
          119.8,
          119.3,
          118.7,
          118.05,
          118,
          118,
          118,
          118,
          117.6,
          117.1,
          117,
          116.7,
          116.4,
          115.95,
          115.6,
          115.55,
          115.5,
          115.4,
          114.7,
          114.65,
          114.6,
          114.4,
          113.95,
          113.85,
          113.65,
          113.5,
          113.4,
          113.35,
          113,
          112.9,
          112.25,
          111.85,
          111.8,
          111.8,
          111.75,
          111.7,
          111.5,
          111.3,
          110.65,
          110.5,
          110.3,
          110.2,
          110.2,
          109.85,
          109.85,
          109.75,
          109.4,
          109.3,
          109.3,
          109.2,
          109.1,
          109,
          108.9,
          108.8,
          108.8,
          108.8,
          108.7,
          107.65,
          107.4,
          107.4,
          107.25,
          107.2,
          107.2,
          107.05,
          106.95,
          106.6,
          106.35,
          106.2,
          105.75,
          105.6,
          105.6,
          105.6,
          105.2,
          105.1,
          105,
          105,
          104.5,
          104.5,
          104.3,
          104.3,
          103.7,
          103.45,
          103.3,
          103.25,
          102.9,
          102.8,
          102.8,
          102.75,
          102.7,
          102.4,
          102.4,
          102.05,
          102,
          101.8,
          101.75,
          101.75,
          101.5,
          101.4,
          101.35,
          101.3,
          101.3,
          101.1,
          100.55,
          100.5,
          100.45,
          100.3,
          100.15,
          100,
          99.75,
          99.7,
          99.5,
          99.4,
          99.2,
          99.2,
          98.45,
          98.4,
          97.8,
          97.65,
          97.6,
          96.8,
          96.8,
          96.75,
          96.7,
          96.65,
          96.55,
          96.5,
          96.3,
          96.25,
          96.2,
          95.5,
          95.2,
          94.75,
          94.6,
          94.5,
          94.5,
          94.4,
          94.3,
          94.05,
          93.8,
          93.75,
          93.7,
          93.6,
          93.5,
          93.4,
          93.35,
          93.25,
          93.25,
          92.8,
          92.75,
          92.7,
          92.7,
          92.4,
          92.3,
          92.2,
          92,
          92,
          91.85,
          91.6,
          91.5,
          91.5,
          91,
          90.75,
          90.6,
          90.5,
          90.15,
          90,
          90,
          89.9,
          89.9,
          89.8,
          89.75,
          89.5,
          89.25,
          89.2,
          89.1,
          89,
          88.65,
          88.55,
          88.4,
          87.9,
          87.9,
          87.9,
          87.85,
          87.7,
          87.4,
          87.3,
          87.1,
          87,
          87,
          86.95,
          86.6,
          86.55,
          86.25,
          86.1,
          86,
          85.95,
          85.9,
          85.55,
          85.41,
          85.1,
          85,
          85,
          84.85,
          84.8,
          84.7,
          84.5,
          84.45,
          83.9,
          83.8,
          83.5,
          83.4,
          83.25,
          82.85,
          82.7,
          82.7,
          82.6,
          82.6,
          82.6,
          82.5,
          82,
          82,
          81.35,
          81.3,
          81.25,
          81.2,
          81,
          81,
          80.85,
          80.65,
          80.6,
          80.4,
          80.3,
          80.05,
          80,
          79.95,
          79.9,
          79.4,
          79.15,
          79.1,
          79,
          79,
          79,
          78.4,
          78.3,
          78.3,
          78.25,
          78.2,
          78.1,
          78.05,
          77.9,
          77.3,
          77.3,
          77.25,
          77.25,
          77.1,
          77.1,
          77,
          76.95,
          76.7,
          76.2,
          75.9,
          75.75,
          75.4,
          75.2,
          75.1,
          75.05,
          75,
          74.9,
          74.75,
          74.6,
          74.6,
          74.3,
          74.3,
          74.25,
          74,
          74,
          74,
          74,
          73.85,
          73.8,
          73.5,
          73.4,
          73.25,
          73.1,
          72.5,
          72.3,
          72,
          71.2,
          71.15,
          71.1,
          71.05,
          71,
          71,
          70.75,
          70.6,
          70.6,
          70.6,
          70.4,
          70.35,
          70.3,
          70.25,
          70,
          70,
          69.95,
          69.25,
          69.1,
          69,
          69,
          68.8,
          68.45,
          68.4,
          68.2,
          68.2,
          68.15,
          68,
          68,
          67.8,
          67.8,
          67.8,
          67.75,
          67.6,
          67.45,
          67.4,
          67.25,
          67.25,
          67.15,
          66.75,
          66.5,
          66.4,
          66.2,
          65.8,
          65.7,
          65.6,
          65.15,
          65.1,
          65,
          64.7,
          64.6,
          64.5,
          64.4,
          64.4,
          64.4,
          64.4,
          64,
          63.9,
          63.85,
          63.8,
          63.75,
          63.75,
          63.6,
          63.4,
          63.4,
          63.4,
          63.2,
          62.9,
          62.7,
          62.7,
          62.5,
          62.5,
          62.25,
          62,
          61.9,
          61.8,
          61.75,
          61.5,
          61.5,
          61.35,
          61.3,
          60.8,
          60.75,
          60.6,
          60.6,
          60.4,
          60.2,
          60,
          60,
          60,
          60,
          60,
          59.75,
          59.4,
          59.1,
          59.1,
          59,
          59,
          59,
          58.9,
          58.9,
          58.8,
          58.8,
          58.75,
          58.75,
          58.75,
          58.7,
          58.5,
          58.5,
          58.4,
          58.25,
          58.2,
          58.05,
          57.75,
          57.7,
          57.65,
          57.5,
          57.5,
          57.4,
          57.15,
          57,
          56.8,
          56.8,
          56.5,
          56.5,
          56.4,
          56.35,
          56.1,
          56,
          56,
          55.9,
          55.85,
          55.8,
          55.75,
          55.75,
          55.7,
          55.7,
          55.6,
          55.6,
          55.5,
          55.4,
          55.3,
          55.25,
          55.2,
          55.15,
          55,
          54.95,
          54.6,
          54.45,
          54.35,
          54.25,
          54.2,
          54.15,
          54.1,
          54,
          53.5,
          53.5,
          53.25,
          53,
          53,
          52.6,
          52.5,
          52.4,
          52.4,
          51.75,
          51.75,
          51.15,
          50.8,
          50.75,
          50.55,
          50.5,
          50.4,
          50.3,
          50.25,
          50,
          49.9,
          49.6,
          49.5,
          49.45,
          49.4,
          49.4,
          49.25,
          49.25,
          49.25,
          49.2,
          49.2,
          49.1,
          49,
          49,
          48.9,
          48.8,
          48.6,
          48.3,
          48.2,
          48,
          48,
          47.8,
          47.75,
          47.6,
          47.25,
          47.2,
          47.05,
          47,
          47,
          46.6,
          46.4,
          46.4,
          46.25,
          46.25,
          46,
          46,
          45.9,
          45.9,
          45.8,
          45.65,
          45.65,
          45.6,
          45.4,
          45.25,
          45.1,
          45,
          44.9,
          44.9,
          44.9,
          44.75,
          44.5,
          44.4,
          44.3,
          44.25,
          44.25,
          44.1,
          44,
          43.9,
          43.9,
          43.8,
          43.8,
          43.7,
          43.6,
          43.5,
          43.45,
          43.4,
          43.25,
          43.05,
          43.05,
          43,
          43,
          42.8,
          42.5,
          42.3,
          42.3,
          42.1,
          42,
          41.9,
          41.8,
          41.8,
          41.4,
          41.35,
          41.3,
          41.25,
          41.1,
          41,
          41,
          40.95,
          40.8,
          40.75,
          40.7,
          40.65,
          40.4,
          40.4,
          40.4,
          40.35,
          40.25,
          40.2,
          40.1,
          40,
          39.8,
          39.8,
          39.8,
          39.75,
          39.7,
          39.6,
          39.5,
          39.3,
          39.25,
          39.2,
          39,
          38.4,
          38.3,
          38.05,
          38,
          38,
          37.8,
          37.65,
          37.5,
          37.4,
          37,
          37,
          36.9,
          36.85,
          36.75,
          36.7,
          36.7,
          36.5,
          36.4,
          36.4,
          36.25,
          36.2,
          36.15,
          36.05,
          36,
          35.9,
          35.75,
          35.55,
          35.5,
          35.4,
          35.1,
          34.8,
          34.8,
          34.8,
          34.8,
          34.75,
          34.6,
          34.6,
          34.5,
          34.5,
          34.5,
          34.4,
          34.25,
          34.2,
          34.2,
          34,
          34,
          34,
          34,
          33.75,
          33.7,
          33.65,
          33.5,
          33,
          33,
          33,
          33,
          32.8,
          32.7,
          32.7,
          32.5,
          32.5,
          32.25,
          32.2,
          32.1,
          32,
          32,
          31.75,
          31.5,
          31.3,
          31.3,
          31.2,
          31,
          31,
          30.75,
          30.75,
          30.5,
          30.5,
          30,
          30,
          30,
          29.95,
          29.95,
          29.9,
          29.9,
          29.85,
          29.8,
          29.8,
          29.75,
          29.65,
          29.5,
          29.5,
          29.4,
          29.4,
          29.3,
          29.25,
          29,
          28.9,
          28.6,
          28.6,
          28.59,
          28.5,
          28.5,
          28.2,
          28.15,
          28.05,
          28,
          27.8,
          27.8,
          27.75,
          27.75,
          27.6,
          27.6,
          27.35,
          27.3,
          27.3,
          27.2,
          27,
          26.8,
          26.7,
          26.3,
          26.3,
          26.2,
          26.1,
          26,
          26,
          26,
          26,
          26,
          25.85,
          25.6,
          25.54,
          25.5,
          25.5,
          25.3,
          25.25,
          25,
          24.95,
          24.8,
          24.8,
          24.75,
          24.7,
          24.7,
          24.5,
          24.45,
          24.45,
          24.4,
          24.3,
          24.25,
          24.25,
          24.25,
          24.25,
          24.2,
          24.2,
          24.05,
          24,
          24,
          24,
          23.85,
          23.85,
          23.75,
          23.75,
          23.7,
          23.6,
          23.6,
          23.5,
          23.4,
          23.3,
          23.2,
          23.2,
          23,
          23,
          23,
          23,
          23,
          23,
          23,
          23,
          22.75,
          22.75,
          22.7,
          22.5,
          22.5,
          22.5,
          22.35,
          22.3,
          22.3,
          22,
          22,
          21.9,
          21.8,
          21.75,
          21.7,
          21.65,
          21.6,
          21.6,
          21.6,
          21.5,
          21.5,
          21.5,
          21.5,
          21.5,
          21.3,
          21.3,
          21.2,
          21.1,
          21.1,
          21,
          21,
          21,
          21,
          21,
          21,
          21,
          20.5,
          20.45,
          20.4,
          20.3,
          20.25,
          20.25,
          20.2,
          20.2,
          20,
          20,
          20,
          19.5,
          19.5,
          19.5,
          19.45,
          19.4,
          19.25,
          19.2,
          19.2,
          19.2,
          19.1,
          19.1,
          19.1,
          19,
          19,
          19,
          19,
          19,
          19,
          19,
          18.75,
          18.75,
          18.75,
          18.6,
          18.5,
          18,
          18,
          18,
          18,
          18,
          17.9,
          17.9,
          17.6,
          17.5,
          17.5,
          17.5,
          17.5,
          17.4,
          17.25,
          17.25,
          17.25,
          17.25,
          17.1,
          17.1,
          17.1,
          17.05,
          17,
          17,
          17,
          17,
          17,
          16.75,
          16.75,
          16.6,
          16.6,
          16.5,
          16.5,
          16.5,
          16.5,
          16.25,
          16.25,
          16.2,
          16.1,
          16,
          16,
          16,
          16,
          15.8,
          15.6,
          15.5,
          15.5,
          15.5,
          15.45,
          15.3,
          15.25,
          15.25,
          15.25,
          15.25,
          15.05,
          15,
          15,
          15,
          15,
          15,
          14.9,
          14.8,
          14.75,
          14.75,
          14.6,
          14.55,
          14.5,
          14.5,
          14.5,
          14.4,
          14.35,
          14.3,
          14.3,
          14.25,
          14.25,
          14.25,
          14.25,
          14.25,
          14.2,
          14.1,
          14.05,
          14,
          14,
          14,
          14,
          14,
          14,
          13.7,
          13.65,
          13.6,
          13.5,
          13.5,
          13.5,
          13.5,
          13.5,
          13.5,
          13.4,
          13.25,
          13.25,
          13.25,
          13.25,
          13.2,
          13.2,
          13,
          13,
          13,
          13,
          12.9,
          12.75,
          12.75,
          12.75,
          12.75,
          12.75,
          12.65,
          12.6,
          12.6,
          12.5,
          12.45,
          12.4,
          12.25,
          12.25,
          12.2,
          12,
          12,
          12,
          12,
          11.8,
          11.75,
          11.7,
          11.7,
          11.6,
          11.5,
          11.25,
          11.25,
          11.25,
          11.25,
          11.1,
          11,
          11,
          11,
          11,
          11,
          10.9,
          10.7,
          10.5,
          10.5,
          10.5,
          10.5,
          10.5,
          10.5,
          10.5,
          10.5,
          10.5,
          10.5,
          10.45,
          10.3,
          10.3,
          10.25,
          10.1,
          10.1,
          10,
          10,
          10,
          10,
          10,
          9.75,
          9.75,
          9.75,
          9.75,
          9.75,
          9.75,
          9.7,
          9.7,
          9.7,
          9.6,
          9.42,
          9.3,
          9.25,
          9.2,
          9,
          9,
          9,
          9,
          9,
          9,
          9,
          8.8,
          8.8,
          8.75,
          8.75,
          8.75,
          8.75,
          8.6,
          8.6,
          8.4,
          8.3,
          8.3,
          8.25,
          8.25,
          8.25,
          8.25,
          8.2,
          8.1,
          8,
          8,
          8,
          8,
          8,
          7.9,
          7.8,
          7.8,
          7.7,
          7.65,
          7.6,
          7.6,
          7.6,
          7.5,
          7.5,
          7.5,
          7.5,
          7.5,
          7.5,
          7.35,
          7.3,
          7.3,
          7.05,
          7,
          7,
          7,
          7,
          7,
          7,
          6.75,
          6.75,
          6.75,
          6.75,
          6.75,
          6.75,
          6.75,
          6.7,
          6.55,
          6.4,
          6.4,
          6.25,
          6.1,
          6.05,
          6,
          6,
          6,
          6,
          6,
          6,
          6,
          6,
          6,
          6,
          5.8,
          5.5,
          5.5,
          5.5,
          5.4,
          5.35,
          5.3,
          5.25,
          5.25,
          5.25,
          5.25,
          5.25,
          5.25,
          5.2,
          5.2,
          5.1,
          5,
          5,
          5,
          5,
          4.7,
          4.7,
          4.6,
          4.55,
          4.5,
          4.5,
          4.5,
          4.5,
          4.5,
          4.5,
          4.5,
          4.5,
          4.5,
          4.4,
          4.4,
          4.1,
          4,
          4,
          4,
          4,
          4,
          4,
          4,
          4,
          4,
          4,
          3.9,
          3.8,
          3.75,
          3.75,
          3.75,
          3.75,
          3.75,
          3.75,
          3.75,
          3.7,
          3.6,
          3.5,
          3.4,
          3.35,
          3.25,
          3.15,
          3,
          3,
          3,
          3,
          3,
          3,
          3,
          3,
          3,
          3,
          3,
          3,
          3,
          2.9,
          2.85,
          2.85,
          2.8,
          2.8,
          2.75,
          2.7,
          2.7,
          2.5,
          2.4,
          2.3,
          2.25,
          2.25,
          2.25,
          2.25,
          2.25,
          2.25,
          2.25,
          2,
          2,
          2,
          2,
          2,
          2,
          2,
          2,
          2,
          2,
          2,
          2,
          2,
          2,
          1.9,
          1.85,
          1.8,
          1.75,
          1.7,
          1.7,
          1.6,
          1.6,
          1.5,
          1.5,
          1.5,
          1.5,
          1.5,
          1.5,
          1.5,
          1.5,
          1.5,
          1.5,
          1.5,
          1.5,
          1.5,
          1.5,
          1.5,
          1.3,
          1.2,
          1.1,
          1,
          1,
          1,
          1,
          1,
          1,
          1,
          1,
          1,
          1,
          1,
          1,
          1,
          1,
          0.75,
          0.75,
          0.75,
          0.75,
          0.75,
          0.75,
          0.75,
          0.5,
          0.1,
          0,
          0,
          0,
          0,
          0,
          0,
          0,
          0,
          0,
          0,
          0,
          0,
          0,
          0,
          0,
          0,
          0,
          0,
          0,
          0,
          0,
          0,
          0,
          0,
          0,
          0,
          0,
          0,
          0,
          0,
          0,
          0,
          0,
          0,
          0,
          0,
          0,
          0,
          0,
          0,
          0,
          0,
          0,
          0,
          0,
          0,
          0,
          0,
          0,
          0,
          0,
          0,
          0,
          0,
          0,
          0,
          0,
          0,
          0,
          0,
          0,
          0,
          0,
          0,
          0,
          0,
          0,
          0,
          0,
          0,
          0,
          0,
          0,
          0,
          0,
          0,
          0,
          0,
          0,
          0,
          0,
          0,
          0,
          0,
          0,
          0,
          0,
          0,
          0,
          0,
          0,
          0,
          0,
          0,
          0,
          0,
          0,
          0,
          0,
          0,
          0,
          0,
          0,
          0,
          0,
          0,
          0,
          0,
          0,
          0,
          0,
          0,
          0
         ],
         "y0": " ",
         "yaxis": "y"
        }
       ],
       "layout": {
        "boxmode": "group",
        "legend": {
         "tracegroupgap": 0
        },
        "margin": {
         "t": 60
        },
        "template": {
         "data": {
          "bar": [
           {
            "error_x": {
             "color": "#2a3f5f"
            },
            "error_y": {
             "color": "#2a3f5f"
            },
            "marker": {
             "line": {
              "color": "#E5ECF6",
              "width": 0.5
             },
             "pattern": {
              "fillmode": "overlay",
              "size": 10,
              "solidity": 0.2
             }
            },
            "type": "bar"
           }
          ],
          "barpolar": [
           {
            "marker": {
             "line": {
              "color": "#E5ECF6",
              "width": 0.5
             },
             "pattern": {
              "fillmode": "overlay",
              "size": 10,
              "solidity": 0.2
             }
            },
            "type": "barpolar"
           }
          ],
          "carpet": [
           {
            "aaxis": {
             "endlinecolor": "#2a3f5f",
             "gridcolor": "white",
             "linecolor": "white",
             "minorgridcolor": "white",
             "startlinecolor": "#2a3f5f"
            },
            "baxis": {
             "endlinecolor": "#2a3f5f",
             "gridcolor": "white",
             "linecolor": "white",
             "minorgridcolor": "white",
             "startlinecolor": "#2a3f5f"
            },
            "type": "carpet"
           }
          ],
          "choropleth": [
           {
            "colorbar": {
             "outlinewidth": 0,
             "ticks": ""
            },
            "type": "choropleth"
           }
          ],
          "contour": [
           {
            "colorbar": {
             "outlinewidth": 0,
             "ticks": ""
            },
            "colorscale": [
             [
              0,
              "#0d0887"
             ],
             [
              0.1111111111111111,
              "#46039f"
             ],
             [
              0.2222222222222222,
              "#7201a8"
             ],
             [
              0.3333333333333333,
              "#9c179e"
             ],
             [
              0.4444444444444444,
              "#bd3786"
             ],
             [
              0.5555555555555556,
              "#d8576b"
             ],
             [
              0.6666666666666666,
              "#ed7953"
             ],
             [
              0.7777777777777778,
              "#fb9f3a"
             ],
             [
              0.8888888888888888,
              "#fdca26"
             ],
             [
              1,
              "#f0f921"
             ]
            ],
            "type": "contour"
           }
          ],
          "contourcarpet": [
           {
            "colorbar": {
             "outlinewidth": 0,
             "ticks": ""
            },
            "type": "contourcarpet"
           }
          ],
          "heatmap": [
           {
            "colorbar": {
             "outlinewidth": 0,
             "ticks": ""
            },
            "colorscale": [
             [
              0,
              "#0d0887"
             ],
             [
              0.1111111111111111,
              "#46039f"
             ],
             [
              0.2222222222222222,
              "#7201a8"
             ],
             [
              0.3333333333333333,
              "#9c179e"
             ],
             [
              0.4444444444444444,
              "#bd3786"
             ],
             [
              0.5555555555555556,
              "#d8576b"
             ],
             [
              0.6666666666666666,
              "#ed7953"
             ],
             [
              0.7777777777777778,
              "#fb9f3a"
             ],
             [
              0.8888888888888888,
              "#fdca26"
             ],
             [
              1,
              "#f0f921"
             ]
            ],
            "type": "heatmap"
           }
          ],
          "heatmapgl": [
           {
            "colorbar": {
             "outlinewidth": 0,
             "ticks": ""
            },
            "colorscale": [
             [
              0,
              "#0d0887"
             ],
             [
              0.1111111111111111,
              "#46039f"
             ],
             [
              0.2222222222222222,
              "#7201a8"
             ],
             [
              0.3333333333333333,
              "#9c179e"
             ],
             [
              0.4444444444444444,
              "#bd3786"
             ],
             [
              0.5555555555555556,
              "#d8576b"
             ],
             [
              0.6666666666666666,
              "#ed7953"
             ],
             [
              0.7777777777777778,
              "#fb9f3a"
             ],
             [
              0.8888888888888888,
              "#fdca26"
             ],
             [
              1,
              "#f0f921"
             ]
            ],
            "type": "heatmapgl"
           }
          ],
          "histogram": [
           {
            "marker": {
             "pattern": {
              "fillmode": "overlay",
              "size": 10,
              "solidity": 0.2
             }
            },
            "type": "histogram"
           }
          ],
          "histogram2d": [
           {
            "colorbar": {
             "outlinewidth": 0,
             "ticks": ""
            },
            "colorscale": [
             [
              0,
              "#0d0887"
             ],
             [
              0.1111111111111111,
              "#46039f"
             ],
             [
              0.2222222222222222,
              "#7201a8"
             ],
             [
              0.3333333333333333,
              "#9c179e"
             ],
             [
              0.4444444444444444,
              "#bd3786"
             ],
             [
              0.5555555555555556,
              "#d8576b"
             ],
             [
              0.6666666666666666,
              "#ed7953"
             ],
             [
              0.7777777777777778,
              "#fb9f3a"
             ],
             [
              0.8888888888888888,
              "#fdca26"
             ],
             [
              1,
              "#f0f921"
             ]
            ],
            "type": "histogram2d"
           }
          ],
          "histogram2dcontour": [
           {
            "colorbar": {
             "outlinewidth": 0,
             "ticks": ""
            },
            "colorscale": [
             [
              0,
              "#0d0887"
             ],
             [
              0.1111111111111111,
              "#46039f"
             ],
             [
              0.2222222222222222,
              "#7201a8"
             ],
             [
              0.3333333333333333,
              "#9c179e"
             ],
             [
              0.4444444444444444,
              "#bd3786"
             ],
             [
              0.5555555555555556,
              "#d8576b"
             ],
             [
              0.6666666666666666,
              "#ed7953"
             ],
             [
              0.7777777777777778,
              "#fb9f3a"
             ],
             [
              0.8888888888888888,
              "#fdca26"
             ],
             [
              1,
              "#f0f921"
             ]
            ],
            "type": "histogram2dcontour"
           }
          ],
          "mesh3d": [
           {
            "colorbar": {
             "outlinewidth": 0,
             "ticks": ""
            },
            "type": "mesh3d"
           }
          ],
          "parcoords": [
           {
            "line": {
             "colorbar": {
              "outlinewidth": 0,
              "ticks": ""
             }
            },
            "type": "parcoords"
           }
          ],
          "pie": [
           {
            "automargin": true,
            "type": "pie"
           }
          ],
          "scatter": [
           {
            "marker": {
             "colorbar": {
              "outlinewidth": 0,
              "ticks": ""
             }
            },
            "type": "scatter"
           }
          ],
          "scatter3d": [
           {
            "line": {
             "colorbar": {
              "outlinewidth": 0,
              "ticks": ""
             }
            },
            "marker": {
             "colorbar": {
              "outlinewidth": 0,
              "ticks": ""
             }
            },
            "type": "scatter3d"
           }
          ],
          "scattercarpet": [
           {
            "marker": {
             "colorbar": {
              "outlinewidth": 0,
              "ticks": ""
             }
            },
            "type": "scattercarpet"
           }
          ],
          "scattergeo": [
           {
            "marker": {
             "colorbar": {
              "outlinewidth": 0,
              "ticks": ""
             }
            },
            "type": "scattergeo"
           }
          ],
          "scattergl": [
           {
            "marker": {
             "colorbar": {
              "outlinewidth": 0,
              "ticks": ""
             }
            },
            "type": "scattergl"
           }
          ],
          "scattermapbox": [
           {
            "marker": {
             "colorbar": {
              "outlinewidth": 0,
              "ticks": ""
             }
            },
            "type": "scattermapbox"
           }
          ],
          "scatterpolar": [
           {
            "marker": {
             "colorbar": {
              "outlinewidth": 0,
              "ticks": ""
             }
            },
            "type": "scatterpolar"
           }
          ],
          "scatterpolargl": [
           {
            "marker": {
             "colorbar": {
              "outlinewidth": 0,
              "ticks": ""
             }
            },
            "type": "scatterpolargl"
           }
          ],
          "scatterternary": [
           {
            "marker": {
             "colorbar": {
              "outlinewidth": 0,
              "ticks": ""
             }
            },
            "type": "scatterternary"
           }
          ],
          "surface": [
           {
            "colorbar": {
             "outlinewidth": 0,
             "ticks": ""
            },
            "colorscale": [
             [
              0,
              "#0d0887"
             ],
             [
              0.1111111111111111,
              "#46039f"
             ],
             [
              0.2222222222222222,
              "#7201a8"
             ],
             [
              0.3333333333333333,
              "#9c179e"
             ],
             [
              0.4444444444444444,
              "#bd3786"
             ],
             [
              0.5555555555555556,
              "#d8576b"
             ],
             [
              0.6666666666666666,
              "#ed7953"
             ],
             [
              0.7777777777777778,
              "#fb9f3a"
             ],
             [
              0.8888888888888888,
              "#fdca26"
             ],
             [
              1,
              "#f0f921"
             ]
            ],
            "type": "surface"
           }
          ],
          "table": [
           {
            "cells": {
             "fill": {
              "color": "#EBF0F8"
             },
             "line": {
              "color": "white"
             }
            },
            "header": {
             "fill": {
              "color": "#C8D4E3"
             },
             "line": {
              "color": "white"
             }
            },
            "type": "table"
           }
          ]
         },
         "layout": {
          "annotationdefaults": {
           "arrowcolor": "#2a3f5f",
           "arrowhead": 0,
           "arrowwidth": 1
          },
          "autotypenumbers": "strict",
          "coloraxis": {
           "colorbar": {
            "outlinewidth": 0,
            "ticks": ""
           }
          },
          "colorscale": {
           "diverging": [
            [
             0,
             "#8e0152"
            ],
            [
             0.1,
             "#c51b7d"
            ],
            [
             0.2,
             "#de77ae"
            ],
            [
             0.3,
             "#f1b6da"
            ],
            [
             0.4,
             "#fde0ef"
            ],
            [
             0.5,
             "#f7f7f7"
            ],
            [
             0.6,
             "#e6f5d0"
            ],
            [
             0.7,
             "#b8e186"
            ],
            [
             0.8,
             "#7fbc41"
            ],
            [
             0.9,
             "#4d9221"
            ],
            [
             1,
             "#276419"
            ]
           ],
           "sequential": [
            [
             0,
             "#0d0887"
            ],
            [
             0.1111111111111111,
             "#46039f"
            ],
            [
             0.2222222222222222,
             "#7201a8"
            ],
            [
             0.3333333333333333,
             "#9c179e"
            ],
            [
             0.4444444444444444,
             "#bd3786"
            ],
            [
             0.5555555555555556,
             "#d8576b"
            ],
            [
             0.6666666666666666,
             "#ed7953"
            ],
            [
             0.7777777777777778,
             "#fb9f3a"
            ],
            [
             0.8888888888888888,
             "#fdca26"
            ],
            [
             1,
             "#f0f921"
            ]
           ],
           "sequentialminus": [
            [
             0,
             "#0d0887"
            ],
            [
             0.1111111111111111,
             "#46039f"
            ],
            [
             0.2222222222222222,
             "#7201a8"
            ],
            [
             0.3333333333333333,
             "#9c179e"
            ],
            [
             0.4444444444444444,
             "#bd3786"
            ],
            [
             0.5555555555555556,
             "#d8576b"
            ],
            [
             0.6666666666666666,
             "#ed7953"
            ],
            [
             0.7777777777777778,
             "#fb9f3a"
            ],
            [
             0.8888888888888888,
             "#fdca26"
            ],
            [
             1,
             "#f0f921"
            ]
           ]
          },
          "colorway": [
           "#636efa",
           "#EF553B",
           "#00cc96",
           "#ab63fa",
           "#FFA15A",
           "#19d3f3",
           "#FF6692",
           "#B6E880",
           "#FF97FF",
           "#FECB52"
          ],
          "font": {
           "color": "#2a3f5f"
          },
          "geo": {
           "bgcolor": "white",
           "lakecolor": "white",
           "landcolor": "#E5ECF6",
           "showlakes": true,
           "showland": true,
           "subunitcolor": "white"
          },
          "hoverlabel": {
           "align": "left"
          },
          "hovermode": "closest",
          "mapbox": {
           "style": "light"
          },
          "paper_bgcolor": "white",
          "plot_bgcolor": "#E5ECF6",
          "polar": {
           "angularaxis": {
            "gridcolor": "white",
            "linecolor": "white",
            "ticks": ""
           },
           "bgcolor": "#E5ECF6",
           "radialaxis": {
            "gridcolor": "white",
            "linecolor": "white",
            "ticks": ""
           }
          },
          "scene": {
           "xaxis": {
            "backgroundcolor": "#E5ECF6",
            "gridcolor": "white",
            "gridwidth": 2,
            "linecolor": "white",
            "showbackground": true,
            "ticks": "",
            "zerolinecolor": "white"
           },
           "yaxis": {
            "backgroundcolor": "#E5ECF6",
            "gridcolor": "white",
            "gridwidth": 2,
            "linecolor": "white",
            "showbackground": true,
            "ticks": "",
            "zerolinecolor": "white"
           },
           "zaxis": {
            "backgroundcolor": "#E5ECF6",
            "gridcolor": "white",
            "gridwidth": 2,
            "linecolor": "white",
            "showbackground": true,
            "ticks": "",
            "zerolinecolor": "white"
           }
          },
          "shapedefaults": {
           "line": {
            "color": "#2a3f5f"
           }
          },
          "ternary": {
           "aaxis": {
            "gridcolor": "white",
            "linecolor": "white",
            "ticks": ""
           },
           "baxis": {
            "gridcolor": "white",
            "linecolor": "white",
            "ticks": ""
           },
           "bgcolor": "#E5ECF6",
           "caxis": {
            "gridcolor": "white",
            "linecolor": "white",
            "ticks": ""
           }
          },
          "title": {
           "x": 0.05
          },
          "xaxis": {
           "automargin": true,
           "gridcolor": "white",
           "linecolor": "white",
           "ticks": "",
           "title": {
            "standoff": 15
           },
           "zerolinecolor": "white",
           "zerolinewidth": 2
          },
          "yaxis": {
           "automargin": true,
           "gridcolor": "white",
           "linecolor": "white",
           "ticks": "",
           "title": {
            "standoff": 15
           },
           "zerolinecolor": "white",
           "zerolinewidth": 2
          }
         }
        },
        "xaxis": {
         "anchor": "y",
         "domain": [
          0,
          1
         ],
         "title": {
          "text": "Position"
         }
        },
        "yaxis": {
         "anchor": "x",
         "domain": [
          0,
          1
         ],
         "title": {
          "text": "Pts"
         }
        }
       }
      }
     },
     "metadata": {},
     "output_type": "display_data"
    }
   ],
   "source": [
    "px.box(bcPlayers2021,\n",
    "           x = 'Position', \n",
    "           y = 'Pts',\n",
    "           hover_data=[bcPlayers2021['Player'], bcPlayers2021['Team']],\n",
    "           points = 'all'\n",
    "           )"
   ]
  },
  {
   "cell_type": "code",
   "execution_count": 66,
   "metadata": {},
   "outputs": [
    {
     "data": {
      "application/vnd.plotly.v1+json": {
       "config": {
        "plotlyServerURL": "https://plotly.com"
       },
       "data": [
        {
         "alignmentgroup": "True",
         "boxpoints": "all",
         "customdata": [
          [
           "Bills, Buffalo",
           "BUF"
          ],
          [
           "Buccaneers, Tampa Bay",
           "TBB"
          ],
          [
           "Ravens, Baltimore",
           "BAL"
          ],
          [
           "Cardinals, Arizona",
           "ARI"
          ],
          [
           "Chargers, Los Angeles",
           "LAC"
          ],
          [
           "Chiefs, Kansas City",
           "KCC"
          ],
          [
           "Cowboys, Dallas",
           "DAL"
          ],
          [
           "Packers, Green Bay",
           "GBP"
          ],
          [
           "Eagles, Philadelphia",
           "PHI"
          ],
          [
           "Bengals, Cincinnati",
           "CIN"
          ],
          [
           "Rams, Los Angeles",
           "LAR"
          ],
          [
           "Saints, New Orleans",
           "NOS"
          ],
          [
           "Kupp, Cooper",
           "LAR"
          ],
          [
           "Vikings, Minnesota",
           "MIN"
          ],
          [
           "Taylor, Jonathan",
           "IND"
          ],
          [
           "49ers, San Francisco",
           "SFO"
          ],
          [
           "Raiders, Las Vegas",
           "LVR"
          ],
          [
           "Seahawks, Seattle",
           "SEA"
          ],
          [
           "Dolphins, Miami",
           "MIA"
          ],
          [
           "Panthers, Carolina",
           "CAR"
          ],
          [
           "Broncos, Denver",
           "DEN"
          ],
          [
           "FootballTeam, Washington",
           "WAS"
          ],
          [
           "Titans, Tennessee",
           "TEN"
          ],
          [
           "Jets, New York",
           "NYJ"
          ],
          [
           "Steelers, Pittsburgh",
           "PIT"
          ],
          [
           "Colts, Indianapolis",
           "IND"
          ],
          [
           "Adams, Davante",
           "GBP"
          ],
          [
           "Patriots, New England",
           "NEP"
          ],
          [
           "Mixon, Joe",
           "CIN"
          ],
          [
           "Samuel, Deebo",
           "SFO"
          ],
          [
           "Bears, Chicago",
           "CHI"
          ],
          [
           "Harris, Najee",
           "PIT"
          ],
          [
           "Texans, Houston",
           "HOU"
          ],
          [
           "Ekeler, Austin",
           "LAC"
          ],
          [
           "Giants, New York",
           "NYG"
          ],
          [
           "Falcons, Atlanta",
           "ATL"
          ],
          [
           "Lions, Detroit",
           "DET"
          ],
          [
           "Jefferson, Justin",
           "MIN"
          ],
          [
           "Chase, Ja'Marr",
           "CIN"
          ],
          [
           "Hill, Tyreek",
           "KCC"
          ],
          [
           "Browns, Cleveland",
           "CLE"
          ],
          [
           "Jaguars, Jacksonville",
           "JAC"
          ],
          [
           "Andrews, Mark",
           "BAL"
          ],
          [
           "Renfrow, Hunter",
           "LVR"
          ],
          [
           "Patterson, Cordarrelle",
           "ATL"
          ],
          [
           "Elliott, Ezekiel",
           "DAL"
          ],
          [
           "Diggs, Stefon",
           "BUF"
          ],
          [
           "Johnson, Diontae",
           "PIT"
          ],
          [
           "Fournette, Leonard",
           "TBB"
          ],
          [
           "Waddle, Jaylen",
           "MIA"
          ],
          [
           "Conner, James",
           "ARI"
          ],
          [
           "Kelce, Travis",
           "KCC"
          ],
          [
           "Allen, Keenan",
           "LAC"
          ],
          [
           "Chubb, Nick",
           "CLE"
          ],
          [
           "Oluokun, Foyesade",
           "ATL"
          ],
          [
           "Godwin, Chris",
           "TBB"
          ],
          [
           "Lamb, CeeDee",
           "DAL"
          ],
          [
           "Kamara, Alvin",
           "NOS"
          ],
          [
           "Evans, Mike",
           "TBB"
          ],
          [
           "Jones, Aaron",
           "GBP"
          ],
          [
           "Moore, D.J.",
           "CAR"
          ],
          [
           "Gibson, Antonio",
           "WAS"
          ],
          [
           "Metcalf, DK",
           "SEA"
          ],
          [
           "Raiders, Las Vegas",
           "LVR"
          ],
          [
           "Donald, Aaron",
           "LAR"
          ],
          [
           "Henry, Derrick",
           "TEN"
          ],
          [
           "Cooks, Brandin",
           "HOU"
          ],
          [
           "Seahawks, Seattle",
           "SEA"
          ],
          [
           "Harris, Damien",
           "NEP"
          ],
          [
           "Cook, Dalvin",
           "MIN"
          ],
          [
           "Higgins, Tee",
           "CIN"
          ],
          [
           "Campbell, De'Vondre",
           "GBP"
          ],
          [
           "Brown, Marquise",
           "BAL"
          ],
          [
           "Pittman, Michael",
           "IND"
          ],
          [
           "Smith, Roquan",
           "CHI"
          ],
          [
           "Williams, Mike",
           "LAC"
          ],
          [
           "Bosa, Nick",
           "SFO"
          ],
          [
           "Williams, Javonte",
           "DEN"
          ],
          [
           "Jacobs, Josh",
           "LVR"
          ],
          [
           "Leonard, Darius",
           "IND"
          ],
          [
           "Wagner, Bobby",
           "SEA"
          ],
          [
           "Watt, T.J.",
           "PIT"
          ],
          [
           "Lockett, Tyler",
           "SEA"
          ],
          [
           "Heyward, Cameron",
           "PIT"
          ],
          [
           "Texans, Houston",
           "HOU"
          ],
          [
           "Saints, New Orleans",
           "NOS"
          ],
          [
           "Pollard, Tony",
           "DAL"
          ],
          [
           "Kendricks, Eric",
           "MIN"
          ],
          [
           "Mosley, C.J.",
           "NYJ"
          ],
          [
           "Montgomery, David",
           "CHI"
          ],
          [
           "McLaurin, Terry",
           "WAS"
          ],
          [
           "Mooney, Darnell",
           "CHI"
          ],
          [
           "Brooks, Jordyn",
           "SEA"
          ],
          [
           "Garrett, Myles",
           "CLE"
          ],
          [
           "Parsons, Micah",
           "DAL"
          ],
          [
           "St. Brown, Amon-Ra",
           "DET"
          ],
          [
           "Kirk, Christian",
           "ARI"
          ],
          [
           "Gordon, Melvin",
           "DEN"
          ],
          [
           "Cowboys, Dallas",
           "DAL"
          ],
          [
           "Lions, Detroit",
           "DET"
          ],
          [
           "Thielen, Adam",
           "MIN"
          ],
          [
           "Dillon, AJ",
           "GBP"
          ],
          [
           "Williams, Darrel",
           "KCC"
          ],
          [
           "Holcomb, Cole",
           "WAS"
          ],
          [
           "White, Kyzir",
           "LAC"
          ],
          [
           "Berrios, Braxton",
           "NYJ"
          ],
          [
           "Robinson, James",
           "JAC"
          ],
          [
           "Reddick, Haason",
           "CAR"
          ],
          [
           "Kittle, George",
           "SFO"
          ],
          [
           "Swift, D'Andre",
           "DET"
          ],
          [
           "Schultz, Dalton",
           "DAL"
          ],
          [
           "Singletary, Devin",
           "BUF"
          ],
          [
           "Perryman, Denzel",
           "LVR"
          ],
          [
           "Cooper, Amari",
           "DAL"
          ],
          [
           "Jordan, Cameron",
           "NOS"
          ],
          [
           "Boyd, Tyler",
           "CIN"
          ],
          [
           "Jaguars, Jacksonville",
           "JAC"
          ],
          [
           "Smith, DeVonta",
           "PHI"
          ],
          [
           "Singleton, Alex",
           "PHI"
          ],
          [
           "FootballTeam, Washington",
           "WAS"
          ],
          [
           "Gaskin, Myles",
           "MIA"
          ],
          [
           "Vikings, Minnesota",
           "MIN"
          ],
          [
           "Mitchell, Elijah",
           "SFO"
          ],
          [
           "Jones, Deion",
           "ATL"
          ],
          [
           "Meyers, Jakobi",
           "NEP"
          ],
          [
           "Aiyuk, Brandon",
           "SFO"
          ],
          [
           "Broncos, Denver",
           "DEN"
          ],
          [
           "Okereke, Bobby",
           "IND"
          ],
          [
           "Quinn, Robert",
           "CHI"
          ],
          [
           "Bosa, Joey",
           "LAC"
          ],
          [
           "Hicks, Jordan",
           "ARI"
          ],
          [
           "White, Devin",
           "TBB"
          ],
          [
           "Harris, Deonte",
           "NOS"
          ],
          [
           "Pitts, Kyle",
           "ATL"
          ],
          [
           "Dolphins, Miami",
           "MIA"
          ],
          [
           "Henderson, Darrell",
           "LAR"
          ],
          [
           "Cardinals, Arizona",
           "ARI"
          ],
          [
           "Bourne, Kendrick",
           "NEP"
          ],
          [
           "Jets, New York",
           "NYJ"
          ],
          [
           "James, Derwin",
           "LAC"
          ],
          [
           "Michel, Sony",
           "LAR"
          ],
          [
           "Byard, Kevin",
           "TEN"
          ],
          [
           "Smith, Harrison",
           "MIN"
          ],
          [
           "Ravens, Baltimore",
           "BAL"
          ],
          [
           "Brown, A.J.",
           "TEN"
          ],
          [
           "Bears, Chicago",
           "CHI"
          ],
          [
           "Hendrickson, Trey",
           "CIN"
          ],
          [
           "Packers, Green Bay",
           "GBP"
          ],
          [
           "Giants, New York",
           "NYG"
          ],
          [
           "Fitzpatrick, Minkah",
           "PIT"
          ],
          [
           "Moore, Kenny",
           "IND"
          ],
          [
           "Allen, Josh",
           "JAC"
          ],
          [
           "Woods, Xavier",
           "MIN"
          ],
          [
           "Colts, Indianapolis",
           "IND"
          ],
          [
           "Patriots, New England",
           "NEP"
          ],
          [
           "Wilkins, Christian",
           "MIA"
          ],
          [
           "Diggs, Trevon",
           "DAL"
          ],
          [
           "Bengals, Cincinnati",
           "CIN"
          ],
          [
           "Falcons, Atlanta",
           "ATL"
          ],
          [
           "Ravens, Baltimore",
           "BAL"
          ],
          [
           "Warner, Fred",
           "SFO"
          ],
          [
           "Edwards, T.J.",
           "PHI"
          ],
          [
           "Goedert, Dallas",
           "PHI"
          ],
          [
           "Ertz, Zach",
           "ARI"
          ],
          [
           "Jefferson, Van",
           "LAR"
          ],
          [
           "Carter, DeAndre",
           "WAS"
          ],
          [
           "Gesicki, Mike",
           "MIA"
          ],
          [
           "Knox, Dawson",
           "BUF"
          ],
          [
           "Burns, Brian",
           "CAR"
          ],
          [
           "Patriots, New England",
           "NEP"
          ],
          [
           "Harris, Charles",
           "DET"
          ],
          [
           "Pringle, Byron",
           "KCC"
          ],
          [
           "Simmons, Isaiah",
           "ARI"
          ],
          [
           "Grugier-Hill, Kamu",
           "HOU"
          ],
          [
           "Rams, Los Angeles",
           "LAR"
          ],
          [
           "Carter, Michael",
           "NYJ"
          ],
          [
           "Titans, Tennessee",
           "TEN"
          ],
          [
           "Williams, Leonard",
           "NYG"
          ],
          [
           "Steelers, Pittsburgh",
           "PIT"
          ],
          [
           "Williams, Quincy",
           "NYJ"
          ],
          [
           "Hubbard, Sam",
           "CIN"
          ],
          [
           "Chiefs, Kansas City",
           "KCC"
          ],
          [
           "Fant, Noah",
           "DEN"
          ],
          [
           "Jones, Marvin",
           "JAC"
          ],
          [
           "Rams, Los Angeles",
           "LAR"
          ],
          [
           "Chinn, Jeremy",
           "CAR"
          ],
          [
           "Browns, Cleveland",
           "CLE"
          ],
          [
           "49ers, San Francisco",
           "SFO"
          ],
          [
           "Steelers, Pittsburgh",
           "PIT"
          ],
          [
           "Duvernay, Devin",
           "BAL"
          ],
          [
           "Poyer, Jordan",
           "BUF"
          ],
          [
           "Bengals, Cincinnati",
           "CIN"
          ],
          [
           "Thompson, Jalen",
           "ARI"
          ],
          [
           "Buckner, DeForest",
           "IND"
          ],
          [
           "Landry, Harold",
           "TEN"
          ],
          [
           "Raiders, Las Vegas",
           "LVR"
          ],
          [
           "Osborn, K.J.",
           "MIN"
          ],
          [
           "King, Desmond",
           "HOU"
          ],
          [
           "Ryan, Logan",
           "NYG"
          ],
          [
           "Baker, Budda",
           "ARI"
          ],
          [
           "Simmons, Jeffery",
           "TEN"
          ],
          [
           "Crowder, Tae",
           "NYG"
          ],
          [
           "Moore, Rondale",
           "ARI"
          ],
          [
           "Bell, Vonn",
           "CIN"
          ],
          [
           "Baker, Jerome",
           "MIA"
          ],
          [
           "Kearse, Jayron",
           "DAL"
          ],
          [
           "Booker, Devontae",
           "NYG"
          ],
          [
           "Buccaneers, Tampa Bay",
           "TBB"
          ],
          [
           "Hyde, Micah",
           "BUF"
          ],
          [
           "Dugger, Kyle",
           "NEP"
          ],
          [
           "Freeman, Devonta",
           "BAL"
          ],
          [
           "Wilson, Logan",
           "CIN"
          ],
          [
           "Green, A.J.",
           "ARI"
          ],
          [
           "Callaway, Marquez",
           "NOS"
          ],
          [
           "Beasley, Cole",
           "BUF"
          ],
          [
           "Panthers, Carolina",
           "CAR"
          ],
          [
           "Barkley, Saquon",
           "NYG"
          ],
          [
           "Hargrave, Javon",
           "PHI"
          ],
          [
           "McCloud, Ray-Ray",
           "PIT"
          ],
          [
           "Diggs, Quandre",
           "SEA"
          ],
          [
           "Claypool, Chase",
           "PIT"
          ],
          [
           "Henry, Hunter",
           "NEP"
          ],
          [
           "Hubbard, Chuba",
           "CAR"
          ],
          [
           "Allen, Jonathan",
           "WAS"
          ],
          [
           "Gronkowski, Rob",
           "TBB"
          ],
          [
           "Al-Shaair, Azeez",
           "SFO"
          ],
          [
           "Edmonds, Chase",
           "ARI"
          ],
          [
           "Vikings, Minnesota",
           "MIN"
          ],
          [
           "Simmons, Justin",
           "DEN"
          ],
          [
           "Jackson, J.C.",
           "NEP"
          ],
          [
           "Colts, Indianapolis",
           "IND"
          ],
          [
           "Hockenson, T.J.",
           "DET"
          ],
          [
           "Moore, Elijah",
           "NYJ"
          ],
          [
           "Ogbah, Emmanuel",
           "MIA"
          ],
          [
           "Thompson, Shaq",
           "CAR"
          ],
          [
           "Chiefs, Kansas City",
           "KCC"
          ],
          [
           "Eagles, Philadelphia",
           "PHI"
          ],
          [
           "McKinney, Xavier",
           "NYG"
          ],
          [
           "Schobert, Joe",
           "PIT"
          ],
          [
           "Sutton, Courtland",
           "DEN"
          ],
          [
           "Hopkins, DeAndre",
           "ARI"
          ],
          [
           "Abram, Johnathan",
           "LVR"
          ],
          [
           "Barrett, Shaq",
           "TBB"
          ],
          [
           "Floyd, Leonard",
           "LAR"
          ],
          [
           "Davis, Demario",
           "NOS"
          ],
          [
           "Hardman, Mecole",
           "KCC"
          ],
          [
           "Cardinals, Arizona",
           "ARI"
          ],
          [
           "Davis, Mike",
           "ATL"
          ],
          [
           "David, Lavonte",
           "TBB"
          ],
          [
           "Patrick, Tim",
           "DEN"
          ],
          [
           "Brown, Anthony",
           "DAL"
          ],
          [
           "Eagles, Philadelphia",
           "PHI"
          ],
          [
           "Freiermuth, Pat",
           "PIT"
          ],
          [
           "Herbert, Khalil",
           "CHI"
          ],
          [
           "Woods, Robert",
           "LAR"
          ],
          [
           "Douglas, Rasul",
           "GBP"
          ],
          [
           "Bills, Buffalo",
           "BUF"
          ],
          [
           "Mathieu, Tyrann",
           "KCC"
          ],
          [
           "Queen, Patrick",
           "BAL"
          ],
          [
           "Judon, Matt",
           "NEP"
          ],
          [
           "Ramsey, Jalen",
           "LAR"
          ],
          [
           "Winfield, Antoine",
           "TBB"
          ],
          [
           "Packers, Green Bay",
           "GBP"
          ],
          [
           "Rapp, Taylor",
           "LAR"
          ],
          [
           "Conklin, Tyler",
           "MIN"
          ],
          [
           "Gage, Russell",
           "ATL"
          ],
          [
           "Amos, Adrian",
           "GBP"
          ],
          [
           "Fuller, Jordan",
           "LAR"
          ],
          [
           "Cowboys, Dallas",
           "DAL"
          ],
          [
           "Mattison, Alexander",
           "MIN"
          ],
          [
           "Phillips, Adrian",
           "NEP"
          ],
          [
           "Sanders, Emmanuel",
           "BUF"
          ],
          [
           "Golden, Markus",
           "ARI"
          ],
          [
           "Walker, Anthony",
           "CLE"
          ],
          [
           "Pratt, Germaine",
           "CIN"
          ],
          [
           "Agnew, Jamal",
           "JAC"
          ],
          [
           "Edmunds, Tremaine",
           "BUF"
          ],
          [
           "Jones, Chandler",
           "ARI"
          ],
          [
           "Collins, Landon",
           "WAS"
          ],
          [
           "Bentley, Ja'Whaun",
           "NEP"
          ],
          [
           "Edwards-Helaire, Clyde",
           "KCC"
          ],
          [
           "Raymond, Kalif",
           "DET"
          ],
          [
           "Terrell, A.J.",
           "ATL"
          ],
          [
           "Dallas, DeeJay",
           "SEA"
          ],
          [
           "Giants, New York",
           "NYG"
          ],
          [
           "Murphy, Byron",
           "ARI"
          ],
          [
           "Wilson, Damien",
           "JAC"
          ],
          [
           "Bates, Jessie",
           "CIN"
          ],
          [
           "McCaffrey, Christian",
           "CAR"
          ],
          [
           "Holland, Jevon",
           "MIA"
          ],
          [
           "49ers, San Francisco",
           "SFO"
          ],
          [
           "Bills, Buffalo",
           "BUF"
          ],
          [
           "Bolton, Nick",
           "KCC"
          ],
          [
           "Broncos, Denver",
           "DEN"
          ],
          [
           "Sanders, Miles",
           "PHI"
          ],
          [
           "Wilson, Cedrick",
           "DAL"
          ],
          [
           "Waller, Darren",
           "LVR"
          ],
          [
           "Van Noy, Kyle",
           "NEP"
          ],
          [
           "Ingram, Mark",
           "NOS"
          ],
          [
           "Williams, Quinnen",
           "NYJ"
          ],
          [
           "Ogunjobi, Larry",
           "CIN"
          ],
          [
           "Beckham, Odell",
           "LAR"
          ],
          [
           "Gipson, Trevis",
           "CHI"
          ],
          [
           "Jones, Brandon",
           "MIA"
          ],
          [
           "Stevenson, Rhamondre",
           "NEP"
          ],
          [
           "Falcons, Atlanta",
           "ATL"
          ],
          [
           "Walker, Tracy",
           "DET"
          ],
          [
           "Williams, Jamaal",
           "DET"
          ],
          [
           "Curl, Kamren",
           "WAS"
          ],
          [
           "Sweat, Josh",
           "PHI"
          ],
          [
           "Phillips, Jaelan",
           "MIA"
          ],
          [
           "Uzomah, C.J.",
           "CIN"
          ],
          [
           "Reagor, Jalen",
           "PHI"
          ],
          [
           "Titans, Tennessee",
           "TEN"
          ],
          [
           "Greenard, Jonathan",
           "HOU"
          ],
          [
           "Ngakoue, Yannick",
           "LVR"
          ],
          [
           "Fuller, Kendall",
           "WAS"
          ],
          [
           "Hines, Nyheim",
           "IND"
          ],
          [
           "Green, Rasheem",
           "SEA"
          ],
          [
           "Johnson, Taron",
           "BUF"
          ],
          [
           "Lattimore, Marshon",
           "NOS"
          ],
          [
           "Adderley, Nasir",
           "LAC"
          ],
          [
           "Johnson, Austin",
           "NYG"
          ],
          [
           "Panthers, Carolina",
           "CAR"
          ],
          [
           "Davenport, Marcus",
           "NOS"
          ],
          [
           "Sneed, L'Jarius",
           "KCC"
          ],
          [
           "Crosby, Maxx",
           "LVR"
          ],
          [
           "Edmunds, Terrell",
           "PIT"
          ],
          [
           "Buccaneers, Tampa Bay",
           "TBB"
          ],
          [
           "Slay, Darius",
           "PHI"
          ],
          [
           "Howard, Xavien",
           "MIA"
          ],
          [
           "Lewis, Jourdan",
           "DAL"
          ],
          [
           "Jones, Chris",
           "KCC"
          ],
          [
           "Shenault, Laviska",
           "JAC"
          ],
          [
           "Jackson, Kareem",
           "DEN"
          ],
          [
           "Milano, Matt",
           "BUF"
          ],
          [
           "Higbee, Tyler",
           "LAR"
          ],
          [
           "Wormley, Chris",
           "PIT"
          ],
          [
           "Roberts, Elandon",
           "MIA"
          ],
          [
           "Anderson, Robby",
           "CAR"
          ],
          [
           "Lazard, Allen",
           "GBP"
          ],
          [
           "Cook, Jared",
           "LAC"
          ],
          [
           "Oruwariye, Amani",
           "DET"
          ],
          [
           "Adams, Jamal",
           "SEA"
          ],
          [
           "Jack, Myles",
           "JAC"
          ],
          [
           "Harris, Shelby",
           "DEN"
          ],
          [
           "Hall, Bryce",
           "NYJ"
          ],
          [
           "Rousseau, Gregory",
           "BUF"
          ],
          [
           "Johnson, Ty",
           "NYJ"
          ],
          [
           "Reed, D.J.",
           "SEA"
          ],
          [
           "Brown, Antonio",
           "FA"
          ],
          [
           "Clark, Chuck",
           "BAL"
          ],
          [
           "Maddox, Avonte",
           "PHI"
          ],
          [
           "Autry, Denico",
           "TEN"
          ],
          [
           "Davis, Gabriel",
           "BUF"
          ],
          [
           "Highsmith, Alex",
           "PIT"
          ],
          [
           "Surtain II, Patrick",
           "DEN"
          ],
          [
           "Wingard, Andrew",
           "JAC"
          ],
          [
           "Hill, B.J.",
           "CIN"
          ],
          [
           "Thomas, Tavierre",
           "HOU"
          ],
          [
           "Wonnum, D.J.",
           "MIN"
          ],
          [
           "Littleton, Cory",
           "LVR"
          ],
          [
           "Payne, Da'Ron",
           "WAS"
          ],
          [
           "Jenkins, Malcolm",
           "NOS"
          ],
          [
           "Clowney, Jadeveon",
           "CLE"
          ],
          [
           "Williams, Marcus",
           "NOS"
          ],
          [
           "Bolden, Brandon",
           "NEP"
          ],
          [
           "Kirksey, Christian",
           "HOU"
          ],
          [
           "McKissic, J.D.",
           "WAS"
          ],
          [
           "Muhammad, Al-Quadin",
           "IND"
          ],
          [
           "Sieler, Zach",
           "MIA"
          ],
          [
           "Kmet, Cole",
           "CHI"
          ],
          [
           "FootballTeam, Washington",
           "WAS"
          ],
          [
           "Drake, Kenyan",
           "LVR"
          ],
          [
           "Landry, Jarvis",
           "CLE"
          ],
          [
           "Gary, Rashan",
           "GBP"
          ],
          [
           "Harris, Will",
           "DET"
          ],
          [
           "Reeder, Troy",
           "LAR"
          ],
          [
           "Dunlap, Carlos",
           "SEA"
          ],
          [
           "Everett, Gerald",
           "SEA"
          ],
          [
           "Whitehead, Jordan",
           "TBB"
          ],
          [
           "Peoples-Jones, Donovan",
           "CLE"
          ],
          [
           "Hunt, Kareem",
           "CLE"
          ],
          [
           "Rogers, Chester",
           "TEN"
          ],
          [
           "Bowser, Tyus",
           "BAL"
          ],
          [
           "Awuzie, Chidobe",
           "CIN"
          ],
          [
           "Scott, Boston",
           "PHI"
          ],
          [
           "Lions, Detroit",
           "DET"
          ],
          [
           "Chargers, Los Angeles",
           "LAC"
          ],
          [
           "Ward, Jimmie",
           "SFO"
          ],
          [
           "Owusu-Koramoah, Jeremiah",
           "CLE"
          ],
          [
           "Penny, Rashaad",
           "SEA"
          ],
          [
           "Gainwell, Kenneth",
           "PHI"
          ],
          [
           "Anzalone, Alex",
           "DET"
          ],
          [
           "Jones, D.J.",
           "SFO"
          ],
          [
           "Smith, Preston",
           "GBP"
          ],
          [
           "Ogletree, Alec",
           "CHI"
          ],
          [
           "Watkins, Quez",
           "PHI"
          ],
          [
           "Moss, Zack",
           "BUF"
          ],
          [
           "Rodgers, Isaiah",
           "IND"
          ],
          [
           "Van Ginkel, Andrew",
           "MIA"
          ],
          [
           "Dolphins, Miami",
           "MIA"
          ],
          [
           "McKenzie, Isaiah",
           "BUF"
          ],
          [
           "Taylor, Darrell",
           "SEA"
          ],
          [
           "Young, Kenny",
           "DEN"
          ],
          [
           "Chargers, Los Angeles",
           "LAC"
          ],
          [
           "Mitchell, Terrance",
           "HOU"
          ],
          [
           "Burkhead, Rex",
           "HOU"
          ],
          [
           "Grant, Jakeem",
           "CHI"
          ],
          [
           "Gaines, Greg",
           "LAR"
          ],
          [
           "Jackson, Donte",
           "CAR"
          ],
          [
           "Clark, Kenny",
           "GBP"
          ],
          [
           "Crowder, Jamison",
           "NYJ"
          ],
          [
           "Reeves-Maybin, Jalen",
           "DET"
          ],
          [
           "Barnes, Krys",
           "GBP"
          ],
          [
           "Breeland, Bashaud",
           "FA"
          ],
          [
           "Vigil, Nick",
           "MIN"
          ],
          [
           "Watts, Armon",
           "MIN"
          ],
          [
           "Njoku, David",
           "CLE"
          ],
          [
           "Needham, Nik",
           "MIA"
          ],
          [
           "Bears, Chicago",
           "CHI"
          ],
          [
           "Franklin-Myers, John",
           "NYJ"
          ],
          [
           "Davis, Ashtyn",
           "NYJ"
          ],
          [
           "Armstead, Arik",
           "SFO"
          ],
          [
           "Davis, Corey",
           "NYJ"
          ],
          [
           "Hughes, Mike",
           "KCC"
          ],
          [
           "Allen, Zach",
           "ARI"
          ],
          [
           "Tillery, Jerry",
           "LAC"
          ],
          [
           "Armstrong, Dorance",
           "DAL"
          ],
          [
           "Jarrett, Grady",
           "ATL"
          ],
          [
           "Norman, Josh",
           "SFO"
          ],
          [
           "Abdullah, Ameer",
           "CAR"
          ],
          [
           "Bradberry, James",
           "NYG"
          ],
          [
           "Jones, Zay",
           "LVR"
          ],
          [
           "Robinson, A'Shawn",
           "LAR"
          ],
          [
           "Ojulari, Azeez",
           "NYG"
          ],
          [
           "Hunter, Danielle",
           "MIN"
          ],
          [
           "Williams, P.J.",
           "NOS"
          ],
          [
           "Echols, Brandin",
           "NYJ"
          ],
          [
           "Rowe, Eric",
           "MIA"
          ],
          [
           "Cox, Fletcher",
           "PHI"
          ],
          [
           "Parker, DeVante",
           "MIA"
          ],
          [
           "Hilton, Mike",
           "CIN"
          ],
          [
           "McCourty, Devin",
           "NEP"
          ],
          [
           "Engram, Evan",
           "NYG"
          ],
          [
           "Cunningham, Zach",
           "TEN"
          ],
          [
           "Foreman, D'Onta",
           "TEN"
          ],
          [
           "Fowler, Dante",
           "ATL"
          ],
          [
           "Guy, Lawrence",
           "NEP"
          ],
          [
           "Johnson, D'Ernest",
           "CLE"
          ],
          [
           "Agholor, Nelson",
           "NEP"
          ],
          [
           "Adebo, Paulson",
           "NOS"
          ],
          [
           "Hobbs, Nate",
           "LVR"
          ],
          [
           "Averett, Anthony",
           "BAL"
          ],
          [
           "Seahawks, Seattle",
           "SEA"
          ],
          [
           "Long, David",
           "TEN"
          ],
          [
           "Ward, Charvarius",
           "KCC"
          ],
          [
           "Williams, Darious",
           "LAR"
          ],
          [
           "Reid, Justin",
           "HOU"
          ],
          [
           "Dulin, Ashton",
           "IND"
          ],
          [
           "Bush, Devin",
           "PIT"
          ],
          [
           "Bateman, Rashod",
           "BAL"
          ],
          [
           "Jefferson, Quinton",
           "LVR"
          ],
          [
           "Smoot, Dawuane",
           "JAC"
          ],
          [
           "Johnson, John",
           "CLE"
          ],
          [
           "Jones, Dre'Mont",
           "DEN"
          ],
          [
           "Swain, Freddie",
           "SEA"
          ],
          [
           "Sorensen, Daniel",
           "KCC"
          ],
          [
           "Campbell, Tyson",
           "JAC"
          ],
          [
           "Edwards, Bryan",
           "LVR"
          ],
          [
           "Jenkins, Rayshawn",
           "JAC"
          ],
          [
           "McCain, Bobby",
           "WAS"
          ],
          [
           "Humphrey, Marlon",
           "BAL"
          ],
          [
           "Godchaux, Davon",
           "NEP"
          ],
          [
           "Jets, New York",
           "NYJ"
          ],
          [
           "Murray, Latavius",
           "BAL"
          ],
          [
           "Wallace, Levi",
           "BUF"
          ],
          [
           "Pascal, Zach",
           "IND"
          ],
          [
           "Lawrence, Dexter",
           "NYG"
          ],
          [
           "Zaccheaus, Olamide",
           "ATL"
          ],
          [
           "Gregory, Randy",
           "DAL"
          ],
          [
           "Edwards, Mike",
           "TBB"
          ],
          [
           "Lowry, Dean",
           "GBP"
          ],
          [
           "Jackson, Eddie",
           "CHI"
          ],
          [
           "Barr, Anthony",
           "MIN"
          ],
          [
           "Delpit, Grant",
           "CLE"
          ],
          [
           "Tranquill, Drue",
           "LAC"
          ],
          [
           "Hooper, Austin",
           "CLE"
          ],
          [
           "Ward, Denzel",
           "CLE"
          ],
          [
           "Carter, Michael",
           "NYJ"
          ],
          [
           "Bynes, Josh",
           "BAL"
          ],
          [
           "Savage, Darnell",
           "GBP"
          ],
          [
           "Jackson, Justin",
           "LAC"
          ],
          [
           "Willis, Khari",
           "IND"
          ],
          [
           "Texans, Houston",
           "HOU"
          ],
          [
           "Browns, Cleveland",
           "CLE"
          ],
          [
           "Harmon, Duron",
           "ATL"
          ],
          [
           "Jones, Ronald",
           "TBB"
          ],
          [
           "Cobb, Randall",
           "GBP"
          ],
          [
           "Jones, Ernest",
           "LAR"
          ],
          [
           "Westbrook-Ikhine, Nick",
           "TEN"
          ],
          [
           "Murray, Eric",
           "HOU"
          ],
          [
           "Harris, Erik",
           "ATL"
          ],
          [
           "Brown, Derrick",
           "CAR"
          ],
          [
           "Wise, Deatrich",
           "NEP"
          ],
          [
           "Vander Esch, Leighton",
           "DAL"
          ],
          [
           "Nichols, Bilal",
           "CHI"
          ],
          [
           "Hitchens, Anthony",
           "KCC"
          ],
          [
           "Miller, Von",
           "LAR"
          ],
          [
           "Saints, New Orleans",
           "NOS"
          ],
          [
           "Felton, Demetric",
           "CLE"
          ],
          [
           "Perine, Samaje",
           "CIN"
          ],
          [
           "Reed, Jarran",
           "KCC"
          ],
          [
           "Roberts, Andre",
           "LAC"
          ],
          [
           "Moreau, Foster",
           "LVR"
          ],
          [
           "Covington, Christian",
           "LAC"
          ],
          [
           "Guyton, Jalen",
           "LAC"
          ],
          [
           "Jackson, Adoree",
           "NYG"
          ],
          [
           "Molden, Elijah",
           "TEN"
          ],
          [
           "Brown, Malcom",
           "JAC"
          ],
          [
           "Gallup, Michael",
           "DAL"
          ],
          [
           "Stephens, Brandon",
           "BAL"
          ],
          [
           "Joseph, Linval",
           "LAC"
          ],
          [
           "Carter, Jermaine",
           "CAR"
          ],
          [
           "Ruggs, Henry",
           "FA"
          ],
          [
           "Woods, Al",
           "SEA"
          ],
          [
           "Davis, Jamin",
           "WAS"
          ],
          [
           "Jones, Byron",
           "MIA"
          ],
          [
           "Williams, K'Waun",
           "SFO"
          ],
          [
           "Richardson, Sheldon",
           "MIN"
          ],
          [
           "Thornhill, Juan",
           "KCC"
          ],
          [
           "Oliver, Ed",
           "BUF"
          ],
          [
           "Apple, Eli",
           "CIN"
          ],
          [
           "Stokes, Eric",
           "GBP"
          ],
          [
           "Love, Julian",
           "NYG"
          ],
          [
           "Reed, Malik",
           "DEN"
          ],
          [
           "Harris, Anthony",
           "PHI"
          ],
          [
           "Blackson, Angelo",
           "CHI"
          ],
          [
           "Hooker, Amani",
           "TEN"
          ],
          [
           "Odum, George",
           "IND"
          ],
          [
           "Sweat, Montez",
           "WAS"
          ],
          [
           "Alexander, Kwon",
           "NOS"
          ],
          [
           "Golladay, Kenny",
           "NYG"
          ],
          [
           "Thomas, Solomon",
           "LVR"
          ],
          [
           "Johnson, Lonnie",
           "HOU"
          ],
          [
           "Gholston, William",
           "TBB"
          ],
          [
           "Vea, Vita",
           "TBB"
          ],
          [
           "Gardner-Johnson, Chauncey",
           "NOS"
          ],
          [
           "Harrison, Ronnie",
           "CLE"
          ],
          [
           "Oweh, Jayson",
           "BAL"
          ],
          [
           "Valdes-Scantling, Marquez",
           "GBP"
          ],
          [
           "Hightower, Dont'a",
           "NEP"
          ],
          [
           "Suh, Ndamukong",
           "TBB"
          ],
          [
           "Evans, Rashaan",
           "TEN"
          ],
          [
           "Pierre, James",
           "PIT"
          ],
          [
           "Carter, Lorenzo",
           "NYG"
          ],
          [
           "Phillips, Harrison",
           "BUF"
          ],
          [
           "Davis, Michael",
           "LAC"
          ],
          [
           "Collins, Alex",
           "SEA"
          ],
          [
           "Coleman, Tevin",
           "NYJ"
          ],
          [
           "Toney, Kadarius",
           "NYG"
          ],
          [
           "Bryant, Austin",
           "DET"
          ],
          [
           "Igwebuike, Godwin",
           "DET"
          ],
          [
           "Moreau, Fabian",
           "ATL"
          ],
          [
           "Amadi, Ugo",
           "SEA"
          ],
          [
           "Robinson, Allen",
           "CHI"
          ],
          [
           "Campbell, Calais",
           "BAL"
          ],
          [
           "Jones, Sidney",
           "SEA"
          ],
          [
           "Neal, Keanu",
           "DAL"
          ],
          [
           "Shepard, Sterling",
           "NYG"
          ],
          [
           "Dean, Jamel",
           "TBB"
          ],
          [
           "Epps, Marcus",
           "PHI"
          ],
          [
           "Barnett, Derek",
           "PHI"
          ],
          [
           "Houston-Carson, DeAndre",
           "CHI"
          ],
          [
           "Hilliard, Dontrell",
           "TEN"
          ],
          [
           "Howard, Jordan",
           "PHI"
          ],
          [
           "McLeod, Rodney",
           "PHI"
          ],
          [
           "Joseph-Day, Sebastian",
           "LAR"
          ],
          [
           "Palmer, Josh",
           "LAC"
          ],
          [
           "Robertson-Harris, Roy",
           "JAC"
          ],
          [
           "Reynolds, Josh",
           "DET"
          ],
          [
           "Brockers, Michael",
           "DET"
          ],
          [
           "Ragland, Reggie",
           "NYG"
          ],
          [
           "Williams, Greedy",
           "CLE"
          ],
          [
           "Niemann, Ben",
           "KCC"
          ],
          [
           "Jenkins, Janoris",
           "TEN"
          ],
          [
           "Addison, Mario",
           "BUF"
          ],
          [
           "Barnes, Derrick",
           "DET"
          ],
          [
           "Humphries, Adam",
           "WAS"
          ],
          [
           "Sutton, Cameron",
           "PIT"
          ],
          [
           "Kazee, Damontae",
           "DAL"
          ],
          [
           "Paye, Kwity",
           "IND"
          ],
          [
           "Jeudy, Jerry",
           "DEN"
          ],
          [
           "Hollins, Mack",
           "MIA"
          ],
          [
           "Williams, Avery",
           "ATL"
          ],
          [
           "Wilson, Marco",
           "ARI"
          ],
          [
           "Nwosu, Uchenna",
           "LAC"
          ],
          [
           "Ford, Johnathan",
           "JAC"
          ],
          [
           "Stewart, Grover",
           "IND"
          ],
          [
           "Johnson, Jaylon",
           "CHI"
          ],
          [
           "Doyle, Jack",
           "IND"
          ],
          [
           "Jackson, DeSean",
           "LVR"
          ],
          [
           "Reader, D.J.",
           "CIN"
          ],
          [
           "Tartt, Jaquiski",
           "SFO"
          ],
          [
           "Hamilton, Davon",
           "JAC"
          ],
          [
           "Campbell, Tevaughn",
           "LAC"
          ],
          [
           "Key, Arden",
           "SFO"
          ],
          [
           "Facyson, Brandon",
           "LVR"
          ],
          [
           "Basham, Tarell",
           "DAL"
          ],
          [
           "Okwuegbunam, Albert",
           "DEN"
          ],
          [
           "Cole, Keelan",
           "NYJ"
          ],
          [
           "Alie-Cox, Mo",
           "IND"
          ],
          [
           "Brate, Cameron",
           "TBB"
          ],
          [
           "Smith, Malcolm",
           "CLE"
          ],
          [
           "Darby, Ronald",
           "DEN"
          ],
          [
           "Marlowe, Dean",
           "DET"
          ],
          [
           "Gipson, Tashaun",
           "CHI"
          ],
          [
           "Gross-Matos, Yetur",
           "CAR"
          ],
          [
           "Dantzler, Cameron",
           "MIN"
          ],
          [
           "Arnold, Dan",
           "JAC"
          ],
          [
           "Clark, Frank",
           "KCC"
          ],
          [
           "Pierre-Paul, Jason",
           "TBB"
          ],
          [
           "Collins, Nico",
           "HOU"
          ],
          [
           "Moehrig, Trevon",
           "LVR"
          ],
          [
           "McDowell, Malik",
           "CLE"
          ],
          [
           "Nelson, Steven",
           "PHI"
          ],
          [
           "Smith, Tre'Quan",
           "NOS"
          ],
          [
           "Ebukam, Samson",
           "SFO"
          ],
          [
           "Griffin, Ryan",
           "NYJ"
          ],
          [
           "Jaguars, Jacksonville",
           "JAC"
          ],
          [
           "Olszewski, Gunner",
           "NEP"
          ],
          [
           "Brown, Jayon",
           "TEN"
          ],
          [
           "Johnson, David",
           "HOU"
          ],
          [
           "Ford, Poona",
           "SEA"
          ],
          [
           "Homer, Travis",
           "SEA"
          ],
          [
           "Jackson, William",
           "WAS"
          ],
          [
           "Barmore, Christian",
           "NEP"
          ],
          [
           "Fenton, Rashad",
           "KCC"
          ],
          [
           "Luvu, Frankie",
           "CAR"
          ],
          [
           "Treadwell, Laquon",
           "JAC"
          ],
          [
           "Hill, Troy",
           "CLE"
          ],
          [
           "Swaim, Geoff",
           "TEN"
          ],
          [
           "Werner, Pete",
           "NOS"
          ],
          [
           "Fulton, Kristian",
           "TEN"
          ],
          [
           "Parker, AJ",
           "DET"
          ],
          [
           "Ridley, Calvin",
           "ATL"
          ],
          [
           "Smith, Jonnu",
           "NEP"
          ],
          [
           "Samuel, Asante",
           "LAC"
          ],
          [
           "Bryant, Myles",
           "NEP"
          ],
          [
           "Lawrence, Demarcus",
           "DAL"
          ],
          [
           "Firkser, Anthony",
           "TEN"
          ],
          [
           "Seals-Jones, Ricky",
           "WAS"
          ],
          [
           "Watkins, Carlos",
           "DAL"
          ],
          [
           "Griffin, Shaq",
           "JAC"
          ],
          [
           "Madubuike, Justin",
           "BAL"
          ],
          [
           "Okwara, Julian",
           "DET"
          ],
          [
           "Kpassagnon, Tanoh",
           "NOS"
          ],
          [
           "Wharton, Tershawn",
           "KCC"
          ],
          [
           "White, Tre'Davious",
           "BUF"
          ],
          [
           "Watkins, Sammy",
           "BAL"
          ],
          [
           "McNichols, Jeremy",
           "FA"
          ],
          [
           "Hicks, Akiem",
           "CHI"
          ],
          [
           "Hayward, Casey",
           "LVR"
          ],
          [
           "Nnadi, Derrick",
           "KCC"
          ],
          [
           "Tuttle, Shy",
           "NOS"
          ],
          [
           "Neal, Ryan",
           "SEA"
          ],
          [
           "Davis, Carlton",
           "TBB"
          ],
          [
           "Ioannidis, Matt",
           "WAS"
          ],
          [
           "Odighizuwa, Osa",
           "DAL"
          ],
          [
           "Rankins, Sheldon",
           "NYJ"
          ],
          [
           "Jones, Justin",
           "LAC"
          ],
          [
           "Smith, Tremon",
           "HOU"
          ],
          [
           "Griffen, Everson",
           "MIN"
          ],
          [
           "Hilton, T.Y.",
           "IND"
          ],
          [
           "Smythe, Durham",
           "MIA"
          ],
          [
           "Gay, Willie",
           "KCC"
          ],
          [
           "Alexander, Mackensie",
           "MIN"
          ],
          [
           "Fatukasi, Foley",
           "NYJ"
          ],
          [
           "Danna, Michael",
           "KCC"
          ],
          [
           "Johnson, Tyler",
           "TBB"
          ],
          [
           "Wilson, Jeffery",
           "SFO"
          ],
          [
           "Fox, Morgan",
           "CAR"
          ],
          [
           "Jones, Julio",
           "TEN"
          ],
          [
           "Rhodes, Xavier",
           "IND"
          ],
          [
           "Jones, Naquan",
           "TEN"
          ],
          [
           "Houston, Justin",
           "BAL"
          ],
          [
           "Young, Tavon",
           "BAL"
          ],
          [
           "Vildor, Kindle",
           "CHI"
          ],
          [
           "Mills, Jalen",
           "NEP"
          ],
          [
           "Stewart, M.J.",
           "CLE"
          ],
          [
           "Street, Kentavius",
           "SFO"
          ],
          [
           "Washington, James",
           "PIT"
          ],
          [
           "Conley, Chris",
           "HOU"
          ],
          [
           "Golston, Chauncey",
           "DAL"
          ],
          [
           "Means, Steven",
           "ATL"
          ],
          [
           "Robinson, Demarcus",
           "KCC"
          ],
          [
           "Bush, Deon",
           "CHI"
          ],
          [
           "Maye, Marcus",
           "NYJ"
          ],
          [
           "Mone, Bryan",
           "SEA"
          ],
          [
           "Williams, DeShawn",
           "DEN"
          ],
          [
           "Hewitt, Neville",
           "HOU"
          ],
          [
           "Bryant, Harrison",
           "CLE"
          ],
          [
           "Juszczyk, Kyle",
           "SFO"
          ],
          [
           "Tomlinson, Dalvin",
           "MIN"
          ],
          [
           "Walker, DeMarcus",
           "HOU"
          ],
          [
           "Gotsis, Adam",
           "JAC"
          ],
          [
           "Slayton, Darius",
           "NYG"
          ],
          [
           "Chandler, Sean",
           "CAR"
          ],
          [
           "Granderson, Carl",
           "NOS"
          ],
          [
           "Guidry, Javelin",
           "NYJ"
          ],
          [
           "Maulet, Art",
           "PIT"
          ],
          [
           "McNeill, Alim",
           "DET"
          ],
          [
           "Jones, DaQuan",
           "CAR"
          ],
          [
           "Onwuzurike, Levi",
           "DET"
          ],
          [
           "Scott, Nick",
           "LAR"
          ],
          [
           "Collins, Maliek",
           "HOU"
          ],
          [
           "Roche, Quincy",
           "NYG"
          ],
          [
           "Lynch, Blake",
           "MIN"
          ],
          [
           "Young, Chase",
           "WAS"
          ],
          [
           "Browning, Baron",
           "DEN"
          ],
          [
           "Jacobs, Jerry",
           "DET"
          ],
          [
           "Cockrell, Ross",
           "TBB"
          ],
          [
           "Martin, Jake",
           "HOU"
          ],
          [
           "Mack, Khalil",
           "CHI"
          ],
          [
           "Hurst, Hayden",
           "ATL"
          ],
          [
           "Fuller, Kyle",
           "DEN"
          ],
          [
           "Jackson, Dane",
           "BUF"
          ],
          [
           "Long, David",
           "LAR"
          ],
          [
           "Barber, Peyton",
           "LVR"
          ],
          [
           "Harris, Marcell",
           "SFO"
          ],
          [
           "Jennings, Jauan",
           "SFO"
          ],
          [
           "Sendejo, Andrew",
           "IND"
          ],
          [
           "Keke, Kingsley",
           "FA"
          ],
          [
           "Klein, A.J.",
           "BUF"
          ],
          [
           "Alford, Robert",
           "ARI"
          ],
          [
           "Sullivan, Chandon",
           "GBP"
          ],
          [
           "Cruikshank, Dane",
           "TEN"
          ],
          [
           "Moseley, Emmanuel",
           "SFO"
          ],
          [
           "Norwood, Tre",
           "PIT"
          ],
          [
           "Phillips, Jordan",
           "ARI"
          ],
          [
           "Zylstra, Brandon",
           "CAR"
          ],
          [
           "Harris, Chris",
           "LAC"
          ],
          [
           "Schwartz, Anthony",
           "CLE"
          ],
          [
           "Philon, Darius",
           "LVR"
          ],
          [
           "Speed, E.J.",
           "IND"
          ],
          [
           "Parham, Donald",
           "LAC"
          ],
          [
           "Pierce, Michael",
           "MIN"
          ],
          [
           "Sims, Cam",
           "WAS"
          ],
          [
           "Gore, Derrick",
           "KCC"
          ],
          [
           "Williams, Damien",
           "CHI"
          ],
          [
           "Ogundeji, Adetokunbo",
           "ATL"
          ],
          [
           "Patterson, Jaret",
           "WAS"
          ],
          [
           "Desir, Pierre",
           "TBB"
          ],
          [
           "Hooker, Malik",
           "DAL"
          ],
          [
           "Taylor, Davion",
           "PHI"
          ],
          [
           "Bernard, Giovani",
           "TBB"
          ],
          [
           "Black, Henry",
           "GBP"
          ],
          [
           "Hyder, Kerry",
           "SEA"
          ],
          [
           "Ya-Sin, Rock",
           "IND"
          ],
          [
           "Murphy-Bunting, Sean",
           "TBB"
          ],
          [
           "Hasty, JaMycal",
           "SFO"
          ],
          [
           "Nwangwu, Kene",
           "MIN"
          ],
          [
           "Newsome, Greg",
           "CLE"
          ],
          [
           "Johnson, Alexander",
           "DEN"
          ],
          [
           "Cooper, Jonathon",
           "DEN"
          ],
          [
           "Higgins, Rashard",
           "CLE"
          ],
          [
           "Lindsay, Phillip",
           "MIA"
          ],
          [
           "Chaisson, K'Lavon",
           "JAC"
          ],
          [
           "Austin, Tavon",
           "JAC"
          ],
          [
           "Spillane, Robert",
           "PIT"
          ],
          [
           "Flowers, Trey",
           "DET"
          ],
          [
           "Jordan, Brevin",
           "HOU"
          ],
          [
           "Trautman, Adam",
           "NOS"
          ],
          [
           "Weatherly, Stephen",
           "DEN"
          ],
          [
           "Mercilus, Whitney",
           "GBP"
          ],
          [
           "Grant, Richie",
           "ATL"
          ],
          [
           "Dissly, Will",
           "SEA"
          ],
          [
           "Ogunbowale, Dare",
           "JAC"
          ],
          [
           "Rudolph, Kyle",
           "NYG"
          ],
          [
           "Carson, Chris",
           "SEA"
          ],
          [
           "Wilson, Eric",
           "HOU"
          ],
          [
           "Williams, Milton",
           "PHI"
          ],
          [
           "Haden, Joe",
           "PIT"
          ],
          [
           "Takitaki, Sione",
           "CLE"
          ],
          [
           "Byrd, Damiere",
           "CHI"
          ],
          [
           "Onyemata, David",
           "NOS"
          ],
          [
           "Lynch, James",
           "MIN"
          ],
          [
           "Thomas, Logan",
           "WAS"
          ],
          [
           "Turay, Kemoko",
           "IND"
          ],
          [
           "Bates, John",
           "WAS"
          ],
          [
           "Goodwin, Marquise",
           "CHI"
          ],
          [
           "Taylor, Keith",
           "CAR"
          ],
          [
           "Blacklock, Ross",
           "HOU"
          ],
          [
           "Franklin, Zaire",
           "IND"
          ],
          [
           "Ward, Jihad",
           "JAC"
          ],
          [
           "Tremble, Tommy",
           "CAR"
          ],
          [
           "Avery, Genard",
           "PHI"
          ],
          [
           "Lawson, Shaq",
           "FA"
          ],
          [
           "Coleman, Justin",
           "MIA"
          ],
          [
           "Walker, Mykal",
           "ATL"
          ],
          [
           "Hyde, Carlos",
           "JAC"
          ],
          [
           "Tryon, Joe",
           "TBB"
          ],
          [
           "Wesley, Antoine",
           "ARI"
          ],
          [
           "Sterns, Caden",
           "DEN"
          ],
          [
           "Nassib, Carl",
           "LVR"
          ],
          [
           "Peterson, Patrick",
           "MIN"
          ],
          [
           "Shelley, Duke",
           "CHI"
          ],
          [
           "Hankins, Johnathan",
           "LVR"
          ],
          [
           "Mayowa, Benson",
           "SEA"
          ],
          [
           "Holmes, Darnay",
           "NYG"
          ],
          [
           "Gilman, Alohi",
           "LAC"
          ],
          [
           "Lopez, Roy",
           "HOU"
          ],
          [
           "O'Shaughnessy, James",
           "JAC"
          ],
          [
           "Blackmon, Julian",
           "IND"
          ],
          [
           "Davidson, Marlon",
           "ATL"
          ],
          [
           "Bynum, Camryn",
           "MIN"
          ],
          [
           "McKinley, Takkarist",
           "CLE"
          ],
          [
           "Riley, Elijah",
           "NYJ"
          ],
          [
           "Lewis, Terrell",
           "LAR"
          ],
          [
           "Pruitt, MyCole",
           "TEN"
          ],
          [
           "Tonyan, Robert",
           "GBP"
          ],
          [
           "Okafor, Alex",
           "KCC"
          ],
          [
           "Wright, K.J.",
           "LVR"
          ],
          [
           "Sharpe, Tajae",
           "ATL"
          ],
          [
           "Moore, Chris",
           "HOU"
          ],
          [
           "Johnson, Duke",
           "MIA"
          ],
          [
           "Anderson, Stephen",
           "LAC"
          ],
          [
           "Wilson, Albert",
           "MIA"
          ],
          [
           "Cephus, Quintez",
           "DET"
          ],
          [
           "Robinson, Alton",
           "SEA"
          ],
          [
           "Breida, Matt",
           "BUF"
          ],
          [
           "Hamilton, Antonio",
           "ARI"
          ],
          [
           "Henderson, CJ",
           "CAR"
          ],
          [
           "Darden, Jaelon",
           "TBB"
          ],
          [
           "Peppers, Jabrill",
           "NYG"
          ],
          [
           "Graham, Jimmy",
           "CHI"
          ],
          [
           "Deablo, Divine",
           "LVR"
          ],
          [
           "Jackson, Chris",
           "TEN"
          ],
          [
           "Smith-Williams, James",
           "WAS"
          ],
          [
           "Haynes, Marquis",
           "CAR"
          ],
          [
           "Willis, Jordan",
           "SFO"
          ],
          [
           "Humphrey, Lil'Jordan",
           "NOS"
          ],
          [
           "Hughes, Jerry",
           "BUF"
          ],
          [
           "Purcell, Mike",
           "DEN"
          ],
          [
           "Wilson, Mack",
           "CLE"
          ],
          [
           "Jenkins, Jordan",
           "HOU"
          ],
          [
           "Griffith, Jonas",
           "DEN"
          ],
          [
           "Lotulelei, Star",
           "BUF"
          ],
          [
           "Witherspoon, Ahkello",
           "PIT"
          ],
          [
           "Penny, Elijhaa",
           "NYG"
          ],
          [
           "Smith, Jaylon",
           "NYG"
          ],
          [
           "Dogbe, Michael",
           "ARI"
          ],
          [
           "Roby, Bradley",
           "NOS"
          ],
          [
           "Tuszka, Derrek",
           "PIT"
          ],
          [
           "Johnson, Juwan",
           "NOS"
          ],
          [
           "Obada, Efe",
           "BUF"
          ],
          [
           "Bouye, A.J.",
           "CAR"
          ],
          [
           "Nelson, Anthony",
           "TBB"
          ],
          [
           "Loudermilk, Isaiahh",
           "PIT"
          ],
          [
           "Williams, Brandon",
           "BAL"
          ],
          [
           "Deguara, Josiah",
           "GBP"
          ],
          [
           "Minter, Kevin",
           "TBB"
          ],
          [
           "Ridgeway, Hassan",
           "PHI"
          ],
          [
           "Grayson, Cyril",
           "TBB"
          ],
          [
           "Hargreaves, Vernon",
           "CIN"
          ],
          [
           "Stallworth, Taylor",
           "IND"
          ],
          [
           "Ahmed, Salvon",
           "MIA"
          ],
          [
           "Hartsfield, Myles",
           "CAR"
          ],
          [
           "Lewis, Tyquan",
           "IND"
          ],
          [
           "Roy, Bravvion",
           "CAR"
          ],
          [
           "Collins, Jamie",
           "NEP"
          ],
          [
           "Slaton, Tedarrell",
           "GBP"
          ],
          [
           "Turner, Malik",
           "DAL"
          ],
          [
           "Davis-Gaither, Akeem",
           "CIN"
          ],
          [
           "Leavitt, Dallin",
           "LVR"
          ],
          [
           "Lewis, Marcedes",
           "GBP"
          ],
          [
           "Ross, John",
           "NYG"
          ],
          [
           "Flowers, Tre",
           "CIN"
          ],
          [
           "Strnad, Justin",
           "DEN"
          ],
          [
           "Shelton, Danny",
           "NYG"
          ],
          [
           "Ringo, Christian",
           "NOS"
          ],
          [
           "Akins, Jordan",
           "HOU"
          ],
          [
           "Claybrooks, Chris",
           "JAC"
          ],
          [
           "Hollins, Justin",
           "LAR"
          ],
          [
           "Williams, Ty'Son",
           "BAL"
          ],
          [
           "Elliott, DeShon",
           "BAL"
          ],
          [
           "Butler, Adam",
           "MIA"
          ],
          [
           "Blair, Ronald",
           "FA"
          ],
          [
           "Callahan, Bryce",
           "DEN"
          ],
          [
           "Burks, Oren",
           "GBP"
          ],
          [
           "Montgomery, Ty",
           "NOS"
          ],
          [
           "Lawson, Nevin",
           "JAC"
          ],
          [
           "Spencer, Diontae",
           "DEN"
          ],
          [
           "Rodgers, Amari",
           "GBP"
          ],
          [
           "Stephen, Shamar",
           "DEN"
          ],
          [
           "Williams, Nick",
           "DET"
          ],
          [
           "Hufanga, Talanoa",
           "SFO"
          ],
          [
           "Phillips, Darius",
           "CIN"
          ],
          [
           "Williams, Maxx",
           "ARI"
          ],
          [
           "Ford, Isaiah",
           "MIA"
          ],
          [
           "Lancaster, Tyler",
           "GBP"
          ],
          [
           "Reynolds, Craig",
           "DET"
          ],
          [
           "Kroft, Tyler",
           "NYJ"
          ],
          [
           "Skowronek, Ben",
           "LAR"
          ],
          [
           "Fackrell, Kyler",
           "LAC"
          ],
          [
           "Dupree, Bud",
           "TEN"
          ],
          [
           "Hawkins, Jaylinn",
           "ATL"
          ],
          [
           "Thomas, Ian",
           "CAR"
          ],
          [
           "Davis, Raekwon",
           "MIA"
          ],
          [
           "Copeland, Brandon",
           "ATL"
          ],
          [
           "King, Kevin",
           "GBP"
          ],
          [
           "Westbrook, Dede",
           "MIN"
          ],
          [
           "Freeman, Royce",
           "HOU"
          ],
          [
           "Rice, Monty",
           "TEN"
          ],
          [
           "Hodge, KhaDarel",
           "DET"
          ],
          [
           "Johnson, Marcus",
           "TEN"
          ],
          [
           "Cannon, Trenton",
           "SFO"
          ],
          [
           "Hall, Darren",
           "ATL"
          ],
          [
           "Mickens, Jaydon",
           "JAC"
          ],
          [
           "Adeniyi, Ola",
           "TEN"
          ],
          [
           "Deayon, Donte",
           "LAR"
          ],
          [
           "Bryan, Taven",
           "JAC"
          ],
          [
           "Brown, Pharaoh",
           "HOU"
          ],
          [
           "Davison, Tyeler",
           "ATL"
          ],
          [
           "Amendola, Danny",
           "HOU"
          ],
          [
           "Goldman, Eddie",
           "CHI"
          ],
          [
           "Jackson, Malik",
           "CLE"
          ],
          [
           "Board, Chris",
           "BAL"
          ],
          [
           "Clement, Corey",
           "DAL"
          ],
          [
           "Okoronkwo, Ogbonnia",
           "LAR"
          ],
          [
           "Thomas, Ambry",
           "SFO"
          ],
          [
           "Phillips, Del'Shawn",
           "NYJ"
          ],
          [
           "Boyd, Kris",
           "MIN"
          ],
          [
           "Watt, J.J.",
           "ARI"
          ],
          [
           "Baun, Zack",
           "NOS"
          ],
          [
           "Evans, Chris",
           "CIN"
          ],
          [
           "Proche, James",
           "BAL"
          ],
          [
           "Ogbongbemiga, Amen",
           "LAC"
          ],
          [
           "Basham, Carlos",
           "BUF"
          ],
          [
           "Sermon, Trey",
           "SFO"
          ],
          [
           "Davis, Carl",
           "NEP"
          ],
          [
           "Mullen, Trayvon",
           "LVR"
          ],
          [
           "St-Juste, Benjamin",
           "WAS"
          ],
          [
           "Benjamin, Eno",
           "ARI"
          ],
          [
           "Bachie, Joe",
           "CIN"
          ],
          [
           "Shepherd, Nathan",
           "NYJ"
          ],
          [
           "Sanu, Mohamed",
           "SFO"
          ],
          [
           "Burris, Juston",
           "CAR"
          ],
          [
           "Woods, Josh",
           "DET"
          ],
          [
           "Carrie, T.J.",
           "IND"
          ],
          [
           "Day, Sheldon",
           "CLE"
          ],
          [
           "Mayo, David",
           "WAS"
          ],
          [
           "Brown, Noah",
           "DAL"
          ],
          [
           "Elliott, Jordan",
           "CLE"
          ],
          [
           "Toohill, Casey",
           "WAS"
          ],
          [
           "Jackson, Tarron",
           "PHI"
          ],
          [
           "Cooper, Pharoh",
           "FA"
          ],
          [
           "Erickson, Alex",
           "CAR"
          ],
          [
           "Johnson, Jaleel",
           "HOU"
          ],
          [
           "Gilmore, Stephon",
           "CAR"
          ],
          [
           "Johnson, Dontae",
           "SFO"
          ],
          [
           "Bailey, Markus",
           "CIN"
          ],
          [
           "Cisco, Andre",
           "JAC"
          ],
          [
           "Smith-Schuster, JuJu",
           "PIT"
          ],
          [
           "Ward, Greg",
           "PHI"
          ],
          [
           "Bell, Le'Veon",
           "FA"
          ],
          [
           "Eskridge, D'Wayne",
           "SEA"
          ],
          [
           "Jackson, Joe",
           "KCC"
          ],
          [
           "Mondeaux, Henry",
           "PIT"
          ],
          [
           "Neal, Siran",
           "BUF"
          ],
          [
           "Ford, Dee",
           "SFO"
          ],
          [
           "Green, A.J.",
           "CLE"
          ],
          [
           "Ingram, Melvin",
           "KCC"
          ],
          [
           "McKinney, Benardrick",
           "NYG"
          ],
          [
           "Quarterman, Shaquille",
           "JAC"
          ],
          [
           "Chark, D.J.",
           "JAC"
          ],
          [
           "Jones, Jonathan",
           "NEP"
          ],
          [
           "Peterson, Adrian",
           "FA"
          ],
          [
           "Sample, Cameron",
           "CIN"
          ],
          [
           "Fotu, Leki",
           "ARI"
          ],
          [
           "Huff, Bryce",
           "NYJ"
          ],
          [
           "Reaves, Jeremy",
           "WAS"
          ],
          [
           "Rumph, Chris",
           "LAC"
          ],
          [
           "Robinson, Aaron",
           "NYG"
          ],
          [
           "Board, C.J.",
           "NYG"
          ],
          [
           "Rountree, Larry",
           "LAC"
          ],
          [
           "Howard, O.J.",
           "TBB"
          ],
          [
           "Adams, Andrew",
           "TBB"
          ],
          [
           "Burns, Artie",
           "CHI"
          ],
          [
           "Jarwin, Blake",
           "DAL"
          ],
          [
           "Tonga, Khyiris",
           "CHI"
          ],
          [
           "Marshall, Terrace",
           "CAR"
          ],
          [
           "Ebron, Eric",
           "PIT"
          ],
          [
           "Wallow, Garret",
           "HOU"
          ],
          [
           "Barton, Cody",
           "SEA"
          ],
          [
           "Wilson, Donovan",
           "DAL"
          ],
          [
           "Davis, Jarrad",
           "NYJ"
          ],
          [
           "Campbell, Parris",
           "IND"
          ],
          [
           "Uche, Josh",
           "NEP"
          ],
          [
           "Rush, Anthony",
           "ATL"
          ],
          [
           "Washington, Broderick",
           "BAL"
          ],
          [
           "Richard, Jalen",
           "LVR"
          ],
          [
           "Niemann, Nick",
           "LAC"
          ],
          [
           "Brown, Dyami",
           "WAS"
          ],
          [
           "Kwiatkoski, Nick",
           "LVR"
          ],
          [
           "Peters, Corey",
           "ARI"
          ],
          [
           "Johnson, Danny",
           "WAS"
          ],
          [
           "Tuioti-Mariner, Jacob",
           "CAR"
          ],
          [
           "Collins, Zaven",
           "ARI"
          ],
          [
           "Murray, Kenneth",
           "LAC"
          ],
          [
           "Riley, Duke",
           "MIA"
          ],
          [
           "Williams, Joejuan",
           "NEP"
          ],
          [
           "Bullard, Jonathan",
           "ATL"
          ],
          [
           "Matakevich, Tyler",
           "BUF"
          ],
          [
           "Omenihu, Charles",
           "SFO"
          ],
          [
           "St. Brown, Equanimeous",
           "GBP"
          ],
          [
           "Vaughn, Ke'Shawn",
           "TBB"
          ],
          [
           "Bellore, Nick",
           "SEA"
          ],
          [
           "Hart, Penny",
           "SEA"
          ],
          [
           "Skrine, Buster",
           "TEN"
          ],
          [
           "Gentry, Zach",
           "PIT"
          ],
          [
           "Rochell, Robert",
           "LAR"
          ],
          [
           "Gardeck, Dennis",
           "ARI"
          ],
          [
           "Owens, Jonathan",
           "HOU"
          ],
          [
           "Kennard, Devon",
           "ARI"
          ],
          [
           "Smith, Keith",
           "ATL"
          ],
          [
           "Charlton, Taco",
           "PIT"
          ],
          [
           "Sherfield, Trent",
           "SFO"
          ],
          [
           "Delaney, Dee",
           "TBB"
          ],
          [
           "Harrison, Malik",
           "BAL"
          ],
          [
           "Pennel, Mike",
           "ATL"
          ],
          [
           "Harry, N'Keal",
           "NEP"
          ],
          [
           "Epenesa, A.J.",
           "BUF"
          ],
          [
           "Ferrell, Clelin",
           "LVR"
          ],
          [
           "Pettis, Dante",
           "NYG"
          ],
          [
           "Flannigan-Fowles, Demetrius",
           "SFO"
          ],
          [
           "Gray, J.T.",
           "NOS"
          ],
          [
           "Price, Bobby",
           "DET"
          ],
          [
           "Neasman, Sharrod",
           "FA"
          ],
          [
           "Ingold, Alec",
           "LVR"
          ],
          [
           "Seymour, Kevon",
           "BAL"
          ],
          [
           "Turner, Payton",
           "NOS"
          ],
          [
           "Wilson, Brandon",
           "CIN"
          ],
          [
           "Jones, Christian",
           "CHI"
          ],
          [
           "Moore, C.J.",
           "DET"
          ],
          [
           "Brown, Malcolm",
           "MIA"
          ],
          [
           "Wright, Brock",
           "DET"
          ],
          [
           "Stevenson, Marquez",
           "BUF"
          ],
          [
           "Watt, Derek",
           "PIT"
          ],
          [
           "Willekes, Kenny",
           "MIN"
          ],
          [
           "White, James",
           "NEP"
          ],
          [
           "Thomas, Daniel",
           "JAC"
          ],
          [
           "Jones, Tony",
           "NOS"
          ],
          [
           "Jefferson, Jermar",
           "DET"
          ],
          [
           "McKinnon, Jerick",
           "KCC"
          ],
          [
           "Vannett, Nick",
           "NOS"
          ],
          [
           "James, Jesse",
           "CHI"
          ],
          [
           "Crossen, Keion",
           "NYG"
          ],
          [
           "Alexander, Jaire",
           "GBP"
          ],
          [
           "Garvin, Jonathan",
           "GBP"
          ],
          [
           "Givens, Kevin",
           "SFO"
          ],
          [
           "Jenkins, John",
           "MIA"
          ],
          [
           "Tart, Teair",
           "TEN"
          ],
          [
           "Wilson, Jarrod",
           "FA"
          ],
          [
           "Ham, C.J.",
           "MIN"
          ],
          [
           "Farley, Matthias",
           "TEN"
          ],
          [
           "Bostic, Jon",
           "WAS"
          ],
          [
           "Martinez, Blake",
           "NYG"
          ],
          [
           "Chubb, Bradley",
           "DEN"
          ],
          [
           "McCourty, Jason",
           "MIA"
          ],
          [
           "Williams, Jarren",
           "NYG"
          ],
          [
           "McPhee, Pernell",
           "BAL"
          ],
          [
           "Lemonier, Jessie",
           "DET"
          ],
          [
           "Phillips, Kyle",
           "NYJ"
          ],
          [
           "Robertson, Amik",
           "LVR"
          ],
          [
           "Sherman, Richard",
           "TBB"
          ],
          [
           "Snell, Benny",
           "PIT"
          ],
          [
           "Watts, Armani",
           "KCC"
          ],
          [
           "Greenlaw, Dre",
           "SFO"
          ],
          [
           "Howard, Travin",
           "LAR"
          ],
          [
           "Kemp, Marcus",
           "KCC"
          ],
          [
           "Mclendon, Steve",
           "TBB"
          ],
          [
           "Cabinda, Jason",
           "DET"
          ],
          [
           "Franklin, Sam",
           "CAR"
          ],
          [
           "Killebrew, Miles",
           "PIT"
          ],
          [
           "Powell, Brandon",
           "LAR"
          ],
          [
           "Perriman, Breshad",
           "TBB"
          ],
          [
           "Rivers, Derek",
           "HOU"
          ],
          [
           "Taylor, J.J.",
           "NEP"
          ],
          [
           "Cole, Dylan",
           "TEN"
          ],
          [
           "Ellis, Justin",
           "BAL"
          ],
          [
           "Stone, Geno",
           "BAL"
          ],
          [
           "Burton, Michael",
           "KCC"
          ],
          [
           "Elliss, Kaden",
           "NOS"
          ],
          [
           "Lenoir, Deommodore",
           "SFO"
          ],
          [
           "Roberson, Derick",
           "TEN"
          ],
          [
           "Gilbert, Ulysees",
           "PIT"
          ],
          [
           "Ekuale, Daniel",
           "FA"
          ],
          [
           "Oliver, Isaiah",
           "ATL"
          ],
          [
           "Smith, Lee",
           "ATL"
          ],
          [
           "Ankou, Eli",
           "BUF"
          ],
          [
           "Jefferson, Tony",
           "BAL"
          ],
          [
           "Walter, Austin",
           "NYJ"
          ],
          [
           "Woerner, Charlie",
           "SFO"
          ],
          [
           "Buggs, Isaiah",
           "FA"
          ],
          [
           "Gill, Cam",
           "TBB"
          ],
          [
           "Johnson, Jaquan",
           "BUF"
          ],
          [
           "Layne, Justin",
           "PIT"
          ],
          [
           "Rochell, Isaac",
           "IND"
          ],
          [
           "Settle, Tim",
           "WAS"
          ],
          [
           "Shaheen, Adam",
           "MIA"
          ],
          [
           "Togiai, Tommy",
           "CLE"
          ],
          [
           "Baker, Deandre",
           "KCC"
          ],
          [
           "Bradley, Shaun",
           "PHI"
          ],
          [
           "Saubert, Eric",
           "DEN"
          ],
          [
           "Johnson, Collin",
           "NYG"
          ],
          [
           "Teamer, Roderic",
           "LVR"
          ],
          [
           "Westry, Chris",
           "BAL"
          ],
          [
           "Hill, Kylin",
           "GBP"
          ],
          [
           "Benson, Trinity",
           "DET"
          ],
          [
           "Harris, Demetrius",
           "ARI"
          ],
          [
           "Gaziano, Joe",
           "LAC"
          ],
          [
           "Holmes, Jalyn",
           "NOS"
          ],
          [
           "Washington, Dwayne",
           "NOS"
          ],
          [
           "Ollison, Qadree",
           "ATL"
          ],
          [
           "Bethel, Justin",
           "NEP"
          ],
          [
           "Fortson, Jody",
           "KCC"
          ],
          [
           "Eguavoen, Sam",
           "MIA"
          ],
          [
           "Arcega-Whiteside, JJ",
           "PHI"
          ],
          [
           "Granson, Kylen",
           "IND"
          ],
          [
           "Ward, Jonathan",
           "ARI"
          ],
          [
           "Dowell, Andrew",
           "NOS"
          ],
          [
           "Johnston, Clay",
           "CIN"
          ],
          [
           "Oliver, Josh",
           "BAL"
          ],
          [
           "Stanford, Julian",
           "CAR"
          ],
          [
           "Stuard, Grant",
           "TBB"
          ],
          [
           "Gallimore, Neville",
           "DAL"
          ],
          [
           "Mims, Denzel",
           "NYJ"
          ],
          [
           "Edwards, Mario",
           "CHI"
          ],
          [
           "Kelley, Joshua",
           "LAC"
          ],
          [
           "Manhertz, Chris",
           "JAC"
          ],
          [
           "Johnson, Patrick",
           "PHI"
          ],
          [
           "Kiser, Micah",
           "DEN"
          ],
          [
           "Melvin, Rashaan",
           "CAR"
          ],
          [
           "Nkemdiche, Robert",
           "SEA"
          ],
          [
           "Russell, Chapelle",
           "JAC"
          ],
          [
           "Smith, Jimmy",
           "BAL"
          ],
          [
           "Vaughters, James",
           "ATL"
          ],
          [
           "Pittman, Anthony",
           "DET"
          ],
          [
           "Robinson, Kenny",
           "CAR"
          ],
          [
           "Morgan, Stanley",
           "CIN"
          ],
          [
           "Sample, Drew",
           "CIN"
          ],
          [
           "Trevathan, Danny",
           "CHI"
          ],
          [
           "Wallace, Tylan",
           "BAL"
          ],
          [
           "Smith, Jeff",
           "NYJ"
          ],
          [
           "Wilkerson, Kristian",
           "NEP"
          ],
          [
           "Adams, Montravius",
           "PIT"
          ],
          [
           "Bronson, Josiah",
           "DAL"
          ],
          [
           "Smith, Shi",
           "CAR"
          ],
          [
           "Bell, Blake",
           "KCC"
          ],
          [
           "Colbert, Adrian",
           "FA"
          ],
          [
           "Crawford, Xavier",
           "CHI"
          ],
          [
           "Gallman, Wayne",
           "MIN"
          ],
          [
           "Sweeney, Tommy",
           "BUF"
          ],
          [
           "Trufant, Desmond",
           "LVR"
          ],
          [
           "Dorsett, Phillip",
           "HOU"
          ],
          [
           "Heath, Jeff",
           "NOS"
          ],
          [
           "Williams, Jonathan",
           "WAS"
          ],
          [
           "Hollister, Jacob",
           "JAC"
          ],
          [
           "Horsted, Jesper",
           "CHI"
          ],
          [
           "Stills, Kenny",
           "NOS"
          ],
          [
           "Huggins, Albert",
           "NOS"
          ],
          [
           "Koonce, Malcolm",
           "LVR"
          ],
          [
           "Nunez-Roches, Rakeem",
           "TBB"
          ],
          [
           "Odeyingbo, Dayo",
           "IND"
          ],
          [
           "Penisini, John",
           "DET"
          ],
          [
           "Ward, Tim",
           "NYJ"
          ],
          [
           "Ximines, Oshane",
           "NYG"
          ],
          [
           "Dodson, Tyrel",
           "BUF"
          ],
          [
           "Lee, Elijah",
           "CLE"
          ],
          [
           "Marshall, Trey",
           "LAC"
          ],
          [
           "Gray, Noah",
           "KCC"
          ],
          [
           "Adams, Matthew",
           "IND"
          ],
          [
           "Dye, Troy",
           "MIN"
          ],
          [
           "Herndon, Tre",
           "JAC"
          ],
          [
           "McCray, Lerentee",
           "JAC"
          ],
          [
           "Pinnock, Jason",
           "NYJ"
          ],
          [
           "Zimmer, Justin",
           "BUF"
          ],
          [
           "Batson, Cameron",
           "TEN"
          ],
          [
           "Fitzpatrick, Dez",
           "TEN"
          ],
          [
           "Smith, Chris",
           "HOU"
          ],
          [
           "Graham, Thomas",
           "CHI"
          ],
          [
           "Mack, Marlon",
           "IND"
          ],
          [
           "Melifonwu, Ifeatu",
           "DET"
          ],
          [
           "Scarlett, Brennan",
           "MIA"
          ],
          [
           "Agim, McTelvin",
           "DEN"
          ],
          [
           "Addae, Jahleel",
           "IND"
          ],
          [
           "Brooks, Terrence",
           "HOU"
          ],
          [
           "Jewell, Josey",
           "DEN"
          ],
          [
           "Sherwood, Jamien",
           "NYJ"
          ],
          [
           "Armah, Alexander",
           "WAS"
          ],
          [
           "Dwelley, Ross",
           "SFO"
          ],
          [
           "Ricard, Patrick",
           "BAL"
          ],
          [
           "Auclair, Antony",
           "HOU"
          ],
          [
           "Butler, Vernon",
           "BUF"
          ],
          [
           "Hunt, Margus",
           "CHI"
          ],
          [
           "Lawrence, Rashard",
           "ARI"
          ],
          [
           "Rhattigan, Jon",
           "SEA"
          ],
          [
           "Tavai, Jahlani",
           "NEP"
          ],
          [
           "Green, T.J.",
           "HOU"
          ],
          [
           "Janovich, Andy",
           "CLE"
          ],
          [
           "Galeai, Tipa",
           "GBP"
          ],
          [
           "Zuniga, Jabari",
           "NYJ"
          ],
          [
           "Allen, Ricardo",
           "CIN"
          ],
          [
           "Davis, Cody",
           "NEP"
          ],
          [
           "Thomas, Joe",
           "FA"
          ],
          [
           "Vallejo, Tanner",
           "ARI"
          ],
          [
           "Reid, John",
           "SEA"
          ],
          [
           "Roach, Malcolm",
           "NOS"
          ],
          [
           "Okwara, Romeo",
           "DET"
          ],
          [
           "Hogan, Chris",
           "FA"
          ],
          [
           "Graham, Ta'Quon",
           "ATL"
          ],
          [
           "Hamilton, Justin",
           "DEN"
          ],
          [
           "Levine, Anthony",
           "FA"
          ],
          [
           "McPhearson, Zech",
           "PHI"
          ],
          [
           "Toney, Shaka",
           "WAS"
          ],
          [
           "Milne, Dax",
           "WAS"
          ],
          [
           "Moore, A.J.",
           "HOU"
          ],
          [
           "Pierre-Louis, Kevin",
           "HOU"
          ],
          [
           "Wesco, Trevon",
           "NYJ"
          ],
          [
           "Smith-Marsette, Ihmir",
           "MIN"
          ],
          [
           "Square, Damion",
           "CIN"
          ],
          [
           "Brown, Tre",
           "SEA"
          ],
          [
           "Christian, Marqui",
           "CHI"
          ],
          [
           "Hairston, Nate",
           "DEN"
          ],
          [
           "Mabin, Greg",
           "TEN"
          ],
          [
           "Hill, K.J.",
           "FA"
          ],
          [
           "Harris, Jonathan",
           "DEN"
          ],
          [
           "Hill, Trysten",
           "DAL"
          ],
          [
           "Johnson, Raymond",
           "NYG"
          ],
          [
           "Smith, Elerson",
           "NYG"
          ],
          [
           "Tupou, Josh",
           "CIN"
          ],
          [
           "Tate, Auden",
           "CIN"
          ],
          [
           "White, Kevin",
           "NOS"
          ],
          [
           "Allen, Dakota",
           "JAC"
          ],
          [
           "Summers, Ty",
           "GBP"
          ],
          [
           "Hoskins, Phil",
           "CAR"
          ],
          [
           "Atwell, Tutu",
           "LAR"
          ],
          [
           "Blake, Christian",
           "ATL"
          ],
          [
           "Davis, Tyler",
           "GBP"
          ],
          [
           "Miller, Anthony",
           "PIT"
          ],
          [
           "Johnson, Tyron",
           "LVR"
          ],
          [
           "Miller, Scott",
           "TBB"
          ],
          [
           "Kumerow, Jake",
           "BUF"
          ],
          [
           "White, Cody",
           "PIT"
          ],
          [
           "Dzubnar, Nick",
           "TEN"
          ],
          [
           "Kennedy, Tom",
           "DET"
          ],
          [
           "Nixon, Keisean",
           "LVR"
          ],
          [
           "Williams, Shawn",
           "ATL"
          ],
          [
           "Yiadom, Isaac",
           "FA"
          ],
          [
           "Gordon, Josh",
           "KCC"
          ],
          [
           "Joseph, Kelvin",
           "DAL"
          ],
          [
           "Dortch, Greg",
           "ARI"
          ],
          [
           "Copeland, Marquise",
           "LAR"
          ],
          [
           "Herndon, Chris",
           "MIN"
          ],
          [
           "Kinlaw, Javon",
           "SFO"
          ],
          [
           "Nixon, Daviyon",
           "CAR"
          ],
          [
           "Odenigbo, Ifeadi",
           "CLE"
          ],
          [
           "Williams, Preston",
           "MIA"
          ],
          [
           "McKeon, Sean",
           "DAL"
          ],
          [
           "Webster, Nsimba",
           "CHI"
          ],
          [
           "Carter, Cethan",
           "MIA"
          ],
          [
           "Austin, Blessuan",
           "SEA"
          ],
          [
           "Chachere, Andre",
           "PHI"
          ],
          [
           "Elliott, Jalen",
           "DET"
          ],
          [
           "Lewis, Cam",
           "BUF"
          ],
          [
           "Munson, Calvin",
           "MIA"
          ],
          [
           "Reed, J.R.",
           "NYG"
          ],
          [
           "Bradley, Ja'Marcus",
           "CLE"
          ],
          [
           "Dunn, Isaiah",
           "NYJ"
          ],
          [
           "Gifford, Luke",
           "DAL"
          ],
          [
           "Gustin, Porter",
           "CLE"
          ],
          [
           "Wallace, K'Von",
           "PHI"
          ],
          [
           "Kareem, Khalid",
           "CIN"
          ],
          [
           "Thomas, Mike",
           "CIN"
          ],
          [
           "Bohanna, Quinton",
           "DAL"
          ],
          [
           "Hoecht, Michael",
           "LAR"
          ],
          [
           "Slater, Matt",
           "NEP"
          ],
          [
           "Wilson, Tavon",
           "SFO"
          ],
          [
           "Marsh, Cassius",
           "CHI"
          ],
          [
           "Davis, Jalen",
           "CIN"
          ],
          [
           "Jones, Jamir",
           "JAC"
          ],
          [
           "Lee, Marquel",
           "LVR"
          ],
          [
           "Walker, Joe",
           "ARI"
          ],
          [
           "Winovich, Chase",
           "NEP"
          ],
          [
           "Horn, Jaycee",
           "CAR"
          ],
          [
           "Farrell, Luke",
           "JAC"
          ],
          [
           "Samuel, Curtis",
           "WAS"
          ],
          [
           "Blair, Marquise",
           "SEA"
          ],
          [
           "Winston, Easop",
           "NOS"
          ],
          [
           "Hamler, KJ",
           "DEN"
          ],
          [
           "Taylor, Malik",
           "GBP"
          ],
          [
           "Thomas, Michael",
           "CIN"
          ],
          [
           "Jones, Taiwan",
           "BUF"
          ],
          [
           "Patrick, Aaron",
           "DEN"
          ],
          [
           "Waynes, Trae",
           "CIN"
          ],
          [
           "Welch, Kristian",
           "BAL"
          ],
          [
           "Wright, Nahshon",
           "DAL"
          ],
          [
           "Dafney, Dominique",
           "GBP"
          ],
          [
           "Smith, Andre",
           "BUF"
          ],
          [
           "Brightwell, Gary",
           "NYG"
          ],
          [
           "Jackson, Deon",
           "IND"
          ],
          [
           "Mack, Isaiah",
           "BAL"
          ],
          [
           "Phillips, Jacob",
           "CLE"
          ],
          [
           "Brown, Cam",
           "NYG"
          ],
          [
           "Everett, Deshazor",
           "WAS"
          ],
          [
           "Harris, Davontae",
           "LAC"
          ],
          [
           "Kamara, Sam",
           "CHI"
          ],
          [
           "Stoll, Jack",
           "PHI"
          ],
          [
           "Collier, L.J.",
           "SEA"
          ],
          [
           "Iyiegbuniwe, Joel",
           "CHI"
          ],
          [
           "Johnson, Caleb",
           "CHI"
          ],
          [
           "Jones, Patrick",
           "MIN"
          ],
          [
           "Murchison, Larrell",
           "TEN"
          ],
          [
           "Griffin, Garrett",
           "NOS"
          ],
          [
           "Myarick, Chris",
           "FA"
          ],
          [
           "Allen, Marcus",
           "PIT"
          ],
          [
           "Boone, Mike",
           "DEN"
          ],
          [
           "Bootle, DiCaprio",
           "KCC"
          ],
          [
           "Goodwin, C.J.",
           "DAL"
          ],
          [
           "Hardee, Justin",
           "NYJ"
          ],
          [
           "Johnson, Jakob",
           "NEP"
          ],
          [
           "King, Brandon",
           "NEP"
          ],
          [
           "McKitty, Tre'",
           "LAC"
          ],
          [
           "Ray, Wyatt",
           "CIN"
          ],
          [
           "Tabor, Teez",
           "CHI"
          ],
          [
           "Taylor, Trent",
           "CIN"
          ],
          [
           "Funk, Jake",
           "LAR"
          ],
          [
           "Smith, Kaden",
           "NYG"
          ],
          [
           "Hall, Kemon",
           "LAC"
          ],
          [
           "Natson, JoJo",
           "FA"
          ],
          [
           "Patmon, Dezmon",
           "IND"
          ],
          [
           "Harris, Trent",
           "NYG"
          ],
          [
           "Jones, Chris",
           "TEN"
          ],
          [
           "Ricci, Giovanni",
           "CAR"
          ],
          [
           "Saunders, Khalen",
           "KCC"
          ],
          [
           "Simon, John",
           "PIT"
          ],
          [
           "Britt, K.J.",
           "TBB"
          ],
          [
           "Hudson, Khaleke",
           "WAS"
          ],
          [
           "Jean-Charles, Shemar",
           "GBP"
          ],
          [
           "Kirkpatrick, Dre",
           "FA"
          ],
          [
           "Redwine, Sheldrick",
           "MIA"
          ],
          [
           "Thompson, Deionte",
           "ARI"
          ],
          [
           "Blanton, Kendall",
           "LAR"
          ],
          [
           "Bower, Tashawn",
           "MIN"
          ],
          [
           "Tomlinson, Eric",
           "BAL"
          ],
          [
           "Ballage, Kalen",
           "PIT"
          ],
          [
           "Banjo, Chris",
           "ARI"
          ],
          [
           "Hesse, Parker",
           "ATL"
          ],
          [
           "Parks, Will",
           "NYJ"
          ],
          [
           "Winfree, Juwann",
           "GBP"
          ],
          [
           "Ford, Mike",
           "DEN"
          ],
          [
           "Igbinoghene, Noah",
           "MIA"
          ],
          [
           "Irvin, Bruce",
           "CHI"
          ],
          [
           "Nasirildeen, Hamsah",
           "NYJ"
          ],
          [
           "Peterson, Kevin",
           "FA"
          ],
          [
           "Strong, Kevin",
           "TEN"
          ],
          [
           "Worley, Daryl",
           "FA"
          ],
          [
           "Howell, Buddy",
           "LAR"
          ],
          [
           "Stanton, Johnny",
           "CLE"
          ],
          [
           "Apke, Troy",
           "WAS"
          ],
          [
           "Borders, Breon",
           "ARI"
          ],
          [
           "Lammons, Chris",
           "KCC"
          ],
          [
           "Metellus, Josh",
           "MIN"
          ],
          [
           "Fuller, Will",
           "MIA"
          ],
          [
           "Moore, Jason",
           "LAC"
          ],
          [
           "Darby, Frank",
           "ATL"
          ],
          [
           "Fells, Darren",
           "TBB"
          ],
          [
           "Smith, Rodney",
           "FA"
          ],
          [
           "Breeze, Brady",
           "DET"
          ],
          [
           "Locke, P.J.",
           "DEN"
          ],
          [
           "O'Daniel, Dorian",
           "KCC"
          ],
          [
           "Scott, Josiah",
           "PHI"
          ],
          [
           "Gilliam, Reggie",
           "BUF"
          ],
          [
           "Sprinkle, Jeremy",
           "DAL"
          ],
          [
           "Adams, Tyrell",
           "JAC"
          ],
          [
           "Daniels, Darrell",
           "ARI"
          ],
          [
           "Davis, Carlos",
           "PIT"
          ],
          [
           "Kerr, Zach",
           "CIN"
          ],
          [
           "Parker, Steven",
           "NYG"
          ],
          [
           "Brown, Daniel",
           "NYJ"
          ],
          [
           "Rader, Kevin",
           "PIT"
          ],
          [
           "Snead, Willie",
           "FA"
          ],
          [
           "Smallwood, Wendell",
           "FA"
          ],
          [
           "McFarland, Anthony",
           "PIT"
          ],
          [
           "Montgomery, D.J.",
           "NYJ"
          ],
          [
           "Nabers, Gabe",
           "LAC"
          ],
          [
           "Yeboah, Kenny",
           "NYJ"
          ],
          [
           "Bates, Daren",
           "ATL"
          ],
          [
           "Glasgow, Jordan",
           "IND"
          ],
          [
           "Hand, Harrison",
           "MIN"
          ],
          [
           "Jones, Josh",
           "FA"
          ],
          [
           "Roberts, Darryl",
           "WAS"
          ],
          [
           "Thomas-Oliver, Stantley",
           "CAR"
          ],
          [
           "Isabella, Andy",
           "ARI"
          ],
          [
           "Carrier, Derek",
           "LVR"
          ],
          [
           "Hollister, Cody",
           "TEN"
          ],
          [
           "Fejedelem, Clayton",
           "MIA"
          ],
          [
           "Alualu, Tyson",
           "PIT"
          ],
          [
           "Cleveland, Tyrie",
           "DEN"
          ],
          [
           "Cracraft, River",
           "FA"
          ],
          [
           "Elder, Corn",
           "WAS"
          ],
          [
           "Farley, Caleb",
           "TEN"
          ],
          [
           "Woods, Antwaun",
           "IND"
          ],
          [
           "Canady, Maurice",
           "DAL"
          ],
          [
           "Ferguson, Jaylon",
           "BAL"
          ],
          [
           "Gillespie, Tyree",
           "LVR"
          ],
          [
           "Hughes, Juju",
           "DET"
          ],
          [
           "Miller, Herb",
           "CLE"
          ],
          [
           "Smith, Ryan",
           "LAC"
          ],
          [
           "Smith, Tye",
           "FA"
          ],
          [
           "Ballentine, Corey",
           "ATL"
          ],
          [
           "Irwin, Trenton",
           "CIN"
          ],
          [
           "Bandy, Michael",
           "LAC"
          ],
          [
           "Zylstra, Shane",
           "DET"
          ],
          [
           "Okudah, Jeff",
           "DET"
          ],
          [
           "Hudson, Tommy",
           "TEN"
          ],
          [
           "Parkinson, Colby",
           "SEA"
          ],
          [
           "Anderson, Henry",
           "NEP"
          ],
          [
           "Carter, Tory",
           "TEN"
          ],
          [
           "Coughlin, Carter",
           "NYG"
          ],
          [
           "Evans, Jordan",
           "CIN"
          ],
          [
           "Holtz, J.P.",
           "CHI"
          ],
          [
           "Jones, Joseph",
           "TEN"
          ],
          [
           "Kerrigan, Ryan",
           "PHI"
          ],
          [
           "McDougald, Bradley",
           "FA"
          ],
          [
           "Taylor, Patrick",
           "GBP"
          ],
          [
           "Verrett, Jason",
           "SFO"
          ],
          [
           "McMath, Racey",
           "TEN"
          ],
          [
           "Arnette, Damon",
           "KCC"
          ],
          [
           "Nall, Ryan",
           "CHI"
          ],
          [
           "Williams, Trayveon",
           "CIN"
          ],
          [
           "Newsome, Dazz",
           "CHI"
          ],
          [
           "Barner, Kenjon",
           "TBB"
          ],
          [
           "Samuels, Jaylen",
           "ARI"
          ],
          [
           "Burgess, Terrell",
           "LAR"
          ],
          [
           "Kunaszyk, Jordan",
           "WAS"
          ],
          [
           "Orr, Kareem",
           "LAR"
          ],
          [
           "Robey, Nickell",
           "FA"
          ],
          [
           "Robinson, Rashard",
           "TBB"
          ],
          [
           "Turner, Zeke",
           "ARI"
          ],
          [
           "Prentice, Adam",
           "NOS"
          ],
          [
           "Stocker, Luke",
           "MIN"
          ],
          [
           "Armstead, Ryquell",
           "JAC"
          ],
          [
           "Adams, Myles",
           "SEA"
          ],
          [
           "Chisena, Dan",
           "MIN"
          ],
          [
           "Hamlin, Damar",
           "BUF"
          ],
          [
           "O'Connor, Pat",
           "TBB"
          ],
          [
           "Kirkwood, Keith",
           "FA"
          ],
          [
           "Perine, Lamical",
           "NYJ"
          ],
          [
           "Strachan, Mike",
           "IND"
          ],
          [
           "Evans, Darrynton",
           "TEN"
          ],
          [
           "Cashman, Blake",
           "NYJ"
          ],
          [
           "Fields, Tony",
           "CLE"
          ],
          [
           "Forrest, Darrick",
           "WAS"
          ],
          [
           "Muse, Tanner",
           "SEA"
          ],
          [
           "Rozeboom, Christian",
           "LAR"
          ],
          [
           "Sheffield, Kendall",
           "ATL"
          ],
          [
           "Thompson, Darian",
           "FA"
          ],
          [
           "Washington, Charles",
           "ARI"
          ],
          [
           "Webb, Mark",
           "LAC"
          ],
          [
           "Phillips, Scottie",
           "HOU"
          ],
          [
           "Williams, Seth",
           "DEN"
          ],
          [
           "Williams, Pooka",
           "FA"
          ],
          [
           "Akinmoladun, Freedom",
           "FA"
          ],
          [
           "Anae, Bradlee",
           "NYJ"
          ],
          [
           "Cominsky, John",
           "ATL"
          ],
          [
           "Gillaspia, Cullen",
           "NYG"
          ],
          [
           "Graham, Brandon",
           "PHI"
          ],
          [
           "Hand, Da'Shawn",
           "TEN"
          ],
          [
           "Hurst, Maurice",
           "SFO"
          ],
          [
           "Tuipulotu, Marlon",
           "PHI"
          ],
          [
           "Urban, Brent",
           "DAL"
          ],
          [
           "Wilcox, Mitchell",
           "CIN"
          ],
          [
           "Mundt, Johnny",
           "LAR"
          ],
          [
           "Laird, Patrick",
           "MIA"
          ],
          [
           "Bernard, Francis",
           "DAL"
          ],
          [
           "Brooks, Antoine",
           "FA"
          ],
          [
           "Connelly, Ryan",
           "MIN"
          ],
          [
           "Hamilton, La'Darius",
           "GBP"
          ],
          [
           "Jackson, Josh",
           "FA"
          ],
          [
           "Kamara, Azur",
           "CAR"
          ],
          [
           "LeCounte, Richard",
           "CLE"
          ],
          [
           "Sills, David",
           "NYG"
          ],
          [
           "Blasingame, Khari",
           "TEN"
          ],
          [
           "Cottrell, Nathan",
           "JAC"
          ],
          [
           "Williams, Tyrell",
           "FA"
          ],
          [
           "Wilkins, Jordan",
           "FA"
          ],
          [
           "Joseph, Karl",
           "FA"
          ],
          [
           "Moore, David",
           "GBP"
          ],
          [
           "Banogu, Ben",
           "IND"
          ],
          [
           "Bledsoe, Amani",
           "FA"
          ],
          [
           "Campbell, Elijah",
           "MIA"
          ],
          [
           "Cox, Jabril",
           "DAL"
          ],
          [
           "Ebner, Nate",
           "NYG"
          ],
          [
           "Fitts, Kylie",
           "ARI"
          ],
          [
           "Johnson, Buddy",
           "PIT"
          ],
          [
           "Langi, Harvey",
           "NEP"
          ],
          [
           "Marshall, Jonathan",
           "NYJ"
          ],
          [
           "Martin, Kamal",
           "CAR"
          ],
          [
           "Nickerson, Hardy",
           "HOU"
          ],
          [
           "Perry, Jamal",
           "MIA"
          ],
          [
           "Taylor, Vincent",
           "HOU"
          ],
          [
           "Helm, Daniel",
           "ATL"
          ],
          [
           "Benjamin, Travis",
           "SFO"
          ],
          [
           "Ffrench, Maurice",
           "LAC"
          ],
          [
           "Bonnafon, Reggie",
           "WAS"
          ],
          [
           "Wolf, Ethan",
           "NOS"
          ],
          [
           "Jackson, Michael",
           "SEA"
          ],
          [
           "Davis, Davion",
           "HOU"
          ],
          [
           "Ragas, Trey",
           "LVR"
          ],
          [
           "Bawden, Nick",
           "NYJ"
          ],
          [
           "Mostert, Raheem",
           "SFO"
          ],
          [
           "Merritt, Kirk",
           "NOS"
          ],
          [
           "Attaochu, Jeremiah",
           "CHI"
          ],
          [
           "Biegel, Vince",
           "MIA"
          ],
          [
           "Dennard, Darqueze",
           "SFO"
          ],
          [
           "Dimukeje, Victor",
           "ARI"
          ],
          [
           "Egbule, Emeke",
           "LAC"
          ],
          [
           "Giles-Harris, Joe",
           "BUF"
          ],
          [
           "Nzeocha, Mark",
           "SFO"
          ],
          [
           "Bachman, Alex",
           "NYG"
          ],
          [
           "Baker, Kawaan",
           "NOS"
          ],
          [
           "Beck, Andrew",
           "DEN"
          ],
          [
           "Brown, Andrew",
           "LAC"
          ],
          [
           "Costin, Doug",
           "FA"
          ],
          [
           "Fountain, Daurice",
           "KCC"
          ],
          [
           "Hall, Marvin",
           "FA"
          ],
          [
           "Reyes, Sammis",
           "WAS"
          ],
          [
           "Smith, Sutton",
           "LVR"
          ],
          [
           "Spence, Noah",
           "CIN"
          ],
          [
           "Stoner, Dillon",
           "LVR"
          ],
          [
           "Thompson, Colin",
           "CAR"
          ],
          [
           "Thurman, Nick",
           "ATL"
          ],
          [
           "Weaver, Rashad",
           "TEN"
          ],
          [
           "Hopkins, Brycen",
           "LAR"
          ],
          [
           "Pierce, Artavis",
           "FA"
          ],
          [
           "Long, Hunter",
           "MIA"
          ],
          [
           "Hardy, JaQuan",
           "DAL"
          ],
          [
           "Kelly, John",
           "CLE"
          ],
          [
           "Sargent, Mekhi",
           "JAC"
          ],
          [
           "Boykin, Miles",
           "BAL"
          ],
          [
           "Patrick, Jacques",
           "FA"
          ],
          [
           "Bassey, Essang",
           "FA"
          ],
          [
           "Beal, Sam",
           "FA"
          ],
          [
           "Christiansen, Cole",
           "LAC"
          ],
          [
           "Coutee, Keke",
           "IND"
          ],
          [
           "Crawley, Ken",
           "NOS"
          ],
          [
           "Gowan, Tay",
           "PHI"
          ],
          [
           "Harris, Darius",
           "KCC"
          ],
          [
           "Joyner, Lamarcus",
           "NYJ"
          ],
          [
           "Keyes, Thakarius",
           "CHI"
          ],
          [
           "McDuffie, Isaiah",
           "GBP"
          ],
          [
           "Scott, Vernon",
           "GBP"
          ],
          [
           "Smith, Jordan",
           "JAC"
          ],
          [
           "Smith, Za'Darius",
           "GBP"
          ],
          [
           "Stevens, JaCoby",
           "PHI"
          ],
          [
           "Williams, Rodarius",
           "NYG"
          ],
          [
           "Crockett, Damarea",
           "DEN"
          ],
          [
           "Boyle, Nick",
           "BAL"
          ],
          [
           "Ozigbo, Devine",
           "NEP"
          ],
          [
           "Akers, Landen",
           "LAR"
          ],
          [
           "Billings, Andrew",
           "FA"
          ],
          [
           "Bradley-King, William",
           "WAS"
          ],
          [
           "Brown, Bobby",
           "LAR"
          ],
          [
           "Cole, Matt",
           "SEA"
          ],
          [
           "Forristall, Miller",
           "CLE"
          ],
          [
           "Hill, Brian",
           "FA"
          ],
          [
           "Ralston, Nick",
           "DAL"
          ],
          [
           "Sheard, Jabaal",
           "FA"
          ],
          [
           "Spencer, Marquiss",
           "DEN"
          ],
          [
           "Thompson, Cody",
           "SEA"
          ],
          [
           "Tufele, Jay",
           "JAC"
          ],
          [
           "Williams, Xavier",
           "FA"
          ],
          [
           "Yelder, Deon",
           "ARI"
          ],
          [
           "Davis, Shawn",
           "GBP"
          ],
          [
           "Etheridge, Dorian",
           "ATL"
          ],
          [
           "Lawler, Justin",
           "FA"
          ],
          [
           "Moreland, Jimmy",
           "HOU"
          ],
          [
           "Wade, Shaun",
           "NEP"
          ],
          [
           "Washington, Ar'Darius",
           "BAL"
          ],
          [
           "Wildgoose, Rachad",
           "NYJ"
          ],
          [
           "Hightower, John",
           "PHI"
          ],
          [
           "McCrary, Nate",
           "BAL"
          ],
          [
           "Adams, Josh",
           "NOS"
          ],
          [
           "Adams, Rodney",
           "NYJ"
          ],
          [
           "Akers, Cam",
           "LAR"
          ],
          [
           "Allison, Geronimo",
           "FA"
          ],
          [
           "Asiasi, Devin",
           "NEP"
          ],
          [
           "Ateman, Marcell",
           "FA"
          ],
          [
           "Bell, Quinton",
           "ATL"
          ],
          [
           "Bowers, Nick",
           "LVR"
          ],
          [
           "Bradwell, Darius",
           "CAR"
          ],
          [
           "Brown, John",
           "TBB"
          ],
          [
           "Brown, Spencer",
           "CAR"
          ],
          [
           "Brown, Tony",
           "FA"
          ],
          [
           "Bushman, Matt",
           "KCC"
          ],
          [
           "Cager, Lawrence",
           "NYJ"
          ],
          [
           "Camp, Jalen",
           "HOU"
          ],
          [
           "Campbell, Ibraheim",
           "IND"
          ],
          [
           "Carter, Ron'Dell",
           "HOU"
          ],
          [
           "Clinton-Dix, Ha Ha",
           "FA"
          ],
          [
           "Cohen, Tarik",
           "CHI"
          ],
          [
           "Compton, Will",
           "FA"
          ],
          [
           "Cornell, Jashon",
           "DET"
          ],
          [
           "Coulter, Isaiah",
           "CHI"
          ],
          [
           "Cox, Bryan",
           "BUF"
          ],
          [
           "Curry, Vinny",
           "FA"
          ],
          [
           "Daniels, Mike",
           "CIN"
          ],
          [
           "Davis, Khalil",
           "PIT"
          ],
          [
           "Davis, Sean",
           "FA"
          ],
          [
           "Davis, Tae",
           "HOU"
          ],
          [
           "Dawson, Duke",
           "FA"
          ],
          [
           "Dillon, Brandon",
           "NYJ"
          ],
          [
           "Doaks, Gerrid",
           "MIA"
          ],
          [
           "Edmunds, Trey",
           "PIT"
          ],
          [
           "Ellefson, Ben",
           "MIN"
          ],
          [
           "Fehoko, Simi",
           "DAL"
          ],
          [
           "Frazier, Kavon",
           "LVR"
          ],
          [
           "Fulgham, Travis",
           "DEN"
          ],
          [
           "Gandy-Golden, Antonio",
           "WAS"
          ],
          [
           "Garrett, Chris",
           "LAR"
          ],
          [
           "Haley, Grant",
           "LAR"
          ],
          [
           "Harper, Madre",
           "CAR"
          ],
          [
           "Harris, De'Michael",
           "IND"
          ],
          [
           "Harris, Demone",
           "HOU"
          ],
          [
           "Harris, Jacob",
           "LAR"
          ],
          [
           "Hayden, D.J.",
           "WAS"
          ],
          [
           "Hayes, Daelin",
           "BAL"
          ],
          [
           "Hemingway, Temarrick",
           "FA"
          ],
          [
           "Hill, Holton",
           "FA"
          ],
          [
           "Hilliard, Justin",
           "NYG"
          ],
          [
           "Hodge, Darius",
           "MIA"
          ],
          [
           "Hodgins, Isaiah",
           "BUF"
          ],
          [
           "Hubert, Wyatt",
           "CIN"
          ],
          [
           "Hudson, Tanner",
           "SFO"
          ],
          [
           "Hurns, Allen",
           "MIA"
          ],
          [
           "Jackson, Lamar",
           "CHI"
          ],
          [
           "Jackson, Tyree",
           "PHI"
          ],
          [
           "Jefferson, Malik",
           "IND"
          ],
          [
           "Johnson, Darryl",
           "CAR"
          ],
          [
           "Johnson, Jamar",
           "DEN"
          ],
          [
           "Johnson, Josh",
           "SEA"
          ],
          [
           "Johnson, Kerryon",
           "FA"
          ],
          [
           "Kaindoh, Joshua",
           "KCC"
          ],
          [
           "Kinsey, Mason",
           "TEN"
          ],
          [
           "LaCosse, Matt",
           "FA"
          ],
          [
           "Lawson, Carl",
           "NYJ"
          ],
          [
           "Ledbetter, Jeremiah",
           "JAC"
          ],
          [
           "Lucas, Jordan",
           "IND"
          ],
          [
           "March, Justin",
           "LVR"
          ],
          [
           "Matthews, Jordan",
           "SFO"
          ],
          [
           "McCoy, Gerald",
           "LVR"
          ],
          [
           "McElroy, Codey",
           "TBB"
          ],
          [
           "McGill, T.Y.",
           "FA"
          ],
          [
           "McGrone, Cameron",
           "NEP"
          ],
          [
           "McGuire, Elijah",
           "FA"
          ],
          [
           "Miller, Jordan",
           "NOS"
          ],
          [
           "Moses, Dylan",
           "JAC"
          ],
          [
           "Motley, Parnell",
           "DET"
          ],
          [
           "Mukuamu, Israel",
           "DAL"
          ],
          [
           "Ojemudia, Michael",
           "DEN"
          ],
          [
           "Olonilua, Sewo",
           "DAL"
          ],
          [
           "Onwuasor, Patrick",
           "LVR"
          ],
          [
           "Orchard, Nate",
           "WAS"
          ],
          [
           "Parker, Aaron",
           "CAR"
          ],
          [
           "Pinkney, Jared",
           "DET"
          ],
          [
           "Poljan, Tony",
           "BAL"
          ],
          [
           "Poole, Brian",
           "FA"
          ],
          [
           "Pride, Troy",
           "CAR"
          ],
          [
           "Quessenberry, Paul",
           "HOU"
          ],
          [
           "Redmond, Will",
           "IND"
          ],
          [
           "Rodgers, Richard",
           "PHI"
          ],
          [
           "Scarlett, Jordan",
           "FA"
          ],
          [
           "Schreck, Mason",
           "CIN"
          ],
          [
           "Shelvin, Tyler",
           "CIN"
          ],
          [
           "Sims, Steven",
           "PIT"
          ],
          [
           "Smith, Devin",
           "FA"
          ],
          [
           "Smith, Vyncint",
           "TBB"
          ],
          [
           "Snowden, Charles",
           "CHI"
          ],
          [
           "Sullivan, Stephen",
           "CAR"
          ],
          [
           "Surratt, Chazz",
           "MIN"
          ],
          [
           "Tell, Marvell",
           "FA"
          ],
          [
           "Thompson, Darwin",
           "KCC"
          ],
          [
           "Thompson, Tedric",
           "FA"
          ],
          [
           "Travis, Ross",
           "FA"
          ],
          [
           "Vickers, Kendal",
           "LVR"
          ],
          [
           "Vincent, Kary",
           "PHI"
          ],
          [
           "Warring, Kahale",
           "JAC"
          ],
          [
           "Watson, Justin",
           "KCC"
          ],
          [
           "Weaver, Curtis",
           "CLE"
          ],
          [
           "White, Javin",
           "NYJ"
          ],
          [
           "Whitehead, Tahir",
           "FA"
          ],
          [
           "Wiggins, James",
           "ARI"
          ],
          [
           "Williamson, Avery",
           "FA"
          ],
          [
           "Winchester, James",
           "KCC"
          ],
          [
           "Wreh-Wilson, Blidi",
           "FA"
          ]
         ],
         "hovertemplate": "Position=%{x}<br>Salary=%{y}<br>Player=%{customdata[0]}<br>Team=%{customdata[1]}<extra></extra>",
         "legendgroup": "",
         "marker": {
          "color": "#636efa"
         },
         "name": "",
         "notched": false,
         "offsetgroup": "",
         "orientation": "v",
         "showlegend": false,
         "type": "box",
         "x": [
          "TMQB",
          "TMQB",
          "TMQB",
          "TMQB",
          "TMQB",
          "TMQB",
          "TMQB",
          "TMQB",
          "TMQB",
          "TMQB",
          "TMQB",
          "TMQB",
          "WR",
          "TMQB",
          "RB",
          "TMQB",
          "TMQB",
          "TMQB",
          "TMQB",
          "TMQB",
          "TMQB",
          "TMQB",
          "TMQB",
          "TMQB",
          "TMQB",
          "TMQB",
          "WR",
          "TMQB",
          "RB",
          "WR",
          "TMQB",
          "RB",
          "TMQB",
          "RB",
          "TMQB",
          "TMQB",
          "TMQB",
          "WR",
          "WR",
          "WR",
          "TMQB",
          "TMQB",
          "TE",
          "WR",
          "WR",
          "RB",
          "WR",
          "WR",
          "RB",
          "WR",
          "RB",
          "TE",
          "WR",
          "RB",
          "LB",
          "WR",
          "WR",
          "RB",
          "WR",
          "RB",
          "WR",
          "RB",
          "WR",
          "TMPN",
          "DT",
          "RB",
          "WR",
          "TMPN",
          "RB",
          "RB",
          "WR",
          "LB",
          "WR",
          "WR",
          "LB",
          "WR",
          "DE",
          "RB",
          "RB",
          "LB",
          "LB",
          "LB",
          "WR",
          "DE",
          "TMPN",
          "TMPN",
          "RB",
          "LB",
          "LB",
          "RB",
          "WR",
          "WR",
          "LB",
          "DE",
          "LB",
          "WR",
          "WR",
          "RB",
          "TMPN",
          "TMPN",
          "WR",
          "RB",
          "RB",
          "LB",
          "LB",
          "WR",
          "RB",
          "DE",
          "TE",
          "RB",
          "TE",
          "RB",
          "LB",
          "WR",
          "DE",
          "WR",
          "TMPN",
          "WR",
          "LB",
          "TMPN",
          "RB",
          "TMPN",
          "RB",
          "LB",
          "WR",
          "WR",
          "TMPN",
          "LB",
          "LB",
          "DE",
          "LB",
          "LB",
          "WR",
          "TE",
          "TMPN",
          "RB",
          "TMPN",
          "WR",
          "TMPN",
          "S",
          "RB",
          "S",
          "S",
          "TMPN",
          "WR",
          "TMPN",
          "DE",
          "TMPN",
          "TMPN",
          "S",
          "CB",
          "DE",
          "S",
          "TMPN",
          "TMPN",
          "DT",
          "CB",
          "TMPN",
          "TMPN",
          "TMPK",
          "LB",
          "LB",
          "TE",
          "TE",
          "WR",
          "WR",
          "TE",
          "TE",
          "DE",
          "TMPK",
          "DE",
          "WR",
          "LB",
          "LB",
          "TMPK",
          "RB",
          "TMPN",
          "DE",
          "TMPN",
          "LB",
          "DE",
          "TMPN",
          "TE",
          "WR",
          "TMPN",
          "S",
          "TMPN",
          "TMPN",
          "TMPK",
          "WR",
          "S",
          "TMPK",
          "S",
          "DT",
          "LB",
          "TMPK",
          "WR",
          "CB",
          "S",
          "S",
          "DT",
          "LB",
          "WR",
          "S",
          "LB",
          "S",
          "RB",
          "TMPN",
          "S",
          "S",
          "RB",
          "LB",
          "WR",
          "WR",
          "WR",
          "TMPN",
          "RB",
          "DT",
          "WR",
          "S",
          "WR",
          "TE",
          "RB",
          "DT",
          "TE",
          "LB",
          "RB",
          "TMPK",
          "S",
          "CB",
          "TMPK",
          "TE",
          "WR",
          "DE",
          "LB",
          "TMPK",
          "TMPK",
          "S",
          "LB",
          "WR",
          "WR",
          "S",
          "LB",
          "LB",
          "LB",
          "WR",
          "TMPK",
          "RB",
          "LB",
          "WR",
          "CB",
          "TMPN",
          "TE",
          "RB",
          "WR",
          "CB",
          "TMPK",
          "S",
          "LB",
          "LB",
          "CB",
          "S",
          "TMPK",
          "S",
          "TE",
          "WR",
          "S",
          "S",
          "TMPK",
          "RB",
          "S",
          "WR",
          "LB",
          "LB",
          "LB",
          "WR",
          "LB",
          "LB",
          "S",
          "LB",
          "RB",
          "WR",
          "CB",
          "RB",
          "TMPK",
          "CB",
          "LB",
          "S",
          "RB",
          "S",
          "TMPK",
          "TMPN",
          "LB",
          "TMPK",
          "RB",
          "WR",
          "TE",
          "LB",
          "RB",
          "DT",
          "DT",
          "WR",
          "DE",
          "S",
          "RB",
          "TMPK",
          "S",
          "RB",
          "S",
          "DE",
          "DE",
          "TE",
          "WR",
          "TMPK",
          "DE",
          "DE",
          "CB",
          "RB",
          "DE",
          "CB",
          "CB",
          "S",
          "DT",
          "TMPK",
          "DE",
          "CB",
          "DE",
          "S",
          "TMPK",
          "CB",
          "CB",
          "CB",
          "DT",
          "WR",
          "S",
          "LB",
          "TE",
          "DE",
          "LB",
          "WR",
          "WR",
          "TE",
          "CB",
          "S",
          "LB",
          "DE",
          "CB",
          "DE",
          "RB",
          "CB",
          "WR",
          "S",
          "CB",
          "DE",
          "WR",
          "LB",
          "CB",
          "S",
          "DT",
          "CB",
          "DE",
          "LB",
          "DT",
          "S",
          "DE",
          "S",
          "RB",
          "LB",
          "RB",
          "DE",
          "DE",
          "TE",
          "TMPK",
          "RB",
          "WR",
          "LB",
          "S",
          "LB",
          "DE",
          "TE",
          "S",
          "WR",
          "RB",
          "WR",
          "LB",
          "CB",
          "RB",
          "TMPK",
          "TMPK",
          "S",
          "LB",
          "RB",
          "RB",
          "LB",
          "DT",
          "LB",
          "LB",
          "WR",
          "RB",
          "CB",
          "LB",
          "TMPK",
          "WR",
          "DE",
          "LB",
          "TMPN",
          "CB",
          "RB",
          "WR",
          "DE",
          "CB",
          "DT",
          "WR",
          "LB",
          "LB",
          "CB",
          "LB",
          "DT",
          "TE",
          "CB",
          "TMPK",
          "DE",
          "S",
          "DE",
          "WR",
          "CB",
          "DE",
          "DT",
          "DE",
          "DT",
          "CB",
          "RB",
          "CB",
          "WR",
          "DT",
          "LB",
          "DE",
          "CB",
          "CB",
          "S",
          "DT",
          "WR",
          "CB",
          "S",
          "TE",
          "LB",
          "RB",
          "DE",
          "DE",
          "RB",
          "WR",
          "CB",
          "CB",
          "CB",
          "TMPK",
          "LB",
          "CB",
          "CB",
          "S",
          "WR",
          "LB",
          "WR",
          "DT",
          "DE",
          "S",
          "DE",
          "WR",
          "S",
          "CB",
          "WR",
          "S",
          "S",
          "CB",
          "DT",
          "TMPK",
          "RB",
          "CB",
          "WR",
          "DT",
          "WR",
          "DE",
          "S",
          "DE",
          "S",
          "LB",
          "S",
          "LB",
          "TE",
          "CB",
          "S",
          "LB",
          "S",
          "RB",
          "S",
          "TMPK",
          "TMPK",
          "S",
          "RB",
          "WR",
          "LB",
          "WR",
          "S",
          "S",
          "DT",
          "DE",
          "LB",
          "DT",
          "LB",
          "LB",
          "TMPK",
          "RB",
          "RB",
          "DT",
          "WR",
          "TE",
          "DT",
          "WR",
          "CB",
          "CB",
          "DT",
          "WR",
          "CB",
          "DT",
          "LB",
          "WR",
          "DT",
          "LB",
          "CB",
          "CB",
          "DT",
          "S",
          "DT",
          "CB",
          "CB",
          "S",
          "LB",
          "S",
          "DE",
          "S",
          "S",
          "DE",
          "LB",
          "WR",
          "DT",
          "S",
          "DE",
          "DT",
          "S",
          "S",
          "LB",
          "WR",
          "LB",
          "DT",
          "LB",
          "CB",
          "LB",
          "DT",
          "CB",
          "RB",
          "RB",
          "WR",
          "DE",
          "RB",
          "CB",
          "CB",
          "WR",
          "DE",
          "CB",
          "LB",
          "WR",
          "CB",
          "S",
          "DE",
          "S",
          "RB",
          "RB",
          "S",
          "DT",
          "WR",
          "DT",
          "WR",
          "DT",
          "LB",
          "CB",
          "LB",
          "CB",
          "DE",
          "LB",
          "WR",
          "CB",
          "S",
          "DE",
          "WR",
          "WR",
          "CB",
          "CB",
          "LB",
          "S",
          "DT",
          "CB",
          "TE",
          "WR",
          "DT",
          "S",
          "DT",
          "CB",
          "DE",
          "CB",
          "DE",
          "TE",
          "WR",
          "TE",
          "TE",
          "LB",
          "CB",
          "S",
          "S",
          "DE",
          "CB",
          "TE",
          "DE",
          "DE",
          "WR",
          "S",
          "DT",
          "CB",
          "WR",
          "LB",
          "TE",
          "TMPK",
          "WR",
          "LB",
          "RB",
          "DT",
          "RB",
          "CB",
          "DT",
          "CB",
          "LB",
          "WR",
          "CB",
          "TE",
          "LB",
          "CB",
          "CB",
          "WR",
          "TE",
          "CB",
          "CB",
          "DE",
          "TE",
          "TE",
          "DT",
          "CB",
          "DT",
          "DE",
          "DE",
          "DT",
          "CB",
          "WR",
          "RB",
          "DE",
          "CB",
          "DT",
          "DT",
          "S",
          "CB",
          "DT",
          "DT",
          "DT",
          "DT",
          "CB",
          "DE",
          "WR",
          "TE",
          "LB",
          "CB",
          "DT",
          "DE",
          "WR",
          "RB",
          "DE",
          "WR",
          "CB",
          "DT",
          "LB",
          "CB",
          "CB",
          "CB",
          "CB",
          "DE",
          "WR",
          "WR",
          "DE",
          "DE",
          "WR",
          "S",
          "S",
          "DT",
          "DT",
          "LB",
          "TE",
          "RB",
          "DT",
          "DE",
          "DT",
          "WR",
          "S",
          "DE",
          "CB",
          "CB",
          "DT",
          "DT",
          "DT",
          "S",
          "DT",
          "LB",
          "LB",
          "DE",
          "LB",
          "CB",
          "CB",
          "LB",
          "LB",
          "TE",
          "CB",
          "CB",
          "CB",
          "RB",
          "S",
          "WR",
          "S",
          "DE",
          "LB",
          "CB",
          "CB",
          "S",
          "CB",
          "S",
          "DE",
          "WR",
          "CB",
          "WR",
          "DE",
          "LB",
          "TE",
          "DT",
          "WR",
          "RB",
          "RB",
          "DE",
          "RB",
          "CB",
          "S",
          "LB",
          "RB",
          "S",
          "DE",
          "CB",
          "CB",
          "RB",
          "RB",
          "CB",
          "LB",
          "LB",
          "WR",
          "RB",
          "DE",
          "WR",
          "LB",
          "DE",
          "TE",
          "TE",
          "DE",
          "DE",
          "S",
          "TE",
          "RB",
          "TE",
          "RB",
          "LB",
          "DT",
          "CB",
          "LB",
          "WR",
          "DT",
          "DT",
          "TE",
          "DE",
          "TE",
          "WR",
          "CB",
          "DT",
          "LB",
          "DE",
          "TE",
          "LB",
          "DE",
          "CB",
          "LB",
          "RB",
          "LB",
          "WR",
          "S",
          "DE",
          "CB",
          "CB",
          "DT",
          "DE",
          "CB",
          "S",
          "DT",
          "TE",
          "S",
          "DT",
          "CB",
          "DE",
          "S",
          "LB",
          "TE",
          "TE",
          "DE",
          "LB",
          "WR",
          "WR",
          "RB",
          "TE",
          "WR",
          "WR",
          "DE",
          "RB",
          "CB",
          "CB",
          "WR",
          "S",
          "TE",
          "S",
          "CB",
          "DE",
          "DE",
          "DE",
          "WR",
          "DE",
          "DT",
          "LB",
          "DE",
          "LB",
          "DT",
          "CB",
          "RB",
          "LB",
          "DE",
          "CB",
          "DE",
          "TE",
          "DE",
          "CB",
          "LB",
          "DE",
          "DT",
          "TE",
          "LB",
          "DT",
          "WR",
          "CB",
          "DT",
          "RB",
          "S",
          "DE",
          "DT",
          "LB",
          "DT",
          "WR",
          "LB",
          "S",
          "TE",
          "WR",
          "CB",
          "LB",
          "DT",
          "DE",
          "TE",
          "CB",
          "LB",
          "RB",
          "S",
          "DT",
          "DE",
          "CB",
          "LB",
          "RB",
          "CB",
          "WR",
          "WR",
          "DE",
          "DT",
          "S",
          "CB",
          "TE",
          "WR",
          "DE",
          "RB",
          "TE",
          "WR",
          "LB",
          "LB",
          "S",
          "TE",
          "DT",
          "LB",
          "CB",
          "WR",
          "RB",
          "LB",
          "WR",
          "WR",
          "RB",
          "CB",
          "WR",
          "LB",
          "CB",
          "DT",
          "TE",
          "DT",
          "WR",
          "DT",
          "DT",
          "LB",
          "RB",
          "LB",
          "CB",
          "LB",
          "CB",
          "DE",
          "LB",
          "RB",
          "WR",
          "LB",
          "DE",
          "RB",
          "DT",
          "CB",
          "CB",
          "RB",
          "LB",
          "DT",
          "WR",
          "S",
          "LB",
          "CB",
          "DT",
          "LB",
          "WR",
          "DT",
          "LB",
          "DE",
          "WR",
          "WR",
          "DT",
          "CB",
          "CB",
          "LB",
          "S",
          "WR",
          "WR",
          "RB",
          "WR",
          "DE",
          "DE",
          "CB",
          "DE",
          "CB",
          "LB",
          "LB",
          "LB",
          "WR",
          "CB",
          "RB",
          "DE",
          "DT",
          "DE",
          "S",
          "DE",
          "CB",
          "WR",
          "RB",
          "TE",
          "S",
          "CB",
          "TE",
          "DT",
          "WR",
          "TE",
          "LB",
          "LB",
          "S",
          "LB",
          "WR",
          "LB",
          "DT",
          "DT",
          "RB",
          "LB",
          "WR",
          "LB",
          "DT",
          "CB",
          "DE",
          "LB",
          "LB",
          "LB",
          "CB",
          "DE",
          "LB",
          "DE",
          "WR",
          "RB",
          "RB",
          "WR",
          "CB",
          "TE",
          "CB",
          "LB",
          "S",
          "LB",
          "RB",
          "DE",
          "WR",
          "CB",
          "LB",
          "DT",
          "WR",
          "DE",
          "DE",
          "WR",
          "LB",
          "S",
          "S",
          "S",
          "RB",
          "CB",
          "DE",
          "S",
          "LB",
          "S",
          "RB",
          "TE",
          "WR",
          "RB",
          "DE",
          "RB",
          "S",
          "RB",
          "RB",
          "RB",
          "TE",
          "TE",
          "CB",
          "CB",
          "LB",
          "DT",
          "DT",
          "DT",
          "S",
          "RB",
          "S",
          "LB",
          "LB",
          "LB",
          "CB",
          "CB",
          "LB",
          "DE",
          "DE",
          "CB",
          "CB",
          "RB",
          "S",
          "LB",
          "LB",
          "WR",
          "DT",
          "LB",
          "S",
          "S",
          "WR",
          "WR",
          "DE",
          "RB",
          "LB",
          "DT",
          "S",
          "RB",
          "LB",
          "CB",
          "LB",
          "LB",
          "DT",
          "CB",
          "TE",
          "DT",
          "S",
          "RB",
          "TE",
          "DT",
          "LB",
          "S",
          "CB",
          "DE",
          "DT",
          "TE",
          "DT",
          "CB",
          "LB",
          "TE",
          "WR",
          "S",
          "CB",
          "RB",
          "WR",
          "TE",
          "DE",
          "DE",
          "RB",
          "RB",
          "CB",
          "TE",
          "LB",
          "WR",
          "TE",
          "RB",
          "LB",
          "LB",
          "TE",
          "LB",
          "LB",
          "DT",
          "WR",
          "DE",
          "RB",
          "TE",
          "DE",
          "LB",
          "CB",
          "DT",
          "LB",
          "CB",
          "LB",
          "LB",
          "S",
          "WR",
          "TE",
          "LB",
          "WR",
          "WR",
          "WR",
          "DE",
          "DT",
          "WR",
          "TE",
          "S",
          "CB",
          "RB",
          "TE",
          "CB",
          "WR",
          "S",
          "RB",
          "TE",
          "TE",
          "WR",
          "DT",
          "DE",
          "DT",
          "DE",
          "DT",
          "DE",
          "DE",
          "LB",
          "LB",
          "S",
          "TE",
          "LB",
          "LB",
          "CB",
          "DE",
          "CB",
          "DT",
          "WR",
          "WR",
          "LB",
          "CB",
          "RB",
          "CB",
          "LB",
          "DT",
          "S",
          "S",
          "LB",
          "LB",
          "RB",
          "TE",
          "RB",
          "TE",
          "DT",
          "DE",
          "DT",
          "LB",
          "LB",
          "S",
          "RB",
          "LB",
          "DE",
          "S",
          "S",
          "LB",
          "LB",
          "CB",
          "DT",
          "DE",
          "WR",
          "DT",
          "DT",
          "S",
          "CB",
          "DE",
          "WR",
          "S",
          "LB",
          "TE",
          "WR",
          "DT",
          "CB",
          "S",
          "CB",
          "CB",
          "WR",
          "DE",
          "DT",
          "DE",
          "DE",
          "DT",
          "WR",
          "WR",
          "LB",
          "LB",
          "DT",
          "WR",
          "WR",
          "TE",
          "WR",
          "WR",
          "WR",
          "WR",
          "WR",
          "LB",
          "WR",
          "CB",
          "S",
          "CB",
          "WR",
          "CB",
          "WR",
          "DT",
          "TE",
          "DT",
          "DT",
          "LB",
          "WR",
          "TE",
          "WR",
          "TE",
          "CB",
          "CB",
          "S",
          "CB",
          "LB",
          "S",
          "WR",
          "CB",
          "LB",
          "LB",
          "S",
          "DE",
          "WR",
          "DT",
          "DT",
          "WR",
          "S",
          "LB",
          "CB",
          "LB",
          "LB",
          "LB",
          "LB",
          "CB",
          "TE",
          "WR",
          "S",
          "WR",
          "WR",
          "WR",
          "S",
          "RB",
          "DE",
          "CB",
          "LB",
          "CB",
          "TE",
          "LB",
          "RB",
          "RB",
          "DE",
          "LB",
          "LB",
          "S",
          "CB",
          "LB",
          "TE",
          "DE",
          "LB",
          "LB",
          "DE",
          "DE",
          "TE",
          "TE",
          "S",
          "RB",
          "CB",
          "CB",
          "CB",
          "RB",
          "LB",
          "TE",
          "LB",
          "CB",
          "WR",
          "RB",
          "TE",
          "CB",
          "WR",
          "WR",
          "DE",
          "CB",
          "TE",
          "DT",
          "DE",
          "LB",
          "LB",
          "CB",
          "CB",
          "S",
          "S",
          "TE",
          "LB",
          "TE",
          "RB",
          "S",
          "TE",
          "S",
          "WR",
          "CB",
          "CB",
          "DE",
          "LB",
          "CB",
          "DT",
          "CB",
          "RB",
          "RB",
          "S",
          "CB",
          "CB",
          "S",
          "WR",
          "WR",
          "WR",
          "TE",
          "RB",
          "S",
          "S",
          "LB",
          "CB",
          "TE",
          "TE",
          "LB",
          "TE",
          "DE",
          "DT",
          "S",
          "TE",
          "TE",
          "WR",
          "RB",
          "RB",
          "WR",
          "RB",
          "TE",
          "LB",
          "LB",
          "CB",
          "S",
          "CB",
          "CB",
          "WR",
          "TE",
          "WR",
          "S",
          "DT",
          "WR",
          "WR",
          "CB",
          "CB",
          "DT",
          "CB",
          "LB",
          "S",
          "S",
          "CB",
          "CB",
          "CB",
          "CB",
          "WR",
          "WR",
          "TE",
          "CB",
          "TE",
          "TE",
          "DE",
          "RB",
          "LB",
          "LB",
          "TE",
          "LB",
          "DE",
          "S",
          "RB",
          "CB",
          "WR",
          "CB",
          "RB",
          "RB",
          "WR",
          "RB",
          "RB",
          "S",
          "LB",
          "CB",
          "CB",
          "CB",
          "LB",
          "RB",
          "TE",
          "RB",
          "DT",
          "WR",
          "S",
          "DE",
          "WR",
          "RB",
          "WR",
          "RB",
          "LB",
          "LB",
          "S",
          "LB",
          "LB",
          "CB",
          "S",
          "S",
          "S",
          "RB",
          "WR",
          "RB",
          "DT",
          "DE",
          "DE",
          "RB",
          "DE",
          "DT",
          "DT",
          "DT",
          "DT",
          "TE",
          "TE",
          "RB",
          "LB",
          "CB",
          "LB",
          "LB",
          "CB",
          "LB",
          "S",
          "WR",
          "RB",
          "RB",
          "WR",
          "RB",
          "S",
          "WR",
          "DE",
          "DE",
          "CB",
          "LB",
          "S",
          "LB",
          "LB",
          "LB",
          "DT",
          "LB",
          "LB",
          "CB",
          "DT",
          "TE",
          "WR",
          "WR",
          "RB",
          "TE",
          "CB",
          "WR",
          "RB",
          "RB",
          "RB",
          "WR",
          "LB",
          "LB",
          "CB",
          "LB",
          "LB",
          "LB",
          "LB",
          "WR",
          "WR",
          "TE",
          "DT",
          "DT",
          "WR",
          "WR",
          "TE",
          "RB",
          "DE",
          "WR",
          "TE",
          "DE",
          "DE",
          "TE",
          "RB",
          "TE",
          "RB",
          "RB",
          "RB",
          "WR",
          "RB",
          "CB",
          "CB",
          "LB",
          "WR",
          "CB",
          "CB",
          "LB",
          "S",
          "CB",
          "LB",
          "S",
          "LB",
          "LB",
          "S",
          "CB",
          "RB",
          "TE",
          "RB",
          "WR",
          "DT",
          "DE",
          "DT",
          "WR",
          "TE",
          "RB",
          "TE",
          "DE",
          "DE",
          "WR",
          "DT",
          "DT",
          "TE",
          "S",
          "LB",
          "LB",
          "CB",
          "CB",
          "S",
          "CB",
          "WR",
          "RB",
          "RB",
          "WR",
          "RB",
          "WR",
          "TE",
          "WR",
          "LB",
          "TE",
          "RB",
          "WR",
          "RB",
          "CB",
          "TE",
          "WR",
          "WR",
          "S",
          "DE",
          "S",
          "RB",
          "LB",
          "DE",
          "WR",
          "DE",
          "DE",
          "DT",
          "DT",
          "S",
          "LB",
          "CB",
          "TE",
          "RB",
          "RB",
          "TE",
          "WR",
          "S",
          "WR",
          "WR",
          "LB",
          "CB",
          "CB",
          "WR",
          "DE",
          "TE",
          "CB",
          "LB",
          "TE",
          "CB",
          "LB",
          "DE",
          "WR",
          "DE",
          "TE",
          "WR",
          "CB",
          "TE",
          "LB",
          "DE",
          "S",
          "RB",
          "RB",
          "DE",
          "WR",
          "TE",
          "DE",
          "DE",
          "S",
          "LB",
          "WR",
          "DT",
          "WR",
          "DT",
          "LB",
          "RB",
          "CB",
          "LB",
          "CB",
          "CB",
          "CB",
          "RB",
          "LB",
          "DE",
          "WR",
          "TE",
          "TE",
          "CB",
          "CB",
          "TE",
          "S",
          "TE",
          "RB",
          "TE",
          "DT",
          "WR",
          "WR",
          "WR",
          "LB",
          "TE",
          "LB",
          "S",
          "RB",
          "S",
          "TE",
          "DT",
          "CB",
          "TE",
          "WR",
          "DE",
          "LB",
          "LB",
          "S",
          "LB",
          "TE",
          "CB"
         ],
         "x0": " ",
         "xaxis": "x",
         "y": [
          49.04,
          1,
          49.04,
          51.84,
          2.88,
          62.21,
          20.26,
          12.96,
          40.53,
          20.26,
          40.53,
          1,
          251.92,
          1.2,
          107.13,
          37.44,
          1.2,
          1,
          10,
          1,
          26.4,
          10,
          7.2,
          9.6,
          1,
          13.82,
          1,
          11.52,
          119.44,
          51.84,
          19.9,
          74.4,
          1.2,
          403.2,
          3.46,
          1,
          1.73,
          63.94,
          60,
          251.92,
          9.6,
          1.73,
          14.4,
          24.89,
          140.39,
          1,
          295.44,
          39.4,
          149.3,
          52.8,
          93.7,
          199.82,
          295.44,
          99.53,
          110.29,
          125.96,
          63.36,
          187.4,
          295.44,
          187.4,
          87.1,
          43.2,
          91.24,
          7.69,
          99.3,
          243.5,
          251.92,
          8.64,
          51.84,
          187.4,
          43.2,
          113.55,
          76.73,
          63.94,
          74.65,
          177.78,
          51.84,
          67.2,
          128.57,
          37.32,
          113.55,
          55.15,
          295.44,
          166.51,
          1,
          1.2,
          91.24,
          110.29,
          205.2,
          116.12,
          39.4,
          17.28,
          20.74,
          108.27,
          30,
          22.8,
          74.65,
          360,
          1,
          1,
          295.44,
          63.36,
          14.4,
          12,
          56.78,
          64.8,
          10,
          108.27,
          50.95,
          86.4,
          58.95,
          76.73,
          99.6,
          295.44,
          1,
          177.78,
          4.36,
          52.8,
          102,
          1,
          12,
          1.44,
          22.8,
          113.55,
          177.78,
          36,
          1,
          12.46,
          86.41,
          126.34,
          66,
          76.73,
          1.73,
          52.8,
          4.36,
          103.68,
          1.44,
          66.36,
          1,
          49.76,
          99.53,
          55.69,
          1,
          1,
          103.68,
          1.73,
          108.27,
          1.73,
          3.6,
          37.32,
          43.25,
          24.89,
          55.69,
          1.73,
          3.6,
          12.44,
          10,
          1,
          1,
          1,
          24.89,
          12,
          37.32,
          1,
          32.83,
          2.88,
          37.32,
          12.44,
          24.89,
          1.2,
          54.14,
          14.4,
          32.82,
          11.52,
          1,
          60,
          1.2,
          108.27,
          3.46,
          12,
          14.4,
          1.44,
          51.84,
          1,
          3.46,
          8.64,
          14.4,
          1,
          2.4,
          32.83,
          83.33,
          4.8,
          24.89,
          62.88,
          14.4,
          1.44,
          1.44,
          17.41,
          73.17,
          88.44,
          12,
          1.44,
          44.4,
          1,
          24.89,
          36.58,
          60.48,
          1.73,
          67.2,
          10.37,
          1,
          20.74,
          1,
          5.76,
          1,
          1.73,
          124.42,
          1,
          34.8,
          55.69,
          43.2,
          126.34,
          22.8,
          55.43,
          22.81,
          86.41,
          24.89,
          1.44,
          83.33,
          34.82,
          3.46,
          76.73,
          44.4,
          108.27,
          110.29,
          1,
          1.44,
          32.83,
          1,
          74.65,
          353.62,
          51.84,
          44.78,
          86.41,
          113.55,
          76.68,
          14.98,
          1,
          113.55,
          12,
          17.41,
          18,
          22.8,
          14.4,
          295.44,
          17.41,
          1,
          73.17,
          27.36,
          60,
          1,
          8.64,
          1,
          12,
          14.4,
          14.4,
          1,
          1.44,
          1,
          39.4,
          1,
          1,
          22.8,
          17.28,
          24.89,
          14.4,
          74.65,
          96,
          83.33,
          54.74,
          96.77,
          1.73,
          1.44,
          17.28,
          1.44,
          12,
          86.41,
          14.4,
          134.36,
          14.4,
          1.2,
          4.62,
          14.4,
          1.2,
          116.12,
          14.4,
          129.6,
          1,
          1,
          24.89,
          27.72,
          251.92,
          1.44,
          5.76,
          30,
          3.46,
          88.44,
          210,
          19.01,
          14.4,
          30,
          1,
          63.94,
          1.2,
          10,
          83.21,
          1,
          49.76,
          24.89,
          34.82,
          17.41,
          12,
          1.44,
          4.32,
          37.32,
          1.44,
          12,
          14.4,
          1.73,
          1,
          43.25,
          10,
          55.43,
          36,
          1,
          65.69,
          119.9,
          17.28,
          31.1,
          147.72,
          14.4,
          1,
          19.01,
          83.33,
          86.41,
          1,
          26.66,
          14.4,
          12.44,
          1,
          220.16,
          73.17,
          49.76,
          83.21,
          10.37,
          1.44,
          4.8,
          14.52,
          14.4,
          1.44,
          1.44,
          86.4,
          24.89,
          1,
          139.56,
          50.4,
          1,
          1,
          1,
          83.21,
          43.2,
          17.28,
          1.44,
          140.39,
          353.62,
          12,
          12,
          12,
          1,
          1,
          14.4,
          20.74,
          121.75,
          1,
          17.28,
          17.28,
          14.4,
          4.32,
          1.44,
          48.55,
          30,
          99.53,
          44.4,
          17.28,
          3.46,
          36,
          1,
          10,
          53.28,
          3.6,
          12,
          1.44,
          17.28,
          8.64,
          14.4,
          1.73,
          1,
          1,
          1,
          12,
          14.4,
          1,
          177.78,
          24.48,
          84,
          1,
          20.74,
          12,
          89.58,
          12,
          3.6,
          32.4,
          5.76,
          126.34,
          134.36,
          14.4,
          12.44,
          12,
          14.4,
          55.43,
          1,
          1,
          42,
          177.78,
          30.24,
          14.4,
          139.56,
          1.2,
          1.2,
          13.82,
          1,
          1,
          25.2,
          1,
          89.58,
          55.15,
          2.88,
          103.68,
          115.2,
          1,
          1,
          2.4,
          1.2,
          1,
          1.73,
          12,
          31.1,
          10.8,
          14.4,
          1.2,
          76.73,
          44.4,
          1,
          34.56,
          17.28,
          12,
          1.44,
          1,
          4.8,
          43.2,
          1,
          14.4,
          21.62,
          8.4,
          1.2,
          1,
          14.4,
          45.88,
          12,
          53.92,
          126.34,
          1,
          66.24,
          17.28,
          1,
          10.37,
          12,
          1,
          14.4,
          1.2,
          1,
          24.89,
          24.89,
          22.9,
          1.2,
          1.44,
          50.4,
          111.97,
          1,
          14.4,
          4.32,
          1.73,
          1,
          8.64,
          17.28,
          37.32,
          27.6,
          1,
          109.44,
          1,
          7.2,
          1,
          59.04,
          1,
          12.44,
          1,
          1,
          14.4,
          2.4,
          1.2,
          74.65,
          1.2,
          53.92,
          21.6,
          53.28,
          1,
          30,
          1,
          1,
          1,
          12.44,
          39.4,
          1,
          4.8,
          37.32,
          12,
          1,
          1.2,
          12,
          1,
          24.89,
          36,
          29.87,
          29.93,
          12,
          1,
          1,
          12,
          14.4,
          14.4,
          14.4,
          156,
          1,
          37.32,
          1.2,
          24.89,
          1,
          1,
          4.32,
          252,
          44.4,
          5.76,
          1,
          1,
          29.38,
          380.16,
          1,
          1,
          1,
          1,
          37.32,
          26.95,
          29.93,
          1,
          14.4,
          1,
          1,
          51.6,
          22.8,
          13.82,
          29.93,
          1,
          1,
          12,
          10.08,
          1,
          1,
          14.4,
          1,
          18,
          1,
          30,
          76.03,
          17.28,
          1.2,
          1.2,
          14.4,
          1,
          5.76,
          1.44,
          120,
          1,
          1,
          42,
          33.12,
          1.2,
          4.8,
          1,
          1,
          5.76,
          101.95,
          17.28,
          1,
          1,
          15.6,
          1.2,
          1,
          8.64,
          1.44,
          74.3,
          1,
          1,
          22.8,
          14.4,
          1,
          1,
          24.89,
          65.69,
          4.8,
          1.73,
          1,
          17.28,
          1,
          11.52,
          12,
          1,
          14.4,
          17.28,
          3.46,
          1.2,
          1,
          12,
          14.4,
          1.44,
          1,
          74.65,
          17.28,
          4.8,
          8.4,
          126.34,
          180,
          23.88,
          1,
          17.28,
          1.44,
          10,
          1,
          1,
          21.62,
          1,
          1,
          1,
          9.6,
          14.4,
          10.08,
          8.4,
          14.4,
          1,
          2.4,
          9.6,
          1,
          1,
          1,
          1,
          18.72,
          17.28,
          19.01,
          12,
          48.96,
          17.28,
          243.5,
          12,
          1,
          1,
          1,
          1,
          5.76,
          1.2,
          10.8,
          1,
          1,
          49.76,
          31.2,
          7.2,
          1,
          1,
          1,
          17.28,
          1.44,
          1,
          55.15,
          8.64,
          1,
          17.28,
          26.4,
          1,
          12.44,
          1,
          12.96,
          2.88,
          1,
          2.4,
          5.76,
          4.8,
          22.81,
          1.2,
          2.4,
          1,
          53.28,
          14.4,
          1,
          1.44,
          4.8,
          1,
          37.32,
          21.6,
          1,
          22.46,
          1,
          14.4,
          10,
          15.55,
          12,
          1,
          1,
          2.88,
          1.73,
          14.4,
          1.2,
          55.2,
          13.82,
          13.2,
          14.4,
          1,
          12,
          31.1,
          14.4,
          12.1,
          1,
          1,
          2.4,
          14.4,
          1,
          20.74,
          10.37,
          1,
          1,
          1,
          12,
          12,
          10,
          14.4,
          4.8,
          14.4,
          2.4,
          1,
          14.4,
          20.74,
          1.44,
          21.6,
          1,
          14.4,
          17.28,
          1,
          139.2,
          14.4,
          14.4,
          18,
          1,
          65.69,
          55.15,
          4.8,
          1,
          12,
          14.4,
          1,
          1,
          126.3,
          14.4,
          2.4,
          1,
          1.2,
          5.76,
          1,
          22.8,
          7.2,
          7.2,
          1,
          1,
          12,
          175.74,
          14.4,
          12,
          2.4,
          20.4,
          48.55,
          12.1,
          9.6,
          13.82,
          1.44,
          12,
          4.8,
          7.2,
          10,
          1.44,
          1.2,
          17.28,
          1,
          8.64,
          1.2,
          60.13,
          3.6,
          147.11,
          1,
          1,
          45.6,
          1,
          1,
          8.64,
          1.44,
          17.28,
          1,
          5.76,
          14.4,
          41.66,
          1,
          7.2,
          1,
          4.8,
          1,
          17.28,
          1,
          1,
          1,
          12,
          8.4,
          12.96,
          1.73,
          1,
          1,
          110.29,
          1,
          1,
          1.44,
          1.44,
          1.73,
          1,
          1,
          2.4,
          1,
          5.76,
          1,
          1,
          1,
          10.8,
          1,
          1.44,
          1.2,
          14.4,
          15.84,
          1,
          1.2,
          1,
          8.64,
          1,
          1,
          43.2,
          1,
          10,
          14.4,
          1,
          14.4,
          1.2,
          1.44,
          10,
          62.22,
          8.64,
          1,
          17.28,
          14.4,
          1,
          1,
          28.8,
          30,
          1,
          1.73,
          2.4,
          14.4,
          33.18,
          1,
          18.72,
          1,
          2.4,
          2.4,
          20.74,
          1,
          1.44,
          14.4,
          1.44,
          1,
          1,
          29.87,
          39.6,
          7.2,
          12,
          4.8,
          19.2,
          2.4,
          1,
          1.73,
          1,
          1,
          1,
          1,
          1,
          1,
          1,
          15.55,
          25.2,
          14.4,
          1.2,
          1,
          1,
          1,
          20.74,
          14.4,
          10,
          1,
          14.4,
          60,
          1.2,
          12,
          1.2,
          27.36,
          1.44,
          14.4,
          1,
          24.19,
          1,
          1.2,
          1.44,
          7.2,
          1.2,
          1,
          53.28,
          4.8,
          15.55,
          20.74,
          14.4,
          49.76,
          1,
          10,
          7.2,
          147.72,
          1,
          1,
          22.8,
          1,
          1,
          1.73,
          94.55,
          1.44,
          152.77,
          110.29,
          1.44,
          37.32,
          30.24,
          1,
          4.8,
          31.68,
          1.44,
          1,
          2.4,
          1.2,
          1.44,
          14.4,
          104.52,
          4.32,
          1,
          1,
          1,
          44.4,
          1,
          4.8,
          1,
          20.74,
          1,
          91.24,
          8.64,
          1,
          8.64,
          39.6,
          4.8,
          22.8,
          16.58,
          1,
          1,
          1.44,
          30,
          32.83,
          17.28,
          1,
          5.18,
          1,
          12,
          14.4,
          72,
          1.73,
          12,
          1,
          1,
          1.2,
          3.6,
          1,
          1,
          1,
          1,
          1.2,
          1,
          8.64,
          1,
          103.68,
          10.37,
          39.4,
          1,
          1,
          1,
          1,
          1,
          1,
          1.2,
          14.4,
          4.8,
          1,
          1.2,
          115.2,
          1,
          4.8,
          1.44,
          1.44,
          170.4,
          1.44,
          1.44,
          14.4,
          64.8,
          1,
          1,
          1,
          14.4,
          1.44,
          1,
          1.44,
          1.44,
          1,
          1,
          1.2,
          91.2,
          110.29,
          49.76,
          1,
          1,
          1,
          1,
          1,
          1.2,
          1,
          24.89,
          14.4,
          12,
          33.6,
          8.64,
          1,
          1,
          1.2,
          1,
          1.2,
          1,
          1,
          1.44,
          1,
          1,
          1.44,
          1,
          15.84,
          1.2,
          1,
          1.73,
          1,
          14.4,
          1.2,
          1,
          1,
          1,
          1.44,
          12,
          1,
          1.2,
          2.4,
          17.42,
          14.4,
          17.28,
          1.2,
          12.44,
          5.76,
          1,
          10,
          41.76,
          1,
          7.2,
          1,
          5.76,
          1,
          27.37,
          1,
          6.91,
          1,
          1,
          27.65,
          51.84,
          7.2,
          10,
          1.2,
          1,
          12.44,
          1,
          13.2,
          10,
          53.28,
          31.2,
          36,
          1,
          1.2,
          1,
          1,
          1,
          1.2,
          1,
          1.73,
          1,
          1,
          5.76,
          12,
          1,
          14.4,
          1.73,
          1,
          2.88,
          1,
          7.2,
          1,
          17.92,
          1,
          1,
          1,
          35.84,
          1,
          1,
          3.6,
          1,
          1,
          1,
          1,
          7.2,
          1,
          7.2,
          1.44,
          1.2,
          1,
          1,
          1.2,
          1,
          7.2,
          1,
          5.76,
          1.73,
          1.44,
          1.2,
          1,
          1,
          14.4,
          1,
          1,
          59.71,
          1.2,
          24.48,
          1.2,
          1,
          1.44,
          14.4,
          7.2,
          1,
          29.03,
          2.08,
          1,
          15.84,
          1,
          2.4,
          1,
          12.44,
          1.2,
          1,
          1,
          5.76,
          1,
          1,
          1,
          1.73,
          30.24,
          1.2,
          126.34,
          1,
          1.2,
          1,
          1,
          1.2,
          1.2,
          1.2,
          1.44,
          26.4,
          1,
          14.4,
          1,
          1.2,
          1,
          1,
          1,
          8.64,
          1,
          7.2,
          1,
          4.8,
          1,
          14.4,
          1,
          34.56,
          12,
          1,
          14.4,
          1,
          1,
          74.65,
          85.2,
          12,
          1,
          1,
          1,
          1,
          1,
          1,
          1,
          1,
          4.8,
          1,
          1,
          14.4,
          8.64,
          4.8,
          129.6,
          24.89,
          1.44,
          14.4,
          1.44,
          1,
          1,
          1,
          3.6,
          1,
          1.44,
          1.44,
          1,
          1,
          1,
          5.76,
          1.44,
          8.64,
          1.2,
          1.2,
          1.2,
          1,
          1,
          1,
          1.2,
          1,
          1,
          24.89,
          7.2,
          7.2,
          59.71,
          12,
          1,
          27.36,
          1.2,
          1,
          1,
          1,
          1,
          1,
          1.2,
          1,
          1,
          4.8,
          2.4,
          1,
          8.64,
          1,
          1,
          1,
          1,
          13.2,
          12.44,
          4.8,
          1,
          7.2,
          13.2,
          1,
          1,
          1.2,
          14.4,
          1,
          1,
          1,
          1,
          1,
          7.2,
          1,
          1,
          1,
          7.2,
          1,
          1,
          1.44,
          7.2,
          1,
          1,
          1,
          20.74,
          1,
          2.4,
          1.44,
          1.2,
          1,
          10.37,
          12,
          1,
          1.44,
          1,
          1,
          1,
          1,
          1,
          1.2,
          1,
          5.76,
          4.8,
          7.2,
          1,
          1,
          8.64,
          1.2,
          1,
          1,
          1,
          1,
          1,
          177.78,
          1,
          7.2,
          1,
          1.2,
          15.6,
          1,
          1,
          1,
          1,
          1,
          1,
          1,
          10.08,
          1,
          1,
          1,
          1,
          26.4,
          1,
          36,
          1,
          1.2,
          4.8,
          1,
          1.2,
          1.2,
          17.28,
          4.32,
          1,
          51.84,
          1,
          1,
          1,
          12,
          1.44,
          1,
          1,
          4.8,
          12,
          1,
          12,
          2.4,
          1,
          1,
          1,
          1,
          1.2,
          1,
          1,
          1,
          5.76,
          1,
          5.76,
          30,
          1,
          1,
          8.4,
          1,
          1.73,
          20.4,
          1,
          1.44,
          12.44,
          7.2,
          1,
          1,
          12,
          7.2,
          1,
          1,
          1.44,
          1,
          1,
          13.82,
          1,
          1,
          1,
          1,
          20.74,
          1.2,
          1,
          18,
          1.2,
          1,
          27.36,
          4.8,
          27.36,
          12,
          4.8,
          1.2,
          5.76,
          1,
          12,
          1,
          1,
          1.2,
          1.44,
          14.4,
          4.8,
          1,
          5.76,
          1,
          1,
          1,
          1,
          14.4,
          1.2,
          1,
          1,
          1.73,
          25.92,
          1,
          1.44,
          1,
          1,
          14.4,
          1,
          9.6,
          12,
          1,
          1,
          154.8,
          1,
          14.4,
          17.28,
          12,
          1.2,
          1,
          14.4,
          1,
          1,
          7.2,
          1.44,
          1.2,
          1,
          1,
          1,
          1,
          1,
          1,
          1,
          6,
          1,
          1,
          1,
          1.2,
          1,
          1,
          1,
          1.44,
          1,
          1,
          1.2,
          31.1,
          1,
          1.73,
          1,
          7.2,
          1,
          6.22,
          1,
          1,
          1,
          4.8,
          1,
          1,
          1.2,
          1,
          1,
          2.4,
          5.76,
          1.44,
          14.4,
          8.4,
          1.2,
          1.2,
          39.4,
          1,
          1,
          1,
          1,
          1,
          1,
          1.2,
          1,
          27.36,
          1,
          2.4,
          1,
          2.4,
          86.41,
          4.8,
          1.2,
          1,
          44.78,
          1,
          1,
          1,
          1.2,
          2.4,
          1,
          1,
          1,
          1,
          1,
          15.6,
          1,
          1.2,
          1,
          1,
          2.4,
          1,
          1,
          19.01,
          1.2,
          1.2,
          2.4,
          17.28,
          1,
          14.4,
          1,
          86.4,
          28.66,
          17.28,
          1,
          1,
          1,
          1.2,
          1,
          30,
          1,
          1.2,
          1,
          7.2,
          1,
          1,
          1.2,
          17.28,
          1,
          21.6,
          5.76,
          1,
          1,
          1,
          1,
          1,
          1,
          1,
          1,
          7.2,
          1,
          1,
          7.2,
          1,
          12,
          17.28,
          1.2,
          1,
          1,
          1,
          1,
          7.2,
          1,
          2.4,
          1,
          1,
          1.2,
          1,
          5.76,
          1.2,
          15.55,
          1.2,
          1,
          1,
          1.2,
          1,
          1.2,
          2.4,
          87.1,
          4.8,
          1,
          1,
          17.28,
          1,
          1,
          1.73,
          1,
          1,
          1,
          1,
          4.8,
          17.28,
          6.91,
          2.4,
          1,
          1.2,
          1.44,
          1,
          1,
          1,
          1,
          43.2,
          1.2,
          1,
          1,
          1,
          14.4,
          1,
          1.2,
          1.73,
          2.4,
          12,
          1,
          14.4,
          1,
          1.44,
          7.2,
          6.91,
          32.83,
          1,
          1,
          1,
          1.2,
          1,
          1,
          5.76,
          1.44,
          1,
          2.4,
          30,
          1,
          1
         ],
         "y0": " ",
         "yaxis": "y"
        }
       ],
       "layout": {
        "boxmode": "group",
        "legend": {
         "tracegroupgap": 0
        },
        "margin": {
         "t": 60
        },
        "template": {
         "data": {
          "bar": [
           {
            "error_x": {
             "color": "#2a3f5f"
            },
            "error_y": {
             "color": "#2a3f5f"
            },
            "marker": {
             "line": {
              "color": "#E5ECF6",
              "width": 0.5
             },
             "pattern": {
              "fillmode": "overlay",
              "size": 10,
              "solidity": 0.2
             }
            },
            "type": "bar"
           }
          ],
          "barpolar": [
           {
            "marker": {
             "line": {
              "color": "#E5ECF6",
              "width": 0.5
             },
             "pattern": {
              "fillmode": "overlay",
              "size": 10,
              "solidity": 0.2
             }
            },
            "type": "barpolar"
           }
          ],
          "carpet": [
           {
            "aaxis": {
             "endlinecolor": "#2a3f5f",
             "gridcolor": "white",
             "linecolor": "white",
             "minorgridcolor": "white",
             "startlinecolor": "#2a3f5f"
            },
            "baxis": {
             "endlinecolor": "#2a3f5f",
             "gridcolor": "white",
             "linecolor": "white",
             "minorgridcolor": "white",
             "startlinecolor": "#2a3f5f"
            },
            "type": "carpet"
           }
          ],
          "choropleth": [
           {
            "colorbar": {
             "outlinewidth": 0,
             "ticks": ""
            },
            "type": "choropleth"
           }
          ],
          "contour": [
           {
            "colorbar": {
             "outlinewidth": 0,
             "ticks": ""
            },
            "colorscale": [
             [
              0,
              "#0d0887"
             ],
             [
              0.1111111111111111,
              "#46039f"
             ],
             [
              0.2222222222222222,
              "#7201a8"
             ],
             [
              0.3333333333333333,
              "#9c179e"
             ],
             [
              0.4444444444444444,
              "#bd3786"
             ],
             [
              0.5555555555555556,
              "#d8576b"
             ],
             [
              0.6666666666666666,
              "#ed7953"
             ],
             [
              0.7777777777777778,
              "#fb9f3a"
             ],
             [
              0.8888888888888888,
              "#fdca26"
             ],
             [
              1,
              "#f0f921"
             ]
            ],
            "type": "contour"
           }
          ],
          "contourcarpet": [
           {
            "colorbar": {
             "outlinewidth": 0,
             "ticks": ""
            },
            "type": "contourcarpet"
           }
          ],
          "heatmap": [
           {
            "colorbar": {
             "outlinewidth": 0,
             "ticks": ""
            },
            "colorscale": [
             [
              0,
              "#0d0887"
             ],
             [
              0.1111111111111111,
              "#46039f"
             ],
             [
              0.2222222222222222,
              "#7201a8"
             ],
             [
              0.3333333333333333,
              "#9c179e"
             ],
             [
              0.4444444444444444,
              "#bd3786"
             ],
             [
              0.5555555555555556,
              "#d8576b"
             ],
             [
              0.6666666666666666,
              "#ed7953"
             ],
             [
              0.7777777777777778,
              "#fb9f3a"
             ],
             [
              0.8888888888888888,
              "#fdca26"
             ],
             [
              1,
              "#f0f921"
             ]
            ],
            "type": "heatmap"
           }
          ],
          "heatmapgl": [
           {
            "colorbar": {
             "outlinewidth": 0,
             "ticks": ""
            },
            "colorscale": [
             [
              0,
              "#0d0887"
             ],
             [
              0.1111111111111111,
              "#46039f"
             ],
             [
              0.2222222222222222,
              "#7201a8"
             ],
             [
              0.3333333333333333,
              "#9c179e"
             ],
             [
              0.4444444444444444,
              "#bd3786"
             ],
             [
              0.5555555555555556,
              "#d8576b"
             ],
             [
              0.6666666666666666,
              "#ed7953"
             ],
             [
              0.7777777777777778,
              "#fb9f3a"
             ],
             [
              0.8888888888888888,
              "#fdca26"
             ],
             [
              1,
              "#f0f921"
             ]
            ],
            "type": "heatmapgl"
           }
          ],
          "histogram": [
           {
            "marker": {
             "pattern": {
              "fillmode": "overlay",
              "size": 10,
              "solidity": 0.2
             }
            },
            "type": "histogram"
           }
          ],
          "histogram2d": [
           {
            "colorbar": {
             "outlinewidth": 0,
             "ticks": ""
            },
            "colorscale": [
             [
              0,
              "#0d0887"
             ],
             [
              0.1111111111111111,
              "#46039f"
             ],
             [
              0.2222222222222222,
              "#7201a8"
             ],
             [
              0.3333333333333333,
              "#9c179e"
             ],
             [
              0.4444444444444444,
              "#bd3786"
             ],
             [
              0.5555555555555556,
              "#d8576b"
             ],
             [
              0.6666666666666666,
              "#ed7953"
             ],
             [
              0.7777777777777778,
              "#fb9f3a"
             ],
             [
              0.8888888888888888,
              "#fdca26"
             ],
             [
              1,
              "#f0f921"
             ]
            ],
            "type": "histogram2d"
           }
          ],
          "histogram2dcontour": [
           {
            "colorbar": {
             "outlinewidth": 0,
             "ticks": ""
            },
            "colorscale": [
             [
              0,
              "#0d0887"
             ],
             [
              0.1111111111111111,
              "#46039f"
             ],
             [
              0.2222222222222222,
              "#7201a8"
             ],
             [
              0.3333333333333333,
              "#9c179e"
             ],
             [
              0.4444444444444444,
              "#bd3786"
             ],
             [
              0.5555555555555556,
              "#d8576b"
             ],
             [
              0.6666666666666666,
              "#ed7953"
             ],
             [
              0.7777777777777778,
              "#fb9f3a"
             ],
             [
              0.8888888888888888,
              "#fdca26"
             ],
             [
              1,
              "#f0f921"
             ]
            ],
            "type": "histogram2dcontour"
           }
          ],
          "mesh3d": [
           {
            "colorbar": {
             "outlinewidth": 0,
             "ticks": ""
            },
            "type": "mesh3d"
           }
          ],
          "parcoords": [
           {
            "line": {
             "colorbar": {
              "outlinewidth": 0,
              "ticks": ""
             }
            },
            "type": "parcoords"
           }
          ],
          "pie": [
           {
            "automargin": true,
            "type": "pie"
           }
          ],
          "scatter": [
           {
            "marker": {
             "colorbar": {
              "outlinewidth": 0,
              "ticks": ""
             }
            },
            "type": "scatter"
           }
          ],
          "scatter3d": [
           {
            "line": {
             "colorbar": {
              "outlinewidth": 0,
              "ticks": ""
             }
            },
            "marker": {
             "colorbar": {
              "outlinewidth": 0,
              "ticks": ""
             }
            },
            "type": "scatter3d"
           }
          ],
          "scattercarpet": [
           {
            "marker": {
             "colorbar": {
              "outlinewidth": 0,
              "ticks": ""
             }
            },
            "type": "scattercarpet"
           }
          ],
          "scattergeo": [
           {
            "marker": {
             "colorbar": {
              "outlinewidth": 0,
              "ticks": ""
             }
            },
            "type": "scattergeo"
           }
          ],
          "scattergl": [
           {
            "marker": {
             "colorbar": {
              "outlinewidth": 0,
              "ticks": ""
             }
            },
            "type": "scattergl"
           }
          ],
          "scattermapbox": [
           {
            "marker": {
             "colorbar": {
              "outlinewidth": 0,
              "ticks": ""
             }
            },
            "type": "scattermapbox"
           }
          ],
          "scatterpolar": [
           {
            "marker": {
             "colorbar": {
              "outlinewidth": 0,
              "ticks": ""
             }
            },
            "type": "scatterpolar"
           }
          ],
          "scatterpolargl": [
           {
            "marker": {
             "colorbar": {
              "outlinewidth": 0,
              "ticks": ""
             }
            },
            "type": "scatterpolargl"
           }
          ],
          "scatterternary": [
           {
            "marker": {
             "colorbar": {
              "outlinewidth": 0,
              "ticks": ""
             }
            },
            "type": "scatterternary"
           }
          ],
          "surface": [
           {
            "colorbar": {
             "outlinewidth": 0,
             "ticks": ""
            },
            "colorscale": [
             [
              0,
              "#0d0887"
             ],
             [
              0.1111111111111111,
              "#46039f"
             ],
             [
              0.2222222222222222,
              "#7201a8"
             ],
             [
              0.3333333333333333,
              "#9c179e"
             ],
             [
              0.4444444444444444,
              "#bd3786"
             ],
             [
              0.5555555555555556,
              "#d8576b"
             ],
             [
              0.6666666666666666,
              "#ed7953"
             ],
             [
              0.7777777777777778,
              "#fb9f3a"
             ],
             [
              0.8888888888888888,
              "#fdca26"
             ],
             [
              1,
              "#f0f921"
             ]
            ],
            "type": "surface"
           }
          ],
          "table": [
           {
            "cells": {
             "fill": {
              "color": "#EBF0F8"
             },
             "line": {
              "color": "white"
             }
            },
            "header": {
             "fill": {
              "color": "#C8D4E3"
             },
             "line": {
              "color": "white"
             }
            },
            "type": "table"
           }
          ]
         },
         "layout": {
          "annotationdefaults": {
           "arrowcolor": "#2a3f5f",
           "arrowhead": 0,
           "arrowwidth": 1
          },
          "autotypenumbers": "strict",
          "coloraxis": {
           "colorbar": {
            "outlinewidth": 0,
            "ticks": ""
           }
          },
          "colorscale": {
           "diverging": [
            [
             0,
             "#8e0152"
            ],
            [
             0.1,
             "#c51b7d"
            ],
            [
             0.2,
             "#de77ae"
            ],
            [
             0.3,
             "#f1b6da"
            ],
            [
             0.4,
             "#fde0ef"
            ],
            [
             0.5,
             "#f7f7f7"
            ],
            [
             0.6,
             "#e6f5d0"
            ],
            [
             0.7,
             "#b8e186"
            ],
            [
             0.8,
             "#7fbc41"
            ],
            [
             0.9,
             "#4d9221"
            ],
            [
             1,
             "#276419"
            ]
           ],
           "sequential": [
            [
             0,
             "#0d0887"
            ],
            [
             0.1111111111111111,
             "#46039f"
            ],
            [
             0.2222222222222222,
             "#7201a8"
            ],
            [
             0.3333333333333333,
             "#9c179e"
            ],
            [
             0.4444444444444444,
             "#bd3786"
            ],
            [
             0.5555555555555556,
             "#d8576b"
            ],
            [
             0.6666666666666666,
             "#ed7953"
            ],
            [
             0.7777777777777778,
             "#fb9f3a"
            ],
            [
             0.8888888888888888,
             "#fdca26"
            ],
            [
             1,
             "#f0f921"
            ]
           ],
           "sequentialminus": [
            [
             0,
             "#0d0887"
            ],
            [
             0.1111111111111111,
             "#46039f"
            ],
            [
             0.2222222222222222,
             "#7201a8"
            ],
            [
             0.3333333333333333,
             "#9c179e"
            ],
            [
             0.4444444444444444,
             "#bd3786"
            ],
            [
             0.5555555555555556,
             "#d8576b"
            ],
            [
             0.6666666666666666,
             "#ed7953"
            ],
            [
             0.7777777777777778,
             "#fb9f3a"
            ],
            [
             0.8888888888888888,
             "#fdca26"
            ],
            [
             1,
             "#f0f921"
            ]
           ]
          },
          "colorway": [
           "#636efa",
           "#EF553B",
           "#00cc96",
           "#ab63fa",
           "#FFA15A",
           "#19d3f3",
           "#FF6692",
           "#B6E880",
           "#FF97FF",
           "#FECB52"
          ],
          "font": {
           "color": "#2a3f5f"
          },
          "geo": {
           "bgcolor": "white",
           "lakecolor": "white",
           "landcolor": "#E5ECF6",
           "showlakes": true,
           "showland": true,
           "subunitcolor": "white"
          },
          "hoverlabel": {
           "align": "left"
          },
          "hovermode": "closest",
          "mapbox": {
           "style": "light"
          },
          "paper_bgcolor": "white",
          "plot_bgcolor": "#E5ECF6",
          "polar": {
           "angularaxis": {
            "gridcolor": "white",
            "linecolor": "white",
            "ticks": ""
           },
           "bgcolor": "#E5ECF6",
           "radialaxis": {
            "gridcolor": "white",
            "linecolor": "white",
            "ticks": ""
           }
          },
          "scene": {
           "xaxis": {
            "backgroundcolor": "#E5ECF6",
            "gridcolor": "white",
            "gridwidth": 2,
            "linecolor": "white",
            "showbackground": true,
            "ticks": "",
            "zerolinecolor": "white"
           },
           "yaxis": {
            "backgroundcolor": "#E5ECF6",
            "gridcolor": "white",
            "gridwidth": 2,
            "linecolor": "white",
            "showbackground": true,
            "ticks": "",
            "zerolinecolor": "white"
           },
           "zaxis": {
            "backgroundcolor": "#E5ECF6",
            "gridcolor": "white",
            "gridwidth": 2,
            "linecolor": "white",
            "showbackground": true,
            "ticks": "",
            "zerolinecolor": "white"
           }
          },
          "shapedefaults": {
           "line": {
            "color": "#2a3f5f"
           }
          },
          "ternary": {
           "aaxis": {
            "gridcolor": "white",
            "linecolor": "white",
            "ticks": ""
           },
           "baxis": {
            "gridcolor": "white",
            "linecolor": "white",
            "ticks": ""
           },
           "bgcolor": "#E5ECF6",
           "caxis": {
            "gridcolor": "white",
            "linecolor": "white",
            "ticks": ""
           }
          },
          "title": {
           "x": 0.05
          },
          "xaxis": {
           "automargin": true,
           "gridcolor": "white",
           "linecolor": "white",
           "ticks": "",
           "title": {
            "standoff": 15
           },
           "zerolinecolor": "white",
           "zerolinewidth": 2
          },
          "yaxis": {
           "automargin": true,
           "gridcolor": "white",
           "linecolor": "white",
           "ticks": "",
           "title": {
            "standoff": 15
           },
           "zerolinecolor": "white",
           "zerolinewidth": 2
          }
         }
        },
        "xaxis": {
         "anchor": "y",
         "domain": [
          0,
          1
         ],
         "title": {
          "text": "Position"
         }
        },
        "yaxis": {
         "anchor": "x",
         "domain": [
          0,
          1
         ],
         "title": {
          "text": "Salary"
         }
        }
       }
      }
     },
     "metadata": {},
     "output_type": "display_data"
    }
   ],
   "source": [
    "px.box(bcPlayers2021,\n",
    "           x = 'Position', \n",
    "           y = 'Salary',\n",
    "           hover_data=[bcPlayers2021['Player'], bcPlayers2021['Team']],\n",
    "           points = 'all'\n",
    "           )"
   ]
  },
  {
   "cell_type": "code",
   "execution_count": 67,
   "metadata": {},
   "outputs": [
    {
     "data": {
      "application/vnd.plotly.v1+json": {
       "config": {
        "plotlyServerURL": "https://plotly.com"
       },
       "data": [
        {
         "alignmentgroup": "True",
         "boxpoints": "all",
         "customdata": [
          [
           "Bills, Buffalo",
           "BUF"
          ],
          [
           "Buccaneers, Tampa Bay",
           "TBB"
          ],
          [
           "Ravens, Baltimore",
           "BAL"
          ],
          [
           "Cardinals, Arizona",
           "ARI"
          ],
          [
           "Chargers, Los Angeles",
           "LAC"
          ],
          [
           "Chiefs, Kansas City",
           "KCC"
          ],
          [
           "Cowboys, Dallas",
           "DAL"
          ],
          [
           "Packers, Green Bay",
           "GBP"
          ],
          [
           "Eagles, Philadelphia",
           "PHI"
          ],
          [
           "Bengals, Cincinnati",
           "CIN"
          ],
          [
           "Rams, Los Angeles",
           "LAR"
          ],
          [
           "Saints, New Orleans",
           "NOS"
          ],
          [
           "Kupp, Cooper",
           "LAR"
          ],
          [
           "Vikings, Minnesota",
           "MIN"
          ],
          [
           "Taylor, Jonathan",
           "IND"
          ],
          [
           "49ers, San Francisco",
           "SFO"
          ],
          [
           "Raiders, Las Vegas",
           "LVR"
          ],
          [
           "Seahawks, Seattle",
           "SEA"
          ],
          [
           "Dolphins, Miami",
           "MIA"
          ],
          [
           "Panthers, Carolina",
           "CAR"
          ],
          [
           "Broncos, Denver",
           "DEN"
          ],
          [
           "FootballTeam, Washington",
           "WAS"
          ],
          [
           "Titans, Tennessee",
           "TEN"
          ],
          [
           "Jets, New York",
           "NYJ"
          ],
          [
           "Steelers, Pittsburgh",
           "PIT"
          ],
          [
           "Colts, Indianapolis",
           "IND"
          ],
          [
           "Adams, Davante",
           "GBP"
          ],
          [
           "Patriots, New England",
           "NEP"
          ],
          [
           "Mixon, Joe",
           "CIN"
          ],
          [
           "Samuel, Deebo",
           "SFO"
          ],
          [
           "Bears, Chicago",
           "CHI"
          ],
          [
           "Harris, Najee",
           "PIT"
          ],
          [
           "Texans, Houston",
           "HOU"
          ],
          [
           "Ekeler, Austin",
           "LAC"
          ],
          [
           "Giants, New York",
           "NYG"
          ],
          [
           "Falcons, Atlanta",
           "ATL"
          ],
          [
           "Lions, Detroit",
           "DET"
          ],
          [
           "Jefferson, Justin",
           "MIN"
          ],
          [
           "Chase, Ja'Marr",
           "CIN"
          ],
          [
           "Hill, Tyreek",
           "KCC"
          ],
          [
           "Browns, Cleveland",
           "CLE"
          ],
          [
           "Jaguars, Jacksonville",
           "JAC"
          ],
          [
           "Andrews, Mark",
           "BAL"
          ],
          [
           "Renfrow, Hunter",
           "LVR"
          ],
          [
           "Patterson, Cordarrelle",
           "ATL"
          ],
          [
           "Elliott, Ezekiel",
           "DAL"
          ],
          [
           "Diggs, Stefon",
           "BUF"
          ],
          [
           "Johnson, Diontae",
           "PIT"
          ],
          [
           "Fournette, Leonard",
           "TBB"
          ],
          [
           "Waddle, Jaylen",
           "MIA"
          ],
          [
           "Conner, James",
           "ARI"
          ],
          [
           "Kelce, Travis",
           "KCC"
          ],
          [
           "Allen, Keenan",
           "LAC"
          ],
          [
           "Chubb, Nick",
           "CLE"
          ],
          [
           "Oluokun, Foyesade",
           "ATL"
          ],
          [
           "Godwin, Chris",
           "TBB"
          ],
          [
           "Lamb, CeeDee",
           "DAL"
          ],
          [
           "Kamara, Alvin",
           "NOS"
          ],
          [
           "Evans, Mike",
           "TBB"
          ],
          [
           "Jones, Aaron",
           "GBP"
          ],
          [
           "Moore, D.J.",
           "CAR"
          ],
          [
           "Gibson, Antonio",
           "WAS"
          ],
          [
           "Metcalf, DK",
           "SEA"
          ],
          [
           "Raiders, Las Vegas",
           "LVR"
          ],
          [
           "Donald, Aaron",
           "LAR"
          ],
          [
           "Henry, Derrick",
           "TEN"
          ],
          [
           "Cooks, Brandin",
           "HOU"
          ],
          [
           "Seahawks, Seattle",
           "SEA"
          ],
          [
           "Harris, Damien",
           "NEP"
          ],
          [
           "Cook, Dalvin",
           "MIN"
          ],
          [
           "Higgins, Tee",
           "CIN"
          ],
          [
           "Campbell, De'Vondre",
           "GBP"
          ],
          [
           "Brown, Marquise",
           "BAL"
          ],
          [
           "Pittman, Michael",
           "IND"
          ],
          [
           "Smith, Roquan",
           "CHI"
          ],
          [
           "Williams, Mike",
           "LAC"
          ],
          [
           "Bosa, Nick",
           "SFO"
          ],
          [
           "Williams, Javonte",
           "DEN"
          ],
          [
           "Jacobs, Josh",
           "LVR"
          ],
          [
           "Leonard, Darius",
           "IND"
          ],
          [
           "Wagner, Bobby",
           "SEA"
          ],
          [
           "Watt, T.J.",
           "PIT"
          ],
          [
           "Lockett, Tyler",
           "SEA"
          ],
          [
           "Heyward, Cameron",
           "PIT"
          ],
          [
           "Texans, Houston",
           "HOU"
          ],
          [
           "Saints, New Orleans",
           "NOS"
          ],
          [
           "Pollard, Tony",
           "DAL"
          ],
          [
           "Kendricks, Eric",
           "MIN"
          ],
          [
           "Mosley, C.J.",
           "NYJ"
          ],
          [
           "Montgomery, David",
           "CHI"
          ],
          [
           "McLaurin, Terry",
           "WAS"
          ],
          [
           "Mooney, Darnell",
           "CHI"
          ],
          [
           "Brooks, Jordyn",
           "SEA"
          ],
          [
           "Garrett, Myles",
           "CLE"
          ],
          [
           "Parsons, Micah",
           "DAL"
          ],
          [
           "St. Brown, Amon-Ra",
           "DET"
          ],
          [
           "Kirk, Christian",
           "ARI"
          ],
          [
           "Gordon, Melvin",
           "DEN"
          ],
          [
           "Cowboys, Dallas",
           "DAL"
          ],
          [
           "Lions, Detroit",
           "DET"
          ],
          [
           "Thielen, Adam",
           "MIN"
          ],
          [
           "Dillon, AJ",
           "GBP"
          ],
          [
           "Williams, Darrel",
           "KCC"
          ],
          [
           "Holcomb, Cole",
           "WAS"
          ],
          [
           "White, Kyzir",
           "LAC"
          ],
          [
           "Berrios, Braxton",
           "NYJ"
          ],
          [
           "Robinson, James",
           "JAC"
          ],
          [
           "Reddick, Haason",
           "CAR"
          ],
          [
           "Kittle, George",
           "SFO"
          ],
          [
           "Swift, D'Andre",
           "DET"
          ],
          [
           "Schultz, Dalton",
           "DAL"
          ],
          [
           "Singletary, Devin",
           "BUF"
          ],
          [
           "Perryman, Denzel",
           "LVR"
          ],
          [
           "Cooper, Amari",
           "DAL"
          ],
          [
           "Jordan, Cameron",
           "NOS"
          ],
          [
           "Boyd, Tyler",
           "CIN"
          ],
          [
           "Jaguars, Jacksonville",
           "JAC"
          ],
          [
           "Smith, DeVonta",
           "PHI"
          ],
          [
           "Singleton, Alex",
           "PHI"
          ],
          [
           "FootballTeam, Washington",
           "WAS"
          ],
          [
           "Gaskin, Myles",
           "MIA"
          ],
          [
           "Vikings, Minnesota",
           "MIN"
          ],
          [
           "Mitchell, Elijah",
           "SFO"
          ],
          [
           "Jones, Deion",
           "ATL"
          ],
          [
           "Meyers, Jakobi",
           "NEP"
          ],
          [
           "Aiyuk, Brandon",
           "SFO"
          ],
          [
           "Broncos, Denver",
           "DEN"
          ],
          [
           "Okereke, Bobby",
           "IND"
          ],
          [
           "Quinn, Robert",
           "CHI"
          ],
          [
           "Bosa, Joey",
           "LAC"
          ],
          [
           "Hicks, Jordan",
           "ARI"
          ],
          [
           "White, Devin",
           "TBB"
          ],
          [
           "Harris, Deonte",
           "NOS"
          ],
          [
           "Pitts, Kyle",
           "ATL"
          ],
          [
           "Dolphins, Miami",
           "MIA"
          ],
          [
           "Henderson, Darrell",
           "LAR"
          ],
          [
           "Cardinals, Arizona",
           "ARI"
          ],
          [
           "Bourne, Kendrick",
           "NEP"
          ],
          [
           "Jets, New York",
           "NYJ"
          ],
          [
           "James, Derwin",
           "LAC"
          ],
          [
           "Michel, Sony",
           "LAR"
          ],
          [
           "Byard, Kevin",
           "TEN"
          ],
          [
           "Smith, Harrison",
           "MIN"
          ],
          [
           "Ravens, Baltimore",
           "BAL"
          ],
          [
           "Brown, A.J.",
           "TEN"
          ],
          [
           "Bears, Chicago",
           "CHI"
          ],
          [
           "Hendrickson, Trey",
           "CIN"
          ],
          [
           "Packers, Green Bay",
           "GBP"
          ],
          [
           "Giants, New York",
           "NYG"
          ],
          [
           "Fitzpatrick, Minkah",
           "PIT"
          ],
          [
           "Moore, Kenny",
           "IND"
          ],
          [
           "Allen, Josh",
           "JAC"
          ],
          [
           "Woods, Xavier",
           "MIN"
          ],
          [
           "Colts, Indianapolis",
           "IND"
          ],
          [
           "Patriots, New England",
           "NEP"
          ],
          [
           "Wilkins, Christian",
           "MIA"
          ],
          [
           "Diggs, Trevon",
           "DAL"
          ],
          [
           "Bengals, Cincinnati",
           "CIN"
          ],
          [
           "Falcons, Atlanta",
           "ATL"
          ],
          [
           "Ravens, Baltimore",
           "BAL"
          ],
          [
           "Warner, Fred",
           "SFO"
          ],
          [
           "Edwards, T.J.",
           "PHI"
          ],
          [
           "Goedert, Dallas",
           "PHI"
          ],
          [
           "Ertz, Zach",
           "ARI"
          ],
          [
           "Jefferson, Van",
           "LAR"
          ],
          [
           "Carter, DeAndre",
           "WAS"
          ],
          [
           "Gesicki, Mike",
           "MIA"
          ],
          [
           "Knox, Dawson",
           "BUF"
          ],
          [
           "Burns, Brian",
           "CAR"
          ],
          [
           "Patriots, New England",
           "NEP"
          ],
          [
           "Harris, Charles",
           "DET"
          ],
          [
           "Pringle, Byron",
           "KCC"
          ],
          [
           "Simmons, Isaiah",
           "ARI"
          ],
          [
           "Grugier-Hill, Kamu",
           "HOU"
          ],
          [
           "Rams, Los Angeles",
           "LAR"
          ],
          [
           "Carter, Michael",
           "NYJ"
          ],
          [
           "Titans, Tennessee",
           "TEN"
          ],
          [
           "Williams, Leonard",
           "NYG"
          ],
          [
           "Steelers, Pittsburgh",
           "PIT"
          ],
          [
           "Williams, Quincy",
           "NYJ"
          ],
          [
           "Hubbard, Sam",
           "CIN"
          ],
          [
           "Chiefs, Kansas City",
           "KCC"
          ],
          [
           "Fant, Noah",
           "DEN"
          ],
          [
           "Jones, Marvin",
           "JAC"
          ],
          [
           "Rams, Los Angeles",
           "LAR"
          ],
          [
           "Chinn, Jeremy",
           "CAR"
          ],
          [
           "Browns, Cleveland",
           "CLE"
          ],
          [
           "49ers, San Francisco",
           "SFO"
          ],
          [
           "Steelers, Pittsburgh",
           "PIT"
          ],
          [
           "Duvernay, Devin",
           "BAL"
          ],
          [
           "Poyer, Jordan",
           "BUF"
          ],
          [
           "Bengals, Cincinnati",
           "CIN"
          ],
          [
           "Thompson, Jalen",
           "ARI"
          ],
          [
           "Buckner, DeForest",
           "IND"
          ],
          [
           "Landry, Harold",
           "TEN"
          ],
          [
           "Raiders, Las Vegas",
           "LVR"
          ],
          [
           "Osborn, K.J.",
           "MIN"
          ],
          [
           "King, Desmond",
           "HOU"
          ],
          [
           "Ryan, Logan",
           "NYG"
          ],
          [
           "Baker, Budda",
           "ARI"
          ],
          [
           "Simmons, Jeffery",
           "TEN"
          ],
          [
           "Crowder, Tae",
           "NYG"
          ],
          [
           "Moore, Rondale",
           "ARI"
          ],
          [
           "Bell, Vonn",
           "CIN"
          ],
          [
           "Baker, Jerome",
           "MIA"
          ],
          [
           "Kearse, Jayron",
           "DAL"
          ],
          [
           "Booker, Devontae",
           "NYG"
          ],
          [
           "Buccaneers, Tampa Bay",
           "TBB"
          ],
          [
           "Hyde, Micah",
           "BUF"
          ],
          [
           "Dugger, Kyle",
           "NEP"
          ],
          [
           "Freeman, Devonta",
           "BAL"
          ],
          [
           "Wilson, Logan",
           "CIN"
          ],
          [
           "Green, A.J.",
           "ARI"
          ],
          [
           "Callaway, Marquez",
           "NOS"
          ],
          [
           "Beasley, Cole",
           "BUF"
          ],
          [
           "Panthers, Carolina",
           "CAR"
          ],
          [
           "Barkley, Saquon",
           "NYG"
          ],
          [
           "Hargrave, Javon",
           "PHI"
          ],
          [
           "McCloud, Ray-Ray",
           "PIT"
          ],
          [
           "Diggs, Quandre",
           "SEA"
          ],
          [
           "Claypool, Chase",
           "PIT"
          ],
          [
           "Henry, Hunter",
           "NEP"
          ],
          [
           "Hubbard, Chuba",
           "CAR"
          ],
          [
           "Allen, Jonathan",
           "WAS"
          ],
          [
           "Gronkowski, Rob",
           "TBB"
          ],
          [
           "Al-Shaair, Azeez",
           "SFO"
          ],
          [
           "Edmonds, Chase",
           "ARI"
          ],
          [
           "Vikings, Minnesota",
           "MIN"
          ],
          [
           "Simmons, Justin",
           "DEN"
          ],
          [
           "Jackson, J.C.",
           "NEP"
          ],
          [
           "Colts, Indianapolis",
           "IND"
          ],
          [
           "Hockenson, T.J.",
           "DET"
          ],
          [
           "Moore, Elijah",
           "NYJ"
          ],
          [
           "Ogbah, Emmanuel",
           "MIA"
          ],
          [
           "Thompson, Shaq",
           "CAR"
          ],
          [
           "Chiefs, Kansas City",
           "KCC"
          ],
          [
           "Eagles, Philadelphia",
           "PHI"
          ],
          [
           "McKinney, Xavier",
           "NYG"
          ],
          [
           "Schobert, Joe",
           "PIT"
          ],
          [
           "Sutton, Courtland",
           "DEN"
          ],
          [
           "Hopkins, DeAndre",
           "ARI"
          ],
          [
           "Abram, Johnathan",
           "LVR"
          ],
          [
           "Barrett, Shaq",
           "TBB"
          ],
          [
           "Floyd, Leonard",
           "LAR"
          ],
          [
           "Davis, Demario",
           "NOS"
          ],
          [
           "Hardman, Mecole",
           "KCC"
          ],
          [
           "Cardinals, Arizona",
           "ARI"
          ],
          [
           "Davis, Mike",
           "ATL"
          ],
          [
           "David, Lavonte",
           "TBB"
          ],
          [
           "Patrick, Tim",
           "DEN"
          ],
          [
           "Brown, Anthony",
           "DAL"
          ],
          [
           "Eagles, Philadelphia",
           "PHI"
          ],
          [
           "Freiermuth, Pat",
           "PIT"
          ],
          [
           "Herbert, Khalil",
           "CHI"
          ],
          [
           "Woods, Robert",
           "LAR"
          ],
          [
           "Douglas, Rasul",
           "GBP"
          ],
          [
           "Bills, Buffalo",
           "BUF"
          ],
          [
           "Mathieu, Tyrann",
           "KCC"
          ],
          [
           "Queen, Patrick",
           "BAL"
          ],
          [
           "Judon, Matt",
           "NEP"
          ],
          [
           "Ramsey, Jalen",
           "LAR"
          ],
          [
           "Winfield, Antoine",
           "TBB"
          ],
          [
           "Packers, Green Bay",
           "GBP"
          ],
          [
           "Rapp, Taylor",
           "LAR"
          ],
          [
           "Conklin, Tyler",
           "MIN"
          ],
          [
           "Gage, Russell",
           "ATL"
          ],
          [
           "Amos, Adrian",
           "GBP"
          ],
          [
           "Fuller, Jordan",
           "LAR"
          ],
          [
           "Cowboys, Dallas",
           "DAL"
          ],
          [
           "Mattison, Alexander",
           "MIN"
          ],
          [
           "Phillips, Adrian",
           "NEP"
          ],
          [
           "Sanders, Emmanuel",
           "BUF"
          ],
          [
           "Golden, Markus",
           "ARI"
          ],
          [
           "Walker, Anthony",
           "CLE"
          ],
          [
           "Pratt, Germaine",
           "CIN"
          ],
          [
           "Agnew, Jamal",
           "JAC"
          ],
          [
           "Edmunds, Tremaine",
           "BUF"
          ],
          [
           "Jones, Chandler",
           "ARI"
          ],
          [
           "Collins, Landon",
           "WAS"
          ],
          [
           "Bentley, Ja'Whaun",
           "NEP"
          ],
          [
           "Edwards-Helaire, Clyde",
           "KCC"
          ],
          [
           "Raymond, Kalif",
           "DET"
          ],
          [
           "Terrell, A.J.",
           "ATL"
          ],
          [
           "Dallas, DeeJay",
           "SEA"
          ],
          [
           "Giants, New York",
           "NYG"
          ],
          [
           "Murphy, Byron",
           "ARI"
          ],
          [
           "Wilson, Damien",
           "JAC"
          ],
          [
           "Bates, Jessie",
           "CIN"
          ],
          [
           "McCaffrey, Christian",
           "CAR"
          ],
          [
           "Holland, Jevon",
           "MIA"
          ],
          [
           "49ers, San Francisco",
           "SFO"
          ],
          [
           "Bills, Buffalo",
           "BUF"
          ],
          [
           "Bolton, Nick",
           "KCC"
          ],
          [
           "Broncos, Denver",
           "DEN"
          ],
          [
           "Sanders, Miles",
           "PHI"
          ],
          [
           "Wilson, Cedrick",
           "DAL"
          ],
          [
           "Waller, Darren",
           "LVR"
          ],
          [
           "Van Noy, Kyle",
           "NEP"
          ],
          [
           "Ingram, Mark",
           "NOS"
          ],
          [
           "Williams, Quinnen",
           "NYJ"
          ],
          [
           "Ogunjobi, Larry",
           "CIN"
          ],
          [
           "Beckham, Odell",
           "LAR"
          ],
          [
           "Gipson, Trevis",
           "CHI"
          ],
          [
           "Jones, Brandon",
           "MIA"
          ],
          [
           "Stevenson, Rhamondre",
           "NEP"
          ],
          [
           "Falcons, Atlanta",
           "ATL"
          ],
          [
           "Walker, Tracy",
           "DET"
          ],
          [
           "Williams, Jamaal",
           "DET"
          ],
          [
           "Curl, Kamren",
           "WAS"
          ],
          [
           "Sweat, Josh",
           "PHI"
          ],
          [
           "Phillips, Jaelan",
           "MIA"
          ],
          [
           "Uzomah, C.J.",
           "CIN"
          ],
          [
           "Reagor, Jalen",
           "PHI"
          ],
          [
           "Titans, Tennessee",
           "TEN"
          ],
          [
           "Greenard, Jonathan",
           "HOU"
          ],
          [
           "Ngakoue, Yannick",
           "LVR"
          ],
          [
           "Fuller, Kendall",
           "WAS"
          ],
          [
           "Hines, Nyheim",
           "IND"
          ],
          [
           "Green, Rasheem",
           "SEA"
          ],
          [
           "Johnson, Taron",
           "BUF"
          ],
          [
           "Lattimore, Marshon",
           "NOS"
          ],
          [
           "Adderley, Nasir",
           "LAC"
          ],
          [
           "Johnson, Austin",
           "NYG"
          ],
          [
           "Panthers, Carolina",
           "CAR"
          ],
          [
           "Davenport, Marcus",
           "NOS"
          ],
          [
           "Sneed, L'Jarius",
           "KCC"
          ],
          [
           "Crosby, Maxx",
           "LVR"
          ],
          [
           "Edmunds, Terrell",
           "PIT"
          ],
          [
           "Buccaneers, Tampa Bay",
           "TBB"
          ],
          [
           "Slay, Darius",
           "PHI"
          ],
          [
           "Howard, Xavien",
           "MIA"
          ],
          [
           "Lewis, Jourdan",
           "DAL"
          ],
          [
           "Jones, Chris",
           "KCC"
          ],
          [
           "Shenault, Laviska",
           "JAC"
          ],
          [
           "Jackson, Kareem",
           "DEN"
          ],
          [
           "Milano, Matt",
           "BUF"
          ],
          [
           "Higbee, Tyler",
           "LAR"
          ],
          [
           "Wormley, Chris",
           "PIT"
          ],
          [
           "Roberts, Elandon",
           "MIA"
          ],
          [
           "Anderson, Robby",
           "CAR"
          ],
          [
           "Lazard, Allen",
           "GBP"
          ],
          [
           "Cook, Jared",
           "LAC"
          ],
          [
           "Oruwariye, Amani",
           "DET"
          ],
          [
           "Adams, Jamal",
           "SEA"
          ],
          [
           "Jack, Myles",
           "JAC"
          ],
          [
           "Harris, Shelby",
           "DEN"
          ],
          [
           "Hall, Bryce",
           "NYJ"
          ],
          [
           "Rousseau, Gregory",
           "BUF"
          ],
          [
           "Johnson, Ty",
           "NYJ"
          ],
          [
           "Reed, D.J.",
           "SEA"
          ],
          [
           "Brown, Antonio",
           "FA"
          ],
          [
           "Clark, Chuck",
           "BAL"
          ],
          [
           "Maddox, Avonte",
           "PHI"
          ],
          [
           "Autry, Denico",
           "TEN"
          ],
          [
           "Davis, Gabriel",
           "BUF"
          ],
          [
           "Highsmith, Alex",
           "PIT"
          ],
          [
           "Surtain II, Patrick",
           "DEN"
          ],
          [
           "Wingard, Andrew",
           "JAC"
          ],
          [
           "Hill, B.J.",
           "CIN"
          ],
          [
           "Thomas, Tavierre",
           "HOU"
          ],
          [
           "Wonnum, D.J.",
           "MIN"
          ],
          [
           "Littleton, Cory",
           "LVR"
          ],
          [
           "Payne, Da'Ron",
           "WAS"
          ],
          [
           "Jenkins, Malcolm",
           "NOS"
          ],
          [
           "Clowney, Jadeveon",
           "CLE"
          ],
          [
           "Williams, Marcus",
           "NOS"
          ],
          [
           "Bolden, Brandon",
           "NEP"
          ],
          [
           "Kirksey, Christian",
           "HOU"
          ],
          [
           "McKissic, J.D.",
           "WAS"
          ],
          [
           "Muhammad, Al-Quadin",
           "IND"
          ],
          [
           "Sieler, Zach",
           "MIA"
          ],
          [
           "Kmet, Cole",
           "CHI"
          ],
          [
           "FootballTeam, Washington",
           "WAS"
          ],
          [
           "Drake, Kenyan",
           "LVR"
          ],
          [
           "Landry, Jarvis",
           "CLE"
          ],
          [
           "Gary, Rashan",
           "GBP"
          ],
          [
           "Harris, Will",
           "DET"
          ],
          [
           "Reeder, Troy",
           "LAR"
          ],
          [
           "Dunlap, Carlos",
           "SEA"
          ],
          [
           "Everett, Gerald",
           "SEA"
          ],
          [
           "Whitehead, Jordan",
           "TBB"
          ],
          [
           "Peoples-Jones, Donovan",
           "CLE"
          ],
          [
           "Hunt, Kareem",
           "CLE"
          ],
          [
           "Rogers, Chester",
           "TEN"
          ],
          [
           "Bowser, Tyus",
           "BAL"
          ],
          [
           "Awuzie, Chidobe",
           "CIN"
          ],
          [
           "Scott, Boston",
           "PHI"
          ],
          [
           "Lions, Detroit",
           "DET"
          ],
          [
           "Chargers, Los Angeles",
           "LAC"
          ],
          [
           "Ward, Jimmie",
           "SFO"
          ],
          [
           "Owusu-Koramoah, Jeremiah",
           "CLE"
          ],
          [
           "Penny, Rashaad",
           "SEA"
          ],
          [
           "Gainwell, Kenneth",
           "PHI"
          ],
          [
           "Anzalone, Alex",
           "DET"
          ],
          [
           "Jones, D.J.",
           "SFO"
          ],
          [
           "Smith, Preston",
           "GBP"
          ],
          [
           "Ogletree, Alec",
           "CHI"
          ],
          [
           "Watkins, Quez",
           "PHI"
          ],
          [
           "Moss, Zack",
           "BUF"
          ],
          [
           "Rodgers, Isaiah",
           "IND"
          ],
          [
           "Van Ginkel, Andrew",
           "MIA"
          ],
          [
           "Dolphins, Miami",
           "MIA"
          ],
          [
           "McKenzie, Isaiah",
           "BUF"
          ],
          [
           "Taylor, Darrell",
           "SEA"
          ],
          [
           "Young, Kenny",
           "DEN"
          ],
          [
           "Chargers, Los Angeles",
           "LAC"
          ],
          [
           "Mitchell, Terrance",
           "HOU"
          ],
          [
           "Burkhead, Rex",
           "HOU"
          ],
          [
           "Grant, Jakeem",
           "CHI"
          ],
          [
           "Gaines, Greg",
           "LAR"
          ],
          [
           "Jackson, Donte",
           "CAR"
          ],
          [
           "Clark, Kenny",
           "GBP"
          ],
          [
           "Crowder, Jamison",
           "NYJ"
          ],
          [
           "Reeves-Maybin, Jalen",
           "DET"
          ],
          [
           "Barnes, Krys",
           "GBP"
          ],
          [
           "Breeland, Bashaud",
           "FA"
          ],
          [
           "Vigil, Nick",
           "MIN"
          ],
          [
           "Watts, Armon",
           "MIN"
          ],
          [
           "Njoku, David",
           "CLE"
          ],
          [
           "Needham, Nik",
           "MIA"
          ],
          [
           "Bears, Chicago",
           "CHI"
          ],
          [
           "Franklin-Myers, John",
           "NYJ"
          ],
          [
           "Davis, Ashtyn",
           "NYJ"
          ],
          [
           "Armstead, Arik",
           "SFO"
          ],
          [
           "Davis, Corey",
           "NYJ"
          ],
          [
           "Hughes, Mike",
           "KCC"
          ],
          [
           "Allen, Zach",
           "ARI"
          ],
          [
           "Tillery, Jerry",
           "LAC"
          ],
          [
           "Armstrong, Dorance",
           "DAL"
          ],
          [
           "Jarrett, Grady",
           "ATL"
          ],
          [
           "Norman, Josh",
           "SFO"
          ],
          [
           "Abdullah, Ameer",
           "CAR"
          ],
          [
           "Bradberry, James",
           "NYG"
          ],
          [
           "Jones, Zay",
           "LVR"
          ],
          [
           "Robinson, A'Shawn",
           "LAR"
          ],
          [
           "Ojulari, Azeez",
           "NYG"
          ],
          [
           "Hunter, Danielle",
           "MIN"
          ],
          [
           "Williams, P.J.",
           "NOS"
          ],
          [
           "Echols, Brandin",
           "NYJ"
          ],
          [
           "Rowe, Eric",
           "MIA"
          ],
          [
           "Cox, Fletcher",
           "PHI"
          ],
          [
           "Parker, DeVante",
           "MIA"
          ],
          [
           "Hilton, Mike",
           "CIN"
          ],
          [
           "McCourty, Devin",
           "NEP"
          ],
          [
           "Engram, Evan",
           "NYG"
          ],
          [
           "Cunningham, Zach",
           "TEN"
          ],
          [
           "Foreman, D'Onta",
           "TEN"
          ],
          [
           "Fowler, Dante",
           "ATL"
          ],
          [
           "Guy, Lawrence",
           "NEP"
          ],
          [
           "Johnson, D'Ernest",
           "CLE"
          ],
          [
           "Agholor, Nelson",
           "NEP"
          ],
          [
           "Adebo, Paulson",
           "NOS"
          ],
          [
           "Hobbs, Nate",
           "LVR"
          ],
          [
           "Averett, Anthony",
           "BAL"
          ],
          [
           "Seahawks, Seattle",
           "SEA"
          ],
          [
           "Long, David",
           "TEN"
          ],
          [
           "Ward, Charvarius",
           "KCC"
          ],
          [
           "Williams, Darious",
           "LAR"
          ],
          [
           "Reid, Justin",
           "HOU"
          ],
          [
           "Dulin, Ashton",
           "IND"
          ],
          [
           "Bush, Devin",
           "PIT"
          ],
          [
           "Bateman, Rashod",
           "BAL"
          ],
          [
           "Jefferson, Quinton",
           "LVR"
          ],
          [
           "Smoot, Dawuane",
           "JAC"
          ],
          [
           "Johnson, John",
           "CLE"
          ],
          [
           "Jones, Dre'Mont",
           "DEN"
          ],
          [
           "Swain, Freddie",
           "SEA"
          ],
          [
           "Sorensen, Daniel",
           "KCC"
          ],
          [
           "Campbell, Tyson",
           "JAC"
          ],
          [
           "Edwards, Bryan",
           "LVR"
          ],
          [
           "Jenkins, Rayshawn",
           "JAC"
          ],
          [
           "McCain, Bobby",
           "WAS"
          ],
          [
           "Humphrey, Marlon",
           "BAL"
          ],
          [
           "Godchaux, Davon",
           "NEP"
          ],
          [
           "Jets, New York",
           "NYJ"
          ],
          [
           "Murray, Latavius",
           "BAL"
          ],
          [
           "Wallace, Levi",
           "BUF"
          ],
          [
           "Pascal, Zach",
           "IND"
          ],
          [
           "Lawrence, Dexter",
           "NYG"
          ],
          [
           "Zaccheaus, Olamide",
           "ATL"
          ],
          [
           "Gregory, Randy",
           "DAL"
          ],
          [
           "Edwards, Mike",
           "TBB"
          ],
          [
           "Lowry, Dean",
           "GBP"
          ],
          [
           "Jackson, Eddie",
           "CHI"
          ],
          [
           "Barr, Anthony",
           "MIN"
          ],
          [
           "Delpit, Grant",
           "CLE"
          ],
          [
           "Tranquill, Drue",
           "LAC"
          ],
          [
           "Hooper, Austin",
           "CLE"
          ],
          [
           "Ward, Denzel",
           "CLE"
          ],
          [
           "Carter, Michael",
           "NYJ"
          ],
          [
           "Bynes, Josh",
           "BAL"
          ],
          [
           "Savage, Darnell",
           "GBP"
          ],
          [
           "Jackson, Justin",
           "LAC"
          ],
          [
           "Willis, Khari",
           "IND"
          ],
          [
           "Texans, Houston",
           "HOU"
          ],
          [
           "Browns, Cleveland",
           "CLE"
          ],
          [
           "Harmon, Duron",
           "ATL"
          ],
          [
           "Jones, Ronald",
           "TBB"
          ],
          [
           "Cobb, Randall",
           "GBP"
          ],
          [
           "Jones, Ernest",
           "LAR"
          ],
          [
           "Westbrook-Ikhine, Nick",
           "TEN"
          ],
          [
           "Murray, Eric",
           "HOU"
          ],
          [
           "Harris, Erik",
           "ATL"
          ],
          [
           "Brown, Derrick",
           "CAR"
          ],
          [
           "Wise, Deatrich",
           "NEP"
          ],
          [
           "Vander Esch, Leighton",
           "DAL"
          ],
          [
           "Nichols, Bilal",
           "CHI"
          ],
          [
           "Hitchens, Anthony",
           "KCC"
          ],
          [
           "Miller, Von",
           "LAR"
          ],
          [
           "Saints, New Orleans",
           "NOS"
          ],
          [
           "Felton, Demetric",
           "CLE"
          ],
          [
           "Perine, Samaje",
           "CIN"
          ],
          [
           "Reed, Jarran",
           "KCC"
          ],
          [
           "Roberts, Andre",
           "LAC"
          ],
          [
           "Moreau, Foster",
           "LVR"
          ],
          [
           "Covington, Christian",
           "LAC"
          ],
          [
           "Guyton, Jalen",
           "LAC"
          ],
          [
           "Jackson, Adoree",
           "NYG"
          ],
          [
           "Molden, Elijah",
           "TEN"
          ],
          [
           "Brown, Malcom",
           "JAC"
          ],
          [
           "Gallup, Michael",
           "DAL"
          ],
          [
           "Stephens, Brandon",
           "BAL"
          ],
          [
           "Joseph, Linval",
           "LAC"
          ],
          [
           "Carter, Jermaine",
           "CAR"
          ],
          [
           "Ruggs, Henry",
           "FA"
          ],
          [
           "Woods, Al",
           "SEA"
          ],
          [
           "Davis, Jamin",
           "WAS"
          ],
          [
           "Jones, Byron",
           "MIA"
          ],
          [
           "Williams, K'Waun",
           "SFO"
          ],
          [
           "Richardson, Sheldon",
           "MIN"
          ],
          [
           "Thornhill, Juan",
           "KCC"
          ],
          [
           "Oliver, Ed",
           "BUF"
          ],
          [
           "Apple, Eli",
           "CIN"
          ],
          [
           "Stokes, Eric",
           "GBP"
          ],
          [
           "Love, Julian",
           "NYG"
          ],
          [
           "Reed, Malik",
           "DEN"
          ],
          [
           "Harris, Anthony",
           "PHI"
          ],
          [
           "Blackson, Angelo",
           "CHI"
          ],
          [
           "Hooker, Amani",
           "TEN"
          ],
          [
           "Odum, George",
           "IND"
          ],
          [
           "Sweat, Montez",
           "WAS"
          ],
          [
           "Alexander, Kwon",
           "NOS"
          ],
          [
           "Golladay, Kenny",
           "NYG"
          ],
          [
           "Thomas, Solomon",
           "LVR"
          ],
          [
           "Johnson, Lonnie",
           "HOU"
          ],
          [
           "Gholston, William",
           "TBB"
          ],
          [
           "Vea, Vita",
           "TBB"
          ],
          [
           "Gardner-Johnson, Chauncey",
           "NOS"
          ],
          [
           "Harrison, Ronnie",
           "CLE"
          ],
          [
           "Oweh, Jayson",
           "BAL"
          ],
          [
           "Valdes-Scantling, Marquez",
           "GBP"
          ],
          [
           "Hightower, Dont'a",
           "NEP"
          ],
          [
           "Suh, Ndamukong",
           "TBB"
          ],
          [
           "Evans, Rashaan",
           "TEN"
          ],
          [
           "Pierre, James",
           "PIT"
          ],
          [
           "Carter, Lorenzo",
           "NYG"
          ],
          [
           "Phillips, Harrison",
           "BUF"
          ],
          [
           "Davis, Michael",
           "LAC"
          ],
          [
           "Collins, Alex",
           "SEA"
          ],
          [
           "Coleman, Tevin",
           "NYJ"
          ],
          [
           "Toney, Kadarius",
           "NYG"
          ],
          [
           "Bryant, Austin",
           "DET"
          ],
          [
           "Igwebuike, Godwin",
           "DET"
          ],
          [
           "Moreau, Fabian",
           "ATL"
          ],
          [
           "Amadi, Ugo",
           "SEA"
          ],
          [
           "Robinson, Allen",
           "CHI"
          ],
          [
           "Campbell, Calais",
           "BAL"
          ],
          [
           "Jones, Sidney",
           "SEA"
          ],
          [
           "Neal, Keanu",
           "DAL"
          ],
          [
           "Shepard, Sterling",
           "NYG"
          ],
          [
           "Dean, Jamel",
           "TBB"
          ],
          [
           "Epps, Marcus",
           "PHI"
          ],
          [
           "Barnett, Derek",
           "PHI"
          ],
          [
           "Houston-Carson, DeAndre",
           "CHI"
          ],
          [
           "Hilliard, Dontrell",
           "TEN"
          ],
          [
           "Howard, Jordan",
           "PHI"
          ],
          [
           "McLeod, Rodney",
           "PHI"
          ],
          [
           "Joseph-Day, Sebastian",
           "LAR"
          ],
          [
           "Palmer, Josh",
           "LAC"
          ],
          [
           "Robertson-Harris, Roy",
           "JAC"
          ],
          [
           "Reynolds, Josh",
           "DET"
          ],
          [
           "Brockers, Michael",
           "DET"
          ],
          [
           "Ragland, Reggie",
           "NYG"
          ],
          [
           "Williams, Greedy",
           "CLE"
          ],
          [
           "Niemann, Ben",
           "KCC"
          ],
          [
           "Jenkins, Janoris",
           "TEN"
          ],
          [
           "Addison, Mario",
           "BUF"
          ],
          [
           "Barnes, Derrick",
           "DET"
          ],
          [
           "Humphries, Adam",
           "WAS"
          ],
          [
           "Sutton, Cameron",
           "PIT"
          ],
          [
           "Kazee, Damontae",
           "DAL"
          ],
          [
           "Paye, Kwity",
           "IND"
          ],
          [
           "Jeudy, Jerry",
           "DEN"
          ],
          [
           "Hollins, Mack",
           "MIA"
          ],
          [
           "Williams, Avery",
           "ATL"
          ],
          [
           "Wilson, Marco",
           "ARI"
          ],
          [
           "Nwosu, Uchenna",
           "LAC"
          ],
          [
           "Ford, Johnathan",
           "JAC"
          ],
          [
           "Stewart, Grover",
           "IND"
          ],
          [
           "Johnson, Jaylon",
           "CHI"
          ],
          [
           "Doyle, Jack",
           "IND"
          ],
          [
           "Jackson, DeSean",
           "LVR"
          ],
          [
           "Reader, D.J.",
           "CIN"
          ],
          [
           "Tartt, Jaquiski",
           "SFO"
          ],
          [
           "Hamilton, Davon",
           "JAC"
          ],
          [
           "Campbell, Tevaughn",
           "LAC"
          ],
          [
           "Key, Arden",
           "SFO"
          ],
          [
           "Facyson, Brandon",
           "LVR"
          ],
          [
           "Basham, Tarell",
           "DAL"
          ],
          [
           "Okwuegbunam, Albert",
           "DEN"
          ],
          [
           "Cole, Keelan",
           "NYJ"
          ],
          [
           "Alie-Cox, Mo",
           "IND"
          ],
          [
           "Brate, Cameron",
           "TBB"
          ],
          [
           "Smith, Malcolm",
           "CLE"
          ],
          [
           "Darby, Ronald",
           "DEN"
          ],
          [
           "Marlowe, Dean",
           "DET"
          ],
          [
           "Gipson, Tashaun",
           "CHI"
          ],
          [
           "Gross-Matos, Yetur",
           "CAR"
          ],
          [
           "Dantzler, Cameron",
           "MIN"
          ],
          [
           "Arnold, Dan",
           "JAC"
          ],
          [
           "Clark, Frank",
           "KCC"
          ],
          [
           "Pierre-Paul, Jason",
           "TBB"
          ],
          [
           "Collins, Nico",
           "HOU"
          ],
          [
           "Moehrig, Trevon",
           "LVR"
          ],
          [
           "McDowell, Malik",
           "CLE"
          ],
          [
           "Nelson, Steven",
           "PHI"
          ],
          [
           "Smith, Tre'Quan",
           "NOS"
          ],
          [
           "Ebukam, Samson",
           "SFO"
          ],
          [
           "Griffin, Ryan",
           "NYJ"
          ],
          [
           "Jaguars, Jacksonville",
           "JAC"
          ],
          [
           "Olszewski, Gunner",
           "NEP"
          ],
          [
           "Brown, Jayon",
           "TEN"
          ],
          [
           "Johnson, David",
           "HOU"
          ],
          [
           "Ford, Poona",
           "SEA"
          ],
          [
           "Homer, Travis",
           "SEA"
          ],
          [
           "Jackson, William",
           "WAS"
          ],
          [
           "Barmore, Christian",
           "NEP"
          ],
          [
           "Fenton, Rashad",
           "KCC"
          ],
          [
           "Luvu, Frankie",
           "CAR"
          ],
          [
           "Treadwell, Laquon",
           "JAC"
          ],
          [
           "Hill, Troy",
           "CLE"
          ],
          [
           "Swaim, Geoff",
           "TEN"
          ],
          [
           "Werner, Pete",
           "NOS"
          ],
          [
           "Fulton, Kristian",
           "TEN"
          ],
          [
           "Parker, AJ",
           "DET"
          ],
          [
           "Ridley, Calvin",
           "ATL"
          ],
          [
           "Smith, Jonnu",
           "NEP"
          ],
          [
           "Samuel, Asante",
           "LAC"
          ],
          [
           "Bryant, Myles",
           "NEP"
          ],
          [
           "Lawrence, Demarcus",
           "DAL"
          ],
          [
           "Firkser, Anthony",
           "TEN"
          ],
          [
           "Seals-Jones, Ricky",
           "WAS"
          ],
          [
           "Watkins, Carlos",
           "DAL"
          ],
          [
           "Griffin, Shaq",
           "JAC"
          ],
          [
           "Madubuike, Justin",
           "BAL"
          ],
          [
           "Okwara, Julian",
           "DET"
          ],
          [
           "Kpassagnon, Tanoh",
           "NOS"
          ],
          [
           "Wharton, Tershawn",
           "KCC"
          ],
          [
           "White, Tre'Davious",
           "BUF"
          ],
          [
           "Watkins, Sammy",
           "BAL"
          ],
          [
           "McNichols, Jeremy",
           "FA"
          ],
          [
           "Hicks, Akiem",
           "CHI"
          ],
          [
           "Hayward, Casey",
           "LVR"
          ],
          [
           "Nnadi, Derrick",
           "KCC"
          ],
          [
           "Tuttle, Shy",
           "NOS"
          ],
          [
           "Neal, Ryan",
           "SEA"
          ],
          [
           "Davis, Carlton",
           "TBB"
          ],
          [
           "Ioannidis, Matt",
           "WAS"
          ],
          [
           "Odighizuwa, Osa",
           "DAL"
          ],
          [
           "Rankins, Sheldon",
           "NYJ"
          ],
          [
           "Jones, Justin",
           "LAC"
          ],
          [
           "Smith, Tremon",
           "HOU"
          ],
          [
           "Griffen, Everson",
           "MIN"
          ],
          [
           "Hilton, T.Y.",
           "IND"
          ],
          [
           "Smythe, Durham",
           "MIA"
          ],
          [
           "Gay, Willie",
           "KCC"
          ],
          [
           "Alexander, Mackensie",
           "MIN"
          ],
          [
           "Fatukasi, Foley",
           "NYJ"
          ],
          [
           "Danna, Michael",
           "KCC"
          ],
          [
           "Johnson, Tyler",
           "TBB"
          ],
          [
           "Wilson, Jeffery",
           "SFO"
          ],
          [
           "Fox, Morgan",
           "CAR"
          ],
          [
           "Jones, Julio",
           "TEN"
          ],
          [
           "Rhodes, Xavier",
           "IND"
          ],
          [
           "Jones, Naquan",
           "TEN"
          ],
          [
           "Houston, Justin",
           "BAL"
          ],
          [
           "Young, Tavon",
           "BAL"
          ],
          [
           "Vildor, Kindle",
           "CHI"
          ],
          [
           "Mills, Jalen",
           "NEP"
          ],
          [
           "Stewart, M.J.",
           "CLE"
          ],
          [
           "Street, Kentavius",
           "SFO"
          ],
          [
           "Washington, James",
           "PIT"
          ],
          [
           "Conley, Chris",
           "HOU"
          ],
          [
           "Golston, Chauncey",
           "DAL"
          ],
          [
           "Means, Steven",
           "ATL"
          ],
          [
           "Robinson, Demarcus",
           "KCC"
          ],
          [
           "Bush, Deon",
           "CHI"
          ],
          [
           "Maye, Marcus",
           "NYJ"
          ],
          [
           "Mone, Bryan",
           "SEA"
          ],
          [
           "Williams, DeShawn",
           "DEN"
          ],
          [
           "Hewitt, Neville",
           "HOU"
          ],
          [
           "Bryant, Harrison",
           "CLE"
          ],
          [
           "Juszczyk, Kyle",
           "SFO"
          ],
          [
           "Tomlinson, Dalvin",
           "MIN"
          ],
          [
           "Walker, DeMarcus",
           "HOU"
          ],
          [
           "Gotsis, Adam",
           "JAC"
          ],
          [
           "Slayton, Darius",
           "NYG"
          ],
          [
           "Chandler, Sean",
           "CAR"
          ],
          [
           "Granderson, Carl",
           "NOS"
          ],
          [
           "Guidry, Javelin",
           "NYJ"
          ],
          [
           "Maulet, Art",
           "PIT"
          ],
          [
           "McNeill, Alim",
           "DET"
          ],
          [
           "Jones, DaQuan",
           "CAR"
          ],
          [
           "Onwuzurike, Levi",
           "DET"
          ],
          [
           "Scott, Nick",
           "LAR"
          ],
          [
           "Collins, Maliek",
           "HOU"
          ],
          [
           "Roche, Quincy",
           "NYG"
          ],
          [
           "Lynch, Blake",
           "MIN"
          ],
          [
           "Young, Chase",
           "WAS"
          ],
          [
           "Browning, Baron",
           "DEN"
          ],
          [
           "Jacobs, Jerry",
           "DET"
          ],
          [
           "Cockrell, Ross",
           "TBB"
          ],
          [
           "Martin, Jake",
           "HOU"
          ],
          [
           "Mack, Khalil",
           "CHI"
          ],
          [
           "Hurst, Hayden",
           "ATL"
          ],
          [
           "Fuller, Kyle",
           "DEN"
          ],
          [
           "Jackson, Dane",
           "BUF"
          ],
          [
           "Long, David",
           "LAR"
          ],
          [
           "Barber, Peyton",
           "LVR"
          ],
          [
           "Harris, Marcell",
           "SFO"
          ],
          [
           "Jennings, Jauan",
           "SFO"
          ],
          [
           "Sendejo, Andrew",
           "IND"
          ],
          [
           "Keke, Kingsley",
           "FA"
          ],
          [
           "Klein, A.J.",
           "BUF"
          ],
          [
           "Alford, Robert",
           "ARI"
          ],
          [
           "Sullivan, Chandon",
           "GBP"
          ],
          [
           "Cruikshank, Dane",
           "TEN"
          ],
          [
           "Moseley, Emmanuel",
           "SFO"
          ],
          [
           "Norwood, Tre",
           "PIT"
          ],
          [
           "Phillips, Jordan",
           "ARI"
          ],
          [
           "Zylstra, Brandon",
           "CAR"
          ],
          [
           "Harris, Chris",
           "LAC"
          ],
          [
           "Schwartz, Anthony",
           "CLE"
          ],
          [
           "Philon, Darius",
           "LVR"
          ],
          [
           "Speed, E.J.",
           "IND"
          ],
          [
           "Parham, Donald",
           "LAC"
          ],
          [
           "Pierce, Michael",
           "MIN"
          ],
          [
           "Sims, Cam",
           "WAS"
          ],
          [
           "Gore, Derrick",
           "KCC"
          ],
          [
           "Williams, Damien",
           "CHI"
          ],
          [
           "Ogundeji, Adetokunbo",
           "ATL"
          ],
          [
           "Patterson, Jaret",
           "WAS"
          ],
          [
           "Desir, Pierre",
           "TBB"
          ],
          [
           "Hooker, Malik",
           "DAL"
          ],
          [
           "Taylor, Davion",
           "PHI"
          ],
          [
           "Bernard, Giovani",
           "TBB"
          ],
          [
           "Black, Henry",
           "GBP"
          ],
          [
           "Hyder, Kerry",
           "SEA"
          ],
          [
           "Ya-Sin, Rock",
           "IND"
          ],
          [
           "Murphy-Bunting, Sean",
           "TBB"
          ],
          [
           "Hasty, JaMycal",
           "SFO"
          ],
          [
           "Nwangwu, Kene",
           "MIN"
          ],
          [
           "Newsome, Greg",
           "CLE"
          ],
          [
           "Johnson, Alexander",
           "DEN"
          ],
          [
           "Cooper, Jonathon",
           "DEN"
          ],
          [
           "Higgins, Rashard",
           "CLE"
          ],
          [
           "Lindsay, Phillip",
           "MIA"
          ],
          [
           "Chaisson, K'Lavon",
           "JAC"
          ],
          [
           "Austin, Tavon",
           "JAC"
          ],
          [
           "Spillane, Robert",
           "PIT"
          ],
          [
           "Flowers, Trey",
           "DET"
          ],
          [
           "Jordan, Brevin",
           "HOU"
          ],
          [
           "Trautman, Adam",
           "NOS"
          ],
          [
           "Weatherly, Stephen",
           "DEN"
          ],
          [
           "Mercilus, Whitney",
           "GBP"
          ],
          [
           "Grant, Richie",
           "ATL"
          ],
          [
           "Dissly, Will",
           "SEA"
          ],
          [
           "Ogunbowale, Dare",
           "JAC"
          ],
          [
           "Rudolph, Kyle",
           "NYG"
          ],
          [
           "Carson, Chris",
           "SEA"
          ],
          [
           "Wilson, Eric",
           "HOU"
          ],
          [
           "Williams, Milton",
           "PHI"
          ],
          [
           "Haden, Joe",
           "PIT"
          ],
          [
           "Takitaki, Sione",
           "CLE"
          ],
          [
           "Byrd, Damiere",
           "CHI"
          ],
          [
           "Onyemata, David",
           "NOS"
          ],
          [
           "Lynch, James",
           "MIN"
          ],
          [
           "Thomas, Logan",
           "WAS"
          ],
          [
           "Turay, Kemoko",
           "IND"
          ],
          [
           "Bates, John",
           "WAS"
          ],
          [
           "Goodwin, Marquise",
           "CHI"
          ],
          [
           "Taylor, Keith",
           "CAR"
          ],
          [
           "Blacklock, Ross",
           "HOU"
          ],
          [
           "Franklin, Zaire",
           "IND"
          ],
          [
           "Ward, Jihad",
           "JAC"
          ],
          [
           "Tremble, Tommy",
           "CAR"
          ],
          [
           "Avery, Genard",
           "PHI"
          ],
          [
           "Lawson, Shaq",
           "FA"
          ],
          [
           "Coleman, Justin",
           "MIA"
          ],
          [
           "Walker, Mykal",
           "ATL"
          ],
          [
           "Hyde, Carlos",
           "JAC"
          ],
          [
           "Tryon, Joe",
           "TBB"
          ],
          [
           "Wesley, Antoine",
           "ARI"
          ],
          [
           "Sterns, Caden",
           "DEN"
          ],
          [
           "Nassib, Carl",
           "LVR"
          ],
          [
           "Peterson, Patrick",
           "MIN"
          ],
          [
           "Shelley, Duke",
           "CHI"
          ],
          [
           "Hankins, Johnathan",
           "LVR"
          ],
          [
           "Mayowa, Benson",
           "SEA"
          ],
          [
           "Holmes, Darnay",
           "NYG"
          ],
          [
           "Gilman, Alohi",
           "LAC"
          ],
          [
           "Lopez, Roy",
           "HOU"
          ],
          [
           "O'Shaughnessy, James",
           "JAC"
          ],
          [
           "Blackmon, Julian",
           "IND"
          ],
          [
           "Davidson, Marlon",
           "ATL"
          ],
          [
           "Bynum, Camryn",
           "MIN"
          ],
          [
           "McKinley, Takkarist",
           "CLE"
          ],
          [
           "Riley, Elijah",
           "NYJ"
          ],
          [
           "Lewis, Terrell",
           "LAR"
          ],
          [
           "Pruitt, MyCole",
           "TEN"
          ],
          [
           "Tonyan, Robert",
           "GBP"
          ],
          [
           "Okafor, Alex",
           "KCC"
          ],
          [
           "Wright, K.J.",
           "LVR"
          ],
          [
           "Sharpe, Tajae",
           "ATL"
          ],
          [
           "Moore, Chris",
           "HOU"
          ],
          [
           "Johnson, Duke",
           "MIA"
          ],
          [
           "Anderson, Stephen",
           "LAC"
          ],
          [
           "Wilson, Albert",
           "MIA"
          ],
          [
           "Cephus, Quintez",
           "DET"
          ],
          [
           "Robinson, Alton",
           "SEA"
          ],
          [
           "Breida, Matt",
           "BUF"
          ],
          [
           "Hamilton, Antonio",
           "ARI"
          ],
          [
           "Henderson, CJ",
           "CAR"
          ],
          [
           "Darden, Jaelon",
           "TBB"
          ],
          [
           "Peppers, Jabrill",
           "NYG"
          ],
          [
           "Graham, Jimmy",
           "CHI"
          ],
          [
           "Deablo, Divine",
           "LVR"
          ],
          [
           "Jackson, Chris",
           "TEN"
          ],
          [
           "Smith-Williams, James",
           "WAS"
          ],
          [
           "Haynes, Marquis",
           "CAR"
          ],
          [
           "Willis, Jordan",
           "SFO"
          ],
          [
           "Humphrey, Lil'Jordan",
           "NOS"
          ],
          [
           "Hughes, Jerry",
           "BUF"
          ],
          [
           "Purcell, Mike",
           "DEN"
          ],
          [
           "Wilson, Mack",
           "CLE"
          ],
          [
           "Jenkins, Jordan",
           "HOU"
          ],
          [
           "Griffith, Jonas",
           "DEN"
          ],
          [
           "Lotulelei, Star",
           "BUF"
          ],
          [
           "Witherspoon, Ahkello",
           "PIT"
          ],
          [
           "Penny, Elijhaa",
           "NYG"
          ],
          [
           "Smith, Jaylon",
           "NYG"
          ],
          [
           "Dogbe, Michael",
           "ARI"
          ],
          [
           "Roby, Bradley",
           "NOS"
          ],
          [
           "Tuszka, Derrek",
           "PIT"
          ],
          [
           "Johnson, Juwan",
           "NOS"
          ],
          [
           "Obada, Efe",
           "BUF"
          ],
          [
           "Bouye, A.J.",
           "CAR"
          ],
          [
           "Nelson, Anthony",
           "TBB"
          ],
          [
           "Loudermilk, Isaiahh",
           "PIT"
          ],
          [
           "Williams, Brandon",
           "BAL"
          ],
          [
           "Deguara, Josiah",
           "GBP"
          ],
          [
           "Minter, Kevin",
           "TBB"
          ],
          [
           "Ridgeway, Hassan",
           "PHI"
          ],
          [
           "Grayson, Cyril",
           "TBB"
          ],
          [
           "Hargreaves, Vernon",
           "CIN"
          ],
          [
           "Stallworth, Taylor",
           "IND"
          ],
          [
           "Ahmed, Salvon",
           "MIA"
          ],
          [
           "Hartsfield, Myles",
           "CAR"
          ],
          [
           "Lewis, Tyquan",
           "IND"
          ],
          [
           "Roy, Bravvion",
           "CAR"
          ],
          [
           "Collins, Jamie",
           "NEP"
          ],
          [
           "Slaton, Tedarrell",
           "GBP"
          ],
          [
           "Turner, Malik",
           "DAL"
          ],
          [
           "Davis-Gaither, Akeem",
           "CIN"
          ],
          [
           "Leavitt, Dallin",
           "LVR"
          ],
          [
           "Lewis, Marcedes",
           "GBP"
          ],
          [
           "Ross, John",
           "NYG"
          ],
          [
           "Flowers, Tre",
           "CIN"
          ],
          [
           "Strnad, Justin",
           "DEN"
          ],
          [
           "Shelton, Danny",
           "NYG"
          ],
          [
           "Ringo, Christian",
           "NOS"
          ],
          [
           "Akins, Jordan",
           "HOU"
          ],
          [
           "Claybrooks, Chris",
           "JAC"
          ],
          [
           "Hollins, Justin",
           "LAR"
          ],
          [
           "Williams, Ty'Son",
           "BAL"
          ],
          [
           "Elliott, DeShon",
           "BAL"
          ],
          [
           "Butler, Adam",
           "MIA"
          ],
          [
           "Blair, Ronald",
           "FA"
          ],
          [
           "Callahan, Bryce",
           "DEN"
          ],
          [
           "Burks, Oren",
           "GBP"
          ],
          [
           "Montgomery, Ty",
           "NOS"
          ],
          [
           "Lawson, Nevin",
           "JAC"
          ],
          [
           "Spencer, Diontae",
           "DEN"
          ],
          [
           "Rodgers, Amari",
           "GBP"
          ],
          [
           "Stephen, Shamar",
           "DEN"
          ],
          [
           "Williams, Nick",
           "DET"
          ],
          [
           "Hufanga, Talanoa",
           "SFO"
          ],
          [
           "Phillips, Darius",
           "CIN"
          ],
          [
           "Williams, Maxx",
           "ARI"
          ],
          [
           "Ford, Isaiah",
           "MIA"
          ],
          [
           "Lancaster, Tyler",
           "GBP"
          ],
          [
           "Reynolds, Craig",
           "DET"
          ],
          [
           "Kroft, Tyler",
           "NYJ"
          ],
          [
           "Skowronek, Ben",
           "LAR"
          ],
          [
           "Fackrell, Kyler",
           "LAC"
          ],
          [
           "Dupree, Bud",
           "TEN"
          ],
          [
           "Hawkins, Jaylinn",
           "ATL"
          ],
          [
           "Thomas, Ian",
           "CAR"
          ],
          [
           "Davis, Raekwon",
           "MIA"
          ],
          [
           "Copeland, Brandon",
           "ATL"
          ],
          [
           "King, Kevin",
           "GBP"
          ],
          [
           "Westbrook, Dede",
           "MIN"
          ],
          [
           "Freeman, Royce",
           "HOU"
          ],
          [
           "Rice, Monty",
           "TEN"
          ],
          [
           "Hodge, KhaDarel",
           "DET"
          ],
          [
           "Johnson, Marcus",
           "TEN"
          ],
          [
           "Cannon, Trenton",
           "SFO"
          ],
          [
           "Hall, Darren",
           "ATL"
          ],
          [
           "Mickens, Jaydon",
           "JAC"
          ],
          [
           "Adeniyi, Ola",
           "TEN"
          ],
          [
           "Deayon, Donte",
           "LAR"
          ],
          [
           "Bryan, Taven",
           "JAC"
          ],
          [
           "Brown, Pharaoh",
           "HOU"
          ],
          [
           "Davison, Tyeler",
           "ATL"
          ],
          [
           "Amendola, Danny",
           "HOU"
          ],
          [
           "Goldman, Eddie",
           "CHI"
          ],
          [
           "Jackson, Malik",
           "CLE"
          ],
          [
           "Board, Chris",
           "BAL"
          ],
          [
           "Clement, Corey",
           "DAL"
          ],
          [
           "Okoronkwo, Ogbonnia",
           "LAR"
          ],
          [
           "Thomas, Ambry",
           "SFO"
          ],
          [
           "Phillips, Del'Shawn",
           "NYJ"
          ],
          [
           "Boyd, Kris",
           "MIN"
          ],
          [
           "Watt, J.J.",
           "ARI"
          ],
          [
           "Baun, Zack",
           "NOS"
          ],
          [
           "Evans, Chris",
           "CIN"
          ],
          [
           "Proche, James",
           "BAL"
          ],
          [
           "Ogbongbemiga, Amen",
           "LAC"
          ],
          [
           "Basham, Carlos",
           "BUF"
          ],
          [
           "Sermon, Trey",
           "SFO"
          ],
          [
           "Davis, Carl",
           "NEP"
          ],
          [
           "Mullen, Trayvon",
           "LVR"
          ],
          [
           "St-Juste, Benjamin",
           "WAS"
          ],
          [
           "Benjamin, Eno",
           "ARI"
          ],
          [
           "Bachie, Joe",
           "CIN"
          ],
          [
           "Shepherd, Nathan",
           "NYJ"
          ],
          [
           "Sanu, Mohamed",
           "SFO"
          ],
          [
           "Burris, Juston",
           "CAR"
          ],
          [
           "Woods, Josh",
           "DET"
          ],
          [
           "Carrie, T.J.",
           "IND"
          ],
          [
           "Day, Sheldon",
           "CLE"
          ],
          [
           "Mayo, David",
           "WAS"
          ],
          [
           "Brown, Noah",
           "DAL"
          ],
          [
           "Elliott, Jordan",
           "CLE"
          ],
          [
           "Toohill, Casey",
           "WAS"
          ],
          [
           "Jackson, Tarron",
           "PHI"
          ],
          [
           "Cooper, Pharoh",
           "FA"
          ],
          [
           "Erickson, Alex",
           "CAR"
          ],
          [
           "Johnson, Jaleel",
           "HOU"
          ],
          [
           "Gilmore, Stephon",
           "CAR"
          ],
          [
           "Johnson, Dontae",
           "SFO"
          ],
          [
           "Bailey, Markus",
           "CIN"
          ],
          [
           "Cisco, Andre",
           "JAC"
          ],
          [
           "Smith-Schuster, JuJu",
           "PIT"
          ],
          [
           "Ward, Greg",
           "PHI"
          ],
          [
           "Bell, Le'Veon",
           "FA"
          ],
          [
           "Eskridge, D'Wayne",
           "SEA"
          ],
          [
           "Jackson, Joe",
           "KCC"
          ],
          [
           "Mondeaux, Henry",
           "PIT"
          ],
          [
           "Neal, Siran",
           "BUF"
          ],
          [
           "Ford, Dee",
           "SFO"
          ],
          [
           "Green, A.J.",
           "CLE"
          ],
          [
           "Ingram, Melvin",
           "KCC"
          ],
          [
           "McKinney, Benardrick",
           "NYG"
          ],
          [
           "Quarterman, Shaquille",
           "JAC"
          ],
          [
           "Chark, D.J.",
           "JAC"
          ],
          [
           "Jones, Jonathan",
           "NEP"
          ],
          [
           "Peterson, Adrian",
           "FA"
          ],
          [
           "Sample, Cameron",
           "CIN"
          ],
          [
           "Fotu, Leki",
           "ARI"
          ],
          [
           "Huff, Bryce",
           "NYJ"
          ],
          [
           "Reaves, Jeremy",
           "WAS"
          ],
          [
           "Rumph, Chris",
           "LAC"
          ],
          [
           "Robinson, Aaron",
           "NYG"
          ],
          [
           "Board, C.J.",
           "NYG"
          ],
          [
           "Rountree, Larry",
           "LAC"
          ],
          [
           "Howard, O.J.",
           "TBB"
          ],
          [
           "Adams, Andrew",
           "TBB"
          ],
          [
           "Burns, Artie",
           "CHI"
          ],
          [
           "Jarwin, Blake",
           "DAL"
          ],
          [
           "Tonga, Khyiris",
           "CHI"
          ],
          [
           "Marshall, Terrace",
           "CAR"
          ],
          [
           "Ebron, Eric",
           "PIT"
          ],
          [
           "Wallow, Garret",
           "HOU"
          ],
          [
           "Barton, Cody",
           "SEA"
          ],
          [
           "Wilson, Donovan",
           "DAL"
          ],
          [
           "Davis, Jarrad",
           "NYJ"
          ],
          [
           "Campbell, Parris",
           "IND"
          ],
          [
           "Uche, Josh",
           "NEP"
          ],
          [
           "Rush, Anthony",
           "ATL"
          ],
          [
           "Washington, Broderick",
           "BAL"
          ],
          [
           "Richard, Jalen",
           "LVR"
          ],
          [
           "Niemann, Nick",
           "LAC"
          ],
          [
           "Brown, Dyami",
           "WAS"
          ],
          [
           "Kwiatkoski, Nick",
           "LVR"
          ],
          [
           "Peters, Corey",
           "ARI"
          ],
          [
           "Johnson, Danny",
           "WAS"
          ],
          [
           "Tuioti-Mariner, Jacob",
           "CAR"
          ],
          [
           "Collins, Zaven",
           "ARI"
          ],
          [
           "Murray, Kenneth",
           "LAC"
          ],
          [
           "Riley, Duke",
           "MIA"
          ],
          [
           "Williams, Joejuan",
           "NEP"
          ],
          [
           "Bullard, Jonathan",
           "ATL"
          ],
          [
           "Matakevich, Tyler",
           "BUF"
          ],
          [
           "Omenihu, Charles",
           "SFO"
          ],
          [
           "St. Brown, Equanimeous",
           "GBP"
          ],
          [
           "Vaughn, Ke'Shawn",
           "TBB"
          ],
          [
           "Bellore, Nick",
           "SEA"
          ],
          [
           "Hart, Penny",
           "SEA"
          ],
          [
           "Skrine, Buster",
           "TEN"
          ],
          [
           "Gentry, Zach",
           "PIT"
          ],
          [
           "Rochell, Robert",
           "LAR"
          ],
          [
           "Gardeck, Dennis",
           "ARI"
          ],
          [
           "Owens, Jonathan",
           "HOU"
          ],
          [
           "Kennard, Devon",
           "ARI"
          ],
          [
           "Smith, Keith",
           "ATL"
          ],
          [
           "Charlton, Taco",
           "PIT"
          ],
          [
           "Sherfield, Trent",
           "SFO"
          ],
          [
           "Delaney, Dee",
           "TBB"
          ],
          [
           "Harrison, Malik",
           "BAL"
          ],
          [
           "Pennel, Mike",
           "ATL"
          ],
          [
           "Harry, N'Keal",
           "NEP"
          ],
          [
           "Epenesa, A.J.",
           "BUF"
          ],
          [
           "Ferrell, Clelin",
           "LVR"
          ],
          [
           "Pettis, Dante",
           "NYG"
          ],
          [
           "Flannigan-Fowles, Demetrius",
           "SFO"
          ],
          [
           "Gray, J.T.",
           "NOS"
          ],
          [
           "Price, Bobby",
           "DET"
          ],
          [
           "Neasman, Sharrod",
           "FA"
          ],
          [
           "Ingold, Alec",
           "LVR"
          ],
          [
           "Seymour, Kevon",
           "BAL"
          ],
          [
           "Turner, Payton",
           "NOS"
          ],
          [
           "Wilson, Brandon",
           "CIN"
          ],
          [
           "Jones, Christian",
           "CHI"
          ],
          [
           "Moore, C.J.",
           "DET"
          ],
          [
           "Brown, Malcolm",
           "MIA"
          ],
          [
           "Wright, Brock",
           "DET"
          ],
          [
           "Stevenson, Marquez",
           "BUF"
          ],
          [
           "Watt, Derek",
           "PIT"
          ],
          [
           "Willekes, Kenny",
           "MIN"
          ],
          [
           "White, James",
           "NEP"
          ],
          [
           "Thomas, Daniel",
           "JAC"
          ],
          [
           "Jones, Tony",
           "NOS"
          ],
          [
           "Jefferson, Jermar",
           "DET"
          ],
          [
           "McKinnon, Jerick",
           "KCC"
          ],
          [
           "Vannett, Nick",
           "NOS"
          ],
          [
           "James, Jesse",
           "CHI"
          ],
          [
           "Crossen, Keion",
           "NYG"
          ],
          [
           "Alexander, Jaire",
           "GBP"
          ],
          [
           "Garvin, Jonathan",
           "GBP"
          ],
          [
           "Givens, Kevin",
           "SFO"
          ],
          [
           "Jenkins, John",
           "MIA"
          ],
          [
           "Tart, Teair",
           "TEN"
          ],
          [
           "Wilson, Jarrod",
           "FA"
          ],
          [
           "Ham, C.J.",
           "MIN"
          ],
          [
           "Farley, Matthias",
           "TEN"
          ],
          [
           "Bostic, Jon",
           "WAS"
          ],
          [
           "Martinez, Blake",
           "NYG"
          ],
          [
           "Chubb, Bradley",
           "DEN"
          ],
          [
           "McCourty, Jason",
           "MIA"
          ],
          [
           "Williams, Jarren",
           "NYG"
          ],
          [
           "McPhee, Pernell",
           "BAL"
          ],
          [
           "Lemonier, Jessie",
           "DET"
          ],
          [
           "Phillips, Kyle",
           "NYJ"
          ],
          [
           "Robertson, Amik",
           "LVR"
          ],
          [
           "Sherman, Richard",
           "TBB"
          ],
          [
           "Snell, Benny",
           "PIT"
          ],
          [
           "Watts, Armani",
           "KCC"
          ],
          [
           "Greenlaw, Dre",
           "SFO"
          ],
          [
           "Howard, Travin",
           "LAR"
          ],
          [
           "Kemp, Marcus",
           "KCC"
          ],
          [
           "Mclendon, Steve",
           "TBB"
          ],
          [
           "Cabinda, Jason",
           "DET"
          ],
          [
           "Franklin, Sam",
           "CAR"
          ],
          [
           "Killebrew, Miles",
           "PIT"
          ],
          [
           "Powell, Brandon",
           "LAR"
          ],
          [
           "Perriman, Breshad",
           "TBB"
          ],
          [
           "Rivers, Derek",
           "HOU"
          ],
          [
           "Taylor, J.J.",
           "NEP"
          ],
          [
           "Cole, Dylan",
           "TEN"
          ],
          [
           "Ellis, Justin",
           "BAL"
          ],
          [
           "Stone, Geno",
           "BAL"
          ],
          [
           "Burton, Michael",
           "KCC"
          ],
          [
           "Elliss, Kaden",
           "NOS"
          ],
          [
           "Lenoir, Deommodore",
           "SFO"
          ],
          [
           "Roberson, Derick",
           "TEN"
          ],
          [
           "Gilbert, Ulysees",
           "PIT"
          ],
          [
           "Ekuale, Daniel",
           "FA"
          ],
          [
           "Oliver, Isaiah",
           "ATL"
          ],
          [
           "Smith, Lee",
           "ATL"
          ],
          [
           "Ankou, Eli",
           "BUF"
          ],
          [
           "Jefferson, Tony",
           "BAL"
          ],
          [
           "Walter, Austin",
           "NYJ"
          ],
          [
           "Woerner, Charlie",
           "SFO"
          ],
          [
           "Buggs, Isaiah",
           "FA"
          ],
          [
           "Gill, Cam",
           "TBB"
          ],
          [
           "Johnson, Jaquan",
           "BUF"
          ],
          [
           "Layne, Justin",
           "PIT"
          ],
          [
           "Rochell, Isaac",
           "IND"
          ],
          [
           "Settle, Tim",
           "WAS"
          ],
          [
           "Shaheen, Adam",
           "MIA"
          ],
          [
           "Togiai, Tommy",
           "CLE"
          ],
          [
           "Baker, Deandre",
           "KCC"
          ],
          [
           "Bradley, Shaun",
           "PHI"
          ],
          [
           "Saubert, Eric",
           "DEN"
          ],
          [
           "Johnson, Collin",
           "NYG"
          ],
          [
           "Teamer, Roderic",
           "LVR"
          ],
          [
           "Westry, Chris",
           "BAL"
          ],
          [
           "Hill, Kylin",
           "GBP"
          ],
          [
           "Benson, Trinity",
           "DET"
          ],
          [
           "Harris, Demetrius",
           "ARI"
          ],
          [
           "Gaziano, Joe",
           "LAC"
          ],
          [
           "Holmes, Jalyn",
           "NOS"
          ],
          [
           "Washington, Dwayne",
           "NOS"
          ],
          [
           "Ollison, Qadree",
           "ATL"
          ],
          [
           "Bethel, Justin",
           "NEP"
          ],
          [
           "Fortson, Jody",
           "KCC"
          ],
          [
           "Eguavoen, Sam",
           "MIA"
          ],
          [
           "Arcega-Whiteside, JJ",
           "PHI"
          ],
          [
           "Granson, Kylen",
           "IND"
          ],
          [
           "Ward, Jonathan",
           "ARI"
          ],
          [
           "Dowell, Andrew",
           "NOS"
          ],
          [
           "Johnston, Clay",
           "CIN"
          ],
          [
           "Oliver, Josh",
           "BAL"
          ],
          [
           "Stanford, Julian",
           "CAR"
          ],
          [
           "Stuard, Grant",
           "TBB"
          ],
          [
           "Gallimore, Neville",
           "DAL"
          ],
          [
           "Mims, Denzel",
           "NYJ"
          ],
          [
           "Edwards, Mario",
           "CHI"
          ],
          [
           "Kelley, Joshua",
           "LAC"
          ],
          [
           "Manhertz, Chris",
           "JAC"
          ],
          [
           "Johnson, Patrick",
           "PHI"
          ],
          [
           "Kiser, Micah",
           "DEN"
          ],
          [
           "Melvin, Rashaan",
           "CAR"
          ],
          [
           "Nkemdiche, Robert",
           "SEA"
          ],
          [
           "Russell, Chapelle",
           "JAC"
          ],
          [
           "Smith, Jimmy",
           "BAL"
          ],
          [
           "Vaughters, James",
           "ATL"
          ],
          [
           "Pittman, Anthony",
           "DET"
          ],
          [
           "Robinson, Kenny",
           "CAR"
          ],
          [
           "Morgan, Stanley",
           "CIN"
          ],
          [
           "Sample, Drew",
           "CIN"
          ],
          [
           "Trevathan, Danny",
           "CHI"
          ],
          [
           "Wallace, Tylan",
           "BAL"
          ],
          [
           "Smith, Jeff",
           "NYJ"
          ],
          [
           "Wilkerson, Kristian",
           "NEP"
          ],
          [
           "Adams, Montravius",
           "PIT"
          ],
          [
           "Bronson, Josiah",
           "DAL"
          ],
          [
           "Smith, Shi",
           "CAR"
          ],
          [
           "Bell, Blake",
           "KCC"
          ],
          [
           "Colbert, Adrian",
           "FA"
          ],
          [
           "Crawford, Xavier",
           "CHI"
          ],
          [
           "Gallman, Wayne",
           "MIN"
          ],
          [
           "Sweeney, Tommy",
           "BUF"
          ],
          [
           "Trufant, Desmond",
           "LVR"
          ],
          [
           "Dorsett, Phillip",
           "HOU"
          ],
          [
           "Heath, Jeff",
           "NOS"
          ],
          [
           "Williams, Jonathan",
           "WAS"
          ],
          [
           "Hollister, Jacob",
           "JAC"
          ],
          [
           "Horsted, Jesper",
           "CHI"
          ],
          [
           "Stills, Kenny",
           "NOS"
          ],
          [
           "Huggins, Albert",
           "NOS"
          ],
          [
           "Koonce, Malcolm",
           "LVR"
          ],
          [
           "Nunez-Roches, Rakeem",
           "TBB"
          ],
          [
           "Odeyingbo, Dayo",
           "IND"
          ],
          [
           "Penisini, John",
           "DET"
          ],
          [
           "Ward, Tim",
           "NYJ"
          ],
          [
           "Ximines, Oshane",
           "NYG"
          ],
          [
           "Dodson, Tyrel",
           "BUF"
          ],
          [
           "Lee, Elijah",
           "CLE"
          ],
          [
           "Marshall, Trey",
           "LAC"
          ],
          [
           "Gray, Noah",
           "KCC"
          ],
          [
           "Adams, Matthew",
           "IND"
          ],
          [
           "Dye, Troy",
           "MIN"
          ],
          [
           "Herndon, Tre",
           "JAC"
          ],
          [
           "McCray, Lerentee",
           "JAC"
          ],
          [
           "Pinnock, Jason",
           "NYJ"
          ],
          [
           "Zimmer, Justin",
           "BUF"
          ],
          [
           "Batson, Cameron",
           "TEN"
          ],
          [
           "Fitzpatrick, Dez",
           "TEN"
          ],
          [
           "Smith, Chris",
           "HOU"
          ],
          [
           "Graham, Thomas",
           "CHI"
          ],
          [
           "Mack, Marlon",
           "IND"
          ],
          [
           "Melifonwu, Ifeatu",
           "DET"
          ],
          [
           "Scarlett, Brennan",
           "MIA"
          ],
          [
           "Agim, McTelvin",
           "DEN"
          ],
          [
           "Addae, Jahleel",
           "IND"
          ],
          [
           "Brooks, Terrence",
           "HOU"
          ],
          [
           "Jewell, Josey",
           "DEN"
          ],
          [
           "Sherwood, Jamien",
           "NYJ"
          ],
          [
           "Armah, Alexander",
           "WAS"
          ],
          [
           "Dwelley, Ross",
           "SFO"
          ],
          [
           "Ricard, Patrick",
           "BAL"
          ],
          [
           "Auclair, Antony",
           "HOU"
          ],
          [
           "Butler, Vernon",
           "BUF"
          ],
          [
           "Hunt, Margus",
           "CHI"
          ],
          [
           "Lawrence, Rashard",
           "ARI"
          ],
          [
           "Rhattigan, Jon",
           "SEA"
          ],
          [
           "Tavai, Jahlani",
           "NEP"
          ],
          [
           "Green, T.J.",
           "HOU"
          ],
          [
           "Janovich, Andy",
           "CLE"
          ],
          [
           "Galeai, Tipa",
           "GBP"
          ],
          [
           "Zuniga, Jabari",
           "NYJ"
          ],
          [
           "Allen, Ricardo",
           "CIN"
          ],
          [
           "Davis, Cody",
           "NEP"
          ],
          [
           "Thomas, Joe",
           "FA"
          ],
          [
           "Vallejo, Tanner",
           "ARI"
          ],
          [
           "Reid, John",
           "SEA"
          ],
          [
           "Roach, Malcolm",
           "NOS"
          ],
          [
           "Okwara, Romeo",
           "DET"
          ],
          [
           "Hogan, Chris",
           "FA"
          ],
          [
           "Graham, Ta'Quon",
           "ATL"
          ],
          [
           "Hamilton, Justin",
           "DEN"
          ],
          [
           "Levine, Anthony",
           "FA"
          ],
          [
           "McPhearson, Zech",
           "PHI"
          ],
          [
           "Toney, Shaka",
           "WAS"
          ],
          [
           "Milne, Dax",
           "WAS"
          ],
          [
           "Moore, A.J.",
           "HOU"
          ],
          [
           "Pierre-Louis, Kevin",
           "HOU"
          ],
          [
           "Wesco, Trevon",
           "NYJ"
          ],
          [
           "Smith-Marsette, Ihmir",
           "MIN"
          ],
          [
           "Square, Damion",
           "CIN"
          ],
          [
           "Brown, Tre",
           "SEA"
          ],
          [
           "Christian, Marqui",
           "CHI"
          ],
          [
           "Hairston, Nate",
           "DEN"
          ],
          [
           "Mabin, Greg",
           "TEN"
          ],
          [
           "Hill, K.J.",
           "FA"
          ],
          [
           "Harris, Jonathan",
           "DEN"
          ],
          [
           "Hill, Trysten",
           "DAL"
          ],
          [
           "Johnson, Raymond",
           "NYG"
          ],
          [
           "Smith, Elerson",
           "NYG"
          ],
          [
           "Tupou, Josh",
           "CIN"
          ],
          [
           "Tate, Auden",
           "CIN"
          ],
          [
           "White, Kevin",
           "NOS"
          ],
          [
           "Allen, Dakota",
           "JAC"
          ],
          [
           "Summers, Ty",
           "GBP"
          ],
          [
           "Hoskins, Phil",
           "CAR"
          ],
          [
           "Atwell, Tutu",
           "LAR"
          ],
          [
           "Blake, Christian",
           "ATL"
          ],
          [
           "Davis, Tyler",
           "GBP"
          ],
          [
           "Miller, Anthony",
           "PIT"
          ],
          [
           "Johnson, Tyron",
           "LVR"
          ],
          [
           "Miller, Scott",
           "TBB"
          ],
          [
           "Kumerow, Jake",
           "BUF"
          ],
          [
           "White, Cody",
           "PIT"
          ],
          [
           "Dzubnar, Nick",
           "TEN"
          ],
          [
           "Kennedy, Tom",
           "DET"
          ],
          [
           "Nixon, Keisean",
           "LVR"
          ],
          [
           "Williams, Shawn",
           "ATL"
          ],
          [
           "Yiadom, Isaac",
           "FA"
          ],
          [
           "Gordon, Josh",
           "KCC"
          ],
          [
           "Joseph, Kelvin",
           "DAL"
          ],
          [
           "Dortch, Greg",
           "ARI"
          ],
          [
           "Copeland, Marquise",
           "LAR"
          ],
          [
           "Herndon, Chris",
           "MIN"
          ],
          [
           "Kinlaw, Javon",
           "SFO"
          ],
          [
           "Nixon, Daviyon",
           "CAR"
          ],
          [
           "Odenigbo, Ifeadi",
           "CLE"
          ],
          [
           "Williams, Preston",
           "MIA"
          ],
          [
           "McKeon, Sean",
           "DAL"
          ],
          [
           "Webster, Nsimba",
           "CHI"
          ],
          [
           "Carter, Cethan",
           "MIA"
          ],
          [
           "Austin, Blessuan",
           "SEA"
          ],
          [
           "Chachere, Andre",
           "PHI"
          ],
          [
           "Elliott, Jalen",
           "DET"
          ],
          [
           "Lewis, Cam",
           "BUF"
          ],
          [
           "Munson, Calvin",
           "MIA"
          ],
          [
           "Reed, J.R.",
           "NYG"
          ],
          [
           "Bradley, Ja'Marcus",
           "CLE"
          ],
          [
           "Dunn, Isaiah",
           "NYJ"
          ],
          [
           "Gifford, Luke",
           "DAL"
          ],
          [
           "Gustin, Porter",
           "CLE"
          ],
          [
           "Wallace, K'Von",
           "PHI"
          ],
          [
           "Kareem, Khalid",
           "CIN"
          ],
          [
           "Thomas, Mike",
           "CIN"
          ],
          [
           "Bohanna, Quinton",
           "DAL"
          ],
          [
           "Hoecht, Michael",
           "LAR"
          ],
          [
           "Slater, Matt",
           "NEP"
          ],
          [
           "Wilson, Tavon",
           "SFO"
          ],
          [
           "Marsh, Cassius",
           "CHI"
          ],
          [
           "Davis, Jalen",
           "CIN"
          ],
          [
           "Jones, Jamir",
           "JAC"
          ],
          [
           "Lee, Marquel",
           "LVR"
          ],
          [
           "Walker, Joe",
           "ARI"
          ],
          [
           "Winovich, Chase",
           "NEP"
          ],
          [
           "Horn, Jaycee",
           "CAR"
          ],
          [
           "Farrell, Luke",
           "JAC"
          ],
          [
           "Samuel, Curtis",
           "WAS"
          ],
          [
           "Blair, Marquise",
           "SEA"
          ],
          [
           "Winston, Easop",
           "NOS"
          ],
          [
           "Hamler, KJ",
           "DEN"
          ],
          [
           "Taylor, Malik",
           "GBP"
          ],
          [
           "Thomas, Michael",
           "CIN"
          ],
          [
           "Jones, Taiwan",
           "BUF"
          ],
          [
           "Patrick, Aaron",
           "DEN"
          ],
          [
           "Waynes, Trae",
           "CIN"
          ],
          [
           "Welch, Kristian",
           "BAL"
          ],
          [
           "Wright, Nahshon",
           "DAL"
          ],
          [
           "Dafney, Dominique",
           "GBP"
          ],
          [
           "Smith, Andre",
           "BUF"
          ],
          [
           "Brightwell, Gary",
           "NYG"
          ],
          [
           "Jackson, Deon",
           "IND"
          ],
          [
           "Mack, Isaiah",
           "BAL"
          ],
          [
           "Phillips, Jacob",
           "CLE"
          ],
          [
           "Brown, Cam",
           "NYG"
          ],
          [
           "Everett, Deshazor",
           "WAS"
          ],
          [
           "Harris, Davontae",
           "LAC"
          ],
          [
           "Kamara, Sam",
           "CHI"
          ],
          [
           "Stoll, Jack",
           "PHI"
          ],
          [
           "Collier, L.J.",
           "SEA"
          ],
          [
           "Iyiegbuniwe, Joel",
           "CHI"
          ],
          [
           "Johnson, Caleb",
           "CHI"
          ],
          [
           "Jones, Patrick",
           "MIN"
          ],
          [
           "Murchison, Larrell",
           "TEN"
          ],
          [
           "Griffin, Garrett",
           "NOS"
          ],
          [
           "Myarick, Chris",
           "FA"
          ],
          [
           "Allen, Marcus",
           "PIT"
          ],
          [
           "Boone, Mike",
           "DEN"
          ],
          [
           "Bootle, DiCaprio",
           "KCC"
          ],
          [
           "Goodwin, C.J.",
           "DAL"
          ],
          [
           "Hardee, Justin",
           "NYJ"
          ],
          [
           "Johnson, Jakob",
           "NEP"
          ],
          [
           "King, Brandon",
           "NEP"
          ],
          [
           "McKitty, Tre'",
           "LAC"
          ],
          [
           "Ray, Wyatt",
           "CIN"
          ],
          [
           "Tabor, Teez",
           "CHI"
          ],
          [
           "Taylor, Trent",
           "CIN"
          ],
          [
           "Funk, Jake",
           "LAR"
          ],
          [
           "Smith, Kaden",
           "NYG"
          ],
          [
           "Hall, Kemon",
           "LAC"
          ],
          [
           "Natson, JoJo",
           "FA"
          ],
          [
           "Patmon, Dezmon",
           "IND"
          ],
          [
           "Harris, Trent",
           "NYG"
          ],
          [
           "Jones, Chris",
           "TEN"
          ],
          [
           "Ricci, Giovanni",
           "CAR"
          ],
          [
           "Saunders, Khalen",
           "KCC"
          ],
          [
           "Simon, John",
           "PIT"
          ],
          [
           "Britt, K.J.",
           "TBB"
          ],
          [
           "Hudson, Khaleke",
           "WAS"
          ],
          [
           "Jean-Charles, Shemar",
           "GBP"
          ],
          [
           "Kirkpatrick, Dre",
           "FA"
          ],
          [
           "Redwine, Sheldrick",
           "MIA"
          ],
          [
           "Thompson, Deionte",
           "ARI"
          ],
          [
           "Blanton, Kendall",
           "LAR"
          ],
          [
           "Bower, Tashawn",
           "MIN"
          ],
          [
           "Tomlinson, Eric",
           "BAL"
          ],
          [
           "Ballage, Kalen",
           "PIT"
          ],
          [
           "Banjo, Chris",
           "ARI"
          ],
          [
           "Hesse, Parker",
           "ATL"
          ],
          [
           "Parks, Will",
           "NYJ"
          ],
          [
           "Winfree, Juwann",
           "GBP"
          ],
          [
           "Ford, Mike",
           "DEN"
          ],
          [
           "Igbinoghene, Noah",
           "MIA"
          ],
          [
           "Irvin, Bruce",
           "CHI"
          ],
          [
           "Nasirildeen, Hamsah",
           "NYJ"
          ],
          [
           "Peterson, Kevin",
           "FA"
          ],
          [
           "Strong, Kevin",
           "TEN"
          ],
          [
           "Worley, Daryl",
           "FA"
          ],
          [
           "Howell, Buddy",
           "LAR"
          ],
          [
           "Stanton, Johnny",
           "CLE"
          ],
          [
           "Apke, Troy",
           "WAS"
          ],
          [
           "Borders, Breon",
           "ARI"
          ],
          [
           "Lammons, Chris",
           "KCC"
          ],
          [
           "Metellus, Josh",
           "MIN"
          ],
          [
           "Fuller, Will",
           "MIA"
          ],
          [
           "Moore, Jason",
           "LAC"
          ],
          [
           "Darby, Frank",
           "ATL"
          ],
          [
           "Fells, Darren",
           "TBB"
          ],
          [
           "Smith, Rodney",
           "FA"
          ],
          [
           "Breeze, Brady",
           "DET"
          ],
          [
           "Locke, P.J.",
           "DEN"
          ],
          [
           "O'Daniel, Dorian",
           "KCC"
          ],
          [
           "Scott, Josiah",
           "PHI"
          ],
          [
           "Gilliam, Reggie",
           "BUF"
          ],
          [
           "Sprinkle, Jeremy",
           "DAL"
          ],
          [
           "Adams, Tyrell",
           "JAC"
          ],
          [
           "Daniels, Darrell",
           "ARI"
          ],
          [
           "Davis, Carlos",
           "PIT"
          ],
          [
           "Kerr, Zach",
           "CIN"
          ],
          [
           "Parker, Steven",
           "NYG"
          ],
          [
           "Brown, Daniel",
           "NYJ"
          ],
          [
           "Rader, Kevin",
           "PIT"
          ],
          [
           "Snead, Willie",
           "FA"
          ],
          [
           "Smallwood, Wendell",
           "FA"
          ],
          [
           "McFarland, Anthony",
           "PIT"
          ],
          [
           "Montgomery, D.J.",
           "NYJ"
          ],
          [
           "Nabers, Gabe",
           "LAC"
          ],
          [
           "Yeboah, Kenny",
           "NYJ"
          ],
          [
           "Bates, Daren",
           "ATL"
          ],
          [
           "Glasgow, Jordan",
           "IND"
          ],
          [
           "Hand, Harrison",
           "MIN"
          ],
          [
           "Jones, Josh",
           "FA"
          ],
          [
           "Roberts, Darryl",
           "WAS"
          ],
          [
           "Thomas-Oliver, Stantley",
           "CAR"
          ],
          [
           "Isabella, Andy",
           "ARI"
          ],
          [
           "Carrier, Derek",
           "LVR"
          ],
          [
           "Hollister, Cody",
           "TEN"
          ],
          [
           "Fejedelem, Clayton",
           "MIA"
          ],
          [
           "Alualu, Tyson",
           "PIT"
          ],
          [
           "Cleveland, Tyrie",
           "DEN"
          ],
          [
           "Cracraft, River",
           "FA"
          ],
          [
           "Elder, Corn",
           "WAS"
          ],
          [
           "Farley, Caleb",
           "TEN"
          ],
          [
           "Woods, Antwaun",
           "IND"
          ],
          [
           "Canady, Maurice",
           "DAL"
          ],
          [
           "Ferguson, Jaylon",
           "BAL"
          ],
          [
           "Gillespie, Tyree",
           "LVR"
          ],
          [
           "Hughes, Juju",
           "DET"
          ],
          [
           "Miller, Herb",
           "CLE"
          ],
          [
           "Smith, Ryan",
           "LAC"
          ],
          [
           "Smith, Tye",
           "FA"
          ],
          [
           "Ballentine, Corey",
           "ATL"
          ],
          [
           "Irwin, Trenton",
           "CIN"
          ],
          [
           "Bandy, Michael",
           "LAC"
          ],
          [
           "Zylstra, Shane",
           "DET"
          ],
          [
           "Okudah, Jeff",
           "DET"
          ],
          [
           "Hudson, Tommy",
           "TEN"
          ],
          [
           "Parkinson, Colby",
           "SEA"
          ],
          [
           "Anderson, Henry",
           "NEP"
          ],
          [
           "Carter, Tory",
           "TEN"
          ],
          [
           "Coughlin, Carter",
           "NYG"
          ],
          [
           "Evans, Jordan",
           "CIN"
          ],
          [
           "Holtz, J.P.",
           "CHI"
          ],
          [
           "Jones, Joseph",
           "TEN"
          ],
          [
           "Kerrigan, Ryan",
           "PHI"
          ],
          [
           "McDougald, Bradley",
           "FA"
          ],
          [
           "Taylor, Patrick",
           "GBP"
          ],
          [
           "Verrett, Jason",
           "SFO"
          ],
          [
           "McMath, Racey",
           "TEN"
          ],
          [
           "Arnette, Damon",
           "KCC"
          ],
          [
           "Nall, Ryan",
           "CHI"
          ],
          [
           "Williams, Trayveon",
           "CIN"
          ],
          [
           "Newsome, Dazz",
           "CHI"
          ],
          [
           "Barner, Kenjon",
           "TBB"
          ],
          [
           "Samuels, Jaylen",
           "ARI"
          ],
          [
           "Burgess, Terrell",
           "LAR"
          ],
          [
           "Kunaszyk, Jordan",
           "WAS"
          ],
          [
           "Orr, Kareem",
           "LAR"
          ],
          [
           "Robey, Nickell",
           "FA"
          ],
          [
           "Robinson, Rashard",
           "TBB"
          ],
          [
           "Turner, Zeke",
           "ARI"
          ],
          [
           "Prentice, Adam",
           "NOS"
          ],
          [
           "Stocker, Luke",
           "MIN"
          ],
          [
           "Armstead, Ryquell",
           "JAC"
          ],
          [
           "Adams, Myles",
           "SEA"
          ],
          [
           "Chisena, Dan",
           "MIN"
          ],
          [
           "Hamlin, Damar",
           "BUF"
          ],
          [
           "O'Connor, Pat",
           "TBB"
          ],
          [
           "Kirkwood, Keith",
           "FA"
          ],
          [
           "Perine, Lamical",
           "NYJ"
          ],
          [
           "Strachan, Mike",
           "IND"
          ],
          [
           "Evans, Darrynton",
           "TEN"
          ],
          [
           "Cashman, Blake",
           "NYJ"
          ],
          [
           "Fields, Tony",
           "CLE"
          ],
          [
           "Forrest, Darrick",
           "WAS"
          ],
          [
           "Muse, Tanner",
           "SEA"
          ],
          [
           "Rozeboom, Christian",
           "LAR"
          ],
          [
           "Sheffield, Kendall",
           "ATL"
          ],
          [
           "Thompson, Darian",
           "FA"
          ],
          [
           "Washington, Charles",
           "ARI"
          ],
          [
           "Webb, Mark",
           "LAC"
          ],
          [
           "Phillips, Scottie",
           "HOU"
          ],
          [
           "Williams, Seth",
           "DEN"
          ],
          [
           "Williams, Pooka",
           "FA"
          ],
          [
           "Akinmoladun, Freedom",
           "FA"
          ],
          [
           "Anae, Bradlee",
           "NYJ"
          ],
          [
           "Cominsky, John",
           "ATL"
          ],
          [
           "Gillaspia, Cullen",
           "NYG"
          ],
          [
           "Graham, Brandon",
           "PHI"
          ],
          [
           "Hand, Da'Shawn",
           "TEN"
          ],
          [
           "Hurst, Maurice",
           "SFO"
          ],
          [
           "Tuipulotu, Marlon",
           "PHI"
          ],
          [
           "Urban, Brent",
           "DAL"
          ],
          [
           "Wilcox, Mitchell",
           "CIN"
          ],
          [
           "Mundt, Johnny",
           "LAR"
          ],
          [
           "Laird, Patrick",
           "MIA"
          ],
          [
           "Bernard, Francis",
           "DAL"
          ],
          [
           "Brooks, Antoine",
           "FA"
          ],
          [
           "Connelly, Ryan",
           "MIN"
          ],
          [
           "Hamilton, La'Darius",
           "GBP"
          ],
          [
           "Jackson, Josh",
           "FA"
          ],
          [
           "Kamara, Azur",
           "CAR"
          ],
          [
           "LeCounte, Richard",
           "CLE"
          ],
          [
           "Sills, David",
           "NYG"
          ],
          [
           "Blasingame, Khari",
           "TEN"
          ],
          [
           "Cottrell, Nathan",
           "JAC"
          ],
          [
           "Williams, Tyrell",
           "FA"
          ],
          [
           "Wilkins, Jordan",
           "FA"
          ],
          [
           "Joseph, Karl",
           "FA"
          ],
          [
           "Moore, David",
           "GBP"
          ],
          [
           "Banogu, Ben",
           "IND"
          ],
          [
           "Bledsoe, Amani",
           "FA"
          ],
          [
           "Campbell, Elijah",
           "MIA"
          ],
          [
           "Cox, Jabril",
           "DAL"
          ],
          [
           "Ebner, Nate",
           "NYG"
          ],
          [
           "Fitts, Kylie",
           "ARI"
          ],
          [
           "Johnson, Buddy",
           "PIT"
          ],
          [
           "Langi, Harvey",
           "NEP"
          ],
          [
           "Marshall, Jonathan",
           "NYJ"
          ],
          [
           "Martin, Kamal",
           "CAR"
          ],
          [
           "Nickerson, Hardy",
           "HOU"
          ],
          [
           "Perry, Jamal",
           "MIA"
          ],
          [
           "Taylor, Vincent",
           "HOU"
          ],
          [
           "Helm, Daniel",
           "ATL"
          ],
          [
           "Benjamin, Travis",
           "SFO"
          ],
          [
           "Ffrench, Maurice",
           "LAC"
          ],
          [
           "Bonnafon, Reggie",
           "WAS"
          ],
          [
           "Wolf, Ethan",
           "NOS"
          ],
          [
           "Jackson, Michael",
           "SEA"
          ],
          [
           "Davis, Davion",
           "HOU"
          ],
          [
           "Ragas, Trey",
           "LVR"
          ],
          [
           "Bawden, Nick",
           "NYJ"
          ],
          [
           "Mostert, Raheem",
           "SFO"
          ],
          [
           "Merritt, Kirk",
           "NOS"
          ],
          [
           "Attaochu, Jeremiah",
           "CHI"
          ],
          [
           "Biegel, Vince",
           "MIA"
          ],
          [
           "Dennard, Darqueze",
           "SFO"
          ],
          [
           "Dimukeje, Victor",
           "ARI"
          ],
          [
           "Egbule, Emeke",
           "LAC"
          ],
          [
           "Giles-Harris, Joe",
           "BUF"
          ],
          [
           "Nzeocha, Mark",
           "SFO"
          ],
          [
           "Bachman, Alex",
           "NYG"
          ],
          [
           "Baker, Kawaan",
           "NOS"
          ],
          [
           "Beck, Andrew",
           "DEN"
          ],
          [
           "Brown, Andrew",
           "LAC"
          ],
          [
           "Costin, Doug",
           "FA"
          ],
          [
           "Fountain, Daurice",
           "KCC"
          ],
          [
           "Hall, Marvin",
           "FA"
          ],
          [
           "Reyes, Sammis",
           "WAS"
          ],
          [
           "Smith, Sutton",
           "LVR"
          ],
          [
           "Spence, Noah",
           "CIN"
          ],
          [
           "Stoner, Dillon",
           "LVR"
          ],
          [
           "Thompson, Colin",
           "CAR"
          ],
          [
           "Thurman, Nick",
           "ATL"
          ],
          [
           "Weaver, Rashad",
           "TEN"
          ],
          [
           "Hopkins, Brycen",
           "LAR"
          ],
          [
           "Pierce, Artavis",
           "FA"
          ],
          [
           "Long, Hunter",
           "MIA"
          ],
          [
           "Hardy, JaQuan",
           "DAL"
          ],
          [
           "Kelly, John",
           "CLE"
          ],
          [
           "Sargent, Mekhi",
           "JAC"
          ],
          [
           "Boykin, Miles",
           "BAL"
          ],
          [
           "Patrick, Jacques",
           "FA"
          ],
          [
           "Bassey, Essang",
           "FA"
          ],
          [
           "Beal, Sam",
           "FA"
          ],
          [
           "Christiansen, Cole",
           "LAC"
          ],
          [
           "Coutee, Keke",
           "IND"
          ],
          [
           "Crawley, Ken",
           "NOS"
          ],
          [
           "Gowan, Tay",
           "PHI"
          ],
          [
           "Harris, Darius",
           "KCC"
          ],
          [
           "Joyner, Lamarcus",
           "NYJ"
          ],
          [
           "Keyes, Thakarius",
           "CHI"
          ],
          [
           "McDuffie, Isaiah",
           "GBP"
          ],
          [
           "Scott, Vernon",
           "GBP"
          ],
          [
           "Smith, Jordan",
           "JAC"
          ],
          [
           "Smith, Za'Darius",
           "GBP"
          ],
          [
           "Stevens, JaCoby",
           "PHI"
          ],
          [
           "Williams, Rodarius",
           "NYG"
          ],
          [
           "Crockett, Damarea",
           "DEN"
          ],
          [
           "Boyle, Nick",
           "BAL"
          ],
          [
           "Ozigbo, Devine",
           "NEP"
          ],
          [
           "Akers, Landen",
           "LAR"
          ],
          [
           "Billings, Andrew",
           "FA"
          ],
          [
           "Bradley-King, William",
           "WAS"
          ],
          [
           "Brown, Bobby",
           "LAR"
          ],
          [
           "Cole, Matt",
           "SEA"
          ],
          [
           "Forristall, Miller",
           "CLE"
          ],
          [
           "Hill, Brian",
           "FA"
          ],
          [
           "Ralston, Nick",
           "DAL"
          ],
          [
           "Sheard, Jabaal",
           "FA"
          ],
          [
           "Spencer, Marquiss",
           "DEN"
          ],
          [
           "Thompson, Cody",
           "SEA"
          ],
          [
           "Tufele, Jay",
           "JAC"
          ],
          [
           "Williams, Xavier",
           "FA"
          ],
          [
           "Yelder, Deon",
           "ARI"
          ],
          [
           "Davis, Shawn",
           "GBP"
          ],
          [
           "Etheridge, Dorian",
           "ATL"
          ],
          [
           "Lawler, Justin",
           "FA"
          ],
          [
           "Moreland, Jimmy",
           "HOU"
          ],
          [
           "Wade, Shaun",
           "NEP"
          ],
          [
           "Washington, Ar'Darius",
           "BAL"
          ],
          [
           "Wildgoose, Rachad",
           "NYJ"
          ],
          [
           "Hightower, John",
           "PHI"
          ],
          [
           "McCrary, Nate",
           "BAL"
          ],
          [
           "Adams, Josh",
           "NOS"
          ],
          [
           "Adams, Rodney",
           "NYJ"
          ],
          [
           "Akers, Cam",
           "LAR"
          ],
          [
           "Allison, Geronimo",
           "FA"
          ],
          [
           "Asiasi, Devin",
           "NEP"
          ],
          [
           "Ateman, Marcell",
           "FA"
          ],
          [
           "Bell, Quinton",
           "ATL"
          ],
          [
           "Bowers, Nick",
           "LVR"
          ],
          [
           "Bradwell, Darius",
           "CAR"
          ],
          [
           "Brown, John",
           "TBB"
          ],
          [
           "Brown, Spencer",
           "CAR"
          ],
          [
           "Brown, Tony",
           "FA"
          ],
          [
           "Bushman, Matt",
           "KCC"
          ],
          [
           "Cager, Lawrence",
           "NYJ"
          ],
          [
           "Camp, Jalen",
           "HOU"
          ],
          [
           "Campbell, Ibraheim",
           "IND"
          ],
          [
           "Carter, Ron'Dell",
           "HOU"
          ],
          [
           "Clinton-Dix, Ha Ha",
           "FA"
          ],
          [
           "Cohen, Tarik",
           "CHI"
          ],
          [
           "Compton, Will",
           "FA"
          ],
          [
           "Cornell, Jashon",
           "DET"
          ],
          [
           "Coulter, Isaiah",
           "CHI"
          ],
          [
           "Cox, Bryan",
           "BUF"
          ],
          [
           "Curry, Vinny",
           "FA"
          ],
          [
           "Daniels, Mike",
           "CIN"
          ],
          [
           "Davis, Khalil",
           "PIT"
          ],
          [
           "Davis, Sean",
           "FA"
          ],
          [
           "Davis, Tae",
           "HOU"
          ],
          [
           "Dawson, Duke",
           "FA"
          ],
          [
           "Dillon, Brandon",
           "NYJ"
          ],
          [
           "Doaks, Gerrid",
           "MIA"
          ],
          [
           "Edmunds, Trey",
           "PIT"
          ],
          [
           "Ellefson, Ben",
           "MIN"
          ],
          [
           "Fehoko, Simi",
           "DAL"
          ],
          [
           "Frazier, Kavon",
           "LVR"
          ],
          [
           "Fulgham, Travis",
           "DEN"
          ],
          [
           "Gandy-Golden, Antonio",
           "WAS"
          ],
          [
           "Garrett, Chris",
           "LAR"
          ],
          [
           "Haley, Grant",
           "LAR"
          ],
          [
           "Harper, Madre",
           "CAR"
          ],
          [
           "Harris, De'Michael",
           "IND"
          ],
          [
           "Harris, Demone",
           "HOU"
          ],
          [
           "Harris, Jacob",
           "LAR"
          ],
          [
           "Hayden, D.J.",
           "WAS"
          ],
          [
           "Hayes, Daelin",
           "BAL"
          ],
          [
           "Hemingway, Temarrick",
           "FA"
          ],
          [
           "Hill, Holton",
           "FA"
          ],
          [
           "Hilliard, Justin",
           "NYG"
          ],
          [
           "Hodge, Darius",
           "MIA"
          ],
          [
           "Hodgins, Isaiah",
           "BUF"
          ],
          [
           "Hubert, Wyatt",
           "CIN"
          ],
          [
           "Hudson, Tanner",
           "SFO"
          ],
          [
           "Hurns, Allen",
           "MIA"
          ],
          [
           "Jackson, Lamar",
           "CHI"
          ],
          [
           "Jackson, Tyree",
           "PHI"
          ],
          [
           "Jefferson, Malik",
           "IND"
          ],
          [
           "Johnson, Darryl",
           "CAR"
          ],
          [
           "Johnson, Jamar",
           "DEN"
          ],
          [
           "Johnson, Josh",
           "SEA"
          ],
          [
           "Johnson, Kerryon",
           "FA"
          ],
          [
           "Kaindoh, Joshua",
           "KCC"
          ],
          [
           "Kinsey, Mason",
           "TEN"
          ],
          [
           "LaCosse, Matt",
           "FA"
          ],
          [
           "Lawson, Carl",
           "NYJ"
          ],
          [
           "Ledbetter, Jeremiah",
           "JAC"
          ],
          [
           "Lucas, Jordan",
           "IND"
          ],
          [
           "March, Justin",
           "LVR"
          ],
          [
           "Matthews, Jordan",
           "SFO"
          ],
          [
           "McCoy, Gerald",
           "LVR"
          ],
          [
           "McElroy, Codey",
           "TBB"
          ],
          [
           "McGill, T.Y.",
           "FA"
          ],
          [
           "McGrone, Cameron",
           "NEP"
          ],
          [
           "McGuire, Elijah",
           "FA"
          ],
          [
           "Miller, Jordan",
           "NOS"
          ],
          [
           "Moses, Dylan",
           "JAC"
          ],
          [
           "Motley, Parnell",
           "DET"
          ],
          [
           "Mukuamu, Israel",
           "DAL"
          ],
          [
           "Ojemudia, Michael",
           "DEN"
          ],
          [
           "Olonilua, Sewo",
           "DAL"
          ],
          [
           "Onwuasor, Patrick",
           "LVR"
          ],
          [
           "Orchard, Nate",
           "WAS"
          ],
          [
           "Parker, Aaron",
           "CAR"
          ],
          [
           "Pinkney, Jared",
           "DET"
          ],
          [
           "Poljan, Tony",
           "BAL"
          ],
          [
           "Poole, Brian",
           "FA"
          ],
          [
           "Pride, Troy",
           "CAR"
          ],
          [
           "Quessenberry, Paul",
           "HOU"
          ],
          [
           "Redmond, Will",
           "IND"
          ],
          [
           "Rodgers, Richard",
           "PHI"
          ],
          [
           "Scarlett, Jordan",
           "FA"
          ],
          [
           "Schreck, Mason",
           "CIN"
          ],
          [
           "Shelvin, Tyler",
           "CIN"
          ],
          [
           "Sims, Steven",
           "PIT"
          ],
          [
           "Smith, Devin",
           "FA"
          ],
          [
           "Smith, Vyncint",
           "TBB"
          ],
          [
           "Snowden, Charles",
           "CHI"
          ],
          [
           "Sullivan, Stephen",
           "CAR"
          ],
          [
           "Surratt, Chazz",
           "MIN"
          ],
          [
           "Tell, Marvell",
           "FA"
          ],
          [
           "Thompson, Darwin",
           "KCC"
          ],
          [
           "Thompson, Tedric",
           "FA"
          ],
          [
           "Travis, Ross",
           "FA"
          ],
          [
           "Vickers, Kendal",
           "LVR"
          ],
          [
           "Vincent, Kary",
           "PHI"
          ],
          [
           "Warring, Kahale",
           "JAC"
          ],
          [
           "Watson, Justin",
           "KCC"
          ],
          [
           "Weaver, Curtis",
           "CLE"
          ],
          [
           "White, Javin",
           "NYJ"
          ],
          [
           "Whitehead, Tahir",
           "FA"
          ],
          [
           "Wiggins, James",
           "ARI"
          ],
          [
           "Williamson, Avery",
           "FA"
          ],
          [
           "Winchester, James",
           "KCC"
          ],
          [
           "Wreh-Wilson, Blidi",
           "FA"
          ]
         ],
         "hovertemplate": "Position=%{x}<br>sal_per_point=%{y}<br>hover_data_0=%{customdata[0]}<br>hover_data_1=%{customdata[1]}<extra></extra>",
         "legendgroup": "",
         "marker": {
          "color": "#636efa"
         },
         "name": "",
         "notched": false,
         "offsetgroup": "",
         "orientation": "v",
         "showlegend": false,
         "type": "box",
         "x": [
          "TMQB",
          "TMQB",
          "TMQB",
          "TMQB",
          "TMQB",
          "TMQB",
          "TMQB",
          "TMQB",
          "TMQB",
          "TMQB",
          "TMQB",
          "TMQB",
          "WR",
          "TMQB",
          "RB",
          "TMQB",
          "TMQB",
          "TMQB",
          "TMQB",
          "TMQB",
          "TMQB",
          "TMQB",
          "TMQB",
          "TMQB",
          "TMQB",
          "TMQB",
          "WR",
          "TMQB",
          "RB",
          "WR",
          "TMQB",
          "RB",
          "TMQB",
          "RB",
          "TMQB",
          "TMQB",
          "TMQB",
          "WR",
          "WR",
          "WR",
          "TMQB",
          "TMQB",
          "TE",
          "WR",
          "WR",
          "RB",
          "WR",
          "WR",
          "RB",
          "WR",
          "RB",
          "TE",
          "WR",
          "RB",
          "LB",
          "WR",
          "WR",
          "RB",
          "WR",
          "RB",
          "WR",
          "RB",
          "WR",
          "TMPN",
          "DT",
          "RB",
          "WR",
          "TMPN",
          "RB",
          "RB",
          "WR",
          "LB",
          "WR",
          "WR",
          "LB",
          "WR",
          "DE",
          "RB",
          "RB",
          "LB",
          "LB",
          "LB",
          "WR",
          "DE",
          "TMPN",
          "TMPN",
          "RB",
          "LB",
          "LB",
          "RB",
          "WR",
          "WR",
          "LB",
          "DE",
          "LB",
          "WR",
          "WR",
          "RB",
          "TMPN",
          "TMPN",
          "WR",
          "RB",
          "RB",
          "LB",
          "LB",
          "WR",
          "RB",
          "DE",
          "TE",
          "RB",
          "TE",
          "RB",
          "LB",
          "WR",
          "DE",
          "WR",
          "TMPN",
          "WR",
          "LB",
          "TMPN",
          "RB",
          "TMPN",
          "RB",
          "LB",
          "WR",
          "WR",
          "TMPN",
          "LB",
          "LB",
          "DE",
          "LB",
          "LB",
          "WR",
          "TE",
          "TMPN",
          "RB",
          "TMPN",
          "WR",
          "TMPN",
          "S",
          "RB",
          "S",
          "S",
          "TMPN",
          "WR",
          "TMPN",
          "DE",
          "TMPN",
          "TMPN",
          "S",
          "CB",
          "DE",
          "S",
          "TMPN",
          "TMPN",
          "DT",
          "CB",
          "TMPN",
          "TMPN",
          "TMPK",
          "LB",
          "LB",
          "TE",
          "TE",
          "WR",
          "WR",
          "TE",
          "TE",
          "DE",
          "TMPK",
          "DE",
          "WR",
          "LB",
          "LB",
          "TMPK",
          "RB",
          "TMPN",
          "DE",
          "TMPN",
          "LB",
          "DE",
          "TMPN",
          "TE",
          "WR",
          "TMPN",
          "S",
          "TMPN",
          "TMPN",
          "TMPK",
          "WR",
          "S",
          "TMPK",
          "S",
          "DT",
          "LB",
          "TMPK",
          "WR",
          "CB",
          "S",
          "S",
          "DT",
          "LB",
          "WR",
          "S",
          "LB",
          "S",
          "RB",
          "TMPN",
          "S",
          "S",
          "RB",
          "LB",
          "WR",
          "WR",
          "WR",
          "TMPN",
          "RB",
          "DT",
          "WR",
          "S",
          "WR",
          "TE",
          "RB",
          "DT",
          "TE",
          "LB",
          "RB",
          "TMPK",
          "S",
          "CB",
          "TMPK",
          "TE",
          "WR",
          "DE",
          "LB",
          "TMPK",
          "TMPK",
          "S",
          "LB",
          "WR",
          "WR",
          "S",
          "LB",
          "LB",
          "LB",
          "WR",
          "TMPK",
          "RB",
          "LB",
          "WR",
          "CB",
          "TMPN",
          "TE",
          "RB",
          "WR",
          "CB",
          "TMPK",
          "S",
          "LB",
          "LB",
          "CB",
          "S",
          "TMPK",
          "S",
          "TE",
          "WR",
          "S",
          "S",
          "TMPK",
          "RB",
          "S",
          "WR",
          "LB",
          "LB",
          "LB",
          "WR",
          "LB",
          "LB",
          "S",
          "LB",
          "RB",
          "WR",
          "CB",
          "RB",
          "TMPK",
          "CB",
          "LB",
          "S",
          "RB",
          "S",
          "TMPK",
          "TMPN",
          "LB",
          "TMPK",
          "RB",
          "WR",
          "TE",
          "LB",
          "RB",
          "DT",
          "DT",
          "WR",
          "DE",
          "S",
          "RB",
          "TMPK",
          "S",
          "RB",
          "S",
          "DE",
          "DE",
          "TE",
          "WR",
          "TMPK",
          "DE",
          "DE",
          "CB",
          "RB",
          "DE",
          "CB",
          "CB",
          "S",
          "DT",
          "TMPK",
          "DE",
          "CB",
          "DE",
          "S",
          "TMPK",
          "CB",
          "CB",
          "CB",
          "DT",
          "WR",
          "S",
          "LB",
          "TE",
          "DE",
          "LB",
          "WR",
          "WR",
          "TE",
          "CB",
          "S",
          "LB",
          "DE",
          "CB",
          "DE",
          "RB",
          "CB",
          "WR",
          "S",
          "CB",
          "DE",
          "WR",
          "LB",
          "CB",
          "S",
          "DT",
          "CB",
          "DE",
          "LB",
          "DT",
          "S",
          "DE",
          "S",
          "RB",
          "LB",
          "RB",
          "DE",
          "DE",
          "TE",
          "TMPK",
          "RB",
          "WR",
          "LB",
          "S",
          "LB",
          "DE",
          "TE",
          "S",
          "WR",
          "RB",
          "WR",
          "LB",
          "CB",
          "RB",
          "TMPK",
          "TMPK",
          "S",
          "LB",
          "RB",
          "RB",
          "LB",
          "DT",
          "LB",
          "LB",
          "WR",
          "RB",
          "CB",
          "LB",
          "TMPK",
          "WR",
          "DE",
          "LB",
          "TMPN",
          "CB",
          "RB",
          "WR",
          "DE",
          "CB",
          "DT",
          "WR",
          "LB",
          "LB",
          "CB",
          "LB",
          "DT",
          "TE",
          "CB",
          "TMPK",
          "DE",
          "S",
          "DE",
          "WR",
          "CB",
          "DE",
          "DT",
          "DE",
          "DT",
          "CB",
          "RB",
          "CB",
          "WR",
          "DT",
          "LB",
          "DE",
          "CB",
          "CB",
          "S",
          "DT",
          "WR",
          "CB",
          "S",
          "TE",
          "LB",
          "RB",
          "DE",
          "DE",
          "RB",
          "WR",
          "CB",
          "CB",
          "CB",
          "TMPK",
          "LB",
          "CB",
          "CB",
          "S",
          "WR",
          "LB",
          "WR",
          "DT",
          "DE",
          "S",
          "DE",
          "WR",
          "S",
          "CB",
          "WR",
          "S",
          "S",
          "CB",
          "DT",
          "TMPK",
          "RB",
          "CB",
          "WR",
          "DT",
          "WR",
          "DE",
          "S",
          "DE",
          "S",
          "LB",
          "S",
          "LB",
          "TE",
          "CB",
          "S",
          "LB",
          "S",
          "RB",
          "S",
          "TMPK",
          "TMPK",
          "S",
          "RB",
          "WR",
          "LB",
          "WR",
          "S",
          "S",
          "DT",
          "DE",
          "LB",
          "DT",
          "LB",
          "LB",
          "TMPK",
          "RB",
          "RB",
          "DT",
          "WR",
          "TE",
          "DT",
          "WR",
          "CB",
          "CB",
          "DT",
          "WR",
          "CB",
          "DT",
          "LB",
          "WR",
          "DT",
          "LB",
          "CB",
          "CB",
          "DT",
          "S",
          "DT",
          "CB",
          "CB",
          "S",
          "LB",
          "S",
          "DE",
          "S",
          "S",
          "DE",
          "LB",
          "WR",
          "DT",
          "S",
          "DE",
          "DT",
          "S",
          "S",
          "LB",
          "WR",
          "LB",
          "DT",
          "LB",
          "CB",
          "LB",
          "DT",
          "CB",
          "RB",
          "RB",
          "WR",
          "DE",
          "RB",
          "CB",
          "CB",
          "WR",
          "DE",
          "CB",
          "LB",
          "WR",
          "CB",
          "S",
          "DE",
          "S",
          "RB",
          "RB",
          "S",
          "DT",
          "WR",
          "DT",
          "WR",
          "DT",
          "LB",
          "CB",
          "LB",
          "CB",
          "DE",
          "LB",
          "WR",
          "CB",
          "S",
          "DE",
          "WR",
          "WR",
          "CB",
          "CB",
          "LB",
          "S",
          "DT",
          "CB",
          "TE",
          "WR",
          "DT",
          "S",
          "DT",
          "CB",
          "DE",
          "CB",
          "DE",
          "TE",
          "WR",
          "TE",
          "TE",
          "LB",
          "CB",
          "S",
          "S",
          "DE",
          "CB",
          "TE",
          "DE",
          "DE",
          "WR",
          "S",
          "DT",
          "CB",
          "WR",
          "LB",
          "TE",
          "TMPK",
          "WR",
          "LB",
          "RB",
          "DT",
          "RB",
          "CB",
          "DT",
          "CB",
          "LB",
          "WR",
          "CB",
          "TE",
          "LB",
          "CB",
          "CB",
          "WR",
          "TE",
          "CB",
          "CB",
          "DE",
          "TE",
          "TE",
          "DT",
          "CB",
          "DT",
          "DE",
          "DE",
          "DT",
          "CB",
          "WR",
          "RB",
          "DE",
          "CB",
          "DT",
          "DT",
          "S",
          "CB",
          "DT",
          "DT",
          "DT",
          "DT",
          "CB",
          "DE",
          "WR",
          "TE",
          "LB",
          "CB",
          "DT",
          "DE",
          "WR",
          "RB",
          "DE",
          "WR",
          "CB",
          "DT",
          "LB",
          "CB",
          "CB",
          "CB",
          "CB",
          "DE",
          "WR",
          "WR",
          "DE",
          "DE",
          "WR",
          "S",
          "S",
          "DT",
          "DT",
          "LB",
          "TE",
          "RB",
          "DT",
          "DE",
          "DT",
          "WR",
          "S",
          "DE",
          "CB",
          "CB",
          "DT",
          "DT",
          "DT",
          "S",
          "DT",
          "LB",
          "LB",
          "DE",
          "LB",
          "CB",
          "CB",
          "LB",
          "LB",
          "TE",
          "CB",
          "CB",
          "CB",
          "RB",
          "S",
          "WR",
          "S",
          "DE",
          "LB",
          "CB",
          "CB",
          "S",
          "CB",
          "S",
          "DE",
          "WR",
          "CB",
          "WR",
          "DE",
          "LB",
          "TE",
          "DT",
          "WR",
          "RB",
          "RB",
          "DE",
          "RB",
          "CB",
          "S",
          "LB",
          "RB",
          "S",
          "DE",
          "CB",
          "CB",
          "RB",
          "RB",
          "CB",
          "LB",
          "LB",
          "WR",
          "RB",
          "DE",
          "WR",
          "LB",
          "DE",
          "TE",
          "TE",
          "DE",
          "DE",
          "S",
          "TE",
          "RB",
          "TE",
          "RB",
          "LB",
          "DT",
          "CB",
          "LB",
          "WR",
          "DT",
          "DT",
          "TE",
          "DE",
          "TE",
          "WR",
          "CB",
          "DT",
          "LB",
          "DE",
          "TE",
          "LB",
          "DE",
          "CB",
          "LB",
          "RB",
          "LB",
          "WR",
          "S",
          "DE",
          "CB",
          "CB",
          "DT",
          "DE",
          "CB",
          "S",
          "DT",
          "TE",
          "S",
          "DT",
          "CB",
          "DE",
          "S",
          "LB",
          "TE",
          "TE",
          "DE",
          "LB",
          "WR",
          "WR",
          "RB",
          "TE",
          "WR",
          "WR",
          "DE",
          "RB",
          "CB",
          "CB",
          "WR",
          "S",
          "TE",
          "S",
          "CB",
          "DE",
          "DE",
          "DE",
          "WR",
          "DE",
          "DT",
          "LB",
          "DE",
          "LB",
          "DT",
          "CB",
          "RB",
          "LB",
          "DE",
          "CB",
          "DE",
          "TE",
          "DE",
          "CB",
          "LB",
          "DE",
          "DT",
          "TE",
          "LB",
          "DT",
          "WR",
          "CB",
          "DT",
          "RB",
          "S",
          "DE",
          "DT",
          "LB",
          "DT",
          "WR",
          "LB",
          "S",
          "TE",
          "WR",
          "CB",
          "LB",
          "DT",
          "DE",
          "TE",
          "CB",
          "LB",
          "RB",
          "S",
          "DT",
          "DE",
          "CB",
          "LB",
          "RB",
          "CB",
          "WR",
          "WR",
          "DE",
          "DT",
          "S",
          "CB",
          "TE",
          "WR",
          "DE",
          "RB",
          "TE",
          "WR",
          "LB",
          "LB",
          "S",
          "TE",
          "DT",
          "LB",
          "CB",
          "WR",
          "RB",
          "LB",
          "WR",
          "WR",
          "RB",
          "CB",
          "WR",
          "LB",
          "CB",
          "DT",
          "TE",
          "DT",
          "WR",
          "DT",
          "DT",
          "LB",
          "RB",
          "LB",
          "CB",
          "LB",
          "CB",
          "DE",
          "LB",
          "RB",
          "WR",
          "LB",
          "DE",
          "RB",
          "DT",
          "CB",
          "CB",
          "RB",
          "LB",
          "DT",
          "WR",
          "S",
          "LB",
          "CB",
          "DT",
          "LB",
          "WR",
          "DT",
          "LB",
          "DE",
          "WR",
          "WR",
          "DT",
          "CB",
          "CB",
          "LB",
          "S",
          "WR",
          "WR",
          "RB",
          "WR",
          "DE",
          "DE",
          "CB",
          "DE",
          "CB",
          "LB",
          "LB",
          "LB",
          "WR",
          "CB",
          "RB",
          "DE",
          "DT",
          "DE",
          "S",
          "DE",
          "CB",
          "WR",
          "RB",
          "TE",
          "S",
          "CB",
          "TE",
          "DT",
          "WR",
          "TE",
          "LB",
          "LB",
          "S",
          "LB",
          "WR",
          "LB",
          "DT",
          "DT",
          "RB",
          "LB",
          "WR",
          "LB",
          "DT",
          "CB",
          "DE",
          "LB",
          "LB",
          "LB",
          "CB",
          "DE",
          "LB",
          "DE",
          "WR",
          "RB",
          "RB",
          "WR",
          "CB",
          "TE",
          "CB",
          "LB",
          "S",
          "LB",
          "RB",
          "DE",
          "WR",
          "CB",
          "LB",
          "DT",
          "WR",
          "DE",
          "DE",
          "WR",
          "LB",
          "S",
          "S",
          "S",
          "RB",
          "CB",
          "DE",
          "S",
          "LB",
          "S",
          "RB",
          "TE",
          "WR",
          "RB",
          "DE",
          "RB",
          "S",
          "RB",
          "RB",
          "RB",
          "TE",
          "TE",
          "CB",
          "CB",
          "LB",
          "DT",
          "DT",
          "DT",
          "S",
          "RB",
          "S",
          "LB",
          "LB",
          "LB",
          "CB",
          "CB",
          "LB",
          "DE",
          "DE",
          "CB",
          "CB",
          "RB",
          "S",
          "LB",
          "LB",
          "WR",
          "DT",
          "LB",
          "S",
          "S",
          "WR",
          "WR",
          "DE",
          "RB",
          "LB",
          "DT",
          "S",
          "RB",
          "LB",
          "CB",
          "LB",
          "LB",
          "DT",
          "CB",
          "TE",
          "DT",
          "S",
          "RB",
          "TE",
          "DT",
          "LB",
          "S",
          "CB",
          "DE",
          "DT",
          "TE",
          "DT",
          "CB",
          "LB",
          "TE",
          "WR",
          "S",
          "CB",
          "RB",
          "WR",
          "TE",
          "DE",
          "DE",
          "RB",
          "RB",
          "CB",
          "TE",
          "LB",
          "WR",
          "TE",
          "RB",
          "LB",
          "LB",
          "TE",
          "LB",
          "LB",
          "DT",
          "WR",
          "DE",
          "RB",
          "TE",
          "DE",
          "LB",
          "CB",
          "DT",
          "LB",
          "CB",
          "LB",
          "LB",
          "S",
          "WR",
          "TE",
          "LB",
          "WR",
          "WR",
          "WR",
          "DE",
          "DT",
          "WR",
          "TE",
          "S",
          "CB",
          "RB",
          "TE",
          "CB",
          "WR",
          "S",
          "RB",
          "TE",
          "TE",
          "WR",
          "DT",
          "DE",
          "DT",
          "DE",
          "DT",
          "DE",
          "DE",
          "LB",
          "LB",
          "S",
          "TE",
          "LB",
          "LB",
          "CB",
          "DE",
          "CB",
          "DT",
          "WR",
          "WR",
          "LB",
          "CB",
          "RB",
          "CB",
          "LB",
          "DT",
          "S",
          "S",
          "LB",
          "LB",
          "RB",
          "TE",
          "RB",
          "TE",
          "DT",
          "DE",
          "DT",
          "LB",
          "LB",
          "S",
          "RB",
          "LB",
          "DE",
          "S",
          "S",
          "LB",
          "LB",
          "CB",
          "DT",
          "DE",
          "WR",
          "DT",
          "DT",
          "S",
          "CB",
          "DE",
          "WR",
          "S",
          "LB",
          "TE",
          "WR",
          "DT",
          "CB",
          "S",
          "CB",
          "CB",
          "WR",
          "DE",
          "DT",
          "DE",
          "DE",
          "DT",
          "WR",
          "WR",
          "LB",
          "LB",
          "DT",
          "WR",
          "WR",
          "TE",
          "WR",
          "WR",
          "WR",
          "WR",
          "WR",
          "LB",
          "WR",
          "CB",
          "S",
          "CB",
          "WR",
          "CB",
          "WR",
          "DT",
          "TE",
          "DT",
          "DT",
          "LB",
          "WR",
          "TE",
          "WR",
          "TE",
          "CB",
          "CB",
          "S",
          "CB",
          "LB",
          "S",
          "WR",
          "CB",
          "LB",
          "LB",
          "S",
          "DE",
          "WR",
          "DT",
          "DT",
          "WR",
          "S",
          "LB",
          "CB",
          "LB",
          "LB",
          "LB",
          "LB",
          "CB",
          "TE",
          "WR",
          "S",
          "WR",
          "WR",
          "WR",
          "S",
          "RB",
          "DE",
          "CB",
          "LB",
          "CB",
          "TE",
          "LB",
          "RB",
          "RB",
          "DE",
          "LB",
          "LB",
          "S",
          "CB",
          "LB",
          "TE",
          "DE",
          "LB",
          "LB",
          "DE",
          "DE",
          "TE",
          "TE",
          "S",
          "RB",
          "CB",
          "CB",
          "CB",
          "RB",
          "LB",
          "TE",
          "LB",
          "CB",
          "WR",
          "RB",
          "TE",
          "CB",
          "WR",
          "WR",
          "DE",
          "CB",
          "TE",
          "DT",
          "DE",
          "LB",
          "LB",
          "CB",
          "CB",
          "S",
          "S",
          "TE",
          "LB",
          "TE",
          "RB",
          "S",
          "TE",
          "S",
          "WR",
          "CB",
          "CB",
          "DE",
          "LB",
          "CB",
          "DT",
          "CB",
          "RB",
          "RB",
          "S",
          "CB",
          "CB",
          "S",
          "WR",
          "WR",
          "WR",
          "TE",
          "RB",
          "S",
          "S",
          "LB",
          "CB",
          "TE",
          "TE",
          "LB",
          "TE",
          "DE",
          "DT",
          "S",
          "TE",
          "TE",
          "WR",
          "RB",
          "RB",
          "WR",
          "RB",
          "TE",
          "LB",
          "LB",
          "CB",
          "S",
          "CB",
          "CB",
          "WR",
          "TE",
          "WR",
          "S",
          "DT",
          "WR",
          "WR",
          "CB",
          "CB",
          "DT",
          "CB",
          "LB",
          "S",
          "S",
          "CB",
          "CB",
          "CB",
          "CB",
          "WR",
          "WR",
          "TE",
          "CB",
          "TE",
          "TE",
          "DE",
          "RB",
          "LB",
          "LB",
          "TE",
          "LB",
          "DE",
          "S",
          "RB",
          "CB",
          "WR",
          "CB",
          "RB",
          "RB",
          "WR",
          "RB",
          "RB",
          "S",
          "LB",
          "CB",
          "CB",
          "CB",
          "LB",
          "RB",
          "TE",
          "RB",
          "DT",
          "WR",
          "S",
          "DE",
          "WR",
          "RB",
          "WR",
          "RB",
          "LB",
          "LB",
          "S",
          "LB",
          "LB",
          "CB",
          "S",
          "S",
          "S",
          "RB",
          "WR",
          "RB",
          "DT",
          "DE",
          "DE",
          "RB",
          "DE",
          "DT",
          "DT",
          "DT",
          "DT",
          "TE",
          "TE",
          "RB",
          "LB",
          "CB",
          "LB",
          "LB",
          "CB",
          "LB",
          "S",
          "WR",
          "RB",
          "RB",
          "WR",
          "RB",
          "S",
          "WR",
          "DE",
          "DE",
          "CB",
          "LB",
          "S",
          "LB",
          "LB",
          "LB",
          "DT",
          "LB",
          "LB",
          "CB",
          "DT",
          "TE",
          "WR",
          "WR",
          "RB",
          "TE",
          "CB",
          "WR",
          "RB",
          "RB",
          "RB",
          "WR",
          "LB",
          "LB",
          "CB",
          "LB",
          "LB",
          "LB",
          "LB",
          "WR",
          "WR",
          "TE",
          "DT",
          "DT",
          "WR",
          "WR",
          "TE",
          "RB",
          "DE",
          "WR",
          "TE",
          "DE",
          "DE",
          "TE",
          "RB",
          "TE",
          "RB",
          "RB",
          "RB",
          "WR",
          "RB",
          "CB",
          "CB",
          "LB",
          "WR",
          "CB",
          "CB",
          "LB",
          "S",
          "CB",
          "LB",
          "S",
          "LB",
          "LB",
          "S",
          "CB",
          "RB",
          "TE",
          "RB",
          "WR",
          "DT",
          "DE",
          "DT",
          "WR",
          "TE",
          "RB",
          "TE",
          "DE",
          "DE",
          "WR",
          "DT",
          "DT",
          "TE",
          "S",
          "LB",
          "LB",
          "CB",
          "CB",
          "S",
          "CB",
          "WR",
          "RB",
          "RB",
          "WR",
          "RB",
          "WR",
          "TE",
          "WR",
          "LB",
          "TE",
          "RB",
          "WR",
          "RB",
          "CB",
          "TE",
          "WR",
          "WR",
          "S",
          "DE",
          "S",
          "RB",
          "LB",
          "DE",
          "WR",
          "DE",
          "DE",
          "DT",
          "DT",
          "S",
          "LB",
          "CB",
          "TE",
          "RB",
          "RB",
          "TE",
          "WR",
          "S",
          "WR",
          "WR",
          "LB",
          "CB",
          "CB",
          "WR",
          "DE",
          "TE",
          "CB",
          "LB",
          "TE",
          "CB",
          "LB",
          "DE",
          "WR",
          "DE",
          "TE",
          "WR",
          "CB",
          "TE",
          "LB",
          "DE",
          "S",
          "RB",
          "RB",
          "DE",
          "WR",
          "TE",
          "DE",
          "DE",
          "S",
          "LB",
          "WR",
          "DT",
          "WR",
          "DT",
          "LB",
          "RB",
          "CB",
          "LB",
          "CB",
          "CB",
          "CB",
          "RB",
          "LB",
          "DE",
          "WR",
          "TE",
          "TE",
          "CB",
          "CB",
          "TE",
          "S",
          "TE",
          "RB",
          "TE",
          "DT",
          "WR",
          "WR",
          "WR",
          "LB",
          "TE",
          "LB",
          "S",
          "RB",
          "S",
          "TE",
          "DT",
          "CB",
          "TE",
          "WR",
          "DE",
          "LB",
          "LB",
          "S",
          "LB",
          "TE",
          "CB"
         ],
         "x0": " ",
         "xaxis": "x",
         "y": [
          0.0928365894290474,
          0.002048634585049065,
          0.10088666707811311,
          0.10694834131044727,
          0.00600075009376172,
          0.13053148408485282,
          0.04468559077174177,
          0.028735504755992108,
          0.09064477892335562,
          0.04655223914891662,
          0.09457031523438413,
          0.0023578788521845745,
          0.602031306010276,
          0.002910149145143688,
          0.2616117216117216,
          0.09643767869561856,
          0.0031219918307880427,
          0.002682547346960674,
          0.027131151988713444,
          0.002738150653048931,
          0.07323568575233022,
          0.028229448961156277,
          0.020531538724763317,
          0.02745367192862045,
          0.002861475949294646,
          0.03995143385753931,
          0.0029868578255675027,
          0.03442608253892358,
          0.36161065697850436,
          0.15732928679817906,
          0.06045875740543825,
          0.23012681719764924,
          0.0037306472673008764,
          1.2584269662921348,
          0.010814189717143303,
          0.0031275411271658223,
          0.005476069891111673,
          0.20632462084543401,
          0.195822454308094,
          0.8311448366875618,
          0.03188097768331562,
          0.0057871144711313304,
          0.04838709677419355,
          0.08862382054477479,
          0.5123722627737226,
          0.003715952584445022,
          1.1007451564828614,
          0.14851111948737278,
          0.5783459229130351,
          0.20532762978806146,
          0.3655872024970737,
          0.7935663224781572,
          1.1786953919808498,
          0.4036090835360909,
          0.447787251319529,
          0.5137030995106036,
          0.2586122448979592,
          0.7777547208964516,
          1.2320266889074227,
          0.7836086138406858,
          0.3674330310061168,
          0.1831284442560407,
          0.3871022486211286,
          0.03272340425531915,
          0.42764857881136953,
          1.05708704145865,
          1.1020122484689414,
          0.0378615249780894,
          0.22736842105263158,
          0.8233743409490334,
          0.19191470457574414,
          0.5080536912751678,
          0.3443895870736086,
          0.28775877587758775,
          0.3375536965860276,
          0.8091943559399181,
          0.23606557377049184,
          0.307974335472044,
          0.5903122130394857,
          0.17134986225895316,
          0.5213498622589531,
          0.2533302710151585,
          1.3599079401611047,
          0.7683894785417628,
          0.004659832246039143,
          0.005600933488914819,
          0.4282562778690448,
          0.519256120527307,
          0.9676962980429143,
          0.5551996174994024,
          0.1890595009596929,
          0.0833574529667149,
          0.10060635459616783,
          0.5264770240700218,
          0.14641288433382138,
          0.11154598825831702,
          0.3658955004411332,
          1.7716535433070868,
          0.004930966469428008,
          0.004935346954890929,
          1.4625742574257425,
          0.31679999999999997,
          0.07210816224336505,
          0.06069802731411229,
          0.28815021568129917,
          0.3295194508009153,
          0.05096839959225281,
          0.5535276073619632,
          0.26141611082606464,
          0.4450167396343034,
          0.30433660299432114,
          0.3967425025853154,
          0.5205121505095375,
          1.5443805541035023,
          0.005249343832020997,
          0.9404358865848498,
          0.023240938166311304,
          0.28159999999999996,
          0.5456004279219043,
          0.0053705692803437165,
          0.06470746832030197,
          0.007766990291262136,
          0.12377850162866451,
          0.6208310552214324,
          0.9722723543888433,
          0.19693654266958424,
          0.005470459518599562,
          0.06816192560175055,
          0.4734794520547945,
          0.6941758241758242,
          0.36443953616786307,
          0.4250969529085873,
          0.009597780859916782,
          0.29365962180200217,
          0.024384787472035794,
          0.5801902630106324,
          0.008098987626546681,
          0.37544554455445545,
          0.005662514156285391,
          0.28192634560906515,
          0.564549064095292,
          0.3168705547652916,
          0.00569313976658127,
          0.005720823798627002,
          0.5938144329896908,
          0.009931113662456947,
          0.6247547605308713,
          0.010034802784222738,
          0.020972909991261286,
          0.21748251748251748,
          0.25351699882766704,
          0.14645483965872316,
          0.3279740871613663,
          0.010273159144893112,
          0.021403091557669444,
          0.07398156407969075,
          0.05957700327673518,
          0.0059594755661501785,
          0.0059665871121718375,
          0.0059665871121718375,
          0.14881913303437969,
          0.0717918037690697,
          0.22347305389221558,
          0.006042296072507553,
          0.19836858006042296,
          0.017422867513611613,
          0.22638762511373978,
          0.07548543689320387,
          0.15121506682867558,
          0.007290400972053463,
          0.3301219512195122,
          0.08793893129770992,
          0.20048869883934028,
          0.07052341597796143,
          0.006127450980392158,
          0.3678724708767627,
          0.00737100737100737,
          0.6654578979717272,
          0.02138442521631644,
          0.07439553626782393,
          0.08969168483338523,
          0.008972521652439404,
          0.3231920199501247,
          0.006234413965087281,
          0.021641230923192395,
          0.05406758448060075,
          0.0903387703889586,
          0.006289308176100629,
          0.015127639457926252,
          0.20719469864310508,
          0.5262393432270287,
          0.03032217308907138,
          0.15723310170562224,
          0.3977229601518027,
          0.09142857142857143,
          0.009154481881754608,
          0.009186602870813397,
          0.1111749680715198,
          0.46753993610223643,
          0.5694784288473921,
          0.07736943907156674,
          0.00928732666881651,
          0.28682170542635654,
          0.006464124111182935,
          0.16146610444372364,
          0.2373013298734998,
          0.3929824561403508,
          0.011248374512353705,
          0.43750000000000006,
          0.06755700325732898,
          0.006514657980456026,
          0.1358218729535036,
          0.006557377049180328,
          0.03779527559055118,
          0.006568144499178982,
          0.011366622864651775,
          0.8190915075707702,
          0.0065832784726793945,
          0.23000660938532713,
          0.3690523525513585,
          0.2864721485411141,
          0.8383543463835436,
          0.15134417524062396,
          0.3680610889774237,
          0.1515614617940199,
          0.5745345744680851,
          0.16549202127659574,
          0.0096,
          0.5559039359573048,
          0.23275401069518717,
          0.023159303882195448,
          0.5139316811788346,
          0.29758713136729226,
          0.7276209677419354,
          0.7424436216762033,
          0.006747638326585695,
          0.00973630831643002,
          0.2222748815165877,
          0.006772773450728073,
          0.5067888662593347,
          2.402309782608696,
          0.3543403964456596,
          0.30660732625813075,
          0.5918493150684931,
          0.7780061664953751,
          0.5275541795665636,
          0.10366782006920415,
          0.00693000693000693,
          0.7896383866481224,
          0.08391608391608392,
          0.1219614711033275,
          0.12640449438202248,
          0.1601123595505618,
          0.10119465917076598,
          2.0982954545454544,
          0.12391459074733097,
          0.007132667617689016,
          0.5218972895863053,
          0.19570815450643775,
          0.4325883201153569,
          0.0072098053352559486,
          0.0622927180966114,
          0.007215007215007215,
          0.08698803914461763,
          0.10457516339869283,
          0.10480349344978165,
          0.007285974499089253,
          0.010514786418400876,
          0.007309941520467836,
          0.2886446886446886,
          0.007342143906020559,
          0.0073475385745775165,
          0.16764705882352943,
          0.12705882352941178,
          0.18355457227138644,
          0.10643015521064302,
          0.5531678399407188,
          0.7116382505559673,
          0.618634001484781,
          0.4077467411545624,
          0.7227035100821508,
          0.012920089619118745,
          0.010766355140186916,
          0.12934131736526946,
          0.010786516853932584,
          0.08992131884600975,
          0.6492111194590533,
          0.10843373493975902,
          1.0117469879518073,
          0.1090496024233245,
          0.00909090909090909,
          0.035,
          0.1090909090909091,
          0.00911854103343465,
          0.8823708206686931,
          0.10961406713861613,
          0.987052551408987,
          0.007621951219512196,
          0.007627765064836004,
          0.19,
          0.21273983115886413,
          1.9423284502698537,
          0.011102544333076331,
          0.044444444444444446,
          0.23148148148148148,
          0.0268009295120062,
          0.6850503485670023,
          1.6266460108443068,
          0.14765048543689321,
          0.11206225680933853,
          0.2338269680436477,
          0.007794232268121589,
          0.49875195007800316,
          0.00936768149882904,
          0.078125,
          0.650078125,
          0.007815552950371238,
          0.3901215209721678,
          0.1955223880597015,
          0.2736345776031434,
          0.13703266430539157,
          0.09459992116673237,
          0.011365430149960536,
          0.03409629044988161,
          0.2949032003160806,
          0.011401425178147268,
          0.09531374106433677,
          0.11533840608730478,
          0.013862179487179487,
          0.008025682182985555,
          0.3472501003613007,
          0.08061265618702136,
          0.44701612903225807,
          0.2903225806451613,
          0.008074283407347598,
          0.5316875758802104,
          0.9708502024291499,
          0.14014598540145987,
          0.25253755582622817,
          1.2,
          0.11745513866231648,
          0.008169934640522876,
          0.15531045751633987,
          0.6816359918200409,
          0.7068302658486707,
          0.008210180623973728,
          0.2193336075689017,
          0.11846976552858907,
          0.10242898312062576,
          0.008237232289950576,
          1.8150041220115416,
          0.6034639175257732,
          0.4107304993809327,
          0.6871180842279108,
          0.08570247933884297,
          0.011915597848572611,
          0.03975155279503106,
          0.12029826014913007,
          0.11940298507462688,
          0.011960132890365448,
          0.011960132890365448,
          0.7209011264080101,
          0.20776293823038397,
          0.008382229673093043,
          1.175737152485257,
          0.4269377382465057,
          0.00847457627118644,
          0.00847457627118644,
          0.00847457627118644,
          0.7051694915254236,
          0.3673469387755102,
          0.14756618274978653,
          0.012307692307692308,
          1.2029991431019706,
          3.037972508591065,
          0.10349288486416558,
          0.10380622837370243,
          0.1038511466897447,
          0.008658008658008658,
          0.008665511265164644,
          0.12554489973844812,
          0.1808983863933711,
          1.06239092495637,
          0.00874125874125874,
          0.15164545853444494,
          0.15177865612648223,
          0.12670479542454904,
          0.038061674008810574,
          0.012698412698412697,
          0.4283193647992942,
          0.26548672566371684,
          0.8815766164747564,
          0.3955456570155902,
          0.15449262405006708,
          0.030948121645796065,
          0.3220035778175313,
          0.008948545861297539,
          0.08952551477170993,
          0.477847533632287,
          0.03234501347708895,
          0.10845006778129236,
          0.013031674208144797,
          0.15666364460562104,
          0.07840290381125227,
          0.1306715063520871,
          0.01574874829312699,
          0.00910332271279017,
          0.009111617312072893,
          0.009140767824497258,
          0.10978956999085088,
          0.13174748398902106,
          0.009157509157509158,
          1.6295142071494042,
          0.22458715596330275,
          0.7713498622589531,
          0.009191176470588236,
          0.190625,
          0.11029411764705882,
          0.8241030358785648,
          0.1114723641430562,
          0.0335195530726257,
          0.30167597765363124,
          0.053706293706293706,
          1.178544776119403,
          1.253358208955224,
          0.13451658103689865,
          0.11631603553062178,
          0.11257035647279551,
          0.13540197461212977,
          0.521939736346516,
          0.009456264775413711,
          0.00946969696969697,
          0.39772727272727276,
          1.6835227272727273,
          0.2874524714828897,
          0.13701236917221696,
          1.3291428571428572,
          0.011428571428571429,
          0.011483253588516746,
          0.1322488038277512,
          0.009587727708533078,
          0.009587727708533078,
          0.2430086788813886,
          0.009666505558240696,
          0.8671829622458858,
          0.5341404358353511,
          0.02798833819241982,
          1.0085603112840469,
          1.1206225680933852,
          0.009732360097323601,
          0.00973709834469328,
          0.023437499999999997,
          0.011718749999999998,
          0.009799118079372856,
          0.01696078431372549,
          0.11787819253438114,
          0.30565110565110565,
          0.10614250614250614,
          0.14187192118226602,
          0.011834319526627219,
          0.7570794277257031,
          0.4383020730503455,
          0.009871668311944718,
          0.341839762611276,
          0.1718547986076579,
          0.11940298507462686,
          0.014335490293678445,
          0.009970089730807577,
          0.04792810783824263,
          0.43200000000000005,
          0.010025062656641603,
          0.1444332998996991,
          0.21728643216080404,
          0.08450704225352113,
          0.012096774193548387,
          0.010080645161290322,
          0.1462671406805485,
          0.466260162601626,
          0.12269938650306748,
          0.5521761392729134,
          1.294467213114754,
          0.010330578512396695,
          0.684297520661157,
          0.1786046511627907,
          0.010341261633919338,
          0.1072943610967408,
          0.12428793371310203,
          0.010362694300518135,
          0.14953271028037385,
          0.012467532467532468,
          0.010395010395010394,
          0.2606282722513089,
          0.2614495798319328,
          0.241688654353562,
          0.012684989429175475,
          0.015238095238095238,
          0.5333333333333333,
          1.1861228813559321,
          0.010604453870625663,
          0.15311004784688997,
          0.046055437100213224,
          0.018453333333333332,
          0.010672358591248666,
          0.09230769230769231,
          0.18481283422459893,
          0.3995717344753747,
          0.2956614890198179,
          0.010723860589812333,
          1.1736193029490616,
          0.010775862068965518,
          0.07762803234501348,
          0.010787486515641855,
          0.6368932038834951,
          0.010822510822510822,
          0.13477789815817984,
          0.010845986984815618,
          0.010869565217391304,
          0.1565217391304348,
          0.0261295590636908,
          0.013100436681222708,
          0.8158469945355192,
          0.013114754098360656,
          0.5925274725274725,
          0.23801652892561986,
          0.5880794701986756,
          0.011049723756906077,
          0.33277870216306155,
          0.011111111111111112,
          0.011111111111111112,
          0.011123470522803113,
          0.13837597330367074,
          0.43875278396436523,
          0.011142061281337047,
          0.053631284916201116,
          0.4181512605042017,
          0.13452914798206278,
          0.011223344556677891,
          0.01348314606741573,
          0.1353637901861252,
          0.011293054771315642,
          0.2815610859728507,
          0.40955631399317405,
          0.3398179749715586,
          0.34050056882821383,
          0.13659647125782584,
          0.011402508551881414,
          0.011441647597254004,
          0.13745704467353953,
          0.1653272101033295,
          0.16551724137931034,
          0.16551724137931034,
          1.794134560092007,
          0.011547344110854504,
          0.43119584055459276,
          0.013913043478260868,
          0.289082462253194,
          0.011627906976744186,
          0.011634671320535195,
          0.05029103608847497,
          2.945645821157218,
          0.5198454513523006,
          0.06768507638072856,
          0.011764705882352941,
          0.011764705882352941,
          0.34625810253388334,
          4.483018867924529,
          0.011806375442739079,
          0.011834319526627219,
          0.011841326228537596,
          0.011918951132300357,
          0.445346062052506,
          0.32275449101796405,
          0.35887290167865704,
          0.012012012012012012,
          0.17380808690404348,
          0.012091898428053204,
          0.012091898428053204,
          0.6246973365617434,
          0.2760290556900727,
          0.16731234866828087,
          0.36278787878787877,
          0.012195121951219513,
          0.012195121951219513,
          0.14751075599262448,
          0.12398523985239852,
          0.012307692307692308,
          0.01231527093596059,
          0.17777777777777778,
          0.012345679012345678,
          0.22263450834879409,
          0.01239925604463732,
          0.37220843672456577,
          0.9456467661691542,
          0.21519302615193028,
          0.014990630855715179,
          0.015,
          0.1801125703564728,
          0.012515644555694618,
          0.072544080604534,
          0.018193303853442828,
          1.5170670037926677,
          0.012658227848101266,
          0.012658227848101266,
          0.5316455696202531,
          0.4224489795918367,
          0.01532567049808429,
          0.06130268199233716,
          0.012779552715654952,
          0.01278772378516624,
          0.0737516005121639,
          1.3062139654067906,
          0.22182284980744543,
          0.0129366106080207,
          0.0129366106080207,
          0.20194174757281552,
          0.015533980582524271,
          0.01297016861219196,
          0.11206225680933854,
          0.0187012987012987,
          0.9655620532813515,
          0.013037809647979138,
          0.013123359580052493,
          0.30039525691699603,
          0.1900990099009901,
          0.01326259946949602,
          0.013297872340425532,
          0.33142476697736356,
          0.8752831445702864,
          0.064,
          0.02309746328437917,
          0.013377926421404682,
          0.2316353887399464,
          0.013404825737265416,
          0.1550471063257066,
          0.16150740242261105,
          0.013468013468013467,
          0.1945945945945946,
          0.23351351351351352,
          0.04675675675675676,
          0.016216216216216217,
          0.013540961408259987,
          0.16260162601626016,
          0.1959183673469388,
          0.01961852861035422,
          0.013651877133105802,
          1.0212038303693571,
          0.23834482758620693,
          0.06639004149377593,
          0.11666666666666667,
          1.774438202247191,
          2.5298664792691494,
          0.3358649789029536,
          0.014074595355383534,
          0.24338028169014086,
          0.02028169014084507,
          0.1413427561837456,
          0.0141643059490085,
          0.0141643059490085,
          0.3062322946175638,
          0.014204545454545454,
          0.014214641080312724,
          0.01422475106685633,
          0.13665480427046262,
          0.2057142857142857,
          0.144,
          0.12008577555396711,
          0.20794223826714803,
          0.014471780028943561,
          0.034782608695652174,
          0.1391304347826087,
          0.014534883720930232,
          0.014609203798392987,
          0.014619883040935672,
          0.014662756598240468,
          0.2744868035190616,
          0.25355832721936905,
          0.2795588235294118,
          0.17647058823529413,
          0.7221238938053097,
          0.2548672566371682,
          3.5914454277286136,
          0.17712177121771217,
          0.014792899408284025,
          0.014825796886582653,
          0.014836795252225518,
          0.01486988847583643,
          0.08565055762081784,
          0.017870439314966492,
          0.16179775280898878,
          0.015037593984962405,
          0.01506024096385542,
          0.7516616314199395,
          0.47416413373860183,
          0.1095890410958904,
          0.015243902439024392,
          0.015349194167306216,
          0.015360983102918589,
          0.26584615384615384,
          0.022256568778979906,
          0.015479876160990714,
          0.8550387596899225,
          0.1341614906832298,
          0.015527950310559004,
          0.2683229813664596,
          0.4099378881987577,
          0.015625,
          0.194679186228482,
          0.015661707126076743,
          0.20313479623824454,
          0.04517647058823529,
          0.01568627450980392,
          0.03773584905660377,
          0.09085173501577287,
          0.07570977917981073,
          0.35977917981072555,
          0.018987341772151896,
          0.03815580286168521,
          0.01594896331738437,
          0.8497607655502392,
          0.2304,
          0.016,
          0.02313253012048193,
          0.07741935483870968,
          0.01615508885298869,
          0.6038834951456311,
          0.34979757085020247,
          0.016260162601626018,
          0.36520325203252035,
          0.016299918500407497,
          0.23491027732463296,
          0.16447368421052633,
          0.2559670781893004,
          0.198019801980198,
          0.0165016501650165,
          0.016556291390728478,
          0.04784053156146179,
          0.028833333333333332,
          0.24000000000000002,
          0.02,
          0.92,
          0.23033333333333333,
          0.2209205020920502,
          0.24242424242424243,
          0.01692047377326565,
          0.20304568527918782,
          0.5271186440677966,
          0.2440677966101695,
          0.20508474576271185,
          0.01697792869269949,
          0.01697792869269949,
          0.04081632653061225,
          0.2448979591836735,
          0.01702127659574468,
          0.35302127659574467,
          0.17651063829787234,
          0.017035775127768313,
          0.017094017094017096,
          0.017094017094017096,
          0.20547945205479454,
          0.20600858369098712,
          0.1718213058419244,
          0.248062015503876,
          0.08311688311688312,
          0.24956672443674177,
          0.04163052905464007,
          0.017391304347826087,
          0.25043478260869567,
          0.3613240418118467,
          0.025196850393700787,
          0.37894736842105264,
          0.017605633802816902,
          0.2535211267605634,
          0.3058407079646018,
          0.017699115044247787,
          2.4680851063829787,
          0.25554569653948533,
          0.25668449197860965,
          0.32142857142857145,
          0.017857142857142856,
          1.1751341681574239,
          0.9874664279319606,
          0.08602150537634409,
          0.017937219730941704,
          0.21524663677130046,
          0.2585278276481149,
          0.017953321364452424,
          0.017985611510791366,
          2.2715827338129495,
          0.2594594594594595,
          0.04332129963898917,
          0.018083182640144666,
          0.02171945701357466,
          0.10434782608695652,
          0.01813236627379873,
          0.41454545454545455,
          0.13102820746132848,
          0.13186813186813187,
          0.018365472910927456,
          0.01839926402943882,
          0.22119815668202766,
          3.2424354243542437,
          0.2659279778393352,
          0.22181146025878004,
          0.044444444444444446,
          0.38130841121495324,
          0.9074766355140187,
          0.2272300469483568,
          0.1811320754716981,
          0.26075471698113206,
          0.027376425855513305,
          0.22857142857142856,
          0.0916030534351145,
          0.13740458015267176,
          0.1932367149758454,
          0.027826086956521737,
          0.02346041055718475,
          0.3401574803149607,
          0.019704433497536946,
          0.170919881305638,
          0.023762376237623763,
          1.1930555555555555,
          0.07157057654075548,
          2.9275621890547265,
          0.02,
          0.02004008016032064,
          0.9193548387096774,
          0.020202020202020204,
          0.020222446916076844,
          0.17489878542510123,
          0.029149797570850202,
          0.3508629441624366,
          0.02030456852791878,
          0.11695431472081218,
          0.2926829268292683,
          0.8467479674796746,
          0.020366598778004074,
          0.1469387755102041,
          0.02040816326530612,
          0.09815950920245399,
          0.020491803278688527,
          0.35555555555555557,
          0.020703933747412008,
          0.02074688796680498,
          0.020833333333333332,
          0.25,
          0.17573221757322177,
          0.27141361256544505,
          0.036344537815126046,
          0.021164021164021163,
          0.0211864406779661,
          2.344102019128587,
          0.02127659574468085,
          0.02127659574468085,
          0.030901287553648068,
          0.03103448275862069,
          0.03728448275862069,
          0.021621621621621623,
          0.021621621621621623,
          0.05217391304347826,
          0.021739130434782608,
          0.12549019607843137,
          0.02178649237472767,
          0.02183406113537118,
          0.02190580503833516,
          0.23658269441401975,
          0.021929824561403508,
          0.03171806167400881,
          0.026519337016574586,
          0.31929046563192903,
          0.352,
          0.022271714922048998,
          0.026726057906458798,
          0.022271714922048998,
          0.19307262569832404,
          0.02247191011235955,
          0.022522522522522525,
          0.9751693002257338,
          0.022598870056497175,
          0.22598870056497175,
          0.32653061224489793,
          0.022727272727272728,
          0.32801822323462415,
          0.02733485193621868,
          0.03287671232876713,
          0.22831050228310504,
          1.4237986270022882,
          0.1981651376146789,
          0.022988505747126436,
          0.39769850402761797,
          0.3317972350230415,
          0.023121387283236993,
          0.023228803716608595,
          0.6689895470383276,
          0.6976744186046512,
          0.023255813953488372,
          0.04042056074766355,
          0.05647058823529411,
          0.34042553191489366,
          0.7843971631205674,
          0.023752969121140142,
          0.4457142857142857,
          0.02386634844868735,
          0.05741626794258373,
          0.05741626794258373,
          0.5009661835748792,
          0.02418379685610641,
          0.034866828087167075,
          0.3490909090909091,
          0.03503649635036496,
          0.024390243902439025,
          0.024390243902439025,
          0.7294261294261294,
          0.9705882352941178,
          0.17668711656441718,
          0.29484029484029484,
          0.11808118081180811,
          0.4752475247524752,
          0.0594059405940594,
          0.024752475247524754,
          0.04287484510532837,
          0.024844720496894408,
          0.02487562189054726,
          0.024937655860349125,
          0.025,
          0.02512562814070352,
          0.02512562814070352,
          0.02512562814070352,
          0.39119496855345914,
          0.6347607052896724,
          0.36363636363636365,
          0.030379746835443037,
          0.025445292620865142,
          0.025477707006369428,
          0.02551020408163265,
          0.5317948717948717,
          0.375,
          0.26109660574412535,
          0.02628120893561104,
          0.37894736842105264,
          1.5789473684210527,
          0.031746031746031744,
          0.3187250996015936,
          0.032,
          0.7315508021390374,
          0.03891891891891892,
          0.3891891891891892,
          0.02710027100271003,
          0.6564450474898236,
          0.027210884353741496,
          0.0326975476839237,
          0.03923705722070844,
          0.19726027397260273,
          0.03296703296703297,
          0.027472527472527472,
          1.4697931034482759,
          0.13259668508287292,
          0.43015214384508993,
          0.5753120665742025,
          0.4,
          1.3860724233983286,
          0.027972027972027972,
          0.2812939521800282,
          0.2028169014084507,
          4.172881355932203,
          0.02849002849002849,
          0.02873563218390805,
          0.6551724137931035,
          0.02873563218390805,
          0.02873563218390805,
          0.049784172661870504,
          2.732658959537572,
          0.04161849710982659,
          4.4281159420289855,
          3.1968115942028987,
          0.041739130434782605,
          1.0848837209302327,
          0.8829197080291971,
          0.029239766081871343,
          0.14035087719298245,
          0.9317647058823529,
          0.042352941176470586,
          0.029411764705882353,
          0.07058823529411765,
          0.035555555555555556,
          0.04272997032640949,
          0.42793462109955427,
          3.1199999999999997,
          0.13090909090909092,
          0.030303030303030304,
          0.030303030303030304,
          0.030303030303030304,
          1.353658536585366,
          0.030581039755351678,
          0.14678899082568805,
          0.03076923076923077,
          0.6381538461538461,
          0.031007751937984496,
          2.833540372670807,
          0.2691588785046729,
          0.03125,
          0.27,
          1.247244094488189,
          0.15238095238095237,
          0.7284345047923323,
          0.5297124600638977,
          0.032051282051282055,
          0.03225806451612903,
          0.0464516129032258,
          0.975609756097561,
          1.0676422764227642,
          0.5665573770491804,
          0.03278688524590164,
          0.17266666666666666,
          0.03333333333333333,
          0.4,
          0.48080133555926546,
          2.4040066777963274,
          0.05785953177257525,
          0.4013377926421405,
          0.03350083752093802,
          0.03355704697986577,
          0.040268456375838924,
          0.12100840336134454,
          0.03372681281618887,
          0.03389830508474576,
          0.03389830508474576,
          0.034013605442176874,
          0.04081632653061225,
          0.034129692832764506,
          0.2953846153846154,
          0.034482758620689655,
          3.587543252595156,
          0.36258741258741256,
          1.3776223776223775,
          0.03497726477789437,
          0.03508771929824561,
          0.03508771929824561,
          0.03546099290780142,
          0.03552397868561279,
          0.035650623885918005,
          0.04285714285714286,
          0.5179856115107914,
          0.1726618705035971,
          0.036036036036036036,
          0.04324324324324324,
          4.173913043478261,
          0.036231884057971016,
          0.17550274223034734,
          0.05274725274725275,
          0.05274725274725275,
          6.264705882352941,
          0.05333333333333333,
          0.05373134328358209,
          0.5393258426966292,
          2.4638783269961975,
          0.03802281368821293,
          0.03816793893129771,
          0.038314176245210725,
          0.5538461538461539,
          0.05538461538461538,
          0.038461538461538464,
          0.05538461538461538,
          0.05538461538461538,
          0.03868471953578336,
          0.0390625,
          0.04698512137823023,
          3.5764705882352943,
          4.325098039215686,
          1.966798418972332,
          0.039603960396039604,
          0.04,
          0.04008016032064128,
          0.04032258064516129,
          0.04032258064516129,
          0.048484848484848485,
          0.04048582995951417,
          1.0076923076923077,
          0.5877551020408164,
          0.49079754601226994,
          1.3742331288343559,
          0.35409836065573774,
          0.0411522633744856,
          0.041237113402061855,
          0.049484536082474224,
          0.041237113402061855,
          0.049484536082474224,
          0.04132231404958678,
          0.04132231404958678,
          0.05987525987525987,
          0.041666666666666664,
          0.041666666666666664,
          0.06,
          0.04192872117400419,
          0.6641509433962264,
          0.05052631578947368,
          0.042105263157894736,
          0.0729957805907173,
          0.0423728813559322,
          0.6101694915254237,
          0.05106382978723404,
          0.042735042735042736,
          0.04291845493562232,
          0.04310344827586207,
          0.06206896551724138,
          0.5217391304347826,
          0.043478260869565216,
          0.05217391304347826,
          0.10434782608695652,
          0.7573913043478262,
          0.6260869565217392,
          0.751304347826087,
          0.05217391304347826,
          0.5468131868131868,
          0.2531868131868132,
          0.04405286343612335,
          0.4444444444444444,
          1.8559999999999999,
          0.044444444444444446,
          0.3221476510067114,
          0.04484304932735426,
          0.2582959641255605,
          0.045454545454545456,
          1.2440909090909091,
          0.04566210045662101,
          0.31697247706422016,
          0.04597701149425287,
          0.04608294930875576,
          1.2771362586605082,
          2.4,
          0.3333333333333333,
          0.4629629629629629,
          0.05581395348837209,
          0.046511627906976744,
          0.5786046511627907,
          0.046511627906976744,
          0.613953488372093,
          0.4694835680751174,
          2.501408450704225,
          1.4716981132075473,
          1.7061611374407581,
          0.04739336492890995,
          0.05714285714285714,
          0.047619047619047616,
          0.047619047619047616,
          0.047619047619047616,
          0.05714285714285714,
          0.047619047619047616,
          0.08238095238095237,
          0.04878048780487805,
          0.0488997555012225,
          0.2823529411764706,
          0.5911330049261083,
          0.04938271604938271,
          0.7111111111111111,
          0.08564356435643565,
          0.04950495049504951,
          0.144,
          0.05,
          0.36,
          0.05128205128205128,
          0.9189743589743591,
          0.05128205128205128,
          0.05141388174807198,
          0.051546391752577324,
          1.861818181818182,
          0.052083333333333336,
          0.052083333333333336,
          0.1875,
          0.05235602094240837,
          0.05235602094240837,
          0.05235602094240837,
          0.05263157894736842,
          0.37894736842105264,
          0.05263157894736842,
          0.37894736842105264,
          0.07578947368421052,
          0.06315789473684211,
          0.05263157894736842,
          0.05333333333333334,
          0.064,
          0.05333333333333334,
          0.3870967741935484,
          0.05405405405405406,
          0.32,
          0.0961111111111111,
          0.08,
          0.06666666666666667,
          0.05555555555555555,
          0.0558659217877095,
          0.8044692737430168,
          0.056818181818181816,
          0.05714285714285714,
          3.412,
          0.06857142857142857,
          1.3988571428571428,
          0.06896551724137931,
          0.057971014492753624,
          0.08347826086956521,
          0.8347826086956522,
          0.4173913043478261,
          0.05847953216374269,
          1.6976608187134503,
          0.1216374269005848,
          0.05865102639296187,
          0.9317647058823529,
          0.058823529411764705,
          0.1411764705882353,
          0.058823529411764705,
          0.7317647058823529,
          0.07164179104477612,
          0.05970149253731343,
          0.06024096385542168,
          0.34698795180722886,
          0.06060606060606061,
          0.06060606060606061,
          0.06060606060606061,
          0.10484848484848484,
          1.860923076923077,
          0.07384615384615384,
          7.798765432098766,
          0.06211180124223602,
          0.075,
          0.0625,
          0.0625,
          0.075,
          0.07594936708860758,
          0.07692307692307693,
          0.0929032258064516,
          1.7032258064516128,
          0.06451612903225806,
          0.9320388349514563,
          0.06535947712418301,
          0.07868852459016393,
          0.06557377049180328,
          0.06557377049180328,
          0.06557377049180328,
          0.5740863787375415,
          0.06666666666666667,
          0.48000000000000004,
          0.06666666666666667,
          0.32,
          0.06666666666666667,
          0.9664429530201343,
          0.06756756756756756,
          2.3430508474576275,
          0.8135593220338984,
          0.0684931506849315,
          0.9896907216494845,
          0.06896551724137931,
          0.06896551724137931,
          5.1482758620689655,
          5.916666666666667,
          0.8362369337979094,
          0.06993006993006992,
          0.06993006993006992,
          0.07017543859649122,
          0.07017543859649122,
          0.07017543859649122,
          0.07017543859649122,
          0.07017543859649122,
          0.07042253521126761,
          0.3404255319148936,
          0.07117437722419928,
          0.07142857142857142,
          1.0285714285714287,
          0.6171428571428572,
          0.34285714285714286,
          9.257142857142856,
          1.7778571428571428,
          0.10510948905109489,
          1.054945054945055,
          0.10588235294117647,
          0.07407407407407407,
          0.07407407407407407,
          0.07407407407407407,
          0.26666666666666666,
          0.07407407407407407,
          0.10666666666666666,
          0.10746268656716418,
          0.07547169811320754,
          0.07547169811320754,
          0.07547169811320754,
          0.43471698113207546,
          0.1090909090909091,
          0.6545454545454547,
          0.0923076923076923,
          0.0923076923076923,
          0.0923076923076923,
          0.07692307692307693,
          0.07751937984496124,
          0.0784313725490196,
          0.09411764705882353,
          0.0784313725490196,
          0.0784313725490196,
          1.952156862745098,
          0.5691699604743083,
          0.5714285714285715,
          4.738888888888889,
          0.96,
          0.08032128514056225,
          2.206451612903226,
          0.09795918367346938,
          0.08163265306122448,
          0.0819672131147541,
          0.08333333333333333,
          0.08333333333333333,
          0.08333333333333333,
          0.09999999999999999,
          0.0847457627118644,
          0.0851063829787234,
          0.41025641025641024,
          0.20512820512820512,
          0.08620689655172414,
          0.751304347826087,
          0.08888888888888889,
          0.08888888888888889,
          0.08888888888888889,
          0.08888888888888889,
          1.1891891891891893,
          1.1309090909090909,
          0.43636363636363634,
          0.09090909090909091,
          0.6545454545454545,
          1.2,
          0.09174311926605504,
          0.09345794392523366,
          0.11428571428571428,
          1.3714285714285714,
          0.09523809523809523,
          0.09523809523809523,
          0.09523809523809523,
          0.09523809523809523,
          0.09523809523809523,
          0.6857142857142857,
          0.09523809523809523,
          0.09523809523809523,
          0.09569377990430622,
          0.6990291262135923,
          0.0970873786407767,
          0.0975609756097561,
          0.14257425742574256,
          0.712871287128713,
          0.1,
          0.1,
          0.1,
          2.074,
          0.1,
          0.24615384615384614,
          0.14769230769230768,
          0.12307692307692307,
          0.10256410256410256,
          1.0635897435897435,
          1.2307692307692308,
          0.10309278350515465,
          0.14845360824742268,
          0.10309278350515465,
          0.10416666666666667,
          0.10615711252653928,
          0.1075268817204301,
          0.10810810810810811,
          0.13043478260869565,
          0.1111111111111111,
          0.64,
          0.5333333333333333,
          0.8,
          0.1111111111111111,
          0.1111111111111111,
          0.9600000000000001,
          0.13636363636363635,
          0.11363636363636363,
          0.11428571428571428,
          0.11428571428571428,
          0.11428571428571428,
          0.11428571428571428,
          20.672093023255815,
          0.11627906976744186,
          0.8571428571428571,
          0.12048192771084336,
          0.14457831325301204,
          1.8909090909090909,
          0.12121212121212122,
          0.12121212121212122,
          0.12121212121212122,
          0.12195121951219513,
          0.1234567901234568,
          0.125,
          0.125,
          1.26,
          0.125,
          0.125,
          0.12658227848101264,
          0.12820512820512822,
          3.3846153846153846,
          0.12987012987012986,
          4.705882352941177,
          0.13157894736842105,
          0.15789473684210525,
          0.631578947368421,
          0.13333333333333333,
          0.16,
          0.16,
          2.3040000000000003,
          0.5760000000000001,
          0.13333333333333333,
          7.053061224489797,
          0.136986301369863,
          0.136986301369863,
          0.14184397163120568,
          1.7142857142857142,
          0.2057142857142857,
          0.14285714285714285,
          0.14285714285714285,
          0.6857142857142857,
          1.7142857142857142,
          0.14814814814814814,
          1.7777777777777777,
          0.35555555555555557,
          0.14814814814814814,
          0.14814814814814814,
          0.14814814814814814,
          0.14814814814814814,
          0.1791044776119403,
          0.15267175572519084,
          0.15625,
          0.15625,
          0.9216,
          0.1639344262295082,
          0.9520661157024793,
          5,
          0.16666666666666666,
          0.16666666666666666,
          1.4000000000000001,
          0.16666666666666666,
          0.28833333333333333,
          3.4,
          0.16666666666666666,
          0.24,
          2.0733333333333333,
          1.2413793103448276,
          0.18181818181818182,
          0.18181818181818182,
          2.1818181818181817,
          1.3333333333333333,
          0.1869158878504673,
          0.18867924528301888,
          0.2742857142857143,
          0.19047619047619047,
          0.19047619047619047,
          2.6323809523809523,
          0.19047619047619047,
          0.19047619047619047,
          0.1923076923076923,
          0.1923076923076923,
          4.066666666666666,
          0.24,
          0.2,
          3.6,
          0.24,
          0.2127659574468085,
          5.82127659574468,
          1.0434782608695652,
          6.013186813186813,
          2.6666666666666665,
          1.0666666666666667,
          0.26666666666666666,
          1.28,
          0.2222222222222222,
          2.6666666666666665,
          0.2222222222222222,
          0.2222222222222222,
          0.26666666666666666,
          0.3272727272727272,
          3.2727272727272725,
          1.1707317073170733,
          0.25,
          1.44,
          0.25,
          0.25,
          0.25,
          0.25,
          3.6,
          0.3,
          0.25,
          0.25,
          0.44358974358974357,
          6.821052631578948,
          0.26666666666666666,
          0.384,
          0.26666666666666666,
          0.26666666666666666,
          3.8400000000000003,
          0.26666666666666666,
          2.56,
          3.243243243243243,
          0.2777777777777778,
          0.2857142857142857,
          45.529411764705884,
          0.29850746268656714,
          4.430769230769231,
          5.485714285714287,
          4,
          0.39999999999999997,
          0.3333333333333333,
          4.8,
          0.3333333333333333,
          0.3333333333333333,
          2.4,
          0.48,
          0.39999999999999997,
          0.3333333333333333,
          0.3333333333333333,
          0.3333333333333333,
          0.3333333333333333,
          0.3448275862068966,
          0.3508771929824561,
          0.3508771929824561,
          2.142857142857143,
          0.35714285714285715,
          0.36363636363636365,
          0.37037037037037035,
          0.4444444444444444,
          0.4,
          0.4166666666666667,
          0.4347826086956522,
          0.64,
          0.4444444444444444,
          0.4444444444444444,
          0.5333333333333333,
          13.822222222222223,
          0.4444444444444444,
          0.7688888888888888,
          0.5,
          3.6,
          0.5,
          3.11,
          0.5,
          0.5,
          0.5,
          2.4,
          0.5,
          0.5,
          0.6,
          0.5,
          0.5,
          1.2,
          3.031578947368421,
          0.7783783783783783,
          8,
          4.8,
          0.7058823529411765,
          0.7058823529411765,
          24.624999999999996,
          0.625,
          0.6666666666666666,
          0.6666666666666666,
          0.6666666666666666,
          0.6666666666666666,
          0.6666666666666666,
          0.7999999999999999,
          0.6666666666666666,
          18.24,
          0.6666666666666666,
          1.5999999999999999,
          0.6666666666666666,
          1.5999999999999999,
          57.60666666666666,
          3.1999999999999997,
          0.7999999999999999,
          0.7692307692307692,
          37.31666666666667,
          0.9090909090909091,
          1,
          1,
          1.2,
          2.4,
          1,
          1,
          1,
          1,
          1,
          15.6,
          1,
          1.2,
          1,
          1,
          3.1999999999999997,
          1.3333333333333333,
          1.3333333333333333,
          25.346666666666668,
          1.5999999999999999,
          1.5999999999999999,
          3.1999999999999997,
          34.56,
          10,
          null,
          null,
          null,
          null,
          null,
          null,
          null,
          null,
          null,
          null,
          null,
          null,
          null,
          null,
          null,
          null,
          null,
          null,
          null,
          null,
          null,
          null,
          null,
          null,
          null,
          null,
          null,
          null,
          null,
          null,
          null,
          null,
          null,
          null,
          null,
          null,
          null,
          null,
          null,
          null,
          null,
          null,
          null,
          null,
          null,
          null,
          null,
          null,
          null,
          null,
          null,
          null,
          null,
          null,
          null,
          null,
          null,
          null,
          null,
          null,
          null,
          null,
          null,
          null,
          null,
          null,
          null,
          null,
          null,
          null,
          null,
          null,
          null,
          null,
          null,
          null,
          null,
          null,
          null,
          null,
          null,
          null,
          null,
          null,
          null,
          null,
          null,
          null,
          null,
          null,
          null,
          null,
          null,
          null,
          null,
          null,
          null,
          null,
          null,
          null,
          null,
          null,
          null,
          null,
          null,
          null,
          null,
          null,
          null,
          null,
          null,
          null,
          null
         ],
         "y0": " ",
         "yaxis": "y"
        }
       ],
       "layout": {
        "boxmode": "group",
        "legend": {
         "tracegroupgap": 0
        },
        "margin": {
         "t": 60
        },
        "template": {
         "data": {
          "bar": [
           {
            "error_x": {
             "color": "#2a3f5f"
            },
            "error_y": {
             "color": "#2a3f5f"
            },
            "marker": {
             "line": {
              "color": "#E5ECF6",
              "width": 0.5
             },
             "pattern": {
              "fillmode": "overlay",
              "size": 10,
              "solidity": 0.2
             }
            },
            "type": "bar"
           }
          ],
          "barpolar": [
           {
            "marker": {
             "line": {
              "color": "#E5ECF6",
              "width": 0.5
             },
             "pattern": {
              "fillmode": "overlay",
              "size": 10,
              "solidity": 0.2
             }
            },
            "type": "barpolar"
           }
          ],
          "carpet": [
           {
            "aaxis": {
             "endlinecolor": "#2a3f5f",
             "gridcolor": "white",
             "linecolor": "white",
             "minorgridcolor": "white",
             "startlinecolor": "#2a3f5f"
            },
            "baxis": {
             "endlinecolor": "#2a3f5f",
             "gridcolor": "white",
             "linecolor": "white",
             "minorgridcolor": "white",
             "startlinecolor": "#2a3f5f"
            },
            "type": "carpet"
           }
          ],
          "choropleth": [
           {
            "colorbar": {
             "outlinewidth": 0,
             "ticks": ""
            },
            "type": "choropleth"
           }
          ],
          "contour": [
           {
            "colorbar": {
             "outlinewidth": 0,
             "ticks": ""
            },
            "colorscale": [
             [
              0,
              "#0d0887"
             ],
             [
              0.1111111111111111,
              "#46039f"
             ],
             [
              0.2222222222222222,
              "#7201a8"
             ],
             [
              0.3333333333333333,
              "#9c179e"
             ],
             [
              0.4444444444444444,
              "#bd3786"
             ],
             [
              0.5555555555555556,
              "#d8576b"
             ],
             [
              0.6666666666666666,
              "#ed7953"
             ],
             [
              0.7777777777777778,
              "#fb9f3a"
             ],
             [
              0.8888888888888888,
              "#fdca26"
             ],
             [
              1,
              "#f0f921"
             ]
            ],
            "type": "contour"
           }
          ],
          "contourcarpet": [
           {
            "colorbar": {
             "outlinewidth": 0,
             "ticks": ""
            },
            "type": "contourcarpet"
           }
          ],
          "heatmap": [
           {
            "colorbar": {
             "outlinewidth": 0,
             "ticks": ""
            },
            "colorscale": [
             [
              0,
              "#0d0887"
             ],
             [
              0.1111111111111111,
              "#46039f"
             ],
             [
              0.2222222222222222,
              "#7201a8"
             ],
             [
              0.3333333333333333,
              "#9c179e"
             ],
             [
              0.4444444444444444,
              "#bd3786"
             ],
             [
              0.5555555555555556,
              "#d8576b"
             ],
             [
              0.6666666666666666,
              "#ed7953"
             ],
             [
              0.7777777777777778,
              "#fb9f3a"
             ],
             [
              0.8888888888888888,
              "#fdca26"
             ],
             [
              1,
              "#f0f921"
             ]
            ],
            "type": "heatmap"
           }
          ],
          "heatmapgl": [
           {
            "colorbar": {
             "outlinewidth": 0,
             "ticks": ""
            },
            "colorscale": [
             [
              0,
              "#0d0887"
             ],
             [
              0.1111111111111111,
              "#46039f"
             ],
             [
              0.2222222222222222,
              "#7201a8"
             ],
             [
              0.3333333333333333,
              "#9c179e"
             ],
             [
              0.4444444444444444,
              "#bd3786"
             ],
             [
              0.5555555555555556,
              "#d8576b"
             ],
             [
              0.6666666666666666,
              "#ed7953"
             ],
             [
              0.7777777777777778,
              "#fb9f3a"
             ],
             [
              0.8888888888888888,
              "#fdca26"
             ],
             [
              1,
              "#f0f921"
             ]
            ],
            "type": "heatmapgl"
           }
          ],
          "histogram": [
           {
            "marker": {
             "pattern": {
              "fillmode": "overlay",
              "size": 10,
              "solidity": 0.2
             }
            },
            "type": "histogram"
           }
          ],
          "histogram2d": [
           {
            "colorbar": {
             "outlinewidth": 0,
             "ticks": ""
            },
            "colorscale": [
             [
              0,
              "#0d0887"
             ],
             [
              0.1111111111111111,
              "#46039f"
             ],
             [
              0.2222222222222222,
              "#7201a8"
             ],
             [
              0.3333333333333333,
              "#9c179e"
             ],
             [
              0.4444444444444444,
              "#bd3786"
             ],
             [
              0.5555555555555556,
              "#d8576b"
             ],
             [
              0.6666666666666666,
              "#ed7953"
             ],
             [
              0.7777777777777778,
              "#fb9f3a"
             ],
             [
              0.8888888888888888,
              "#fdca26"
             ],
             [
              1,
              "#f0f921"
             ]
            ],
            "type": "histogram2d"
           }
          ],
          "histogram2dcontour": [
           {
            "colorbar": {
             "outlinewidth": 0,
             "ticks": ""
            },
            "colorscale": [
             [
              0,
              "#0d0887"
             ],
             [
              0.1111111111111111,
              "#46039f"
             ],
             [
              0.2222222222222222,
              "#7201a8"
             ],
             [
              0.3333333333333333,
              "#9c179e"
             ],
             [
              0.4444444444444444,
              "#bd3786"
             ],
             [
              0.5555555555555556,
              "#d8576b"
             ],
             [
              0.6666666666666666,
              "#ed7953"
             ],
             [
              0.7777777777777778,
              "#fb9f3a"
             ],
             [
              0.8888888888888888,
              "#fdca26"
             ],
             [
              1,
              "#f0f921"
             ]
            ],
            "type": "histogram2dcontour"
           }
          ],
          "mesh3d": [
           {
            "colorbar": {
             "outlinewidth": 0,
             "ticks": ""
            },
            "type": "mesh3d"
           }
          ],
          "parcoords": [
           {
            "line": {
             "colorbar": {
              "outlinewidth": 0,
              "ticks": ""
             }
            },
            "type": "parcoords"
           }
          ],
          "pie": [
           {
            "automargin": true,
            "type": "pie"
           }
          ],
          "scatter": [
           {
            "marker": {
             "colorbar": {
              "outlinewidth": 0,
              "ticks": ""
             }
            },
            "type": "scatter"
           }
          ],
          "scatter3d": [
           {
            "line": {
             "colorbar": {
              "outlinewidth": 0,
              "ticks": ""
             }
            },
            "marker": {
             "colorbar": {
              "outlinewidth": 0,
              "ticks": ""
             }
            },
            "type": "scatter3d"
           }
          ],
          "scattercarpet": [
           {
            "marker": {
             "colorbar": {
              "outlinewidth": 0,
              "ticks": ""
             }
            },
            "type": "scattercarpet"
           }
          ],
          "scattergeo": [
           {
            "marker": {
             "colorbar": {
              "outlinewidth": 0,
              "ticks": ""
             }
            },
            "type": "scattergeo"
           }
          ],
          "scattergl": [
           {
            "marker": {
             "colorbar": {
              "outlinewidth": 0,
              "ticks": ""
             }
            },
            "type": "scattergl"
           }
          ],
          "scattermapbox": [
           {
            "marker": {
             "colorbar": {
              "outlinewidth": 0,
              "ticks": ""
             }
            },
            "type": "scattermapbox"
           }
          ],
          "scatterpolar": [
           {
            "marker": {
             "colorbar": {
              "outlinewidth": 0,
              "ticks": ""
             }
            },
            "type": "scatterpolar"
           }
          ],
          "scatterpolargl": [
           {
            "marker": {
             "colorbar": {
              "outlinewidth": 0,
              "ticks": ""
             }
            },
            "type": "scatterpolargl"
           }
          ],
          "scatterternary": [
           {
            "marker": {
             "colorbar": {
              "outlinewidth": 0,
              "ticks": ""
             }
            },
            "type": "scatterternary"
           }
          ],
          "surface": [
           {
            "colorbar": {
             "outlinewidth": 0,
             "ticks": ""
            },
            "colorscale": [
             [
              0,
              "#0d0887"
             ],
             [
              0.1111111111111111,
              "#46039f"
             ],
             [
              0.2222222222222222,
              "#7201a8"
             ],
             [
              0.3333333333333333,
              "#9c179e"
             ],
             [
              0.4444444444444444,
              "#bd3786"
             ],
             [
              0.5555555555555556,
              "#d8576b"
             ],
             [
              0.6666666666666666,
              "#ed7953"
             ],
             [
              0.7777777777777778,
              "#fb9f3a"
             ],
             [
              0.8888888888888888,
              "#fdca26"
             ],
             [
              1,
              "#f0f921"
             ]
            ],
            "type": "surface"
           }
          ],
          "table": [
           {
            "cells": {
             "fill": {
              "color": "#EBF0F8"
             },
             "line": {
              "color": "white"
             }
            },
            "header": {
             "fill": {
              "color": "#C8D4E3"
             },
             "line": {
              "color": "white"
             }
            },
            "type": "table"
           }
          ]
         },
         "layout": {
          "annotationdefaults": {
           "arrowcolor": "#2a3f5f",
           "arrowhead": 0,
           "arrowwidth": 1
          },
          "autotypenumbers": "strict",
          "coloraxis": {
           "colorbar": {
            "outlinewidth": 0,
            "ticks": ""
           }
          },
          "colorscale": {
           "diverging": [
            [
             0,
             "#8e0152"
            ],
            [
             0.1,
             "#c51b7d"
            ],
            [
             0.2,
             "#de77ae"
            ],
            [
             0.3,
             "#f1b6da"
            ],
            [
             0.4,
             "#fde0ef"
            ],
            [
             0.5,
             "#f7f7f7"
            ],
            [
             0.6,
             "#e6f5d0"
            ],
            [
             0.7,
             "#b8e186"
            ],
            [
             0.8,
             "#7fbc41"
            ],
            [
             0.9,
             "#4d9221"
            ],
            [
             1,
             "#276419"
            ]
           ],
           "sequential": [
            [
             0,
             "#0d0887"
            ],
            [
             0.1111111111111111,
             "#46039f"
            ],
            [
             0.2222222222222222,
             "#7201a8"
            ],
            [
             0.3333333333333333,
             "#9c179e"
            ],
            [
             0.4444444444444444,
             "#bd3786"
            ],
            [
             0.5555555555555556,
             "#d8576b"
            ],
            [
             0.6666666666666666,
             "#ed7953"
            ],
            [
             0.7777777777777778,
             "#fb9f3a"
            ],
            [
             0.8888888888888888,
             "#fdca26"
            ],
            [
             1,
             "#f0f921"
            ]
           ],
           "sequentialminus": [
            [
             0,
             "#0d0887"
            ],
            [
             0.1111111111111111,
             "#46039f"
            ],
            [
             0.2222222222222222,
             "#7201a8"
            ],
            [
             0.3333333333333333,
             "#9c179e"
            ],
            [
             0.4444444444444444,
             "#bd3786"
            ],
            [
             0.5555555555555556,
             "#d8576b"
            ],
            [
             0.6666666666666666,
             "#ed7953"
            ],
            [
             0.7777777777777778,
             "#fb9f3a"
            ],
            [
             0.8888888888888888,
             "#fdca26"
            ],
            [
             1,
             "#f0f921"
            ]
           ]
          },
          "colorway": [
           "#636efa",
           "#EF553B",
           "#00cc96",
           "#ab63fa",
           "#FFA15A",
           "#19d3f3",
           "#FF6692",
           "#B6E880",
           "#FF97FF",
           "#FECB52"
          ],
          "font": {
           "color": "#2a3f5f"
          },
          "geo": {
           "bgcolor": "white",
           "lakecolor": "white",
           "landcolor": "#E5ECF6",
           "showlakes": true,
           "showland": true,
           "subunitcolor": "white"
          },
          "hoverlabel": {
           "align": "left"
          },
          "hovermode": "closest",
          "mapbox": {
           "style": "light"
          },
          "paper_bgcolor": "white",
          "plot_bgcolor": "#E5ECF6",
          "polar": {
           "angularaxis": {
            "gridcolor": "white",
            "linecolor": "white",
            "ticks": ""
           },
           "bgcolor": "#E5ECF6",
           "radialaxis": {
            "gridcolor": "white",
            "linecolor": "white",
            "ticks": ""
           }
          },
          "scene": {
           "xaxis": {
            "backgroundcolor": "#E5ECF6",
            "gridcolor": "white",
            "gridwidth": 2,
            "linecolor": "white",
            "showbackground": true,
            "ticks": "",
            "zerolinecolor": "white"
           },
           "yaxis": {
            "backgroundcolor": "#E5ECF6",
            "gridcolor": "white",
            "gridwidth": 2,
            "linecolor": "white",
            "showbackground": true,
            "ticks": "",
            "zerolinecolor": "white"
           },
           "zaxis": {
            "backgroundcolor": "#E5ECF6",
            "gridcolor": "white",
            "gridwidth": 2,
            "linecolor": "white",
            "showbackground": true,
            "ticks": "",
            "zerolinecolor": "white"
           }
          },
          "shapedefaults": {
           "line": {
            "color": "#2a3f5f"
           }
          },
          "ternary": {
           "aaxis": {
            "gridcolor": "white",
            "linecolor": "white",
            "ticks": ""
           },
           "baxis": {
            "gridcolor": "white",
            "linecolor": "white",
            "ticks": ""
           },
           "bgcolor": "#E5ECF6",
           "caxis": {
            "gridcolor": "white",
            "linecolor": "white",
            "ticks": ""
           }
          },
          "title": {
           "x": 0.05
          },
          "xaxis": {
           "automargin": true,
           "gridcolor": "white",
           "linecolor": "white",
           "ticks": "",
           "title": {
            "standoff": 15
           },
           "zerolinecolor": "white",
           "zerolinewidth": 2
          },
          "yaxis": {
           "automargin": true,
           "gridcolor": "white",
           "linecolor": "white",
           "ticks": "",
           "title": {
            "standoff": 15
           },
           "zerolinecolor": "white",
           "zerolinewidth": 2
          }
         }
        },
        "xaxis": {
         "anchor": "y",
         "domain": [
          0,
          1
         ],
         "title": {
          "text": "Position"
         }
        },
        "yaxis": {
         "anchor": "x",
         "domain": [
          0,
          1
         ],
         "title": {
          "text": "sal_per_point"
         }
        }
       }
      }
     },
     "metadata": {},
     "output_type": "display_data"
    }
   ],
   "source": [
    "px.box(bcPlayers2021.assign(sal_per_point = lambda x: x['Salary']/x['Pts']),\n",
    "           x = 'Position', \n",
    "           y = 'sal_per_point',\n",
    "           hover_data=[bcPlayers2021['Player'], bcPlayers2021['Team']],\n",
    "           points = 'all'\n",
    "           )"
   ]
  }
 ],
 "metadata": {
  "interpreter": {
   "hash": "91809cd6930bcd5c93f1baaa8e75dc4fbfa15bbd921b33b01843a7cf2fa05e32"
  },
  "kernelspec": {
   "display_name": "Python 3.8.8 ('base')",
   "language": "python",
   "name": "python3"
  },
  "language_info": {
   "codemirror_mode": {
    "name": "ipython",
    "version": 3
   },
   "file_extension": ".py",
   "mimetype": "text/x-python",
   "name": "python",
   "nbconvert_exporter": "python",
   "pygments_lexer": "ipython3",
   "version": "3.8.8"
  },
  "orig_nbformat": 4
 },
 "nbformat": 4,
 "nbformat_minor": 2
}
